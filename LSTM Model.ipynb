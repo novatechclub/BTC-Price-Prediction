{
 "cells": [
  {
   "source": [
    "import pandas as pd\n",
    "import numpy as np"
   ],
   "metadata": {
    "executionCancelledAt": null,
    "executionTime": 2163,
    "lastExecutedAt": 1740674468446,
    "lastExecutedByKernel": "6c875df8-92fa-4ec4-b333-30b3e09ce2de",
    "lastScheduledRunId": null,
    "lastSuccessfullyExecutedCode": "import pandas as pd\nimport numpy as np"
   },
   "cell_type": "code",
   "id": "0c0b0dbc-90be-4be4-b7b1-074da4a325eb",
   "outputs": [],
   "execution_count": 1
  },
  {
   "source": [
    "btc_df = pd.read_csv(\"augmento_btc.csv\")"
   ],
   "metadata": {
    "executionCancelledAt": null,
    "executionTime": 1280,
    "lastExecutedAt": 1740674471320,
    "lastExecutedByKernel": "6c875df8-92fa-4ec4-b333-30b3e09ce2de",
    "lastScheduledRunId": null,
    "lastSuccessfullyExecutedCode": "btc_df = pd.read_csv(\"augmento_btc.csv\")"
   },
   "cell_type": "code",
   "id": "83ffa426-c647-45d5-8955-b0e5d695caed",
   "outputs": [],
   "execution_count": 2
  },
  {
   "source": [
    "btc_df.head()"
   ],
   "metadata": {
    "executionCancelledAt": null,
    "executionTime": 187,
    "lastExecutedAt": 1740667683998,
    "lastExecutedByKernel": "2980c936-4158-42a3-a967-c5b3fc629330",
    "lastScheduledRunId": null,
    "lastSuccessfullyExecutedCode": "btc_df.head()",
    "outputsMetadata": {
     "0": {
      "height": 550,
      "type": "dataFrame",
      "tableState": {
       "customFilter": {
        "const": {
         "type": "boolean",
         "valid": true,
         "value": true
        },
        "id": "9124d19f-c4fa-49f7-9509-899ad8974bb3",
        "nodeType": "const"
       },
       "quickFilterText": ""
      }
     }
    }
   },
   "cell_type": "code",
   "id": "26a76a87-db2f-421f-819d-427d5f04af32",
   "outputs": [
    {
     "output_type": "execute_result",
     "data": {
      "application/com.datacamp.data-table.v2+json": {
       "table": {
        "schema": {
         "fields": [
          {
           "name": "index",
           "type": "integer"
          },
          {
           "name": "date",
           "type": "string"
          },
          {
           "name": "listing_close",
           "type": "number"
          },
          {
           "name": "twitter_hacks",
           "type": "number"
          },
          {
           "name": "twitter_pessimistic_doubtful",
           "type": "number"
          },
          {
           "name": "twitter_banks",
           "type": "number"
          },
          {
           "name": "twitter_selling",
           "type": "number"
          },
          {
           "name": "twitter_market_manipulation",
           "type": "number"
          },
          {
           "name": "twitter_de_centralisation",
           "type": "number"
          },
          {
           "name": "twitter_angry",
           "type": "number"
          },
          {
           "name": "twitter_etf",
           "type": "number"
          },
          {
           "name": "twitter_leverage",
           "type": "number"
          },
          {
           "name": "twitter_bottom",
           "type": "number"
          },
          {
           "name": "twitter_institutional_money",
           "type": "number"
          },
          {
           "name": "twitter_fomo",
           "type": "number"
          },
          {
           "name": "twitter_prediction",
           "type": "number"
          },
          {
           "name": "twitter_adoption",
           "type": "number"
          },
          {
           "name": "twitter_fearful_concerned",
           "type": "number"
          },
          {
           "name": "twitter_portfolio",
           "type": "number"
          },
          {
           "name": "twitter_fud_theme",
           "type": "number"
          },
          {
           "name": "twitter_whitepaper",
           "type": "number"
          },
          {
           "name": "twitter_announcements",
           "type": "number"
          },
          {
           "name": "twitter_technical_analysis",
           "type": "number"
          },
          {
           "name": "twitter_flippening",
           "type": "number"
          },
          {
           "name": "twitter_community",
           "type": "number"
          },
          {
           "name": "twitter_investing_trading",
           "type": "number"
          },
          {
           "name": "twitter_euphoric_excited",
           "type": "number"
          },
          {
           "name": "twitter_hodling",
           "type": "number"
          },
          {
           "name": "twitter_ico",
           "type": "number"
          },
          {
           "name": "twitter_bearish",
           "type": "number"
          },
          {
           "name": "twitter_going_short",
           "type": "number"
          },
          {
           "name": "twitter_uncertain",
           "type": "number"
          },
          {
           "name": "twitter_volume",
           "type": "number"
          },
          {
           "name": "twitter_risk",
           "type": "number"
          },
          {
           "name": "twitter_governance",
           "type": "number"
          },
          {
           "name": "twitter_ban",
           "type": "number"
          },
          {
           "name": "twitter_cheap",
           "type": "number"
          },
          {
           "name": "twitter_short_term_trading",
           "type": "number"
          },
          {
           "name": "twitter_fork",
           "type": "number"
          },
          {
           "name": "twitter_progress",
           "type": "number"
          },
          {
           "name": "twitter_shilling",
           "type": "number"
          },
          {
           "name": "twitter_bullish",
           "type": "number"
          },
          {
           "name": "twitter_happy",
           "type": "number"
          },
          {
           "name": "twitter_bubble",
           "type": "number"
          },
          {
           "name": "twitter_bots",
           "type": "number"
          },
          {
           "name": "twitter_hopeful",
           "type": "number"
          },
          {
           "name": "twitter_bug",
           "type": "number"
          },
          {
           "name": "twitter_open_source",
           "type": "number"
          },
          {
           "name": "twitter_token_economics",
           "type": "number"
          },
          {
           "name": "twitter_security",
           "type": "number"
          },
          {
           "name": "twitter_marketing",
           "type": "number"
          },
          {
           "name": "twitter_bad_news",
           "type": "number"
          },
          {
           "name": "twitter_due_diligence",
           "type": "number"
          },
          {
           "name": "twitter_team",
           "type": "number"
          },
          {
           "name": "twitter_partnerships",
           "type": "number"
          },
          {
           "name": "twitter_pump_and_dump",
           "type": "number"
          },
          {
           "name": "twitter_sad",
           "type": "number"
          },
          {
           "name": "twitter_panicking",
           "type": "number"
          },
          {
           "name": "twitter_listing",
           "type": "number"
          },
          {
           "name": "twitter_regulation_politics",
           "type": "number"
          },
          {
           "name": "twitter_dip",
           "type": "number"
          },
          {
           "name": "twitter_launch",
           "type": "number"
          },
          {
           "name": "twitter_fomo_theme",
           "type": "number"
          },
          {
           "name": "twitter_advice_support",
           "type": "number"
          },
          {
           "name": "twitter_rebranding",
           "type": "number"
          },
          {
           "name": "twitter_wallet",
           "type": "number"
          },
          {
           "name": "twitter_good_news",
           "type": "number"
          },
          {
           "name": "twitter_problems_and_issues",
           "type": "number"
          },
          {
           "name": "twitter_mining",
           "type": "number"
          },
          {
           "name": "twitter_waiting",
           "type": "number"
          },
          {
           "name": "twitter_learning",
           "type": "number"
          },
          {
           "name": "twitter_scaling",
           "type": "number"
          },
          {
           "name": "twitter_fees",
           "type": "number"
          },
          {
           "name": "twitter_roadmap",
           "type": "number"
          },
          {
           "name": "twitter_recovery",
           "type": "number"
          },
          {
           "name": "twitter_technology",
           "type": "number"
          },
          {
           "name": "twitter_mistrustful",
           "type": "number"
          },
          {
           "name": "twitter_marketcap",
           "type": "number"
          },
          {
           "name": "twitter_positive",
           "type": "number"
          },
          {
           "name": "twitter_tax",
           "type": "number"
          },
          {
           "name": "twitter_long_term_investing",
           "type": "number"
          },
          {
           "name": "twitter_strategy",
           "type": "number"
          },
          {
           "name": "twitter_competition",
           "type": "number"
          },
          {
           "name": "twitter_whales",
           "type": "number"
          },
          {
           "name": "twitter_correction",
           "type": "number"
          },
          {
           "name": "twitter_stablecoin",
           "type": "number"
          },
          {
           "name": "twitter_buying",
           "type": "number"
          },
          {
           "name": "twitter_warning",
           "type": "number"
          },
          {
           "name": "twitter_annoyed_frustrated",
           "type": "number"
          },
          {
           "name": "twitter_price",
           "type": "number"
          },
          {
           "name": "twitter_use_case_applications",
           "type": "number"
          },
          {
           "name": "twitter_rumor",
           "type": "number"
          },
          {
           "name": "twitter_scam_fraud",
           "type": "number"
          },
          {
           "name": "twitter_airdrop",
           "type": "number"
          },
          {
           "name": "twitter_optimistic",
           "type": "number"
          },
          {
           "name": "twitter_negative",
           "type": "number"
          },
          {
           "name": "bitcointalk_hacks",
           "type": "number"
          },
          {
           "name": "bitcointalk_pessimistic_doubtful",
           "type": "number"
          },
          {
           "name": "bitcointalk_banks",
           "type": "number"
          },
          {
           "name": "bitcointalk_selling",
           "type": "number"
          },
          {
           "name": "bitcointalk_market_manipulation",
           "type": "number"
          },
          {
           "name": "bitcointalk_de_centralisation",
           "type": "number"
          },
          {
           "name": "bitcointalk_angry",
           "type": "number"
          },
          {
           "name": "bitcointalk_etf",
           "type": "number"
          },
          {
           "name": "bitcointalk_leverage",
           "type": "number"
          },
          {
           "name": "bitcointalk_bottom",
           "type": "number"
          },
          {
           "name": "bitcointalk_institutional_money",
           "type": "number"
          },
          {
           "name": "bitcointalk_fomo",
           "type": "number"
          },
          {
           "name": "bitcointalk_prediction",
           "type": "number"
          },
          {
           "name": "bitcointalk_adoption",
           "type": "number"
          },
          {
           "name": "bitcointalk_fearful_concerned",
           "type": "number"
          },
          {
           "name": "bitcointalk_portfolio",
           "type": "number"
          },
          {
           "name": "bitcointalk_fud_theme",
           "type": "number"
          },
          {
           "name": "bitcointalk_whitepaper",
           "type": "number"
          },
          {
           "name": "bitcointalk_announcements",
           "type": "number"
          },
          {
           "name": "bitcointalk_technical_analysis",
           "type": "number"
          },
          {
           "name": "bitcointalk_flippening",
           "type": "number"
          },
          {
           "name": "bitcointalk_community",
           "type": "number"
          },
          {
           "name": "bitcointalk_investing_trading",
           "type": "number"
          },
          {
           "name": "bitcointalk_euphoric_excited",
           "type": "number"
          },
          {
           "name": "bitcointalk_hodling",
           "type": "number"
          },
          {
           "name": "bitcointalk_ico",
           "type": "number"
          },
          {
           "name": "bitcointalk_bearish",
           "type": "number"
          },
          {
           "name": "bitcointalk_going_short",
           "type": "number"
          },
          {
           "name": "bitcointalk_uncertain",
           "type": "number"
          },
          {
           "name": "bitcointalk_volume",
           "type": "number"
          },
          {
           "name": "bitcointalk_risk",
           "type": "number"
          },
          {
           "name": "bitcointalk_governance",
           "type": "number"
          },
          {
           "name": "bitcointalk_ban",
           "type": "number"
          },
          {
           "name": "bitcointalk_cheap",
           "type": "number"
          },
          {
           "name": "bitcointalk_short_term_trading",
           "type": "number"
          },
          {
           "name": "bitcointalk_fork",
           "type": "number"
          },
          {
           "name": "bitcointalk_progress",
           "type": "number"
          },
          {
           "name": "bitcointalk_shilling",
           "type": "number"
          },
          {
           "name": "bitcointalk_bullish",
           "type": "number"
          },
          {
           "name": "bitcointalk_happy",
           "type": "number"
          },
          {
           "name": "bitcointalk_bubble",
           "type": "number"
          },
          {
           "name": "bitcointalk_bots",
           "type": "number"
          },
          {
           "name": "bitcointalk_hopeful",
           "type": "number"
          },
          {
           "name": "bitcointalk_bug",
           "type": "number"
          },
          {
           "name": "bitcointalk_open_source",
           "type": "number"
          },
          {
           "name": "bitcointalk_token_economics",
           "type": "number"
          },
          {
           "name": "bitcointalk_security",
           "type": "number"
          },
          {
           "name": "bitcointalk_marketing",
           "type": "number"
          },
          {
           "name": "bitcointalk_bad_news",
           "type": "number"
          },
          {
           "name": "bitcointalk_due_diligence",
           "type": "number"
          },
          {
           "name": "bitcointalk_team",
           "type": "number"
          },
          {
           "name": "bitcointalk_partnerships",
           "type": "number"
          },
          {
           "name": "bitcointalk_pump_and_dump",
           "type": "number"
          },
          {
           "name": "bitcointalk_sad",
           "type": "number"
          },
          {
           "name": "bitcointalk_panicking",
           "type": "number"
          },
          {
           "name": "bitcointalk_listing",
           "type": "number"
          },
          {
           "name": "bitcointalk_regulation_politics",
           "type": "number"
          },
          {
           "name": "bitcointalk_dip",
           "type": "number"
          },
          {
           "name": "bitcointalk_launch",
           "type": "number"
          },
          {
           "name": "bitcointalk_fomo_theme",
           "type": "number"
          },
          {
           "name": "bitcointalk_advice_support",
           "type": "number"
          },
          {
           "name": "bitcointalk_rebranding",
           "type": "number"
          },
          {
           "name": "bitcointalk_wallet",
           "type": "number"
          },
          {
           "name": "bitcointalk_good_news",
           "type": "number"
          },
          {
           "name": "bitcointalk_problems_and_issues",
           "type": "number"
          },
          {
           "name": "bitcointalk_mining",
           "type": "number"
          },
          {
           "name": "bitcointalk_waiting",
           "type": "number"
          },
          {
           "name": "bitcointalk_learning",
           "type": "number"
          },
          {
           "name": "bitcointalk_scaling",
           "type": "number"
          },
          {
           "name": "bitcointalk_fees",
           "type": "number"
          },
          {
           "name": "bitcointalk_roadmap",
           "type": "number"
          },
          {
           "name": "bitcointalk_recovery",
           "type": "number"
          },
          {
           "name": "bitcointalk_technology",
           "type": "number"
          },
          {
           "name": "bitcointalk_mistrustful",
           "type": "number"
          },
          {
           "name": "bitcointalk_marketcap",
           "type": "number"
          },
          {
           "name": "bitcointalk_positive",
           "type": "number"
          },
          {
           "name": "bitcointalk_tax",
           "type": "number"
          },
          {
           "name": "bitcointalk_long_term_investing",
           "type": "number"
          },
          {
           "name": "bitcointalk_strategy",
           "type": "number"
          },
          {
           "name": "bitcointalk_competition",
           "type": "number"
          },
          {
           "name": "bitcointalk_whales",
           "type": "number"
          },
          {
           "name": "bitcointalk_correction",
           "type": "number"
          },
          {
           "name": "bitcointalk_stablecoin",
           "type": "number"
          },
          {
           "name": "bitcointalk_buying",
           "type": "number"
          },
          {
           "name": "bitcointalk_warning",
           "type": "number"
          },
          {
           "name": "bitcointalk_annoyed_frustrated",
           "type": "number"
          },
          {
           "name": "bitcointalk_price",
           "type": "number"
          },
          {
           "name": "bitcointalk_use_case_applications",
           "type": "number"
          },
          {
           "name": "bitcointalk_rumor",
           "type": "number"
          },
          {
           "name": "bitcointalk_scam_fraud",
           "type": "number"
          },
          {
           "name": "bitcointalk_airdrop",
           "type": "number"
          },
          {
           "name": "bitcointalk_optimistic",
           "type": "number"
          },
          {
           "name": "bitcointalk_negative",
           "type": "number"
          },
          {
           "name": "reddit_hacks",
           "type": "number"
          },
          {
           "name": "reddit_pessimistic_doubtful",
           "type": "number"
          },
          {
           "name": "reddit_banks",
           "type": "number"
          },
          {
           "name": "reddit_selling",
           "type": "number"
          },
          {
           "name": "reddit_market_manipulation",
           "type": "number"
          },
          {
           "name": "reddit_de_centralisation",
           "type": "number"
          },
          {
           "name": "reddit_angry",
           "type": "number"
          },
          {
           "name": "reddit_etf",
           "type": "number"
          },
          {
           "name": "reddit_leverage",
           "type": "number"
          },
          {
           "name": "reddit_bottom",
           "type": "number"
          },
          {
           "name": "reddit_institutional_money",
           "type": "number"
          },
          {
           "name": "reddit_fomo",
           "type": "number"
          },
          {
           "name": "reddit_prediction",
           "type": "number"
          },
          {
           "name": "reddit_adoption",
           "type": "number"
          },
          {
           "name": "reddit_fearful_concerned",
           "type": "number"
          },
          {
           "name": "reddit_portfolio",
           "type": "number"
          },
          {
           "name": "reddit_fud_theme",
           "type": "number"
          },
          {
           "name": "reddit_whitepaper",
           "type": "number"
          },
          {
           "name": "reddit_announcements",
           "type": "number"
          },
          {
           "name": "reddit_technical_analysis",
           "type": "number"
          },
          {
           "name": "reddit_flippening",
           "type": "number"
          },
          {
           "name": "reddit_community",
           "type": "number"
          },
          {
           "name": "reddit_investing_trading",
           "type": "number"
          },
          {
           "name": "reddit_euphoric_excited",
           "type": "number"
          },
          {
           "name": "reddit_hodling",
           "type": "number"
          },
          {
           "name": "reddit_ico",
           "type": "number"
          },
          {
           "name": "reddit_bearish",
           "type": "number"
          },
          {
           "name": "reddit_going_short",
           "type": "number"
          },
          {
           "name": "reddit_uncertain",
           "type": "number"
          },
          {
           "name": "reddit_volume",
           "type": "number"
          },
          {
           "name": "reddit_risk",
           "type": "number"
          },
          {
           "name": "reddit_governance",
           "type": "number"
          },
          {
           "name": "reddit_ban",
           "type": "number"
          },
          {
           "name": "reddit_cheap",
           "type": "number"
          },
          {
           "name": "reddit_short_term_trading",
           "type": "number"
          },
          {
           "name": "reddit_fork",
           "type": "number"
          },
          {
           "name": "reddit_progress",
           "type": "number"
          },
          {
           "name": "reddit_shilling",
           "type": "number"
          },
          {
           "name": "reddit_bullish",
           "type": "number"
          },
          {
           "name": "reddit_happy",
           "type": "number"
          },
          {
           "name": "reddit_bubble",
           "type": "number"
          },
          {
           "name": "reddit_bots",
           "type": "number"
          },
          {
           "name": "reddit_hopeful",
           "type": "number"
          },
          {
           "name": "reddit_bug",
           "type": "number"
          },
          {
           "name": "reddit_open_source",
           "type": "number"
          },
          {
           "name": "reddit_token_economics",
           "type": "number"
          },
          {
           "name": "reddit_security",
           "type": "number"
          },
          {
           "name": "reddit_marketing",
           "type": "number"
          },
          {
           "name": "reddit_bad_news",
           "type": "number"
          },
          {
           "name": "reddit_due_diligence",
           "type": "number"
          },
          {
           "name": "reddit_team",
           "type": "number"
          },
          {
           "name": "reddit_partnerships",
           "type": "number"
          },
          {
           "name": "reddit_pump_and_dump",
           "type": "number"
          },
          {
           "name": "reddit_sad",
           "type": "number"
          },
          {
           "name": "reddit_panicking",
           "type": "number"
          },
          {
           "name": "reddit_listing",
           "type": "number"
          },
          {
           "name": "reddit_regulation_politics",
           "type": "number"
          },
          {
           "name": "reddit_dip",
           "type": "number"
          },
          {
           "name": "reddit_launch",
           "type": "number"
          },
          {
           "name": "reddit_fomo_theme",
           "type": "number"
          },
          {
           "name": "reddit_advice_support",
           "type": "number"
          },
          {
           "name": "reddit_rebranding",
           "type": "number"
          },
          {
           "name": "reddit_wallet",
           "type": "number"
          },
          {
           "name": "reddit_good_news",
           "type": "number"
          },
          {
           "name": "reddit_problems_and_issues",
           "type": "number"
          },
          {
           "name": "reddit_mining",
           "type": "number"
          },
          {
           "name": "reddit_waiting",
           "type": "number"
          },
          {
           "name": "reddit_learning",
           "type": "number"
          },
          {
           "name": "reddit_scaling",
           "type": "number"
          },
          {
           "name": "reddit_fees",
           "type": "number"
          },
          {
           "name": "reddit_roadmap",
           "type": "number"
          },
          {
           "name": "reddit_recovery",
           "type": "number"
          },
          {
           "name": "reddit_technology",
           "type": "number"
          },
          {
           "name": "reddit_mistrustful",
           "type": "number"
          },
          {
           "name": "reddit_marketcap",
           "type": "number"
          },
          {
           "name": "reddit_positive",
           "type": "number"
          },
          {
           "name": "reddit_tax",
           "type": "number"
          },
          {
           "name": "reddit_long_term_investing",
           "type": "number"
          },
          {
           "name": "reddit_strategy",
           "type": "number"
          },
          {
           "name": "reddit_competition",
           "type": "number"
          },
          {
           "name": "reddit_whales",
           "type": "number"
          },
          {
           "name": "reddit_correction",
           "type": "number"
          },
          {
           "name": "reddit_stablecoin",
           "type": "number"
          },
          {
           "name": "reddit_buying",
           "type": "number"
          },
          {
           "name": "reddit_warning",
           "type": "number"
          },
          {
           "name": "reddit_annoyed_frustrated",
           "type": "number"
          },
          {
           "name": "reddit_price",
           "type": "number"
          },
          {
           "name": "reddit_use_case_applications",
           "type": "number"
          },
          {
           "name": "reddit_rumor",
           "type": "number"
          },
          {
           "name": "reddit_scam_fraud",
           "type": "number"
          },
          {
           "name": "reddit_airdrop",
           "type": "number"
          },
          {
           "name": "reddit_optimistic",
           "type": "number"
          },
          {
           "name": "reddit_negative",
           "type": "number"
          }
         ],
         "primaryKey": [
          "index"
         ],
         "pandas_version": "1.4.0"
        },
        "data": {
         "index": [
          0,
          1,
          2,
          3,
          4
         ],
         "date": [
          "2016-11-01 23:00:00",
          "2016-11-02 00:00:00",
          "2016-11-02 01:00:00",
          "2016-11-02 02:00:00",
          "2016-11-02 03:00:00"
         ],
         "listing_close": [
          726.6,
          721.96,
          722.49,
          721.66,
          724.89
         ],
         "twitter_hacks": [
          0,
          0,
          0,
          0,
          0
         ],
         "twitter_pessimistic_doubtful": [
          0,
          0,
          0,
          2,
          0
         ],
         "twitter_banks": [
          0,
          1,
          0,
          0,
          0
         ],
         "twitter_selling": [
          1,
          0,
          1,
          0,
          0
         ],
         "twitter_market_manipulation": [
          0,
          1,
          0,
          0,
          0
         ],
         "twitter_de_centralisation": [
          0,
          0,
          0,
          0,
          0
         ],
         "twitter_angry": [
          0,
          0,
          0,
          0,
          0
         ],
         "twitter_etf": [
          0,
          0,
          0,
          0,
          2
         ],
         "twitter_leverage": [
          0,
          0,
          0,
          0,
          0
         ],
         "twitter_bottom": [
          0,
          0,
          0,
          0,
          0
         ],
         "twitter_institutional_money": [
          0,
          0,
          0,
          0,
          0
         ],
         "twitter_fomo": [
          0,
          0,
          0,
          0,
          0
         ],
         "twitter_prediction": [
          1,
          0,
          2,
          3,
          1
         ],
         "twitter_adoption": [
          4,
          3,
          3,
          3,
          7
         ],
         "twitter_fearful_concerned": [
          0,
          1,
          1,
          0,
          0
         ],
         "twitter_portfolio": [
          0,
          0,
          0,
          0,
          0
         ],
         "twitter_fud_theme": [
          0,
          0,
          0,
          0,
          0
         ],
         "twitter_whitepaper": [
          1,
          0,
          0,
          0,
          0
         ],
         "twitter_announcements": [
          0,
          0,
          0,
          0,
          0
         ],
         "twitter_technical_analysis": [
          1,
          0,
          1,
          2,
          1
         ],
         "twitter_flippening": [
          0,
          0,
          0,
          0,
          0
         ],
         "twitter_community": [
          0,
          0,
          0,
          1,
          0
         ],
         "twitter_investing_trading": [
          3,
          1,
          3,
          5,
          6
         ],
         "twitter_euphoric_excited": [
          2,
          0,
          0,
          0,
          2
         ],
         "twitter_hodling": [
          0,
          0,
          0,
          0,
          0
         ],
         "twitter_ico": [
          0,
          1,
          0,
          0,
          2
         ],
         "twitter_bearish": [
          0,
          1,
          0,
          1,
          0
         ],
         "twitter_going_short": [
          0,
          0,
          0,
          1,
          0
         ],
         "twitter_uncertain": [
          2,
          0,
          0,
          0,
          1
         ],
         "twitter_volume": [
          0,
          0,
          1,
          0,
          0
         ],
         "twitter_risk": [
          0,
          0,
          0,
          0,
          0
         ],
         "twitter_governance": [
          0,
          0,
          0,
          0,
          0
         ],
         "twitter_ban": [
          0,
          1,
          0,
          0,
          0
         ],
         "twitter_cheap": [
          0,
          0,
          0,
          0,
          0
         ],
         "twitter_short_term_trading": [
          0,
          0,
          0,
          0,
          0
         ],
         "twitter_fork": [
          0,
          0,
          0,
          0,
          0
         ],
         "twitter_progress": [
          0,
          0,
          0,
          1,
          2
         ],
         "twitter_shilling": [
          0,
          0,
          0,
          0,
          0
         ],
         "twitter_bullish": [
          1,
          0,
          1,
          1,
          1
         ],
         "twitter_happy": [
          0,
          0,
          0,
          0,
          0
         ],
         "twitter_bubble": [
          0,
          0,
          0,
          0,
          0
         ],
         "twitter_bots": [
          0,
          0,
          0,
          0,
          0
         ],
         "twitter_hopeful": [
          0,
          0,
          0,
          0,
          0
         ],
         "twitter_bug": [
          0,
          0,
          0,
          0,
          0
         ],
         "twitter_open_source": [
          0,
          0,
          0,
          0,
          0
         ],
         "twitter_token_economics": [
          0,
          0,
          0,
          0,
          0
         ],
         "twitter_security": [
          0,
          0,
          0,
          1,
          0
         ],
         "twitter_marketing": [
          0,
          0,
          0,
          0,
          0
         ],
         "twitter_bad_news": [
          1,
          1,
          0,
          0,
          0
         ],
         "twitter_due_diligence": [
          2,
          1,
          1,
          3,
          3
         ],
         "twitter_team": [
          0,
          0,
          1,
          1,
          1
         ],
         "twitter_partnerships": [
          0,
          0,
          0,
          0,
          0
         ],
         "twitter_pump_and_dump": [
          0,
          0,
          0,
          0,
          0
         ],
         "twitter_sad": [
          0,
          0,
          0,
          0,
          0
         ],
         "twitter_panicking": [
          0,
          0,
          0,
          0,
          0
         ],
         "twitter_listing": [
          0,
          0,
          0,
          0,
          0
         ],
         "twitter_regulation_politics": [
          1,
          0,
          2,
          3,
          2
         ],
         "twitter_dip": [
          0,
          0,
          0,
          0,
          1
         ],
         "twitter_launch": [
          0,
          0,
          1,
          0,
          0
         ],
         "twitter_fomo_theme": [
          0,
          0,
          0,
          0,
          0
         ],
         "twitter_advice_support": [
          3,
          2,
          3,
          1,
          4
         ],
         "twitter_rebranding": [
          0,
          0,
          0,
          0,
          0
         ],
         "twitter_wallet": [
          0,
          0,
          0,
          0,
          2
         ],
         "twitter_good_news": [
          4,
          4,
          5,
          5,
          12
         ],
         "twitter_problems_and_issues": [
          0,
          0,
          1,
          0,
          0
         ],
         "twitter_mining": [
          0,
          1,
          0,
          0,
          2
         ],
         "twitter_waiting": [
          0,
          0,
          0,
          0,
          0
         ],
         "twitter_learning": [
          1,
          1,
          2,
          1,
          2
         ],
         "twitter_scaling": [
          0,
          0,
          0,
          1,
          0
         ],
         "twitter_fees": [
          0,
          0,
          1,
          0,
          0
         ],
         "twitter_roadmap": [
          0,
          0,
          0,
          0,
          0
         ],
         "twitter_recovery": [
          0,
          0,
          0,
          0,
          0
         ],
         "twitter_technology": [
          3,
          8,
          6,
          5,
          8
         ],
         "twitter_mistrustful": [
          0,
          0,
          0,
          0,
          0
         ],
         "twitter_marketcap": [
          0,
          0,
          0,
          0,
          0
         ],
         "twitter_positive": [
          3,
          5,
          2,
          2,
          2
         ],
         "twitter_tax": [
          0,
          0,
          0,
          0,
          0
         ],
         "twitter_long_term_investing": [
          2,
          0,
          2,
          2,
          2
         ],
         "twitter_strategy": [
          0,
          0,
          0,
          0,
          0
         ],
         "twitter_competition": [
          3,
          2,
          0,
          1,
          0
         ],
         "twitter_whales": [
          0,
          1,
          0,
          0,
          0
         ],
         "twitter_correction": [
          0,
          0,
          0,
          0,
          0
         ],
         "twitter_stablecoin": [
          0,
          0,
          0,
          0,
          0
         ],
         "twitter_buying": [
          3,
          0,
          0,
          0,
          0
         ],
         "twitter_warning": [
          1,
          0,
          0,
          0,
          0
         ],
         "twitter_annoyed_frustrated": [
          0,
          0,
          0,
          0,
          0
         ],
         "twitter_price": [
          6,
          6,
          6,
          5,
          9
         ],
         "twitter_use_case_applications": [
          1,
          1,
          1,
          2,
          8
         ],
         "twitter_rumor": [
          0,
          0,
          0,
          0,
          0
         ],
         "twitter_scam_fraud": [
          1,
          0,
          0,
          0,
          0
         ],
         "twitter_airdrop": [
          0,
          0,
          0,
          0,
          0
         ],
         "twitter_optimistic": [
          0,
          2,
          2,
          0,
          1
         ],
         "twitter_negative": [
          4,
          4,
          5,
          3,
          0
         ],
         "bitcointalk_hacks": [
          0,
          1,
          0,
          0,
          0
         ],
         "bitcointalk_pessimistic_doubtful": [
          0,
          0,
          1,
          1,
          3
         ],
         "bitcointalk_banks": [
          2,
          0,
          2,
          6,
          1
         ],
         "bitcointalk_selling": [
          0,
          1,
          1,
          1,
          1
         ],
         "bitcointalk_market_manipulation": [
          0,
          0,
          0,
          0,
          0
         ],
         "bitcointalk_de_centralisation": [
          0,
          0,
          0,
          1,
          1
         ],
         "bitcointalk_angry": [
          0,
          0,
          0,
          0,
          0
         ],
         "bitcointalk_etf": [
          0,
          0,
          0,
          0,
          0
         ],
         "bitcointalk_leverage": [
          0,
          0,
          0,
          0,
          0
         ],
         "bitcointalk_bottom": [
          0,
          0,
          0,
          1,
          1
         ],
         "bitcointalk_institutional_money": [
          0,
          0,
          0,
          0,
          0
         ],
         "bitcointalk_fomo": [
          0,
          0,
          0,
          0,
          0
         ],
         "bitcointalk_prediction": [
          7,
          3,
          4,
          6,
          3
         ],
         "bitcointalk_adoption": [
          3,
          6,
          7,
          10,
          15
         ],
         "bitcointalk_fearful_concerned": [
          1,
          0,
          0,
          0,
          2
         ],
         "bitcointalk_portfolio": [
          2,
          1,
          1,
          0,
          1
         ],
         "bitcointalk_fud_theme": [
          0,
          0,
          0,
          0,
          0
         ],
         "bitcointalk_whitepaper": [
          0,
          0,
          0,
          0,
          0
         ],
         "bitcointalk_announcements": [
          1,
          0,
          0,
          0,
          0
         ],
         "bitcointalk_technical_analysis": [
          0,
          0,
          1,
          2,
          0
         ],
         "bitcointalk_flippening": [
          0,
          0,
          0,
          0,
          0
         ],
         "bitcointalk_community": [
          1,
          1,
          1,
          1,
          1
         ],
         "bitcointalk_investing_trading": [
          14,
          10,
          4,
          11,
          19
         ],
         "bitcointalk_euphoric_excited": [
          3,
          1,
          1,
          2,
          1
         ],
         "bitcointalk_hodling": [
          1,
          0,
          0,
          0,
          0
         ],
         "bitcointalk_ico": [
          2,
          2,
          1,
          1,
          1
         ],
         "bitcointalk_bearish": [
          0,
          4,
          0,
          0,
          1
         ],
         "bitcointalk_going_short": [
          0,
          0,
          0,
          0,
          0
         ],
         "bitcointalk_uncertain": [
          2,
          1,
          1,
          2,
          2
         ],
         "bitcointalk_volume": [
          0,
          1,
          0,
          0,
          0
         ],
         "bitcointalk_risk": [
          0,
          0,
          2,
          0,
          1
         ],
         "bitcointalk_governance": [
          0,
          0,
          0,
          0,
          0
         ],
         "bitcointalk_ban": [
          0,
          0,
          0,
          2,
          2
         ],
         "bitcointalk_cheap": [
          1,
          0,
          0,
          1,
          0
         ],
         "bitcointalk_short_term_trading": [
          0,
          0,
          0,
          1,
          0
         ],
         "bitcointalk_fork": [
          0,
          0,
          0,
          0,
          0
         ],
         "bitcointalk_progress": [
          0,
          0,
          0,
          1,
          3
         ],
         "bitcointalk_shilling": [
          0,
          0,
          0,
          0,
          0
         ],
         "bitcointalk_bullish": [
          1,
          2,
          0,
          1,
          0
         ],
         "bitcointalk_happy": [
          2,
          2,
          0,
          0,
          1
         ],
         "bitcointalk_bubble": [
          2,
          0,
          0,
          0,
          0
         ],
         "bitcointalk_bots": [
          0,
          0,
          0,
          0,
          0
         ],
         "bitcointalk_hopeful": [
          3,
          3,
          0,
          1,
          1
         ],
         "bitcointalk_bug": [
          3,
          0,
          0,
          0,
          0
         ],
         "bitcointalk_open_source": [
          0,
          0,
          0,
          0,
          0
         ],
         "bitcointalk_token_economics": [
          0,
          0,
          0,
          0,
          0
         ],
         "bitcointalk_security": [
          1,
          0,
          1,
          0,
          0
         ],
         "bitcointalk_marketing": [
          1,
          0,
          1,
          0,
          0
         ],
         "bitcointalk_bad_news": [
          0,
          0,
          0,
          0,
          0
         ],
         "bitcointalk_due_diligence": [
          0,
          0,
          0,
          0,
          1
         ],
         "bitcointalk_team": [
          2,
          1,
          1,
          0,
          2
         ],
         "bitcointalk_partnerships": [
          0,
          0,
          0,
          0,
          0
         ],
         "bitcointalk_pump_and_dump": [
          0,
          0,
          0,
          0,
          0
         ],
         "bitcointalk_sad": [
          0,
          0,
          0,
          0,
          0
         ],
         "bitcointalk_panicking": [
          0,
          1,
          0,
          0,
          0
         ],
         "bitcointalk_listing": [
          0,
          1,
          0,
          0,
          0
         ],
         "bitcointalk_regulation_politics": [
          2,
          1,
          1,
          5,
          8
         ],
         "bitcointalk_dip": [
          0,
          0,
          0,
          1,
          0
         ],
         "bitcointalk_launch": [
          1,
          0,
          0,
          0,
          1
         ],
         "bitcointalk_fomo_theme": [
          0,
          0,
          0,
          0,
          0
         ],
         "bitcointalk_advice_support": [
          19,
          14,
          9,
          22,
          20
         ],
         "bitcointalk_rebranding": [
          0,
          0,
          0,
          0,
          0
         ],
         "bitcointalk_wallet": [
          4,
          2,
          2,
          4,
          4
         ],
         "bitcointalk_good_news": [
          2,
          1,
          0,
          6,
          6
         ],
         "bitcointalk_problems_and_issues": [
          5,
          3,
          1,
          3,
          5
         ],
         "bitcointalk_mining": [
          0,
          1,
          0,
          1,
          4
         ],
         "bitcointalk_waiting": [
          2,
          1,
          0,
          2,
          0
         ],
         "bitcointalk_learning": [
          1,
          1,
          2,
          1,
          4
         ],
         "bitcointalk_scaling": [
          0,
          0,
          1,
          0,
          0
         ],
         "bitcointalk_fees": [
          2,
          1,
          0,
          2,
          0
         ],
         "bitcointalk_roadmap": [
          0,
          0,
          0,
          0,
          0
         ],
         "bitcointalk_recovery": [
          1,
          0,
          0,
          0,
          0
         ],
         "bitcointalk_technology": [
          9,
          5,
          1,
          6,
          9
         ],
         "bitcointalk_mistrustful": [
          1,
          0,
          0,
          0,
          0
         ],
         "bitcointalk_marketcap": [
          0,
          1,
          0,
          0,
          0
         ],
         "bitcointalk_positive": [
          17,
          9,
          7,
          14,
          11
         ],
         "bitcointalk_tax": [
          0,
          0,
          0,
          2,
          2
         ],
         "bitcointalk_long_term_investing": [
          1,
          3,
          1,
          0,
          3
         ],
         "bitcointalk_strategy": [
          1,
          0,
          1,
          0,
          1
         ],
         "bitcointalk_competition": [
          3,
          2,
          3,
          2,
          2
         ],
         "bitcointalk_whales": [
          1,
          1,
          0,
          0,
          0
         ],
         "bitcointalk_correction": [
          0,
          0,
          0,
          0,
          0
         ],
         "bitcointalk_stablecoin": [
          0,
          0,
          0,
          0,
          0
         ],
         "bitcointalk_buying": [
          2,
          2,
          2,
          1,
          3
         ],
         "bitcointalk_warning": [
          1,
          1,
          0,
          1,
          0
         ],
         "bitcointalk_annoyed_frustrated": [
          0,
          0,
          0,
          0,
          0
         ],
         "bitcointalk_price": [
          12,
          10,
          7,
          6,
          11
         ],
         "bitcointalk_use_case_applications": [
          4,
          8,
          4,
          11,
          8
         ],
         "bitcointalk_rumor": [
          0,
          0,
          0,
          0,
          0
         ],
         "bitcointalk_scam_fraud": [
          0,
          1,
          1,
          1,
          0
         ],
         "bitcointalk_airdrop": [
          0,
          0,
          0,
          0,
          0
         ],
         "bitcointalk_optimistic": [
          5,
          5,
          4,
          7,
          8
         ],
         "bitcointalk_negative": [
          16,
          16,
          8,
          15,
          23
         ],
         "reddit_hacks": [
          0,
          1,
          0,
          0,
          0
         ],
         "reddit_pessimistic_doubtful": [
          1,
          0,
          0,
          0,
          1
         ],
         "reddit_banks": [
          0,
          0,
          1,
          0,
          2
         ],
         "reddit_selling": [
          0,
          0,
          1,
          0,
          0
         ],
         "reddit_market_manipulation": [
          0,
          0,
          0,
          0,
          0
         ],
         "reddit_de_centralisation": [
          1,
          0,
          0,
          0,
          3
         ],
         "reddit_angry": [
          0,
          0,
          0,
          0,
          0
         ],
         "reddit_etf": [
          0,
          0,
          0,
          0,
          2
         ],
         "reddit_leverage": [
          1,
          0,
          0,
          0,
          0
         ],
         "reddit_bottom": [
          0,
          0,
          1,
          0,
          0
         ],
         "reddit_institutional_money": [
          0,
          0,
          0,
          0,
          0
         ],
         "reddit_fomo": [
          0,
          0,
          1,
          0,
          0
         ],
         "reddit_prediction": [
          3,
          2,
          4,
          1,
          0
         ],
         "reddit_adoption": [
          2,
          1,
          2,
          1,
          9
         ],
         "reddit_fearful_concerned": [
          1,
          0,
          2,
          0,
          4
         ],
         "reddit_portfolio": [
          0,
          0,
          0,
          0,
          0
         ],
         "reddit_fud_theme": [
          0,
          0,
          0,
          0,
          0
         ],
         "reddit_whitepaper": [
          0,
          0,
          0,
          0,
          0
         ],
         "reddit_announcements": [
          0,
          0,
          0,
          0,
          0
         ],
         "reddit_technical_analysis": [
          0,
          0,
          1,
          2,
          0
         ],
         "reddit_flippening": [
          0,
          0,
          0,
          0,
          0
         ],
         "reddit_community": [
          0,
          0,
          2,
          1,
          3
         ],
         "reddit_investing_trading": [
          4,
          0,
          6,
          2,
          3
         ],
         "reddit_euphoric_excited": [
          0,
          0,
          4,
          0,
          1
         ],
         "reddit_hodling": [
          1,
          0,
          0,
          0,
          1
         ],
         "reddit_ico": [
          0,
          0,
          0,
          0,
          0
         ],
         "reddit_bearish": [
          0,
          0,
          0,
          0,
          0
         ],
         "reddit_going_short": [
          0,
          0,
          0,
          0,
          0
         ],
         "reddit_uncertain": [
          1,
          0,
          2,
          1,
          2
         ],
         "reddit_volume": [
          0,
          0,
          1,
          0,
          1
         ],
         "reddit_risk": [
          0,
          1,
          0,
          0,
          2
         ],
         "reddit_governance": [
          0,
          0,
          0,
          0,
          0
         ],
         "reddit_ban": [
          0,
          0,
          1,
          0,
          2
         ],
         "reddit_cheap": [
          1,
          0,
          1,
          0,
          0
         ],
         "reddit_short_term_trading": [
          0,
          0,
          0,
          0,
          0
         ],
         "reddit_fork": [
          3,
          2,
          2,
          0,
          2
         ],
         "reddit_progress": [
          1,
          2,
          2,
          1,
          0
         ],
         "reddit_shilling": [
          0,
          0,
          0,
          0,
          0
         ],
         "reddit_bullish": [
          1,
          0,
          2,
          1,
          0
         ],
         "reddit_happy": [
          0,
          0,
          1,
          0,
          1
         ],
         "reddit_bubble": [
          0,
          0,
          0,
          0,
          0
         ],
         "reddit_bots": [
          0,
          0,
          0,
          1,
          0
         ],
         "reddit_hopeful": [
          0,
          0,
          0,
          1,
          0
         ],
         "reddit_bug": [
          0,
          0,
          0,
          0,
          0
         ],
         "reddit_open_source": [
          1,
          0,
          0,
          0,
          0
         ],
         "reddit_token_economics": [
          0,
          0,
          0,
          0,
          0
         ],
         "reddit_security": [
          0,
          1,
          1,
          0,
          0
         ],
         "reddit_marketing": [
          0,
          0,
          0,
          0,
          0
         ],
         "reddit_bad_news": [
          1,
          0,
          3,
          0,
          3
         ],
         "reddit_due_diligence": [
          0,
          0,
          0,
          0,
          1
         ],
         "reddit_team": [
          0,
          1,
          1,
          0,
          2
         ],
         "reddit_partnerships": [
          0,
          0,
          0,
          0,
          0
         ],
         "reddit_pump_and_dump": [
          0,
          0,
          0,
          0,
          0
         ],
         "reddit_sad": [
          0,
          0,
          0,
          0,
          0
         ],
         "reddit_panicking": [
          0,
          0,
          0,
          0,
          0
         ],
         "reddit_listing": [
          0,
          0,
          0,
          0,
          0
         ],
         "reddit_regulation_politics": [
          1,
          1,
          3,
          2,
          5
         ],
         "reddit_dip": [
          0,
          0,
          0,
          0,
          0
         ],
         "reddit_launch": [
          0,
          0,
          0,
          0,
          0
         ],
         "reddit_fomo_theme": [
          0,
          0,
          0,
          0,
          0
         ],
         "reddit_advice_support": [
          7,
          4,
          11,
          3,
          10
         ],
         "reddit_rebranding": [
          0,
          0,
          0,
          0,
          0
         ],
         "reddit_wallet": [
          1,
          2,
          1,
          1,
          1
         ],
         "reddit_good_news": [
          2,
          5,
          2,
          1,
          3
         ],
         "reddit_problems_and_issues": [
          2,
          2,
          2,
          1,
          3
         ],
         "reddit_mining": [
          0,
          1,
          2,
          0,
          4
         ],
         "reddit_waiting": [
          0,
          0,
          0,
          0,
          0
         ],
         "reddit_learning": [
          0,
          0,
          0,
          0,
          1
         ],
         "reddit_scaling": [
          0,
          2,
          0,
          0,
          0
         ],
         "reddit_fees": [
          0,
          0,
          0,
          0,
          2
         ],
         "reddit_roadmap": [
          0,
          0,
          0,
          0,
          0
         ],
         "reddit_recovery": [
          0,
          0,
          0,
          0,
          0
         ],
         "reddit_technology": [
          4,
          5,
          9,
          1,
          10
         ],
         "reddit_mistrustful": [
          0,
          0,
          0,
          0,
          0
         ],
         "reddit_marketcap": [
          1,
          0,
          0,
          0,
          0
         ],
         "reddit_positive": [
          2,
          4,
          6,
          3,
          4
         ],
         "reddit_tax": [
          0,
          0,
          0,
          0,
          1
         ],
         "reddit_long_term_investing": [
          0,
          1,
          2,
          0,
          1
         ],
         "reddit_strategy": [
          0,
          0,
          0,
          0,
          1
         ],
         "reddit_competition": [
          1,
          0,
          4,
          0,
          1
         ],
         "reddit_whales": [
          0,
          0,
          0,
          0,
          0
         ],
         "reddit_correction": [
          0,
          0,
          0,
          0,
          0
         ],
         "reddit_stablecoin": [
          0,
          0,
          0,
          0,
          0
         ],
         "reddit_buying": [
          1,
          0,
          1,
          1,
          1
         ],
         "reddit_warning": [
          0,
          0,
          0,
          0,
          0
         ],
         "reddit_annoyed_frustrated": [
          0,
          0,
          0,
          0,
          0
         ],
         "reddit_price": [
          2,
          5,
          4,
          1,
          2
         ],
         "reddit_use_case_applications": [
          1,
          1,
          0,
          1,
          5
         ],
         "reddit_rumor": [
          0,
          0,
          0,
          0,
          0
         ],
         "reddit_scam_fraud": [
          0,
          0,
          2,
          0,
          1
         ],
         "reddit_airdrop": [
          0,
          0,
          0,
          0,
          0
         ],
         "reddit_optimistic": [
          2,
          3,
          3,
          0,
          2
         ],
         "reddit_negative": [
          6,
          3,
          12,
          4,
          11
         ]
        }
       },
       "total_rows": 5,
       "truncation_type": null
      },
      "text/plain": "                  date  listing_close  ...  reddit_optimistic  reddit_negative\n0  2016-11-01 23:00:00         726.60  ...                2.0              6.0\n1  2016-11-02 00:00:00         721.96  ...                3.0              3.0\n2  2016-11-02 01:00:00         722.49  ...                3.0             12.0\n3  2016-11-02 02:00:00         721.66  ...                0.0              4.0\n4  2016-11-02 03:00:00         724.89  ...                2.0             11.0\n\n[5 rows x 281 columns]",
      "text/html": "<div>\n<style scoped>\n    .dataframe tbody tr th:only-of-type {\n        vertical-align: middle;\n    }\n\n    .dataframe tbody tr th {\n        vertical-align: top;\n    }\n\n    .dataframe thead th {\n        text-align: right;\n    }\n</style>\n<table border=\"1\" class=\"dataframe\">\n  <thead>\n    <tr style=\"text-align: right;\">\n      <th></th>\n      <th>date</th>\n      <th>listing_close</th>\n      <th>twitter_hacks</th>\n      <th>twitter_pessimistic_doubtful</th>\n      <th>twitter_banks</th>\n      <th>twitter_selling</th>\n      <th>twitter_market_manipulation</th>\n      <th>twitter_de_centralisation</th>\n      <th>twitter_angry</th>\n      <th>twitter_etf</th>\n      <th>twitter_leverage</th>\n      <th>twitter_bottom</th>\n      <th>twitter_institutional_money</th>\n      <th>twitter_fomo</th>\n      <th>twitter_prediction</th>\n      <th>twitter_adoption</th>\n      <th>twitter_fearful_concerned</th>\n      <th>twitter_portfolio</th>\n      <th>twitter_fud_theme</th>\n      <th>twitter_whitepaper</th>\n      <th>twitter_announcements</th>\n      <th>twitter_technical_analysis</th>\n      <th>twitter_flippening</th>\n      <th>twitter_community</th>\n      <th>twitter_investing_trading</th>\n      <th>twitter_euphoric_excited</th>\n      <th>twitter_hodling</th>\n      <th>twitter_ico</th>\n      <th>twitter_bearish</th>\n      <th>twitter_going_short</th>\n      <th>twitter_uncertain</th>\n      <th>twitter_volume</th>\n      <th>twitter_risk</th>\n      <th>twitter_governance</th>\n      <th>twitter_ban</th>\n      <th>twitter_cheap</th>\n      <th>twitter_short_term_trading</th>\n      <th>twitter_fork</th>\n      <th>twitter_progress</th>\n      <th>twitter_shilling</th>\n      <th>...</th>\n      <th>reddit_sad</th>\n      <th>reddit_panicking</th>\n      <th>reddit_listing</th>\n      <th>reddit_regulation_politics</th>\n      <th>reddit_dip</th>\n      <th>reddit_launch</th>\n      <th>reddit_fomo_theme</th>\n      <th>reddit_advice_support</th>\n      <th>reddit_rebranding</th>\n      <th>reddit_wallet</th>\n      <th>reddit_good_news</th>\n      <th>reddit_problems_and_issues</th>\n      <th>reddit_mining</th>\n      <th>reddit_waiting</th>\n      <th>reddit_learning</th>\n      <th>reddit_scaling</th>\n      <th>reddit_fees</th>\n      <th>reddit_roadmap</th>\n      <th>reddit_recovery</th>\n      <th>reddit_technology</th>\n      <th>reddit_mistrustful</th>\n      <th>reddit_marketcap</th>\n      <th>reddit_positive</th>\n      <th>reddit_tax</th>\n      <th>reddit_long_term_investing</th>\n      <th>reddit_strategy</th>\n      <th>reddit_competition</th>\n      <th>reddit_whales</th>\n      <th>reddit_correction</th>\n      <th>reddit_stablecoin</th>\n      <th>reddit_buying</th>\n      <th>reddit_warning</th>\n      <th>reddit_annoyed_frustrated</th>\n      <th>reddit_price</th>\n      <th>reddit_use_case_applications</th>\n      <th>reddit_rumor</th>\n      <th>reddit_scam_fraud</th>\n      <th>reddit_airdrop</th>\n      <th>reddit_optimistic</th>\n      <th>reddit_negative</th>\n    </tr>\n  </thead>\n  <tbody>\n    <tr>\n      <th>0</th>\n      <td>2016-11-01 23:00:00</td>\n      <td>726.60</td>\n      <td>0.0</td>\n      <td>0.0</td>\n      <td>0.0</td>\n      <td>1.0</td>\n      <td>0.0</td>\n      <td>0.0</td>\n      <td>0.0</td>\n      <td>0.0</td>\n      <td>0.0</td>\n      <td>0.0</td>\n      <td>0.0</td>\n      <td>0.0</td>\n      <td>1.0</td>\n      <td>4.0</td>\n      <td>0.0</td>\n      <td>0.0</td>\n      <td>0.0</td>\n      <td>1.0</td>\n      <td>0.0</td>\n      <td>1.0</td>\n      <td>0.0</td>\n      <td>0.0</td>\n      <td>3.0</td>\n      <td>2.0</td>\n      <td>0.0</td>\n      <td>0.0</td>\n      <td>0.0</td>\n      <td>0.0</td>\n      <td>2.0</td>\n      <td>0.0</td>\n      <td>0.0</td>\n      <td>0.0</td>\n      <td>0.0</td>\n      <td>0.0</td>\n      <td>0.0</td>\n      <td>0.0</td>\n      <td>0.0</td>\n      <td>0.0</td>\n      <td>...</td>\n      <td>0.0</td>\n      <td>0.0</td>\n      <td>0.0</td>\n      <td>1.0</td>\n      <td>0.0</td>\n      <td>0.0</td>\n      <td>0.0</td>\n      <td>7.0</td>\n      <td>0.0</td>\n      <td>1.0</td>\n      <td>2.0</td>\n      <td>2.0</td>\n      <td>0.0</td>\n      <td>0.0</td>\n      <td>0.0</td>\n      <td>0.0</td>\n      <td>0.0</td>\n      <td>0.0</td>\n      <td>0.0</td>\n      <td>4.0</td>\n      <td>0.0</td>\n      <td>1.0</td>\n      <td>2.0</td>\n      <td>0.0</td>\n      <td>0.0</td>\n      <td>0.0</td>\n      <td>1.0</td>\n      <td>0.0</td>\n      <td>0.0</td>\n      <td>0.0</td>\n      <td>1.0</td>\n      <td>0.0</td>\n      <td>0.0</td>\n      <td>2.0</td>\n      <td>1.0</td>\n      <td>0.0</td>\n      <td>0.0</td>\n      <td>0.0</td>\n      <td>2.0</td>\n      <td>6.0</td>\n    </tr>\n    <tr>\n      <th>1</th>\n      <td>2016-11-02 00:00:00</td>\n      <td>721.96</td>\n      <td>0.0</td>\n      <td>0.0</td>\n      <td>1.0</td>\n      <td>0.0</td>\n      <td>1.0</td>\n      <td>0.0</td>\n      <td>0.0</td>\n      <td>0.0</td>\n      <td>0.0</td>\n      <td>0.0</td>\n      <td>0.0</td>\n      <td>0.0</td>\n      <td>0.0</td>\n      <td>3.0</td>\n      <td>1.0</td>\n      <td>0.0</td>\n      <td>0.0</td>\n      <td>0.0</td>\n      <td>0.0</td>\n      <td>0.0</td>\n      <td>0.0</td>\n      <td>0.0</td>\n      <td>1.0</td>\n      <td>0.0</td>\n      <td>0.0</td>\n      <td>1.0</td>\n      <td>1.0</td>\n      <td>0.0</td>\n      <td>0.0</td>\n      <td>0.0</td>\n      <td>0.0</td>\n      <td>0.0</td>\n      <td>1.0</td>\n      <td>0.0</td>\n      <td>0.0</td>\n      <td>0.0</td>\n      <td>0.0</td>\n      <td>0.0</td>\n      <td>...</td>\n      <td>0.0</td>\n      <td>0.0</td>\n      <td>0.0</td>\n      <td>1.0</td>\n      <td>0.0</td>\n      <td>0.0</td>\n      <td>0.0</td>\n      <td>4.0</td>\n      <td>0.0</td>\n      <td>2.0</td>\n      <td>5.0</td>\n      <td>2.0</td>\n      <td>1.0</td>\n      <td>0.0</td>\n      <td>0.0</td>\n      <td>2.0</td>\n      <td>0.0</td>\n      <td>0.0</td>\n      <td>0.0</td>\n      <td>5.0</td>\n      <td>0.0</td>\n      <td>0.0</td>\n      <td>4.0</td>\n      <td>0.0</td>\n      <td>1.0</td>\n      <td>0.0</td>\n      <td>0.0</td>\n      <td>0.0</td>\n      <td>0.0</td>\n      <td>0.0</td>\n      <td>0.0</td>\n      <td>0.0</td>\n      <td>0.0</td>\n      <td>5.0</td>\n      <td>1.0</td>\n      <td>0.0</td>\n      <td>0.0</td>\n      <td>0.0</td>\n      <td>3.0</td>\n      <td>3.0</td>\n    </tr>\n    <tr>\n      <th>2</th>\n      <td>2016-11-02 01:00:00</td>\n      <td>722.49</td>\n      <td>0.0</td>\n      <td>0.0</td>\n      <td>0.0</td>\n      <td>1.0</td>\n      <td>0.0</td>\n      <td>0.0</td>\n      <td>0.0</td>\n      <td>0.0</td>\n      <td>0.0</td>\n      <td>0.0</td>\n      <td>0.0</td>\n      <td>0.0</td>\n      <td>2.0</td>\n      <td>3.0</td>\n      <td>1.0</td>\n      <td>0.0</td>\n      <td>0.0</td>\n      <td>0.0</td>\n      <td>0.0</td>\n      <td>1.0</td>\n      <td>0.0</td>\n      <td>0.0</td>\n      <td>3.0</td>\n      <td>0.0</td>\n      <td>0.0</td>\n      <td>0.0</td>\n      <td>0.0</td>\n      <td>0.0</td>\n      <td>0.0</td>\n      <td>1.0</td>\n      <td>0.0</td>\n      <td>0.0</td>\n      <td>0.0</td>\n      <td>0.0</td>\n      <td>0.0</td>\n      <td>0.0</td>\n      <td>0.0</td>\n      <td>0.0</td>\n      <td>...</td>\n      <td>0.0</td>\n      <td>0.0</td>\n      <td>0.0</td>\n      <td>3.0</td>\n      <td>0.0</td>\n      <td>0.0</td>\n      <td>0.0</td>\n      <td>11.0</td>\n      <td>0.0</td>\n      <td>1.0</td>\n      <td>2.0</td>\n      <td>2.0</td>\n      <td>2.0</td>\n      <td>0.0</td>\n      <td>0.0</td>\n      <td>0.0</td>\n      <td>0.0</td>\n      <td>0.0</td>\n      <td>0.0</td>\n      <td>9.0</td>\n      <td>0.0</td>\n      <td>0.0</td>\n      <td>6.0</td>\n      <td>0.0</td>\n      <td>2.0</td>\n      <td>0.0</td>\n      <td>4.0</td>\n      <td>0.0</td>\n      <td>0.0</td>\n      <td>0.0</td>\n      <td>1.0</td>\n      <td>0.0</td>\n      <td>0.0</td>\n      <td>4.0</td>\n      <td>0.0</td>\n      <td>0.0</td>\n      <td>2.0</td>\n      <td>0.0</td>\n      <td>3.0</td>\n      <td>12.0</td>\n    </tr>\n    <tr>\n      <th>3</th>\n      <td>2016-11-02 02:00:00</td>\n      <td>721.66</td>\n      <td>0.0</td>\n      <td>2.0</td>\n      <td>0.0</td>\n      <td>0.0</td>\n      <td>0.0</td>\n      <td>0.0</td>\n      <td>0.0</td>\n      <td>0.0</td>\n      <td>0.0</td>\n      <td>0.0</td>\n      <td>0.0</td>\n      <td>0.0</td>\n      <td>3.0</td>\n      <td>3.0</td>\n      <td>0.0</td>\n      <td>0.0</td>\n      <td>0.0</td>\n      <td>0.0</td>\n      <td>0.0</td>\n      <td>2.0</td>\n      <td>0.0</td>\n      <td>1.0</td>\n      <td>5.0</td>\n      <td>0.0</td>\n      <td>0.0</td>\n      <td>0.0</td>\n      <td>1.0</td>\n      <td>1.0</td>\n      <td>0.0</td>\n      <td>0.0</td>\n      <td>0.0</td>\n      <td>0.0</td>\n      <td>0.0</td>\n      <td>0.0</td>\n      <td>0.0</td>\n      <td>0.0</td>\n      <td>1.0</td>\n      <td>0.0</td>\n      <td>...</td>\n      <td>0.0</td>\n      <td>0.0</td>\n      <td>0.0</td>\n      <td>2.0</td>\n      <td>0.0</td>\n      <td>0.0</td>\n      <td>0.0</td>\n      <td>3.0</td>\n      <td>0.0</td>\n      <td>1.0</td>\n      <td>1.0</td>\n      <td>1.0</td>\n      <td>0.0</td>\n      <td>0.0</td>\n      <td>0.0</td>\n      <td>0.0</td>\n      <td>0.0</td>\n      <td>0.0</td>\n      <td>0.0</td>\n      <td>1.0</td>\n      <td>0.0</td>\n      <td>0.0</td>\n      <td>3.0</td>\n      <td>0.0</td>\n      <td>0.0</td>\n      <td>0.0</td>\n      <td>0.0</td>\n      <td>0.0</td>\n      <td>0.0</td>\n      <td>0.0</td>\n      <td>1.0</td>\n      <td>0.0</td>\n      <td>0.0</td>\n      <td>1.0</td>\n      <td>1.0</td>\n      <td>0.0</td>\n      <td>0.0</td>\n      <td>0.0</td>\n      <td>0.0</td>\n      <td>4.0</td>\n    </tr>\n    <tr>\n      <th>4</th>\n      <td>2016-11-02 03:00:00</td>\n      <td>724.89</td>\n      <td>0.0</td>\n      <td>0.0</td>\n      <td>0.0</td>\n      <td>0.0</td>\n      <td>0.0</td>\n      <td>0.0</td>\n      <td>0.0</td>\n      <td>2.0</td>\n      <td>0.0</td>\n      <td>0.0</td>\n      <td>0.0</td>\n      <td>0.0</td>\n      <td>1.0</td>\n      <td>7.0</td>\n      <td>0.0</td>\n      <td>0.0</td>\n      <td>0.0</td>\n      <td>0.0</td>\n      <td>0.0</td>\n      <td>1.0</td>\n      <td>0.0</td>\n      <td>0.0</td>\n      <td>6.0</td>\n      <td>2.0</td>\n      <td>0.0</td>\n      <td>2.0</td>\n      <td>0.0</td>\n      <td>0.0</td>\n      <td>1.0</td>\n      <td>0.0</td>\n      <td>0.0</td>\n      <td>0.0</td>\n      <td>0.0</td>\n      <td>0.0</td>\n      <td>0.0</td>\n      <td>0.0</td>\n      <td>2.0</td>\n      <td>0.0</td>\n      <td>...</td>\n      <td>0.0</td>\n      <td>0.0</td>\n      <td>0.0</td>\n      <td>5.0</td>\n      <td>0.0</td>\n      <td>0.0</td>\n      <td>0.0</td>\n      <td>10.0</td>\n      <td>0.0</td>\n      <td>1.0</td>\n      <td>3.0</td>\n      <td>3.0</td>\n      <td>4.0</td>\n      <td>0.0</td>\n      <td>1.0</td>\n      <td>0.0</td>\n      <td>2.0</td>\n      <td>0.0</td>\n      <td>0.0</td>\n      <td>10.0</td>\n      <td>0.0</td>\n      <td>0.0</td>\n      <td>4.0</td>\n      <td>1.0</td>\n      <td>1.0</td>\n      <td>1.0</td>\n      <td>1.0</td>\n      <td>0.0</td>\n      <td>0.0</td>\n      <td>0.0</td>\n      <td>1.0</td>\n      <td>0.0</td>\n      <td>0.0</td>\n      <td>2.0</td>\n      <td>5.0</td>\n      <td>0.0</td>\n      <td>1.0</td>\n      <td>0.0</td>\n      <td>2.0</td>\n      <td>11.0</td>\n    </tr>\n  </tbody>\n</table>\n<p>5 rows × 281 columns</p>\n</div>"
     },
     "metadata": {
      "application/com.datacamp.data-table.v2+json": {
       "status": "success"
      }
     },
     "execution_count": 3
    }
   ],
   "execution_count": 3
  },
  {
   "source": [
    "btc_df['listing_close'] = np.log10(btc_df['listing_close'])\n",
    "btc_df.head()"
   ],
   "metadata": {
    "executionCancelledAt": null,
    "executionTime": 135,
    "lastExecutedAt": 1740674475235,
    "lastExecutedByKernel": "6c875df8-92fa-4ec4-b333-30b3e09ce2de",
    "lastScheduledRunId": null,
    "lastSuccessfullyExecutedCode": "btc_df['listing_close'] = np.log10(btc_df['listing_close'])\nbtc_df.head()",
    "outputsMetadata": {
     "0": {
      "height": 260,
      "type": "dataFrame",
      "tableState": {
       "customFilter": {
        "const": {
         "type": "boolean",
         "valid": true,
         "value": true
        },
        "id": "7f39a181-a3a8-4be7-94d0-6eacbda2fcf8",
        "nodeType": "const"
       },
       "quickFilterText": ""
      }
     }
    }
   },
   "cell_type": "code",
   "id": "42e25a74-1ec1-4ad6-b332-aa4daafd19fa",
   "outputs": [
    {
     "output_type": "execute_result",
     "data": {
      "application/com.datacamp.data-table.v2+json": {
       "table": {
        "schema": {
         "fields": [
          {
           "name": "index",
           "type": "integer"
          },
          {
           "name": "date",
           "type": "string"
          },
          {
           "name": "listing_close",
           "type": "number"
          },
          {
           "name": "twitter_hacks",
           "type": "number"
          },
          {
           "name": "twitter_pessimistic_doubtful",
           "type": "number"
          },
          {
           "name": "twitter_banks",
           "type": "number"
          },
          {
           "name": "twitter_selling",
           "type": "number"
          },
          {
           "name": "twitter_market_manipulation",
           "type": "number"
          },
          {
           "name": "twitter_de_centralisation",
           "type": "number"
          },
          {
           "name": "twitter_angry",
           "type": "number"
          },
          {
           "name": "twitter_etf",
           "type": "number"
          },
          {
           "name": "twitter_leverage",
           "type": "number"
          },
          {
           "name": "twitter_bottom",
           "type": "number"
          },
          {
           "name": "twitter_institutional_money",
           "type": "number"
          },
          {
           "name": "twitter_fomo",
           "type": "number"
          },
          {
           "name": "twitter_prediction",
           "type": "number"
          },
          {
           "name": "twitter_adoption",
           "type": "number"
          },
          {
           "name": "twitter_fearful_concerned",
           "type": "number"
          },
          {
           "name": "twitter_portfolio",
           "type": "number"
          },
          {
           "name": "twitter_fud_theme",
           "type": "number"
          },
          {
           "name": "twitter_whitepaper",
           "type": "number"
          },
          {
           "name": "twitter_announcements",
           "type": "number"
          },
          {
           "name": "twitter_technical_analysis",
           "type": "number"
          },
          {
           "name": "twitter_flippening",
           "type": "number"
          },
          {
           "name": "twitter_community",
           "type": "number"
          },
          {
           "name": "twitter_investing_trading",
           "type": "number"
          },
          {
           "name": "twitter_euphoric_excited",
           "type": "number"
          },
          {
           "name": "twitter_hodling",
           "type": "number"
          },
          {
           "name": "twitter_ico",
           "type": "number"
          },
          {
           "name": "twitter_bearish",
           "type": "number"
          },
          {
           "name": "twitter_going_short",
           "type": "number"
          },
          {
           "name": "twitter_uncertain",
           "type": "number"
          },
          {
           "name": "twitter_volume",
           "type": "number"
          },
          {
           "name": "twitter_risk",
           "type": "number"
          },
          {
           "name": "twitter_governance",
           "type": "number"
          },
          {
           "name": "twitter_ban",
           "type": "number"
          },
          {
           "name": "twitter_cheap",
           "type": "number"
          },
          {
           "name": "twitter_short_term_trading",
           "type": "number"
          },
          {
           "name": "twitter_fork",
           "type": "number"
          },
          {
           "name": "twitter_progress",
           "type": "number"
          },
          {
           "name": "twitter_shilling",
           "type": "number"
          },
          {
           "name": "twitter_bullish",
           "type": "number"
          },
          {
           "name": "twitter_happy",
           "type": "number"
          },
          {
           "name": "twitter_bubble",
           "type": "number"
          },
          {
           "name": "twitter_bots",
           "type": "number"
          },
          {
           "name": "twitter_hopeful",
           "type": "number"
          },
          {
           "name": "twitter_bug",
           "type": "number"
          },
          {
           "name": "twitter_open_source",
           "type": "number"
          },
          {
           "name": "twitter_token_economics",
           "type": "number"
          },
          {
           "name": "twitter_security",
           "type": "number"
          },
          {
           "name": "twitter_marketing",
           "type": "number"
          },
          {
           "name": "twitter_bad_news",
           "type": "number"
          },
          {
           "name": "twitter_due_diligence",
           "type": "number"
          },
          {
           "name": "twitter_team",
           "type": "number"
          },
          {
           "name": "twitter_partnerships",
           "type": "number"
          },
          {
           "name": "twitter_pump_and_dump",
           "type": "number"
          },
          {
           "name": "twitter_sad",
           "type": "number"
          },
          {
           "name": "twitter_panicking",
           "type": "number"
          },
          {
           "name": "twitter_listing",
           "type": "number"
          },
          {
           "name": "twitter_regulation_politics",
           "type": "number"
          },
          {
           "name": "twitter_dip",
           "type": "number"
          },
          {
           "name": "twitter_launch",
           "type": "number"
          },
          {
           "name": "twitter_fomo_theme",
           "type": "number"
          },
          {
           "name": "twitter_advice_support",
           "type": "number"
          },
          {
           "name": "twitter_rebranding",
           "type": "number"
          },
          {
           "name": "twitter_wallet",
           "type": "number"
          },
          {
           "name": "twitter_good_news",
           "type": "number"
          },
          {
           "name": "twitter_problems_and_issues",
           "type": "number"
          },
          {
           "name": "twitter_mining",
           "type": "number"
          },
          {
           "name": "twitter_waiting",
           "type": "number"
          },
          {
           "name": "twitter_learning",
           "type": "number"
          },
          {
           "name": "twitter_scaling",
           "type": "number"
          },
          {
           "name": "twitter_fees",
           "type": "number"
          },
          {
           "name": "twitter_roadmap",
           "type": "number"
          },
          {
           "name": "twitter_recovery",
           "type": "number"
          },
          {
           "name": "twitter_technology",
           "type": "number"
          },
          {
           "name": "twitter_mistrustful",
           "type": "number"
          },
          {
           "name": "twitter_marketcap",
           "type": "number"
          },
          {
           "name": "twitter_positive",
           "type": "number"
          },
          {
           "name": "twitter_tax",
           "type": "number"
          },
          {
           "name": "twitter_long_term_investing",
           "type": "number"
          },
          {
           "name": "twitter_strategy",
           "type": "number"
          },
          {
           "name": "twitter_competition",
           "type": "number"
          },
          {
           "name": "twitter_whales",
           "type": "number"
          },
          {
           "name": "twitter_correction",
           "type": "number"
          },
          {
           "name": "twitter_stablecoin",
           "type": "number"
          },
          {
           "name": "twitter_buying",
           "type": "number"
          },
          {
           "name": "twitter_warning",
           "type": "number"
          },
          {
           "name": "twitter_annoyed_frustrated",
           "type": "number"
          },
          {
           "name": "twitter_price",
           "type": "number"
          },
          {
           "name": "twitter_use_case_applications",
           "type": "number"
          },
          {
           "name": "twitter_rumor",
           "type": "number"
          },
          {
           "name": "twitter_scam_fraud",
           "type": "number"
          },
          {
           "name": "twitter_airdrop",
           "type": "number"
          },
          {
           "name": "twitter_optimistic",
           "type": "number"
          },
          {
           "name": "twitter_negative",
           "type": "number"
          },
          {
           "name": "bitcointalk_hacks",
           "type": "number"
          },
          {
           "name": "bitcointalk_pessimistic_doubtful",
           "type": "number"
          },
          {
           "name": "bitcointalk_banks",
           "type": "number"
          },
          {
           "name": "bitcointalk_selling",
           "type": "number"
          },
          {
           "name": "bitcointalk_market_manipulation",
           "type": "number"
          },
          {
           "name": "bitcointalk_de_centralisation",
           "type": "number"
          },
          {
           "name": "bitcointalk_angry",
           "type": "number"
          },
          {
           "name": "bitcointalk_etf",
           "type": "number"
          },
          {
           "name": "bitcointalk_leverage",
           "type": "number"
          },
          {
           "name": "bitcointalk_bottom",
           "type": "number"
          },
          {
           "name": "bitcointalk_institutional_money",
           "type": "number"
          },
          {
           "name": "bitcointalk_fomo",
           "type": "number"
          },
          {
           "name": "bitcointalk_prediction",
           "type": "number"
          },
          {
           "name": "bitcointalk_adoption",
           "type": "number"
          },
          {
           "name": "bitcointalk_fearful_concerned",
           "type": "number"
          },
          {
           "name": "bitcointalk_portfolio",
           "type": "number"
          },
          {
           "name": "bitcointalk_fud_theme",
           "type": "number"
          },
          {
           "name": "bitcointalk_whitepaper",
           "type": "number"
          },
          {
           "name": "bitcointalk_announcements",
           "type": "number"
          },
          {
           "name": "bitcointalk_technical_analysis",
           "type": "number"
          },
          {
           "name": "bitcointalk_flippening",
           "type": "number"
          },
          {
           "name": "bitcointalk_community",
           "type": "number"
          },
          {
           "name": "bitcointalk_investing_trading",
           "type": "number"
          },
          {
           "name": "bitcointalk_euphoric_excited",
           "type": "number"
          },
          {
           "name": "bitcointalk_hodling",
           "type": "number"
          },
          {
           "name": "bitcointalk_ico",
           "type": "number"
          },
          {
           "name": "bitcointalk_bearish",
           "type": "number"
          },
          {
           "name": "bitcointalk_going_short",
           "type": "number"
          },
          {
           "name": "bitcointalk_uncertain",
           "type": "number"
          },
          {
           "name": "bitcointalk_volume",
           "type": "number"
          },
          {
           "name": "bitcointalk_risk",
           "type": "number"
          },
          {
           "name": "bitcointalk_governance",
           "type": "number"
          },
          {
           "name": "bitcointalk_ban",
           "type": "number"
          },
          {
           "name": "bitcointalk_cheap",
           "type": "number"
          },
          {
           "name": "bitcointalk_short_term_trading",
           "type": "number"
          },
          {
           "name": "bitcointalk_fork",
           "type": "number"
          },
          {
           "name": "bitcointalk_progress",
           "type": "number"
          },
          {
           "name": "bitcointalk_shilling",
           "type": "number"
          },
          {
           "name": "bitcointalk_bullish",
           "type": "number"
          },
          {
           "name": "bitcointalk_happy",
           "type": "number"
          },
          {
           "name": "bitcointalk_bubble",
           "type": "number"
          },
          {
           "name": "bitcointalk_bots",
           "type": "number"
          },
          {
           "name": "bitcointalk_hopeful",
           "type": "number"
          },
          {
           "name": "bitcointalk_bug",
           "type": "number"
          },
          {
           "name": "bitcointalk_open_source",
           "type": "number"
          },
          {
           "name": "bitcointalk_token_economics",
           "type": "number"
          },
          {
           "name": "bitcointalk_security",
           "type": "number"
          },
          {
           "name": "bitcointalk_marketing",
           "type": "number"
          },
          {
           "name": "bitcointalk_bad_news",
           "type": "number"
          },
          {
           "name": "bitcointalk_due_diligence",
           "type": "number"
          },
          {
           "name": "bitcointalk_team",
           "type": "number"
          },
          {
           "name": "bitcointalk_partnerships",
           "type": "number"
          },
          {
           "name": "bitcointalk_pump_and_dump",
           "type": "number"
          },
          {
           "name": "bitcointalk_sad",
           "type": "number"
          },
          {
           "name": "bitcointalk_panicking",
           "type": "number"
          },
          {
           "name": "bitcointalk_listing",
           "type": "number"
          },
          {
           "name": "bitcointalk_regulation_politics",
           "type": "number"
          },
          {
           "name": "bitcointalk_dip",
           "type": "number"
          },
          {
           "name": "bitcointalk_launch",
           "type": "number"
          },
          {
           "name": "bitcointalk_fomo_theme",
           "type": "number"
          },
          {
           "name": "bitcointalk_advice_support",
           "type": "number"
          },
          {
           "name": "bitcointalk_rebranding",
           "type": "number"
          },
          {
           "name": "bitcointalk_wallet",
           "type": "number"
          },
          {
           "name": "bitcointalk_good_news",
           "type": "number"
          },
          {
           "name": "bitcointalk_problems_and_issues",
           "type": "number"
          },
          {
           "name": "bitcointalk_mining",
           "type": "number"
          },
          {
           "name": "bitcointalk_waiting",
           "type": "number"
          },
          {
           "name": "bitcointalk_learning",
           "type": "number"
          },
          {
           "name": "bitcointalk_scaling",
           "type": "number"
          },
          {
           "name": "bitcointalk_fees",
           "type": "number"
          },
          {
           "name": "bitcointalk_roadmap",
           "type": "number"
          },
          {
           "name": "bitcointalk_recovery",
           "type": "number"
          },
          {
           "name": "bitcointalk_technology",
           "type": "number"
          },
          {
           "name": "bitcointalk_mistrustful",
           "type": "number"
          },
          {
           "name": "bitcointalk_marketcap",
           "type": "number"
          },
          {
           "name": "bitcointalk_positive",
           "type": "number"
          },
          {
           "name": "bitcointalk_tax",
           "type": "number"
          },
          {
           "name": "bitcointalk_long_term_investing",
           "type": "number"
          },
          {
           "name": "bitcointalk_strategy",
           "type": "number"
          },
          {
           "name": "bitcointalk_competition",
           "type": "number"
          },
          {
           "name": "bitcointalk_whales",
           "type": "number"
          },
          {
           "name": "bitcointalk_correction",
           "type": "number"
          },
          {
           "name": "bitcointalk_stablecoin",
           "type": "number"
          },
          {
           "name": "bitcointalk_buying",
           "type": "number"
          },
          {
           "name": "bitcointalk_warning",
           "type": "number"
          },
          {
           "name": "bitcointalk_annoyed_frustrated",
           "type": "number"
          },
          {
           "name": "bitcointalk_price",
           "type": "number"
          },
          {
           "name": "bitcointalk_use_case_applications",
           "type": "number"
          },
          {
           "name": "bitcointalk_rumor",
           "type": "number"
          },
          {
           "name": "bitcointalk_scam_fraud",
           "type": "number"
          },
          {
           "name": "bitcointalk_airdrop",
           "type": "number"
          },
          {
           "name": "bitcointalk_optimistic",
           "type": "number"
          },
          {
           "name": "bitcointalk_negative",
           "type": "number"
          },
          {
           "name": "reddit_hacks",
           "type": "number"
          },
          {
           "name": "reddit_pessimistic_doubtful",
           "type": "number"
          },
          {
           "name": "reddit_banks",
           "type": "number"
          },
          {
           "name": "reddit_selling",
           "type": "number"
          },
          {
           "name": "reddit_market_manipulation",
           "type": "number"
          },
          {
           "name": "reddit_de_centralisation",
           "type": "number"
          },
          {
           "name": "reddit_angry",
           "type": "number"
          },
          {
           "name": "reddit_etf",
           "type": "number"
          },
          {
           "name": "reddit_leverage",
           "type": "number"
          },
          {
           "name": "reddit_bottom",
           "type": "number"
          },
          {
           "name": "reddit_institutional_money",
           "type": "number"
          },
          {
           "name": "reddit_fomo",
           "type": "number"
          },
          {
           "name": "reddit_prediction",
           "type": "number"
          },
          {
           "name": "reddit_adoption",
           "type": "number"
          },
          {
           "name": "reddit_fearful_concerned",
           "type": "number"
          },
          {
           "name": "reddit_portfolio",
           "type": "number"
          },
          {
           "name": "reddit_fud_theme",
           "type": "number"
          },
          {
           "name": "reddit_whitepaper",
           "type": "number"
          },
          {
           "name": "reddit_announcements",
           "type": "number"
          },
          {
           "name": "reddit_technical_analysis",
           "type": "number"
          },
          {
           "name": "reddit_flippening",
           "type": "number"
          },
          {
           "name": "reddit_community",
           "type": "number"
          },
          {
           "name": "reddit_investing_trading",
           "type": "number"
          },
          {
           "name": "reddit_euphoric_excited",
           "type": "number"
          },
          {
           "name": "reddit_hodling",
           "type": "number"
          },
          {
           "name": "reddit_ico",
           "type": "number"
          },
          {
           "name": "reddit_bearish",
           "type": "number"
          },
          {
           "name": "reddit_going_short",
           "type": "number"
          },
          {
           "name": "reddit_uncertain",
           "type": "number"
          },
          {
           "name": "reddit_volume",
           "type": "number"
          },
          {
           "name": "reddit_risk",
           "type": "number"
          },
          {
           "name": "reddit_governance",
           "type": "number"
          },
          {
           "name": "reddit_ban",
           "type": "number"
          },
          {
           "name": "reddit_cheap",
           "type": "number"
          },
          {
           "name": "reddit_short_term_trading",
           "type": "number"
          },
          {
           "name": "reddit_fork",
           "type": "number"
          },
          {
           "name": "reddit_progress",
           "type": "number"
          },
          {
           "name": "reddit_shilling",
           "type": "number"
          },
          {
           "name": "reddit_bullish",
           "type": "number"
          },
          {
           "name": "reddit_happy",
           "type": "number"
          },
          {
           "name": "reddit_bubble",
           "type": "number"
          },
          {
           "name": "reddit_bots",
           "type": "number"
          },
          {
           "name": "reddit_hopeful",
           "type": "number"
          },
          {
           "name": "reddit_bug",
           "type": "number"
          },
          {
           "name": "reddit_open_source",
           "type": "number"
          },
          {
           "name": "reddit_token_economics",
           "type": "number"
          },
          {
           "name": "reddit_security",
           "type": "number"
          },
          {
           "name": "reddit_marketing",
           "type": "number"
          },
          {
           "name": "reddit_bad_news",
           "type": "number"
          },
          {
           "name": "reddit_due_diligence",
           "type": "number"
          },
          {
           "name": "reddit_team",
           "type": "number"
          },
          {
           "name": "reddit_partnerships",
           "type": "number"
          },
          {
           "name": "reddit_pump_and_dump",
           "type": "number"
          },
          {
           "name": "reddit_sad",
           "type": "number"
          },
          {
           "name": "reddit_panicking",
           "type": "number"
          },
          {
           "name": "reddit_listing",
           "type": "number"
          },
          {
           "name": "reddit_regulation_politics",
           "type": "number"
          },
          {
           "name": "reddit_dip",
           "type": "number"
          },
          {
           "name": "reddit_launch",
           "type": "number"
          },
          {
           "name": "reddit_fomo_theme",
           "type": "number"
          },
          {
           "name": "reddit_advice_support",
           "type": "number"
          },
          {
           "name": "reddit_rebranding",
           "type": "number"
          },
          {
           "name": "reddit_wallet",
           "type": "number"
          },
          {
           "name": "reddit_good_news",
           "type": "number"
          },
          {
           "name": "reddit_problems_and_issues",
           "type": "number"
          },
          {
           "name": "reddit_mining",
           "type": "number"
          },
          {
           "name": "reddit_waiting",
           "type": "number"
          },
          {
           "name": "reddit_learning",
           "type": "number"
          },
          {
           "name": "reddit_scaling",
           "type": "number"
          },
          {
           "name": "reddit_fees",
           "type": "number"
          },
          {
           "name": "reddit_roadmap",
           "type": "number"
          },
          {
           "name": "reddit_recovery",
           "type": "number"
          },
          {
           "name": "reddit_technology",
           "type": "number"
          },
          {
           "name": "reddit_mistrustful",
           "type": "number"
          },
          {
           "name": "reddit_marketcap",
           "type": "number"
          },
          {
           "name": "reddit_positive",
           "type": "number"
          },
          {
           "name": "reddit_tax",
           "type": "number"
          },
          {
           "name": "reddit_long_term_investing",
           "type": "number"
          },
          {
           "name": "reddit_strategy",
           "type": "number"
          },
          {
           "name": "reddit_competition",
           "type": "number"
          },
          {
           "name": "reddit_whales",
           "type": "number"
          },
          {
           "name": "reddit_correction",
           "type": "number"
          },
          {
           "name": "reddit_stablecoin",
           "type": "number"
          },
          {
           "name": "reddit_buying",
           "type": "number"
          },
          {
           "name": "reddit_warning",
           "type": "number"
          },
          {
           "name": "reddit_annoyed_frustrated",
           "type": "number"
          },
          {
           "name": "reddit_price",
           "type": "number"
          },
          {
           "name": "reddit_use_case_applications",
           "type": "number"
          },
          {
           "name": "reddit_rumor",
           "type": "number"
          },
          {
           "name": "reddit_scam_fraud",
           "type": "number"
          },
          {
           "name": "reddit_airdrop",
           "type": "number"
          },
          {
           "name": "reddit_optimistic",
           "type": "number"
          },
          {
           "name": "reddit_negative",
           "type": "number"
          }
         ],
         "primaryKey": [
          "index"
         ],
         "pandas_version": "1.4.0"
        },
        "data": {
         "index": [
          0,
          1,
          2,
          3,
          4
         ],
         "date": [
          "2016-11-01 23:00:00",
          "2016-11-02 00:00:00",
          "2016-11-02 01:00:00",
          "2016-11-02 02:00:00",
          "2016-11-02 03:00:00"
         ],
         "listing_close": [
          2.8612953935,
          2.8585131363,
          2.8588318404,
          2.858332634,
          2.8602721086
         ],
         "twitter_hacks": [
          0,
          0,
          0,
          0,
          0
         ],
         "twitter_pessimistic_doubtful": [
          0,
          0,
          0,
          2,
          0
         ],
         "twitter_banks": [
          0,
          1,
          0,
          0,
          0
         ],
         "twitter_selling": [
          1,
          0,
          1,
          0,
          0
         ],
         "twitter_market_manipulation": [
          0,
          1,
          0,
          0,
          0
         ],
         "twitter_de_centralisation": [
          0,
          0,
          0,
          0,
          0
         ],
         "twitter_angry": [
          0,
          0,
          0,
          0,
          0
         ],
         "twitter_etf": [
          0,
          0,
          0,
          0,
          2
         ],
         "twitter_leverage": [
          0,
          0,
          0,
          0,
          0
         ],
         "twitter_bottom": [
          0,
          0,
          0,
          0,
          0
         ],
         "twitter_institutional_money": [
          0,
          0,
          0,
          0,
          0
         ],
         "twitter_fomo": [
          0,
          0,
          0,
          0,
          0
         ],
         "twitter_prediction": [
          1,
          0,
          2,
          3,
          1
         ],
         "twitter_adoption": [
          4,
          3,
          3,
          3,
          7
         ],
         "twitter_fearful_concerned": [
          0,
          1,
          1,
          0,
          0
         ],
         "twitter_portfolio": [
          0,
          0,
          0,
          0,
          0
         ],
         "twitter_fud_theme": [
          0,
          0,
          0,
          0,
          0
         ],
         "twitter_whitepaper": [
          1,
          0,
          0,
          0,
          0
         ],
         "twitter_announcements": [
          0,
          0,
          0,
          0,
          0
         ],
         "twitter_technical_analysis": [
          1,
          0,
          1,
          2,
          1
         ],
         "twitter_flippening": [
          0,
          0,
          0,
          0,
          0
         ],
         "twitter_community": [
          0,
          0,
          0,
          1,
          0
         ],
         "twitter_investing_trading": [
          3,
          1,
          3,
          5,
          6
         ],
         "twitter_euphoric_excited": [
          2,
          0,
          0,
          0,
          2
         ],
         "twitter_hodling": [
          0,
          0,
          0,
          0,
          0
         ],
         "twitter_ico": [
          0,
          1,
          0,
          0,
          2
         ],
         "twitter_bearish": [
          0,
          1,
          0,
          1,
          0
         ],
         "twitter_going_short": [
          0,
          0,
          0,
          1,
          0
         ],
         "twitter_uncertain": [
          2,
          0,
          0,
          0,
          1
         ],
         "twitter_volume": [
          0,
          0,
          1,
          0,
          0
         ],
         "twitter_risk": [
          0,
          0,
          0,
          0,
          0
         ],
         "twitter_governance": [
          0,
          0,
          0,
          0,
          0
         ],
         "twitter_ban": [
          0,
          1,
          0,
          0,
          0
         ],
         "twitter_cheap": [
          0,
          0,
          0,
          0,
          0
         ],
         "twitter_short_term_trading": [
          0,
          0,
          0,
          0,
          0
         ],
         "twitter_fork": [
          0,
          0,
          0,
          0,
          0
         ],
         "twitter_progress": [
          0,
          0,
          0,
          1,
          2
         ],
         "twitter_shilling": [
          0,
          0,
          0,
          0,
          0
         ],
         "twitter_bullish": [
          1,
          0,
          1,
          1,
          1
         ],
         "twitter_happy": [
          0,
          0,
          0,
          0,
          0
         ],
         "twitter_bubble": [
          0,
          0,
          0,
          0,
          0
         ],
         "twitter_bots": [
          0,
          0,
          0,
          0,
          0
         ],
         "twitter_hopeful": [
          0,
          0,
          0,
          0,
          0
         ],
         "twitter_bug": [
          0,
          0,
          0,
          0,
          0
         ],
         "twitter_open_source": [
          0,
          0,
          0,
          0,
          0
         ],
         "twitter_token_economics": [
          0,
          0,
          0,
          0,
          0
         ],
         "twitter_security": [
          0,
          0,
          0,
          1,
          0
         ],
         "twitter_marketing": [
          0,
          0,
          0,
          0,
          0
         ],
         "twitter_bad_news": [
          1,
          1,
          0,
          0,
          0
         ],
         "twitter_due_diligence": [
          2,
          1,
          1,
          3,
          3
         ],
         "twitter_team": [
          0,
          0,
          1,
          1,
          1
         ],
         "twitter_partnerships": [
          0,
          0,
          0,
          0,
          0
         ],
         "twitter_pump_and_dump": [
          0,
          0,
          0,
          0,
          0
         ],
         "twitter_sad": [
          0,
          0,
          0,
          0,
          0
         ],
         "twitter_panicking": [
          0,
          0,
          0,
          0,
          0
         ],
         "twitter_listing": [
          0,
          0,
          0,
          0,
          0
         ],
         "twitter_regulation_politics": [
          1,
          0,
          2,
          3,
          2
         ],
         "twitter_dip": [
          0,
          0,
          0,
          0,
          1
         ],
         "twitter_launch": [
          0,
          0,
          1,
          0,
          0
         ],
         "twitter_fomo_theme": [
          0,
          0,
          0,
          0,
          0
         ],
         "twitter_advice_support": [
          3,
          2,
          3,
          1,
          4
         ],
         "twitter_rebranding": [
          0,
          0,
          0,
          0,
          0
         ],
         "twitter_wallet": [
          0,
          0,
          0,
          0,
          2
         ],
         "twitter_good_news": [
          4,
          4,
          5,
          5,
          12
         ],
         "twitter_problems_and_issues": [
          0,
          0,
          1,
          0,
          0
         ],
         "twitter_mining": [
          0,
          1,
          0,
          0,
          2
         ],
         "twitter_waiting": [
          0,
          0,
          0,
          0,
          0
         ],
         "twitter_learning": [
          1,
          1,
          2,
          1,
          2
         ],
         "twitter_scaling": [
          0,
          0,
          0,
          1,
          0
         ],
         "twitter_fees": [
          0,
          0,
          1,
          0,
          0
         ],
         "twitter_roadmap": [
          0,
          0,
          0,
          0,
          0
         ],
         "twitter_recovery": [
          0,
          0,
          0,
          0,
          0
         ],
         "twitter_technology": [
          3,
          8,
          6,
          5,
          8
         ],
         "twitter_mistrustful": [
          0,
          0,
          0,
          0,
          0
         ],
         "twitter_marketcap": [
          0,
          0,
          0,
          0,
          0
         ],
         "twitter_positive": [
          3,
          5,
          2,
          2,
          2
         ],
         "twitter_tax": [
          0,
          0,
          0,
          0,
          0
         ],
         "twitter_long_term_investing": [
          2,
          0,
          2,
          2,
          2
         ],
         "twitter_strategy": [
          0,
          0,
          0,
          0,
          0
         ],
         "twitter_competition": [
          3,
          2,
          0,
          1,
          0
         ],
         "twitter_whales": [
          0,
          1,
          0,
          0,
          0
         ],
         "twitter_correction": [
          0,
          0,
          0,
          0,
          0
         ],
         "twitter_stablecoin": [
          0,
          0,
          0,
          0,
          0
         ],
         "twitter_buying": [
          3,
          0,
          0,
          0,
          0
         ],
         "twitter_warning": [
          1,
          0,
          0,
          0,
          0
         ],
         "twitter_annoyed_frustrated": [
          0,
          0,
          0,
          0,
          0
         ],
         "twitter_price": [
          6,
          6,
          6,
          5,
          9
         ],
         "twitter_use_case_applications": [
          1,
          1,
          1,
          2,
          8
         ],
         "twitter_rumor": [
          0,
          0,
          0,
          0,
          0
         ],
         "twitter_scam_fraud": [
          1,
          0,
          0,
          0,
          0
         ],
         "twitter_airdrop": [
          0,
          0,
          0,
          0,
          0
         ],
         "twitter_optimistic": [
          0,
          2,
          2,
          0,
          1
         ],
         "twitter_negative": [
          4,
          4,
          5,
          3,
          0
         ],
         "bitcointalk_hacks": [
          0,
          1,
          0,
          0,
          0
         ],
         "bitcointalk_pessimistic_doubtful": [
          0,
          0,
          1,
          1,
          3
         ],
         "bitcointalk_banks": [
          2,
          0,
          2,
          6,
          1
         ],
         "bitcointalk_selling": [
          0,
          1,
          1,
          1,
          1
         ],
         "bitcointalk_market_manipulation": [
          0,
          0,
          0,
          0,
          0
         ],
         "bitcointalk_de_centralisation": [
          0,
          0,
          0,
          1,
          1
         ],
         "bitcointalk_angry": [
          0,
          0,
          0,
          0,
          0
         ],
         "bitcointalk_etf": [
          0,
          0,
          0,
          0,
          0
         ],
         "bitcointalk_leverage": [
          0,
          0,
          0,
          0,
          0
         ],
         "bitcointalk_bottom": [
          0,
          0,
          0,
          1,
          1
         ],
         "bitcointalk_institutional_money": [
          0,
          0,
          0,
          0,
          0
         ],
         "bitcointalk_fomo": [
          0,
          0,
          0,
          0,
          0
         ],
         "bitcointalk_prediction": [
          7,
          3,
          4,
          6,
          3
         ],
         "bitcointalk_adoption": [
          3,
          6,
          7,
          10,
          15
         ],
         "bitcointalk_fearful_concerned": [
          1,
          0,
          0,
          0,
          2
         ],
         "bitcointalk_portfolio": [
          2,
          1,
          1,
          0,
          1
         ],
         "bitcointalk_fud_theme": [
          0,
          0,
          0,
          0,
          0
         ],
         "bitcointalk_whitepaper": [
          0,
          0,
          0,
          0,
          0
         ],
         "bitcointalk_announcements": [
          1,
          0,
          0,
          0,
          0
         ],
         "bitcointalk_technical_analysis": [
          0,
          0,
          1,
          2,
          0
         ],
         "bitcointalk_flippening": [
          0,
          0,
          0,
          0,
          0
         ],
         "bitcointalk_community": [
          1,
          1,
          1,
          1,
          1
         ],
         "bitcointalk_investing_trading": [
          14,
          10,
          4,
          11,
          19
         ],
         "bitcointalk_euphoric_excited": [
          3,
          1,
          1,
          2,
          1
         ],
         "bitcointalk_hodling": [
          1,
          0,
          0,
          0,
          0
         ],
         "bitcointalk_ico": [
          2,
          2,
          1,
          1,
          1
         ],
         "bitcointalk_bearish": [
          0,
          4,
          0,
          0,
          1
         ],
         "bitcointalk_going_short": [
          0,
          0,
          0,
          0,
          0
         ],
         "bitcointalk_uncertain": [
          2,
          1,
          1,
          2,
          2
         ],
         "bitcointalk_volume": [
          0,
          1,
          0,
          0,
          0
         ],
         "bitcointalk_risk": [
          0,
          0,
          2,
          0,
          1
         ],
         "bitcointalk_governance": [
          0,
          0,
          0,
          0,
          0
         ],
         "bitcointalk_ban": [
          0,
          0,
          0,
          2,
          2
         ],
         "bitcointalk_cheap": [
          1,
          0,
          0,
          1,
          0
         ],
         "bitcointalk_short_term_trading": [
          0,
          0,
          0,
          1,
          0
         ],
         "bitcointalk_fork": [
          0,
          0,
          0,
          0,
          0
         ],
         "bitcointalk_progress": [
          0,
          0,
          0,
          1,
          3
         ],
         "bitcointalk_shilling": [
          0,
          0,
          0,
          0,
          0
         ],
         "bitcointalk_bullish": [
          1,
          2,
          0,
          1,
          0
         ],
         "bitcointalk_happy": [
          2,
          2,
          0,
          0,
          1
         ],
         "bitcointalk_bubble": [
          2,
          0,
          0,
          0,
          0
         ],
         "bitcointalk_bots": [
          0,
          0,
          0,
          0,
          0
         ],
         "bitcointalk_hopeful": [
          3,
          3,
          0,
          1,
          1
         ],
         "bitcointalk_bug": [
          3,
          0,
          0,
          0,
          0
         ],
         "bitcointalk_open_source": [
          0,
          0,
          0,
          0,
          0
         ],
         "bitcointalk_token_economics": [
          0,
          0,
          0,
          0,
          0
         ],
         "bitcointalk_security": [
          1,
          0,
          1,
          0,
          0
         ],
         "bitcointalk_marketing": [
          1,
          0,
          1,
          0,
          0
         ],
         "bitcointalk_bad_news": [
          0,
          0,
          0,
          0,
          0
         ],
         "bitcointalk_due_diligence": [
          0,
          0,
          0,
          0,
          1
         ],
         "bitcointalk_team": [
          2,
          1,
          1,
          0,
          2
         ],
         "bitcointalk_partnerships": [
          0,
          0,
          0,
          0,
          0
         ],
         "bitcointalk_pump_and_dump": [
          0,
          0,
          0,
          0,
          0
         ],
         "bitcointalk_sad": [
          0,
          0,
          0,
          0,
          0
         ],
         "bitcointalk_panicking": [
          0,
          1,
          0,
          0,
          0
         ],
         "bitcointalk_listing": [
          0,
          1,
          0,
          0,
          0
         ],
         "bitcointalk_regulation_politics": [
          2,
          1,
          1,
          5,
          8
         ],
         "bitcointalk_dip": [
          0,
          0,
          0,
          1,
          0
         ],
         "bitcointalk_launch": [
          1,
          0,
          0,
          0,
          1
         ],
         "bitcointalk_fomo_theme": [
          0,
          0,
          0,
          0,
          0
         ],
         "bitcointalk_advice_support": [
          19,
          14,
          9,
          22,
          20
         ],
         "bitcointalk_rebranding": [
          0,
          0,
          0,
          0,
          0
         ],
         "bitcointalk_wallet": [
          4,
          2,
          2,
          4,
          4
         ],
         "bitcointalk_good_news": [
          2,
          1,
          0,
          6,
          6
         ],
         "bitcointalk_problems_and_issues": [
          5,
          3,
          1,
          3,
          5
         ],
         "bitcointalk_mining": [
          0,
          1,
          0,
          1,
          4
         ],
         "bitcointalk_waiting": [
          2,
          1,
          0,
          2,
          0
         ],
         "bitcointalk_learning": [
          1,
          1,
          2,
          1,
          4
         ],
         "bitcointalk_scaling": [
          0,
          0,
          1,
          0,
          0
         ],
         "bitcointalk_fees": [
          2,
          1,
          0,
          2,
          0
         ],
         "bitcointalk_roadmap": [
          0,
          0,
          0,
          0,
          0
         ],
         "bitcointalk_recovery": [
          1,
          0,
          0,
          0,
          0
         ],
         "bitcointalk_technology": [
          9,
          5,
          1,
          6,
          9
         ],
         "bitcointalk_mistrustful": [
          1,
          0,
          0,
          0,
          0
         ],
         "bitcointalk_marketcap": [
          0,
          1,
          0,
          0,
          0
         ],
         "bitcointalk_positive": [
          17,
          9,
          7,
          14,
          11
         ],
         "bitcointalk_tax": [
          0,
          0,
          0,
          2,
          2
         ],
         "bitcointalk_long_term_investing": [
          1,
          3,
          1,
          0,
          3
         ],
         "bitcointalk_strategy": [
          1,
          0,
          1,
          0,
          1
         ],
         "bitcointalk_competition": [
          3,
          2,
          3,
          2,
          2
         ],
         "bitcointalk_whales": [
          1,
          1,
          0,
          0,
          0
         ],
         "bitcointalk_correction": [
          0,
          0,
          0,
          0,
          0
         ],
         "bitcointalk_stablecoin": [
          0,
          0,
          0,
          0,
          0
         ],
         "bitcointalk_buying": [
          2,
          2,
          2,
          1,
          3
         ],
         "bitcointalk_warning": [
          1,
          1,
          0,
          1,
          0
         ],
         "bitcointalk_annoyed_frustrated": [
          0,
          0,
          0,
          0,
          0
         ],
         "bitcointalk_price": [
          12,
          10,
          7,
          6,
          11
         ],
         "bitcointalk_use_case_applications": [
          4,
          8,
          4,
          11,
          8
         ],
         "bitcointalk_rumor": [
          0,
          0,
          0,
          0,
          0
         ],
         "bitcointalk_scam_fraud": [
          0,
          1,
          1,
          1,
          0
         ],
         "bitcointalk_airdrop": [
          0,
          0,
          0,
          0,
          0
         ],
         "bitcointalk_optimistic": [
          5,
          5,
          4,
          7,
          8
         ],
         "bitcointalk_negative": [
          16,
          16,
          8,
          15,
          23
         ],
         "reddit_hacks": [
          0,
          1,
          0,
          0,
          0
         ],
         "reddit_pessimistic_doubtful": [
          1,
          0,
          0,
          0,
          1
         ],
         "reddit_banks": [
          0,
          0,
          1,
          0,
          2
         ],
         "reddit_selling": [
          0,
          0,
          1,
          0,
          0
         ],
         "reddit_market_manipulation": [
          0,
          0,
          0,
          0,
          0
         ],
         "reddit_de_centralisation": [
          1,
          0,
          0,
          0,
          3
         ],
         "reddit_angry": [
          0,
          0,
          0,
          0,
          0
         ],
         "reddit_etf": [
          0,
          0,
          0,
          0,
          2
         ],
         "reddit_leverage": [
          1,
          0,
          0,
          0,
          0
         ],
         "reddit_bottom": [
          0,
          0,
          1,
          0,
          0
         ],
         "reddit_institutional_money": [
          0,
          0,
          0,
          0,
          0
         ],
         "reddit_fomo": [
          0,
          0,
          1,
          0,
          0
         ],
         "reddit_prediction": [
          3,
          2,
          4,
          1,
          0
         ],
         "reddit_adoption": [
          2,
          1,
          2,
          1,
          9
         ],
         "reddit_fearful_concerned": [
          1,
          0,
          2,
          0,
          4
         ],
         "reddit_portfolio": [
          0,
          0,
          0,
          0,
          0
         ],
         "reddit_fud_theme": [
          0,
          0,
          0,
          0,
          0
         ],
         "reddit_whitepaper": [
          0,
          0,
          0,
          0,
          0
         ],
         "reddit_announcements": [
          0,
          0,
          0,
          0,
          0
         ],
         "reddit_technical_analysis": [
          0,
          0,
          1,
          2,
          0
         ],
         "reddit_flippening": [
          0,
          0,
          0,
          0,
          0
         ],
         "reddit_community": [
          0,
          0,
          2,
          1,
          3
         ],
         "reddit_investing_trading": [
          4,
          0,
          6,
          2,
          3
         ],
         "reddit_euphoric_excited": [
          0,
          0,
          4,
          0,
          1
         ],
         "reddit_hodling": [
          1,
          0,
          0,
          0,
          1
         ],
         "reddit_ico": [
          0,
          0,
          0,
          0,
          0
         ],
         "reddit_bearish": [
          0,
          0,
          0,
          0,
          0
         ],
         "reddit_going_short": [
          0,
          0,
          0,
          0,
          0
         ],
         "reddit_uncertain": [
          1,
          0,
          2,
          1,
          2
         ],
         "reddit_volume": [
          0,
          0,
          1,
          0,
          1
         ],
         "reddit_risk": [
          0,
          1,
          0,
          0,
          2
         ],
         "reddit_governance": [
          0,
          0,
          0,
          0,
          0
         ],
         "reddit_ban": [
          0,
          0,
          1,
          0,
          2
         ],
         "reddit_cheap": [
          1,
          0,
          1,
          0,
          0
         ],
         "reddit_short_term_trading": [
          0,
          0,
          0,
          0,
          0
         ],
         "reddit_fork": [
          3,
          2,
          2,
          0,
          2
         ],
         "reddit_progress": [
          1,
          2,
          2,
          1,
          0
         ],
         "reddit_shilling": [
          0,
          0,
          0,
          0,
          0
         ],
         "reddit_bullish": [
          1,
          0,
          2,
          1,
          0
         ],
         "reddit_happy": [
          0,
          0,
          1,
          0,
          1
         ],
         "reddit_bubble": [
          0,
          0,
          0,
          0,
          0
         ],
         "reddit_bots": [
          0,
          0,
          0,
          1,
          0
         ],
         "reddit_hopeful": [
          0,
          0,
          0,
          1,
          0
         ],
         "reddit_bug": [
          0,
          0,
          0,
          0,
          0
         ],
         "reddit_open_source": [
          1,
          0,
          0,
          0,
          0
         ],
         "reddit_token_economics": [
          0,
          0,
          0,
          0,
          0
         ],
         "reddit_security": [
          0,
          1,
          1,
          0,
          0
         ],
         "reddit_marketing": [
          0,
          0,
          0,
          0,
          0
         ],
         "reddit_bad_news": [
          1,
          0,
          3,
          0,
          3
         ],
         "reddit_due_diligence": [
          0,
          0,
          0,
          0,
          1
         ],
         "reddit_team": [
          0,
          1,
          1,
          0,
          2
         ],
         "reddit_partnerships": [
          0,
          0,
          0,
          0,
          0
         ],
         "reddit_pump_and_dump": [
          0,
          0,
          0,
          0,
          0
         ],
         "reddit_sad": [
          0,
          0,
          0,
          0,
          0
         ],
         "reddit_panicking": [
          0,
          0,
          0,
          0,
          0
         ],
         "reddit_listing": [
          0,
          0,
          0,
          0,
          0
         ],
         "reddit_regulation_politics": [
          1,
          1,
          3,
          2,
          5
         ],
         "reddit_dip": [
          0,
          0,
          0,
          0,
          0
         ],
         "reddit_launch": [
          0,
          0,
          0,
          0,
          0
         ],
         "reddit_fomo_theme": [
          0,
          0,
          0,
          0,
          0
         ],
         "reddit_advice_support": [
          7,
          4,
          11,
          3,
          10
         ],
         "reddit_rebranding": [
          0,
          0,
          0,
          0,
          0
         ],
         "reddit_wallet": [
          1,
          2,
          1,
          1,
          1
         ],
         "reddit_good_news": [
          2,
          5,
          2,
          1,
          3
         ],
         "reddit_problems_and_issues": [
          2,
          2,
          2,
          1,
          3
         ],
         "reddit_mining": [
          0,
          1,
          2,
          0,
          4
         ],
         "reddit_waiting": [
          0,
          0,
          0,
          0,
          0
         ],
         "reddit_learning": [
          0,
          0,
          0,
          0,
          1
         ],
         "reddit_scaling": [
          0,
          2,
          0,
          0,
          0
         ],
         "reddit_fees": [
          0,
          0,
          0,
          0,
          2
         ],
         "reddit_roadmap": [
          0,
          0,
          0,
          0,
          0
         ],
         "reddit_recovery": [
          0,
          0,
          0,
          0,
          0
         ],
         "reddit_technology": [
          4,
          5,
          9,
          1,
          10
         ],
         "reddit_mistrustful": [
          0,
          0,
          0,
          0,
          0
         ],
         "reddit_marketcap": [
          1,
          0,
          0,
          0,
          0
         ],
         "reddit_positive": [
          2,
          4,
          6,
          3,
          4
         ],
         "reddit_tax": [
          0,
          0,
          0,
          0,
          1
         ],
         "reddit_long_term_investing": [
          0,
          1,
          2,
          0,
          1
         ],
         "reddit_strategy": [
          0,
          0,
          0,
          0,
          1
         ],
         "reddit_competition": [
          1,
          0,
          4,
          0,
          1
         ],
         "reddit_whales": [
          0,
          0,
          0,
          0,
          0
         ],
         "reddit_correction": [
          0,
          0,
          0,
          0,
          0
         ],
         "reddit_stablecoin": [
          0,
          0,
          0,
          0,
          0
         ],
         "reddit_buying": [
          1,
          0,
          1,
          1,
          1
         ],
         "reddit_warning": [
          0,
          0,
          0,
          0,
          0
         ],
         "reddit_annoyed_frustrated": [
          0,
          0,
          0,
          0,
          0
         ],
         "reddit_price": [
          2,
          5,
          4,
          1,
          2
         ],
         "reddit_use_case_applications": [
          1,
          1,
          0,
          1,
          5
         ],
         "reddit_rumor": [
          0,
          0,
          0,
          0,
          0
         ],
         "reddit_scam_fraud": [
          0,
          0,
          2,
          0,
          1
         ],
         "reddit_airdrop": [
          0,
          0,
          0,
          0,
          0
         ],
         "reddit_optimistic": [
          2,
          3,
          3,
          0,
          2
         ],
         "reddit_negative": [
          6,
          3,
          12,
          4,
          11
         ]
        }
       },
       "total_rows": 5,
       "truncation_type": null
      },
      "text/plain": "                  date  listing_close  ...  reddit_optimistic  reddit_negative\n0  2016-11-01 23:00:00       2.861295  ...                2.0              6.0\n1  2016-11-02 00:00:00       2.858513  ...                3.0              3.0\n2  2016-11-02 01:00:00       2.858832  ...                3.0             12.0\n3  2016-11-02 02:00:00       2.858333  ...                0.0              4.0\n4  2016-11-02 03:00:00       2.860272  ...                2.0             11.0\n\n[5 rows x 281 columns]",
      "text/html": "<div>\n<style scoped>\n    .dataframe tbody tr th:only-of-type {\n        vertical-align: middle;\n    }\n\n    .dataframe tbody tr th {\n        vertical-align: top;\n    }\n\n    .dataframe thead th {\n        text-align: right;\n    }\n</style>\n<table border=\"1\" class=\"dataframe\">\n  <thead>\n    <tr style=\"text-align: right;\">\n      <th></th>\n      <th>date</th>\n      <th>listing_close</th>\n      <th>twitter_hacks</th>\n      <th>twitter_pessimistic_doubtful</th>\n      <th>twitter_banks</th>\n      <th>twitter_selling</th>\n      <th>twitter_market_manipulation</th>\n      <th>twitter_de_centralisation</th>\n      <th>twitter_angry</th>\n      <th>twitter_etf</th>\n      <th>twitter_leverage</th>\n      <th>twitter_bottom</th>\n      <th>twitter_institutional_money</th>\n      <th>twitter_fomo</th>\n      <th>twitter_prediction</th>\n      <th>twitter_adoption</th>\n      <th>twitter_fearful_concerned</th>\n      <th>twitter_portfolio</th>\n      <th>twitter_fud_theme</th>\n      <th>twitter_whitepaper</th>\n      <th>twitter_announcements</th>\n      <th>twitter_technical_analysis</th>\n      <th>twitter_flippening</th>\n      <th>twitter_community</th>\n      <th>twitter_investing_trading</th>\n      <th>twitter_euphoric_excited</th>\n      <th>twitter_hodling</th>\n      <th>twitter_ico</th>\n      <th>twitter_bearish</th>\n      <th>twitter_going_short</th>\n      <th>twitter_uncertain</th>\n      <th>twitter_volume</th>\n      <th>twitter_risk</th>\n      <th>twitter_governance</th>\n      <th>twitter_ban</th>\n      <th>twitter_cheap</th>\n      <th>twitter_short_term_trading</th>\n      <th>twitter_fork</th>\n      <th>twitter_progress</th>\n      <th>twitter_shilling</th>\n      <th>...</th>\n      <th>reddit_sad</th>\n      <th>reddit_panicking</th>\n      <th>reddit_listing</th>\n      <th>reddit_regulation_politics</th>\n      <th>reddit_dip</th>\n      <th>reddit_launch</th>\n      <th>reddit_fomo_theme</th>\n      <th>reddit_advice_support</th>\n      <th>reddit_rebranding</th>\n      <th>reddit_wallet</th>\n      <th>reddit_good_news</th>\n      <th>reddit_problems_and_issues</th>\n      <th>reddit_mining</th>\n      <th>reddit_waiting</th>\n      <th>reddit_learning</th>\n      <th>reddit_scaling</th>\n      <th>reddit_fees</th>\n      <th>reddit_roadmap</th>\n      <th>reddit_recovery</th>\n      <th>reddit_technology</th>\n      <th>reddit_mistrustful</th>\n      <th>reddit_marketcap</th>\n      <th>reddit_positive</th>\n      <th>reddit_tax</th>\n      <th>reddit_long_term_investing</th>\n      <th>reddit_strategy</th>\n      <th>reddit_competition</th>\n      <th>reddit_whales</th>\n      <th>reddit_correction</th>\n      <th>reddit_stablecoin</th>\n      <th>reddit_buying</th>\n      <th>reddit_warning</th>\n      <th>reddit_annoyed_frustrated</th>\n      <th>reddit_price</th>\n      <th>reddit_use_case_applications</th>\n      <th>reddit_rumor</th>\n      <th>reddit_scam_fraud</th>\n      <th>reddit_airdrop</th>\n      <th>reddit_optimistic</th>\n      <th>reddit_negative</th>\n    </tr>\n  </thead>\n  <tbody>\n    <tr>\n      <th>0</th>\n      <td>2016-11-01 23:00:00</td>\n      <td>2.861295</td>\n      <td>0.0</td>\n      <td>0.0</td>\n      <td>0.0</td>\n      <td>1.0</td>\n      <td>0.0</td>\n      <td>0.0</td>\n      <td>0.0</td>\n      <td>0.0</td>\n      <td>0.0</td>\n      <td>0.0</td>\n      <td>0.0</td>\n      <td>0.0</td>\n      <td>1.0</td>\n      <td>4.0</td>\n      <td>0.0</td>\n      <td>0.0</td>\n      <td>0.0</td>\n      <td>1.0</td>\n      <td>0.0</td>\n      <td>1.0</td>\n      <td>0.0</td>\n      <td>0.0</td>\n      <td>3.0</td>\n      <td>2.0</td>\n      <td>0.0</td>\n      <td>0.0</td>\n      <td>0.0</td>\n      <td>0.0</td>\n      <td>2.0</td>\n      <td>0.0</td>\n      <td>0.0</td>\n      <td>0.0</td>\n      <td>0.0</td>\n      <td>0.0</td>\n      <td>0.0</td>\n      <td>0.0</td>\n      <td>0.0</td>\n      <td>0.0</td>\n      <td>...</td>\n      <td>0.0</td>\n      <td>0.0</td>\n      <td>0.0</td>\n      <td>1.0</td>\n      <td>0.0</td>\n      <td>0.0</td>\n      <td>0.0</td>\n      <td>7.0</td>\n      <td>0.0</td>\n      <td>1.0</td>\n      <td>2.0</td>\n      <td>2.0</td>\n      <td>0.0</td>\n      <td>0.0</td>\n      <td>0.0</td>\n      <td>0.0</td>\n      <td>0.0</td>\n      <td>0.0</td>\n      <td>0.0</td>\n      <td>4.0</td>\n      <td>0.0</td>\n      <td>1.0</td>\n      <td>2.0</td>\n      <td>0.0</td>\n      <td>0.0</td>\n      <td>0.0</td>\n      <td>1.0</td>\n      <td>0.0</td>\n      <td>0.0</td>\n      <td>0.0</td>\n      <td>1.0</td>\n      <td>0.0</td>\n      <td>0.0</td>\n      <td>2.0</td>\n      <td>1.0</td>\n      <td>0.0</td>\n      <td>0.0</td>\n      <td>0.0</td>\n      <td>2.0</td>\n      <td>6.0</td>\n    </tr>\n    <tr>\n      <th>1</th>\n      <td>2016-11-02 00:00:00</td>\n      <td>2.858513</td>\n      <td>0.0</td>\n      <td>0.0</td>\n      <td>1.0</td>\n      <td>0.0</td>\n      <td>1.0</td>\n      <td>0.0</td>\n      <td>0.0</td>\n      <td>0.0</td>\n      <td>0.0</td>\n      <td>0.0</td>\n      <td>0.0</td>\n      <td>0.0</td>\n      <td>0.0</td>\n      <td>3.0</td>\n      <td>1.0</td>\n      <td>0.0</td>\n      <td>0.0</td>\n      <td>0.0</td>\n      <td>0.0</td>\n      <td>0.0</td>\n      <td>0.0</td>\n      <td>0.0</td>\n      <td>1.0</td>\n      <td>0.0</td>\n      <td>0.0</td>\n      <td>1.0</td>\n      <td>1.0</td>\n      <td>0.0</td>\n      <td>0.0</td>\n      <td>0.0</td>\n      <td>0.0</td>\n      <td>0.0</td>\n      <td>1.0</td>\n      <td>0.0</td>\n      <td>0.0</td>\n      <td>0.0</td>\n      <td>0.0</td>\n      <td>0.0</td>\n      <td>...</td>\n      <td>0.0</td>\n      <td>0.0</td>\n      <td>0.0</td>\n      <td>1.0</td>\n      <td>0.0</td>\n      <td>0.0</td>\n      <td>0.0</td>\n      <td>4.0</td>\n      <td>0.0</td>\n      <td>2.0</td>\n      <td>5.0</td>\n      <td>2.0</td>\n      <td>1.0</td>\n      <td>0.0</td>\n      <td>0.0</td>\n      <td>2.0</td>\n      <td>0.0</td>\n      <td>0.0</td>\n      <td>0.0</td>\n      <td>5.0</td>\n      <td>0.0</td>\n      <td>0.0</td>\n      <td>4.0</td>\n      <td>0.0</td>\n      <td>1.0</td>\n      <td>0.0</td>\n      <td>0.0</td>\n      <td>0.0</td>\n      <td>0.0</td>\n      <td>0.0</td>\n      <td>0.0</td>\n      <td>0.0</td>\n      <td>0.0</td>\n      <td>5.0</td>\n      <td>1.0</td>\n      <td>0.0</td>\n      <td>0.0</td>\n      <td>0.0</td>\n      <td>3.0</td>\n      <td>3.0</td>\n    </tr>\n    <tr>\n      <th>2</th>\n      <td>2016-11-02 01:00:00</td>\n      <td>2.858832</td>\n      <td>0.0</td>\n      <td>0.0</td>\n      <td>0.0</td>\n      <td>1.0</td>\n      <td>0.0</td>\n      <td>0.0</td>\n      <td>0.0</td>\n      <td>0.0</td>\n      <td>0.0</td>\n      <td>0.0</td>\n      <td>0.0</td>\n      <td>0.0</td>\n      <td>2.0</td>\n      <td>3.0</td>\n      <td>1.0</td>\n      <td>0.0</td>\n      <td>0.0</td>\n      <td>0.0</td>\n      <td>0.0</td>\n      <td>1.0</td>\n      <td>0.0</td>\n      <td>0.0</td>\n      <td>3.0</td>\n      <td>0.0</td>\n      <td>0.0</td>\n      <td>0.0</td>\n      <td>0.0</td>\n      <td>0.0</td>\n      <td>0.0</td>\n      <td>1.0</td>\n      <td>0.0</td>\n      <td>0.0</td>\n      <td>0.0</td>\n      <td>0.0</td>\n      <td>0.0</td>\n      <td>0.0</td>\n      <td>0.0</td>\n      <td>0.0</td>\n      <td>...</td>\n      <td>0.0</td>\n      <td>0.0</td>\n      <td>0.0</td>\n      <td>3.0</td>\n      <td>0.0</td>\n      <td>0.0</td>\n      <td>0.0</td>\n      <td>11.0</td>\n      <td>0.0</td>\n      <td>1.0</td>\n      <td>2.0</td>\n      <td>2.0</td>\n      <td>2.0</td>\n      <td>0.0</td>\n      <td>0.0</td>\n      <td>0.0</td>\n      <td>0.0</td>\n      <td>0.0</td>\n      <td>0.0</td>\n      <td>9.0</td>\n      <td>0.0</td>\n      <td>0.0</td>\n      <td>6.0</td>\n      <td>0.0</td>\n      <td>2.0</td>\n      <td>0.0</td>\n      <td>4.0</td>\n      <td>0.0</td>\n      <td>0.0</td>\n      <td>0.0</td>\n      <td>1.0</td>\n      <td>0.0</td>\n      <td>0.0</td>\n      <td>4.0</td>\n      <td>0.0</td>\n      <td>0.0</td>\n      <td>2.0</td>\n      <td>0.0</td>\n      <td>3.0</td>\n      <td>12.0</td>\n    </tr>\n    <tr>\n      <th>3</th>\n      <td>2016-11-02 02:00:00</td>\n      <td>2.858333</td>\n      <td>0.0</td>\n      <td>2.0</td>\n      <td>0.0</td>\n      <td>0.0</td>\n      <td>0.0</td>\n      <td>0.0</td>\n      <td>0.0</td>\n      <td>0.0</td>\n      <td>0.0</td>\n      <td>0.0</td>\n      <td>0.0</td>\n      <td>0.0</td>\n      <td>3.0</td>\n      <td>3.0</td>\n      <td>0.0</td>\n      <td>0.0</td>\n      <td>0.0</td>\n      <td>0.0</td>\n      <td>0.0</td>\n      <td>2.0</td>\n      <td>0.0</td>\n      <td>1.0</td>\n      <td>5.0</td>\n      <td>0.0</td>\n      <td>0.0</td>\n      <td>0.0</td>\n      <td>1.0</td>\n      <td>1.0</td>\n      <td>0.0</td>\n      <td>0.0</td>\n      <td>0.0</td>\n      <td>0.0</td>\n      <td>0.0</td>\n      <td>0.0</td>\n      <td>0.0</td>\n      <td>0.0</td>\n      <td>1.0</td>\n      <td>0.0</td>\n      <td>...</td>\n      <td>0.0</td>\n      <td>0.0</td>\n      <td>0.0</td>\n      <td>2.0</td>\n      <td>0.0</td>\n      <td>0.0</td>\n      <td>0.0</td>\n      <td>3.0</td>\n      <td>0.0</td>\n      <td>1.0</td>\n      <td>1.0</td>\n      <td>1.0</td>\n      <td>0.0</td>\n      <td>0.0</td>\n      <td>0.0</td>\n      <td>0.0</td>\n      <td>0.0</td>\n      <td>0.0</td>\n      <td>0.0</td>\n      <td>1.0</td>\n      <td>0.0</td>\n      <td>0.0</td>\n      <td>3.0</td>\n      <td>0.0</td>\n      <td>0.0</td>\n      <td>0.0</td>\n      <td>0.0</td>\n      <td>0.0</td>\n      <td>0.0</td>\n      <td>0.0</td>\n      <td>1.0</td>\n      <td>0.0</td>\n      <td>0.0</td>\n      <td>1.0</td>\n      <td>1.0</td>\n      <td>0.0</td>\n      <td>0.0</td>\n      <td>0.0</td>\n      <td>0.0</td>\n      <td>4.0</td>\n    </tr>\n    <tr>\n      <th>4</th>\n      <td>2016-11-02 03:00:00</td>\n      <td>2.860272</td>\n      <td>0.0</td>\n      <td>0.0</td>\n      <td>0.0</td>\n      <td>0.0</td>\n      <td>0.0</td>\n      <td>0.0</td>\n      <td>0.0</td>\n      <td>2.0</td>\n      <td>0.0</td>\n      <td>0.0</td>\n      <td>0.0</td>\n      <td>0.0</td>\n      <td>1.0</td>\n      <td>7.0</td>\n      <td>0.0</td>\n      <td>0.0</td>\n      <td>0.0</td>\n      <td>0.0</td>\n      <td>0.0</td>\n      <td>1.0</td>\n      <td>0.0</td>\n      <td>0.0</td>\n      <td>6.0</td>\n      <td>2.0</td>\n      <td>0.0</td>\n      <td>2.0</td>\n      <td>0.0</td>\n      <td>0.0</td>\n      <td>1.0</td>\n      <td>0.0</td>\n      <td>0.0</td>\n      <td>0.0</td>\n      <td>0.0</td>\n      <td>0.0</td>\n      <td>0.0</td>\n      <td>0.0</td>\n      <td>2.0</td>\n      <td>0.0</td>\n      <td>...</td>\n      <td>0.0</td>\n      <td>0.0</td>\n      <td>0.0</td>\n      <td>5.0</td>\n      <td>0.0</td>\n      <td>0.0</td>\n      <td>0.0</td>\n      <td>10.0</td>\n      <td>0.0</td>\n      <td>1.0</td>\n      <td>3.0</td>\n      <td>3.0</td>\n      <td>4.0</td>\n      <td>0.0</td>\n      <td>1.0</td>\n      <td>0.0</td>\n      <td>2.0</td>\n      <td>0.0</td>\n      <td>0.0</td>\n      <td>10.0</td>\n      <td>0.0</td>\n      <td>0.0</td>\n      <td>4.0</td>\n      <td>1.0</td>\n      <td>1.0</td>\n      <td>1.0</td>\n      <td>1.0</td>\n      <td>0.0</td>\n      <td>0.0</td>\n      <td>0.0</td>\n      <td>1.0</td>\n      <td>0.0</td>\n      <td>0.0</td>\n      <td>2.0</td>\n      <td>5.0</td>\n      <td>0.0</td>\n      <td>1.0</td>\n      <td>0.0</td>\n      <td>2.0</td>\n      <td>11.0</td>\n    </tr>\n  </tbody>\n</table>\n<p>5 rows × 281 columns</p>\n</div>"
     },
     "metadata": {
      "application/com.datacamp.data-table.v2+json": {
       "status": "success"
      }
     },
     "execution_count": 3
    }
   ],
   "execution_count": 3
  },
  {
   "source": [
    "btc_df.tail()"
   ],
   "metadata": {
    "executionCancelledAt": null,
    "executionTime": 127,
    "lastExecutedAt": 1740667684249,
    "lastExecutedByKernel": "2980c936-4158-42a3-a967-c5b3fc629330",
    "lastScheduledRunId": null,
    "lastSuccessfullyExecutedCode": "btc_df.tail()",
    "outputsMetadata": {
     "0": {
      "height": 550,
      "type": "dataFrame",
      "tableState": {
       "customFilter": {
        "const": {
         "type": "boolean",
         "valid": true,
         "value": true
        },
        "id": "9124d19f-c4fa-49f7-9509-899ad8974bb3",
        "nodeType": "const"
       },
       "quickFilterText": ""
      }
     }
    }
   },
   "cell_type": "code",
   "id": "82def122-64c9-4654-b374-5446ef8d5185",
   "outputs": [
    {
     "output_type": "execute_result",
     "data": {
      "application/com.datacamp.data-table.v2+json": {
       "table": {
        "schema": {
         "fields": [
          {
           "name": "index",
           "type": "integer"
          },
          {
           "name": "date",
           "type": "string"
          },
          {
           "name": "listing_close",
           "type": "number"
          },
          {
           "name": "twitter_hacks",
           "type": "number"
          },
          {
           "name": "twitter_pessimistic_doubtful",
           "type": "number"
          },
          {
           "name": "twitter_banks",
           "type": "number"
          },
          {
           "name": "twitter_selling",
           "type": "number"
          },
          {
           "name": "twitter_market_manipulation",
           "type": "number"
          },
          {
           "name": "twitter_de_centralisation",
           "type": "number"
          },
          {
           "name": "twitter_angry",
           "type": "number"
          },
          {
           "name": "twitter_etf",
           "type": "number"
          },
          {
           "name": "twitter_leverage",
           "type": "number"
          },
          {
           "name": "twitter_bottom",
           "type": "number"
          },
          {
           "name": "twitter_institutional_money",
           "type": "number"
          },
          {
           "name": "twitter_fomo",
           "type": "number"
          },
          {
           "name": "twitter_prediction",
           "type": "number"
          },
          {
           "name": "twitter_adoption",
           "type": "number"
          },
          {
           "name": "twitter_fearful_concerned",
           "type": "number"
          },
          {
           "name": "twitter_portfolio",
           "type": "number"
          },
          {
           "name": "twitter_fud_theme",
           "type": "number"
          },
          {
           "name": "twitter_whitepaper",
           "type": "number"
          },
          {
           "name": "twitter_announcements",
           "type": "number"
          },
          {
           "name": "twitter_technical_analysis",
           "type": "number"
          },
          {
           "name": "twitter_flippening",
           "type": "number"
          },
          {
           "name": "twitter_community",
           "type": "number"
          },
          {
           "name": "twitter_investing_trading",
           "type": "number"
          },
          {
           "name": "twitter_euphoric_excited",
           "type": "number"
          },
          {
           "name": "twitter_hodling",
           "type": "number"
          },
          {
           "name": "twitter_ico",
           "type": "number"
          },
          {
           "name": "twitter_bearish",
           "type": "number"
          },
          {
           "name": "twitter_going_short",
           "type": "number"
          },
          {
           "name": "twitter_uncertain",
           "type": "number"
          },
          {
           "name": "twitter_volume",
           "type": "number"
          },
          {
           "name": "twitter_risk",
           "type": "number"
          },
          {
           "name": "twitter_governance",
           "type": "number"
          },
          {
           "name": "twitter_ban",
           "type": "number"
          },
          {
           "name": "twitter_cheap",
           "type": "number"
          },
          {
           "name": "twitter_short_term_trading",
           "type": "number"
          },
          {
           "name": "twitter_fork",
           "type": "number"
          },
          {
           "name": "twitter_progress",
           "type": "number"
          },
          {
           "name": "twitter_shilling",
           "type": "number"
          },
          {
           "name": "twitter_bullish",
           "type": "number"
          },
          {
           "name": "twitter_happy",
           "type": "number"
          },
          {
           "name": "twitter_bubble",
           "type": "number"
          },
          {
           "name": "twitter_bots",
           "type": "number"
          },
          {
           "name": "twitter_hopeful",
           "type": "number"
          },
          {
           "name": "twitter_bug",
           "type": "number"
          },
          {
           "name": "twitter_open_source",
           "type": "number"
          },
          {
           "name": "twitter_token_economics",
           "type": "number"
          },
          {
           "name": "twitter_security",
           "type": "number"
          },
          {
           "name": "twitter_marketing",
           "type": "number"
          },
          {
           "name": "twitter_bad_news",
           "type": "number"
          },
          {
           "name": "twitter_due_diligence",
           "type": "number"
          },
          {
           "name": "twitter_team",
           "type": "number"
          },
          {
           "name": "twitter_partnerships",
           "type": "number"
          },
          {
           "name": "twitter_pump_and_dump",
           "type": "number"
          },
          {
           "name": "twitter_sad",
           "type": "number"
          },
          {
           "name": "twitter_panicking",
           "type": "number"
          },
          {
           "name": "twitter_listing",
           "type": "number"
          },
          {
           "name": "twitter_regulation_politics",
           "type": "number"
          },
          {
           "name": "twitter_dip",
           "type": "number"
          },
          {
           "name": "twitter_launch",
           "type": "number"
          },
          {
           "name": "twitter_fomo_theme",
           "type": "number"
          },
          {
           "name": "twitter_advice_support",
           "type": "number"
          },
          {
           "name": "twitter_rebranding",
           "type": "number"
          },
          {
           "name": "twitter_wallet",
           "type": "number"
          },
          {
           "name": "twitter_good_news",
           "type": "number"
          },
          {
           "name": "twitter_problems_and_issues",
           "type": "number"
          },
          {
           "name": "twitter_mining",
           "type": "number"
          },
          {
           "name": "twitter_waiting",
           "type": "number"
          },
          {
           "name": "twitter_learning",
           "type": "number"
          },
          {
           "name": "twitter_scaling",
           "type": "number"
          },
          {
           "name": "twitter_fees",
           "type": "number"
          },
          {
           "name": "twitter_roadmap",
           "type": "number"
          },
          {
           "name": "twitter_recovery",
           "type": "number"
          },
          {
           "name": "twitter_technology",
           "type": "number"
          },
          {
           "name": "twitter_mistrustful",
           "type": "number"
          },
          {
           "name": "twitter_marketcap",
           "type": "number"
          },
          {
           "name": "twitter_positive",
           "type": "number"
          },
          {
           "name": "twitter_tax",
           "type": "number"
          },
          {
           "name": "twitter_long_term_investing",
           "type": "number"
          },
          {
           "name": "twitter_strategy",
           "type": "number"
          },
          {
           "name": "twitter_competition",
           "type": "number"
          },
          {
           "name": "twitter_whales",
           "type": "number"
          },
          {
           "name": "twitter_correction",
           "type": "number"
          },
          {
           "name": "twitter_stablecoin",
           "type": "number"
          },
          {
           "name": "twitter_buying",
           "type": "number"
          },
          {
           "name": "twitter_warning",
           "type": "number"
          },
          {
           "name": "twitter_annoyed_frustrated",
           "type": "number"
          },
          {
           "name": "twitter_price",
           "type": "number"
          },
          {
           "name": "twitter_use_case_applications",
           "type": "number"
          },
          {
           "name": "twitter_rumor",
           "type": "number"
          },
          {
           "name": "twitter_scam_fraud",
           "type": "number"
          },
          {
           "name": "twitter_airdrop",
           "type": "number"
          },
          {
           "name": "twitter_optimistic",
           "type": "number"
          },
          {
           "name": "twitter_negative",
           "type": "number"
          },
          {
           "name": "bitcointalk_hacks",
           "type": "number"
          },
          {
           "name": "bitcointalk_pessimistic_doubtful",
           "type": "number"
          },
          {
           "name": "bitcointalk_banks",
           "type": "number"
          },
          {
           "name": "bitcointalk_selling",
           "type": "number"
          },
          {
           "name": "bitcointalk_market_manipulation",
           "type": "number"
          },
          {
           "name": "bitcointalk_de_centralisation",
           "type": "number"
          },
          {
           "name": "bitcointalk_angry",
           "type": "number"
          },
          {
           "name": "bitcointalk_etf",
           "type": "number"
          },
          {
           "name": "bitcointalk_leverage",
           "type": "number"
          },
          {
           "name": "bitcointalk_bottom",
           "type": "number"
          },
          {
           "name": "bitcointalk_institutional_money",
           "type": "number"
          },
          {
           "name": "bitcointalk_fomo",
           "type": "number"
          },
          {
           "name": "bitcointalk_prediction",
           "type": "number"
          },
          {
           "name": "bitcointalk_adoption",
           "type": "number"
          },
          {
           "name": "bitcointalk_fearful_concerned",
           "type": "number"
          },
          {
           "name": "bitcointalk_portfolio",
           "type": "number"
          },
          {
           "name": "bitcointalk_fud_theme",
           "type": "number"
          },
          {
           "name": "bitcointalk_whitepaper",
           "type": "number"
          },
          {
           "name": "bitcointalk_announcements",
           "type": "number"
          },
          {
           "name": "bitcointalk_technical_analysis",
           "type": "number"
          },
          {
           "name": "bitcointalk_flippening",
           "type": "number"
          },
          {
           "name": "bitcointalk_community",
           "type": "number"
          },
          {
           "name": "bitcointalk_investing_trading",
           "type": "number"
          },
          {
           "name": "bitcointalk_euphoric_excited",
           "type": "number"
          },
          {
           "name": "bitcointalk_hodling",
           "type": "number"
          },
          {
           "name": "bitcointalk_ico",
           "type": "number"
          },
          {
           "name": "bitcointalk_bearish",
           "type": "number"
          },
          {
           "name": "bitcointalk_going_short",
           "type": "number"
          },
          {
           "name": "bitcointalk_uncertain",
           "type": "number"
          },
          {
           "name": "bitcointalk_volume",
           "type": "number"
          },
          {
           "name": "bitcointalk_risk",
           "type": "number"
          },
          {
           "name": "bitcointalk_governance",
           "type": "number"
          },
          {
           "name": "bitcointalk_ban",
           "type": "number"
          },
          {
           "name": "bitcointalk_cheap",
           "type": "number"
          },
          {
           "name": "bitcointalk_short_term_trading",
           "type": "number"
          },
          {
           "name": "bitcointalk_fork",
           "type": "number"
          },
          {
           "name": "bitcointalk_progress",
           "type": "number"
          },
          {
           "name": "bitcointalk_shilling",
           "type": "number"
          },
          {
           "name": "bitcointalk_bullish",
           "type": "number"
          },
          {
           "name": "bitcointalk_happy",
           "type": "number"
          },
          {
           "name": "bitcointalk_bubble",
           "type": "number"
          },
          {
           "name": "bitcointalk_bots",
           "type": "number"
          },
          {
           "name": "bitcointalk_hopeful",
           "type": "number"
          },
          {
           "name": "bitcointalk_bug",
           "type": "number"
          },
          {
           "name": "bitcointalk_open_source",
           "type": "number"
          },
          {
           "name": "bitcointalk_token_economics",
           "type": "number"
          },
          {
           "name": "bitcointalk_security",
           "type": "number"
          },
          {
           "name": "bitcointalk_marketing",
           "type": "number"
          },
          {
           "name": "bitcointalk_bad_news",
           "type": "number"
          },
          {
           "name": "bitcointalk_due_diligence",
           "type": "number"
          },
          {
           "name": "bitcointalk_team",
           "type": "number"
          },
          {
           "name": "bitcointalk_partnerships",
           "type": "number"
          },
          {
           "name": "bitcointalk_pump_and_dump",
           "type": "number"
          },
          {
           "name": "bitcointalk_sad",
           "type": "number"
          },
          {
           "name": "bitcointalk_panicking",
           "type": "number"
          },
          {
           "name": "bitcointalk_listing",
           "type": "number"
          },
          {
           "name": "bitcointalk_regulation_politics",
           "type": "number"
          },
          {
           "name": "bitcointalk_dip",
           "type": "number"
          },
          {
           "name": "bitcointalk_launch",
           "type": "number"
          },
          {
           "name": "bitcointalk_fomo_theme",
           "type": "number"
          },
          {
           "name": "bitcointalk_advice_support",
           "type": "number"
          },
          {
           "name": "bitcointalk_rebranding",
           "type": "number"
          },
          {
           "name": "bitcointalk_wallet",
           "type": "number"
          },
          {
           "name": "bitcointalk_good_news",
           "type": "number"
          },
          {
           "name": "bitcointalk_problems_and_issues",
           "type": "number"
          },
          {
           "name": "bitcointalk_mining",
           "type": "number"
          },
          {
           "name": "bitcointalk_waiting",
           "type": "number"
          },
          {
           "name": "bitcointalk_learning",
           "type": "number"
          },
          {
           "name": "bitcointalk_scaling",
           "type": "number"
          },
          {
           "name": "bitcointalk_fees",
           "type": "number"
          },
          {
           "name": "bitcointalk_roadmap",
           "type": "number"
          },
          {
           "name": "bitcointalk_recovery",
           "type": "number"
          },
          {
           "name": "bitcointalk_technology",
           "type": "number"
          },
          {
           "name": "bitcointalk_mistrustful",
           "type": "number"
          },
          {
           "name": "bitcointalk_marketcap",
           "type": "number"
          },
          {
           "name": "bitcointalk_positive",
           "type": "number"
          },
          {
           "name": "bitcointalk_tax",
           "type": "number"
          },
          {
           "name": "bitcointalk_long_term_investing",
           "type": "number"
          },
          {
           "name": "bitcointalk_strategy",
           "type": "number"
          },
          {
           "name": "bitcointalk_competition",
           "type": "number"
          },
          {
           "name": "bitcointalk_whales",
           "type": "number"
          },
          {
           "name": "bitcointalk_correction",
           "type": "number"
          },
          {
           "name": "bitcointalk_stablecoin",
           "type": "number"
          },
          {
           "name": "bitcointalk_buying",
           "type": "number"
          },
          {
           "name": "bitcointalk_warning",
           "type": "number"
          },
          {
           "name": "bitcointalk_annoyed_frustrated",
           "type": "number"
          },
          {
           "name": "bitcointalk_price",
           "type": "number"
          },
          {
           "name": "bitcointalk_use_case_applications",
           "type": "number"
          },
          {
           "name": "bitcointalk_rumor",
           "type": "number"
          },
          {
           "name": "bitcointalk_scam_fraud",
           "type": "number"
          },
          {
           "name": "bitcointalk_airdrop",
           "type": "number"
          },
          {
           "name": "bitcointalk_optimistic",
           "type": "number"
          },
          {
           "name": "bitcointalk_negative",
           "type": "number"
          },
          {
           "name": "reddit_hacks",
           "type": "number"
          },
          {
           "name": "reddit_pessimistic_doubtful",
           "type": "number"
          },
          {
           "name": "reddit_banks",
           "type": "number"
          },
          {
           "name": "reddit_selling",
           "type": "number"
          },
          {
           "name": "reddit_market_manipulation",
           "type": "number"
          },
          {
           "name": "reddit_de_centralisation",
           "type": "number"
          },
          {
           "name": "reddit_angry",
           "type": "number"
          },
          {
           "name": "reddit_etf",
           "type": "number"
          },
          {
           "name": "reddit_leverage",
           "type": "number"
          },
          {
           "name": "reddit_bottom",
           "type": "number"
          },
          {
           "name": "reddit_institutional_money",
           "type": "number"
          },
          {
           "name": "reddit_fomo",
           "type": "number"
          },
          {
           "name": "reddit_prediction",
           "type": "number"
          },
          {
           "name": "reddit_adoption",
           "type": "number"
          },
          {
           "name": "reddit_fearful_concerned",
           "type": "number"
          },
          {
           "name": "reddit_portfolio",
           "type": "number"
          },
          {
           "name": "reddit_fud_theme",
           "type": "number"
          },
          {
           "name": "reddit_whitepaper",
           "type": "number"
          },
          {
           "name": "reddit_announcements",
           "type": "number"
          },
          {
           "name": "reddit_technical_analysis",
           "type": "number"
          },
          {
           "name": "reddit_flippening",
           "type": "number"
          },
          {
           "name": "reddit_community",
           "type": "number"
          },
          {
           "name": "reddit_investing_trading",
           "type": "number"
          },
          {
           "name": "reddit_euphoric_excited",
           "type": "number"
          },
          {
           "name": "reddit_hodling",
           "type": "number"
          },
          {
           "name": "reddit_ico",
           "type": "number"
          },
          {
           "name": "reddit_bearish",
           "type": "number"
          },
          {
           "name": "reddit_going_short",
           "type": "number"
          },
          {
           "name": "reddit_uncertain",
           "type": "number"
          },
          {
           "name": "reddit_volume",
           "type": "number"
          },
          {
           "name": "reddit_risk",
           "type": "number"
          },
          {
           "name": "reddit_governance",
           "type": "number"
          },
          {
           "name": "reddit_ban",
           "type": "number"
          },
          {
           "name": "reddit_cheap",
           "type": "number"
          },
          {
           "name": "reddit_short_term_trading",
           "type": "number"
          },
          {
           "name": "reddit_fork",
           "type": "number"
          },
          {
           "name": "reddit_progress",
           "type": "number"
          },
          {
           "name": "reddit_shilling",
           "type": "number"
          },
          {
           "name": "reddit_bullish",
           "type": "number"
          },
          {
           "name": "reddit_happy",
           "type": "number"
          },
          {
           "name": "reddit_bubble",
           "type": "number"
          },
          {
           "name": "reddit_bots",
           "type": "number"
          },
          {
           "name": "reddit_hopeful",
           "type": "number"
          },
          {
           "name": "reddit_bug",
           "type": "number"
          },
          {
           "name": "reddit_open_source",
           "type": "number"
          },
          {
           "name": "reddit_token_economics",
           "type": "number"
          },
          {
           "name": "reddit_security",
           "type": "number"
          },
          {
           "name": "reddit_marketing",
           "type": "number"
          },
          {
           "name": "reddit_bad_news",
           "type": "number"
          },
          {
           "name": "reddit_due_diligence",
           "type": "number"
          },
          {
           "name": "reddit_team",
           "type": "number"
          },
          {
           "name": "reddit_partnerships",
           "type": "number"
          },
          {
           "name": "reddit_pump_and_dump",
           "type": "number"
          },
          {
           "name": "reddit_sad",
           "type": "number"
          },
          {
           "name": "reddit_panicking",
           "type": "number"
          },
          {
           "name": "reddit_listing",
           "type": "number"
          },
          {
           "name": "reddit_regulation_politics",
           "type": "number"
          },
          {
           "name": "reddit_dip",
           "type": "number"
          },
          {
           "name": "reddit_launch",
           "type": "number"
          },
          {
           "name": "reddit_fomo_theme",
           "type": "number"
          },
          {
           "name": "reddit_advice_support",
           "type": "number"
          },
          {
           "name": "reddit_rebranding",
           "type": "number"
          },
          {
           "name": "reddit_wallet",
           "type": "number"
          },
          {
           "name": "reddit_good_news",
           "type": "number"
          },
          {
           "name": "reddit_problems_and_issues",
           "type": "number"
          },
          {
           "name": "reddit_mining",
           "type": "number"
          },
          {
           "name": "reddit_waiting",
           "type": "number"
          },
          {
           "name": "reddit_learning",
           "type": "number"
          },
          {
           "name": "reddit_scaling",
           "type": "number"
          },
          {
           "name": "reddit_fees",
           "type": "number"
          },
          {
           "name": "reddit_roadmap",
           "type": "number"
          },
          {
           "name": "reddit_recovery",
           "type": "number"
          },
          {
           "name": "reddit_technology",
           "type": "number"
          },
          {
           "name": "reddit_mistrustful",
           "type": "number"
          },
          {
           "name": "reddit_marketcap",
           "type": "number"
          },
          {
           "name": "reddit_positive",
           "type": "number"
          },
          {
           "name": "reddit_tax",
           "type": "number"
          },
          {
           "name": "reddit_long_term_investing",
           "type": "number"
          },
          {
           "name": "reddit_strategy",
           "type": "number"
          },
          {
           "name": "reddit_competition",
           "type": "number"
          },
          {
           "name": "reddit_whales",
           "type": "number"
          },
          {
           "name": "reddit_correction",
           "type": "number"
          },
          {
           "name": "reddit_stablecoin",
           "type": "number"
          },
          {
           "name": "reddit_buying",
           "type": "number"
          },
          {
           "name": "reddit_warning",
           "type": "number"
          },
          {
           "name": "reddit_annoyed_frustrated",
           "type": "number"
          },
          {
           "name": "reddit_price",
           "type": "number"
          },
          {
           "name": "reddit_use_case_applications",
           "type": "number"
          },
          {
           "name": "reddit_rumor",
           "type": "number"
          },
          {
           "name": "reddit_scam_fraud",
           "type": "number"
          },
          {
           "name": "reddit_airdrop",
           "type": "number"
          },
          {
           "name": "reddit_optimistic",
           "type": "number"
          },
          {
           "name": "reddit_negative",
           "type": "number"
          }
         ],
         "primaryKey": [
          "index"
         ],
         "pandas_version": "1.4.0"
        },
        "data": {
         "index": [
          71864,
          71865,
          71866,
          71867,
          71868
         ],
         "date": [
          "2025-01-13 07:00:00",
          "2025-01-13 08:00:00",
          "2025-01-13 09:00:00",
          "2025-01-13 10:00:00",
          "2025-01-13 11:00:00"
         ],
         "listing_close": [
          4.9707140578,
          4.9683942127,
          4.9675526561,
          4.9616251408,
          4.9579662576
         ],
         "twitter_hacks": [
          0,
          1,
          0,
          0,
          0
         ],
         "twitter_pessimistic_doubtful": [
          0,
          0,
          0,
          0,
          0
         ],
         "twitter_banks": [
          0,
          0,
          0,
          1,
          0
         ],
         "twitter_selling": [
          1,
          0,
          0,
          1,
          1
         ],
         "twitter_market_manipulation": [
          0,
          0,
          0,
          0,
          0
         ],
         "twitter_de_centralisation": [
          0,
          0,
          0,
          0,
          0
         ],
         "twitter_angry": [
          0,
          0,
          0,
          0,
          0
         ],
         "twitter_etf": [
          2,
          0,
          0,
          0,
          0
         ],
         "twitter_leverage": [
          0,
          0,
          0,
          0,
          0
         ],
         "twitter_bottom": [
          0,
          0,
          0,
          1,
          1
         ],
         "twitter_institutional_money": [
          0,
          0,
          0,
          0,
          0
         ],
         "twitter_fomo": [
          0,
          0,
          0,
          4,
          0
         ],
         "twitter_prediction": [
          5,
          8,
          3,
          5,
          6
         ],
         "twitter_adoption": [
          1,
          0,
          2,
          4,
          1
         ],
         "twitter_fearful_concerned": [
          0,
          0,
          0,
          0,
          0
         ],
         "twitter_portfolio": [
          0,
          0,
          0,
          0,
          0
         ],
         "twitter_fud_theme": [
          0,
          0,
          0,
          0,
          0
         ],
         "twitter_whitepaper": [
          0,
          1,
          0,
          0,
          0
         ],
         "twitter_announcements": [
          0,
          0,
          0,
          0,
          0
         ],
         "twitter_technical_analysis": [
          0,
          4,
          3,
          6,
          3
         ],
         "twitter_flippening": [
          0,
          0,
          0,
          0,
          0
         ],
         "twitter_community": [
          0,
          0,
          0,
          0,
          0
         ],
         "twitter_investing_trading": [
          3,
          5,
          4,
          8,
          8
         ],
         "twitter_euphoric_excited": [
          1,
          0,
          1,
          1,
          0
         ],
         "twitter_hodling": [
          0,
          0,
          0,
          0,
          1
         ],
         "twitter_ico": [
          0,
          0,
          0,
          0,
          0
         ],
         "twitter_bearish": [
          2,
          2,
          1,
          1,
          0
         ],
         "twitter_going_short": [
          0,
          0,
          0,
          0,
          2
         ],
         "twitter_uncertain": [
          1,
          2,
          2,
          2,
          2
         ],
         "twitter_volume": [
          0,
          0,
          0,
          2,
          1
         ],
         "twitter_risk": [
          0,
          1,
          1,
          1,
          0
         ],
         "twitter_governance": [
          0,
          0,
          0,
          0,
          0
         ],
         "twitter_ban": [
          0,
          0,
          0,
          1,
          0
         ],
         "twitter_cheap": [
          0,
          0,
          0,
          2,
          0
         ],
         "twitter_short_term_trading": [
          0,
          0,
          0,
          2,
          0
         ],
         "twitter_fork": [
          0,
          0,
          0,
          0,
          0
         ],
         "twitter_progress": [
          0,
          1,
          0,
          0,
          0
         ],
         "twitter_shilling": [
          0,
          0,
          0,
          0,
          0
         ],
         "twitter_bullish": [
          3,
          5,
          2,
          3,
          3
         ],
         "twitter_happy": [
          0,
          0,
          0,
          0,
          0
         ],
         "twitter_bubble": [
          0,
          0,
          0,
          0,
          0
         ],
         "twitter_bots": [
          0,
          1,
          0,
          0,
          0
         ],
         "twitter_hopeful": [
          0,
          0,
          1,
          0,
          1
         ],
         "twitter_bug": [
          0,
          0,
          0,
          0,
          0
         ],
         "twitter_open_source": [
          0,
          0,
          0,
          0,
          0
         ],
         "twitter_token_economics": [
          0,
          0,
          0,
          0,
          0
         ],
         "twitter_security": [
          0,
          0,
          0,
          1,
          0
         ],
         "twitter_marketing": [
          0,
          0,
          0,
          0,
          0
         ],
         "twitter_bad_news": [
          2,
          2,
          1,
          1,
          1
         ],
         "twitter_due_diligence": [
          0,
          2,
          0,
          1,
          1
         ],
         "twitter_team": [
          0,
          2,
          0,
          0,
          0
         ],
         "twitter_partnerships": [
          0,
          0,
          0,
          0,
          0
         ],
         "twitter_pump_and_dump": [
          0,
          0,
          0,
          0,
          0
         ],
         "twitter_sad": [
          0,
          0,
          0,
          0,
          0
         ],
         "twitter_panicking": [
          0,
          0,
          0,
          0,
          0
         ],
         "twitter_listing": [
          0,
          0,
          0,
          1,
          1
         ],
         "twitter_regulation_politics": [
          1,
          1,
          0,
          1,
          1
         ],
         "twitter_dip": [
          0,
          0,
          1,
          0,
          0
         ],
         "twitter_launch": [
          0,
          0,
          0,
          0,
          0
         ],
         "twitter_fomo_theme": [
          0,
          0,
          0,
          0,
          0
         ],
         "twitter_advice_support": [
          1,
          5,
          0,
          2,
          2
         ],
         "twitter_rebranding": [
          0,
          0,
          0,
          0,
          0
         ],
         "twitter_wallet": [
          0,
          0,
          0,
          0,
          0
         ],
         "twitter_good_news": [
          2,
          1,
          1,
          6,
          1
         ],
         "twitter_problems_and_issues": [
          0,
          1,
          0,
          0,
          0
         ],
         "twitter_mining": [
          0,
          0,
          0,
          0,
          0
         ],
         "twitter_waiting": [
          0,
          0,
          0,
          0,
          0
         ],
         "twitter_learning": [
          1,
          0,
          1,
          2,
          1
         ],
         "twitter_scaling": [
          0,
          0,
          0,
          0,
          0
         ],
         "twitter_fees": [
          1,
          0,
          0,
          1,
          0
         ],
         "twitter_roadmap": [
          0,
          0,
          0,
          0,
          0
         ],
         "twitter_recovery": [
          1,
          0,
          0,
          0,
          0
         ],
         "twitter_technology": [
          1,
          0,
          0,
          2,
          2
         ],
         "twitter_mistrustful": [
          0,
          0,
          0,
          0,
          0
         ],
         "twitter_marketcap": [
          0,
          0,
          0,
          0,
          0
         ],
         "twitter_positive": [
          6,
          6,
          2,
          6,
          6
         ],
         "twitter_tax": [
          0,
          0,
          0,
          0,
          0
         ],
         "twitter_long_term_investing": [
          1,
          1,
          0,
          1,
          4
         ],
         "twitter_strategy": [
          0,
          0,
          0,
          0,
          0
         ],
         "twitter_competition": [
          0,
          3,
          1,
          5,
          0
         ],
         "twitter_whales": [
          0,
          1,
          0,
          0,
          0
         ],
         "twitter_correction": [
          0,
          0,
          0,
          1,
          0
         ],
         "twitter_stablecoin": [
          0,
          0,
          0,
          0,
          0
         ],
         "twitter_buying": [
          0,
          0,
          1,
          2,
          1
         ],
         "twitter_warning": [
          0,
          0,
          0,
          0,
          0
         ],
         "twitter_annoyed_frustrated": [
          0,
          0,
          0,
          0,
          0
         ],
         "twitter_price": [
          8,
          14,
          9,
          13,
          12
         ],
         "twitter_use_case_applications": [
          0,
          0,
          0,
          0,
          0
         ],
         "twitter_rumor": [
          0,
          0,
          0,
          0,
          0
         ],
         "twitter_scam_fraud": [
          0,
          1,
          0,
          0,
          0
         ],
         "twitter_airdrop": [
          0,
          0,
          0,
          0,
          0
         ],
         "twitter_optimistic": [
          0,
          0,
          0,
          1,
          3
         ],
         "twitter_negative": [
          3,
          2,
          3,
          3,
          4
         ],
         "bitcointalk_hacks": [
          0,
          0,
          0,
          0,
          1
         ],
         "bitcointalk_pessimistic_doubtful": [
          0,
          0,
          0,
          1,
          2
         ],
         "bitcointalk_banks": [
          0,
          1,
          1,
          1,
          1
         ],
         "bitcointalk_selling": [
          1,
          2,
          1,
          1,
          2
         ],
         "bitcointalk_market_manipulation": [
          0,
          1,
          0,
          0,
          0
         ],
         "bitcointalk_de_centralisation": [
          0,
          3,
          2,
          1,
          0
         ],
         "bitcointalk_angry": [
          0,
          0,
          0,
          0,
          0
         ],
         "bitcointalk_etf": [
          0,
          0,
          0,
          0,
          0
         ],
         "bitcointalk_leverage": [
          0,
          0,
          0,
          0,
          0
         ],
         "bitcointalk_bottom": [
          0,
          0,
          0,
          0,
          0
         ],
         "bitcointalk_institutional_money": [
          0,
          0,
          0,
          0,
          0
         ],
         "bitcointalk_fomo": [
          0,
          1,
          0,
          1,
          0
         ],
         "bitcointalk_prediction": [
          1,
          4,
          2,
          2,
          3
         ],
         "bitcointalk_adoption": [
          2,
          4,
          4,
          3,
          5
         ],
         "bitcointalk_fearful_concerned": [
          0,
          2,
          0,
          0,
          0
         ],
         "bitcointalk_portfolio": [
          0,
          1,
          1,
          0,
          1
         ],
         "bitcointalk_fud_theme": [
          0,
          0,
          0,
          0,
          0
         ],
         "bitcointalk_whitepaper": [
          0,
          1,
          0,
          0,
          0
         ],
         "bitcointalk_announcements": [
          0,
          0,
          0,
          0,
          0
         ],
         "bitcointalk_technical_analysis": [
          1,
          1,
          0,
          1,
          1
         ],
         "bitcointalk_flippening": [
          0,
          0,
          0,
          0,
          0
         ],
         "bitcointalk_community": [
          0,
          1,
          0,
          0,
          0
         ],
         "bitcointalk_investing_trading": [
          4,
          9,
          6,
          10,
          8
         ],
         "bitcointalk_euphoric_excited": [
          0,
          2,
          0,
          0,
          2
         ],
         "bitcointalk_hodling": [
          1,
          1,
          0,
          1,
          1
         ],
         "bitcointalk_ico": [
          0,
          0,
          0,
          0,
          0
         ],
         "bitcointalk_bearish": [
          0,
          0,
          0,
          0,
          1
         ],
         "bitcointalk_going_short": [
          0,
          0,
          0,
          0,
          0
         ],
         "bitcointalk_uncertain": [
          3,
          5,
          2,
          4,
          3
         ],
         "bitcointalk_volume": [
          0,
          0,
          0,
          1,
          0
         ],
         "bitcointalk_risk": [
          2,
          1,
          2,
          2,
          2
         ],
         "bitcointalk_governance": [
          0,
          0,
          0,
          0,
          0
         ],
         "bitcointalk_ban": [
          1,
          1,
          0,
          0,
          0
         ],
         "bitcointalk_cheap": [
          0,
          0,
          0,
          0,
          0
         ],
         "bitcointalk_short_term_trading": [
          0,
          0,
          1,
          1,
          1
         ],
         "bitcointalk_fork": [
          0,
          1,
          0,
          0,
          0
         ],
         "bitcointalk_progress": [
          0,
          1,
          0,
          0,
          1
         ],
         "bitcointalk_shilling": [
          0,
          0,
          0,
          0,
          0
         ],
         "bitcointalk_bullish": [
          0,
          2,
          2,
          1,
          2
         ],
         "bitcointalk_happy": [
          0,
          2,
          0,
          0,
          1
         ],
         "bitcointalk_bubble": [
          0,
          0,
          0,
          0,
          0
         ],
         "bitcointalk_bots": [
          0,
          0,
          0,
          0,
          0
         ],
         "bitcointalk_hopeful": [
          1,
          1,
          1,
          0,
          1
         ],
         "bitcointalk_bug": [
          0,
          0,
          0,
          0,
          0
         ],
         "bitcointalk_open_source": [
          0,
          1,
          0,
          0,
          0
         ],
         "bitcointalk_token_economics": [
          0,
          0,
          0,
          0,
          0
         ],
         "bitcointalk_security": [
          0,
          2,
          0,
          0,
          1
         ],
         "bitcointalk_marketing": [
          0,
          0,
          0,
          0,
          0
         ],
         "bitcointalk_bad_news": [
          0,
          0,
          0,
          0,
          0
         ],
         "bitcointalk_due_diligence": [
          1,
          0,
          0,
          0,
          1
         ],
         "bitcointalk_team": [
          0,
          1,
          0,
          0,
          0
         ],
         "bitcointalk_partnerships": [
          0,
          0,
          0,
          0,
          0
         ],
         "bitcointalk_pump_and_dump": [
          0,
          1,
          0,
          0,
          0
         ],
         "bitcointalk_sad": [
          0,
          0,
          0,
          0,
          0
         ],
         "bitcointalk_panicking": [
          0,
          0,
          0,
          0,
          0
         ],
         "bitcointalk_listing": [
          0,
          0,
          0,
          0,
          0
         ],
         "bitcointalk_regulation_politics": [
          2,
          3,
          1,
          2,
          5
         ],
         "bitcointalk_dip": [
          0,
          2,
          1,
          0,
          0
         ],
         "bitcointalk_launch": [
          0,
          1,
          0,
          0,
          0
         ],
         "bitcointalk_fomo_theme": [
          0,
          0,
          0,
          0,
          0
         ],
         "bitcointalk_advice_support": [
          7,
          13,
          7,
          11,
          10
         ],
         "bitcointalk_rebranding": [
          0,
          0,
          0,
          0,
          0
         ],
         "bitcointalk_wallet": [
          1,
          0,
          0,
          1,
          3
         ],
         "bitcointalk_good_news": [
          0,
          1,
          0,
          1,
          2
         ],
         "bitcointalk_problems_and_issues": [
          2,
          2,
          0,
          1,
          2
         ],
         "bitcointalk_mining": [
          0,
          1,
          0,
          2,
          1
         ],
         "bitcointalk_waiting": [
          0,
          0,
          0,
          0,
          0
         ],
         "bitcointalk_learning": [
          2,
          3,
          1,
          0,
          2
         ],
         "bitcointalk_scaling": [
          0,
          0,
          0,
          0,
          0
         ],
         "bitcointalk_fees": [
          0,
          0,
          0,
          0,
          1
         ],
         "bitcointalk_roadmap": [
          0,
          1,
          0,
          0,
          0
         ],
         "bitcointalk_recovery": [
          0,
          0,
          0,
          1,
          0
         ],
         "bitcointalk_technology": [
          2,
          4,
          1,
          2,
          5
         ],
         "bitcointalk_mistrustful": [
          0,
          1,
          0,
          0,
          0
         ],
         "bitcointalk_marketcap": [
          0,
          1,
          0,
          1,
          1
         ],
         "bitcointalk_positive": [
          3,
          6,
          6,
          5,
          8
         ],
         "bitcointalk_tax": [
          0,
          0,
          0,
          0,
          0
         ],
         "bitcointalk_long_term_investing": [
          1,
          4,
          3,
          3,
          1
         ],
         "bitcointalk_strategy": [
          0,
          0,
          0,
          1,
          0
         ],
         "bitcointalk_competition": [
          1,
          5,
          2,
          4,
          2
         ],
         "bitcointalk_whales": [
          0,
          0,
          0,
          0,
          0
         ],
         "bitcointalk_correction": [
          0,
          2,
          1,
          0,
          0
         ],
         "bitcointalk_stablecoin": [
          0,
          0,
          0,
          0,
          0
         ],
         "bitcointalk_buying": [
          0,
          4,
          2,
          0,
          1
         ],
         "bitcointalk_warning": [
          0,
          0,
          0,
          0,
          0
         ],
         "bitcointalk_annoyed_frustrated": [
          0,
          0,
          0,
          0,
          0
         ],
         "bitcointalk_price": [
          4,
          11,
          4,
          1,
          7
         ],
         "bitcointalk_use_case_applications": [
          1,
          2,
          2,
          2,
          2
         ],
         "bitcointalk_rumor": [
          0,
          0,
          0,
          0,
          0
         ],
         "bitcointalk_scam_fraud": [
          1,
          0,
          0,
          0,
          2
         ],
         "bitcointalk_airdrop": [
          0,
          0,
          0,
          0,
          0
         ],
         "bitcointalk_optimistic": [
          3,
          3,
          4,
          2,
          5
         ],
         "bitcointalk_negative": [
          8,
          15,
          6,
          12,
          14
         ],
         "reddit_hacks": [
          0,
          1,
          1,
          1,
          1
         ],
         "reddit_pessimistic_doubtful": [
          0,
          1,
          3,
          0,
          2
         ],
         "reddit_banks": [
          1,
          0,
          2,
          1,
          2
         ],
         "reddit_selling": [
          1,
          0,
          1,
          4,
          3
         ],
         "reddit_market_manipulation": [
          0,
          0,
          0,
          1,
          0
         ],
         "reddit_de_centralisation": [
          1,
          0,
          1,
          1,
          1
         ],
         "reddit_angry": [
          1,
          0,
          0,
          0,
          1
         ],
         "reddit_etf": [
          0,
          2,
          1,
          1,
          1
         ],
         "reddit_leverage": [
          0,
          0,
          0,
          1,
          0
         ],
         "reddit_bottom": [
          0,
          0,
          0,
          1,
          1
         ],
         "reddit_institutional_money": [
          0,
          3,
          0,
          0,
          0
         ],
         "reddit_fomo": [
          0,
          0,
          0,
          1,
          3
         ],
         "reddit_prediction": [
          4,
          7,
          9,
          16,
          8
         ],
         "reddit_adoption": [
          11,
          10,
          4,
          7,
          9
         ],
         "reddit_fearful_concerned": [
          2,
          1,
          0,
          4,
          4
         ],
         "reddit_portfolio": [
          0,
          2,
          1,
          1,
          1
         ],
         "reddit_fud_theme": [
          0,
          0,
          1,
          0,
          0
         ],
         "reddit_whitepaper": [
          0,
          0,
          0,
          0,
          1
         ],
         "reddit_announcements": [
          0,
          0,
          0,
          0,
          0
         ],
         "reddit_technical_analysis": [
          0,
          2,
          3,
          4,
          0
         ],
         "reddit_flippening": [
          0,
          0,
          0,
          0,
          0
         ],
         "reddit_community": [
          3,
          1,
          0,
          0,
          0
         ],
         "reddit_investing_trading": [
          15,
          12,
          15,
          22,
          20
         ],
         "reddit_euphoric_excited": [
          4,
          5,
          2,
          3,
          1
         ],
         "reddit_hodling": [
          0,
          1,
          0,
          1,
          0
         ],
         "reddit_ico": [
          0,
          0,
          0,
          0,
          0
         ],
         "reddit_bearish": [
          2,
          1,
          4,
          6,
          5
         ],
         "reddit_going_short": [
          0,
          1,
          0,
          0,
          1
         ],
         "reddit_uncertain": [
          2,
          2,
          2,
          8,
          3
         ],
         "reddit_volume": [
          0,
          1,
          0,
          1,
          0
         ],
         "reddit_risk": [
          0,
          0,
          2,
          5,
          5
         ],
         "reddit_governance": [
          0,
          0,
          0,
          0,
          0
         ],
         "reddit_ban": [
          0,
          0,
          1,
          0,
          0
         ],
         "reddit_cheap": [
          0,
          1,
          0,
          1,
          0
         ],
         "reddit_short_term_trading": [
          0,
          0,
          0,
          1,
          1
         ],
         "reddit_fork": [
          2,
          0,
          0,
          0,
          0
         ],
         "reddit_progress": [
          1,
          2,
          0,
          1,
          0
         ],
         "reddit_shilling": [
          0,
          1,
          0,
          0,
          0
         ],
         "reddit_bullish": [
          2,
          4,
          3,
          3,
          2
         ],
         "reddit_happy": [
          0,
          0,
          0,
          0,
          0
         ],
         "reddit_bubble": [
          0,
          0,
          0,
          0,
          0
         ],
         "reddit_bots": [
          3,
          2,
          1,
          2,
          1
         ],
         "reddit_hopeful": [
          0,
          3,
          1,
          2,
          0
         ],
         "reddit_bug": [
          2,
          1,
          0,
          0,
          0
         ],
         "reddit_open_source": [
          0,
          1,
          1,
          0,
          0
         ],
         "reddit_token_economics": [
          0,
          0,
          0,
          0,
          0
         ],
         "reddit_security": [
          2,
          1,
          1,
          3,
          1
         ],
         "reddit_marketing": [
          0,
          0,
          0,
          0,
          0
         ],
         "reddit_bad_news": [
          5,
          1,
          2,
          0,
          1
         ],
         "reddit_due_diligence": [
          0,
          1,
          2,
          0,
          1
         ],
         "reddit_team": [
          1,
          0,
          1,
          0,
          1
         ],
         "reddit_partnerships": [
          0,
          0,
          0,
          0,
          0
         ],
         "reddit_pump_and_dump": [
          0,
          0,
          0,
          0,
          0
         ],
         "reddit_sad": [
          0,
          0,
          0,
          0,
          1
         ],
         "reddit_panicking": [
          0,
          0,
          0,
          0,
          0
         ],
         "reddit_listing": [
          0,
          0,
          1,
          0,
          0
         ],
         "reddit_regulation_politics": [
          1,
          3,
          4,
          4,
          1
         ],
         "reddit_dip": [
          1,
          1,
          1,
          2,
          3
         ],
         "reddit_launch": [
          0,
          0,
          0,
          0,
          0
         ],
         "reddit_fomo_theme": [
          0,
          0,
          0,
          0,
          0
         ],
         "reddit_advice_support": [
          15,
          14,
          18,
          19,
          22
         ],
         "reddit_rebranding": [
          0,
          0,
          0,
          0,
          0
         ],
         "reddit_wallet": [
          5,
          3,
          5,
          6,
          9
         ],
         "reddit_good_news": [
          8,
          5,
          8,
          8,
          6
         ],
         "reddit_problems_and_issues": [
          4,
          5,
          2,
          4,
          5
         ],
         "reddit_mining": [
          1,
          0,
          2,
          1,
          0
         ],
         "reddit_waiting": [
          1,
          2,
          2,
          0,
          2
         ],
         "reddit_learning": [
          4,
          3,
          1,
          3,
          6
         ],
         "reddit_scaling": [
          0,
          0,
          0,
          0,
          0
         ],
         "reddit_fees": [
          3,
          1,
          0,
          1,
          1
         ],
         "reddit_roadmap": [
          0,
          0,
          0,
          0,
          0
         ],
         "reddit_recovery": [
          0,
          0,
          0,
          0,
          0
         ],
         "reddit_technology": [
          11,
          4,
          8,
          13,
          3
         ],
         "reddit_mistrustful": [
          0,
          0,
          1,
          0,
          0
         ],
         "reddit_marketcap": [
          1,
          0,
          0,
          1,
          1
         ],
         "reddit_positive": [
          7,
          11,
          12,
          11,
          10
         ],
         "reddit_tax": [
          0,
          0,
          0,
          1,
          0
         ],
         "reddit_long_term_investing": [
          1,
          3,
          4,
          2,
          1
         ],
         "reddit_strategy": [
          0,
          0,
          1,
          1,
          2
         ],
         "reddit_competition": [
          8,
          6,
          7,
          11,
          7
         ],
         "reddit_whales": [
          0,
          0,
          0,
          0,
          1
         ],
         "reddit_correction": [
          0,
          1,
          1,
          2,
          1
         ],
         "reddit_stablecoin": [
          0,
          0,
          0,
          0,
          0
         ],
         "reddit_buying": [
          3,
          1,
          6,
          5,
          4
         ],
         "reddit_warning": [
          0,
          0,
          0,
          0,
          0
         ],
         "reddit_annoyed_frustrated": [
          0,
          0,
          0,
          1,
          0
         ],
         "reddit_price": [
          11,
          14,
          20,
          26,
          20
         ],
         "reddit_use_case_applications": [
          3,
          3,
          3,
          4,
          2
         ],
         "reddit_rumor": [
          0,
          1,
          0,
          0,
          0
         ],
         "reddit_scam_fraud": [
          1,
          1,
          0,
          0,
          1
         ],
         "reddit_airdrop": [
          0,
          0,
          0,
          0,
          0
         ],
         "reddit_optimistic": [
          2,
          5,
          2,
          6,
          2
         ],
         "reddit_negative": [
          13,
          11,
          27,
          33,
          22
         ]
        }
       },
       "total_rows": 5,
       "truncation_type": null
      },
      "text/plain": "                      date  listing_close  ...  reddit_optimistic  reddit_negative\n71864  2025-01-13 07:00:00       4.970714  ...                2.0             13.0\n71865  2025-01-13 08:00:00       4.968394  ...                5.0             11.0\n71866  2025-01-13 09:00:00       4.967553  ...                2.0             27.0\n71867  2025-01-13 10:00:00       4.961625  ...                6.0             33.0\n71868  2025-01-13 11:00:00       4.957966  ...                2.0             22.0\n\n[5 rows x 281 columns]",
      "text/html": "<div>\n<style scoped>\n    .dataframe tbody tr th:only-of-type {\n        vertical-align: middle;\n    }\n\n    .dataframe tbody tr th {\n        vertical-align: top;\n    }\n\n    .dataframe thead th {\n        text-align: right;\n    }\n</style>\n<table border=\"1\" class=\"dataframe\">\n  <thead>\n    <tr style=\"text-align: right;\">\n      <th></th>\n      <th>date</th>\n      <th>listing_close</th>\n      <th>twitter_hacks</th>\n      <th>twitter_pessimistic_doubtful</th>\n      <th>twitter_banks</th>\n      <th>twitter_selling</th>\n      <th>twitter_market_manipulation</th>\n      <th>twitter_de_centralisation</th>\n      <th>twitter_angry</th>\n      <th>twitter_etf</th>\n      <th>twitter_leverage</th>\n      <th>twitter_bottom</th>\n      <th>twitter_institutional_money</th>\n      <th>twitter_fomo</th>\n      <th>twitter_prediction</th>\n      <th>twitter_adoption</th>\n      <th>twitter_fearful_concerned</th>\n      <th>twitter_portfolio</th>\n      <th>twitter_fud_theme</th>\n      <th>twitter_whitepaper</th>\n      <th>twitter_announcements</th>\n      <th>twitter_technical_analysis</th>\n      <th>twitter_flippening</th>\n      <th>twitter_community</th>\n      <th>twitter_investing_trading</th>\n      <th>twitter_euphoric_excited</th>\n      <th>twitter_hodling</th>\n      <th>twitter_ico</th>\n      <th>twitter_bearish</th>\n      <th>twitter_going_short</th>\n      <th>twitter_uncertain</th>\n      <th>twitter_volume</th>\n      <th>twitter_risk</th>\n      <th>twitter_governance</th>\n      <th>twitter_ban</th>\n      <th>twitter_cheap</th>\n      <th>twitter_short_term_trading</th>\n      <th>twitter_fork</th>\n      <th>twitter_progress</th>\n      <th>twitter_shilling</th>\n      <th>...</th>\n      <th>reddit_sad</th>\n      <th>reddit_panicking</th>\n      <th>reddit_listing</th>\n      <th>reddit_regulation_politics</th>\n      <th>reddit_dip</th>\n      <th>reddit_launch</th>\n      <th>reddit_fomo_theme</th>\n      <th>reddit_advice_support</th>\n      <th>reddit_rebranding</th>\n      <th>reddit_wallet</th>\n      <th>reddit_good_news</th>\n      <th>reddit_problems_and_issues</th>\n      <th>reddit_mining</th>\n      <th>reddit_waiting</th>\n      <th>reddit_learning</th>\n      <th>reddit_scaling</th>\n      <th>reddit_fees</th>\n      <th>reddit_roadmap</th>\n      <th>reddit_recovery</th>\n      <th>reddit_technology</th>\n      <th>reddit_mistrustful</th>\n      <th>reddit_marketcap</th>\n      <th>reddit_positive</th>\n      <th>reddit_tax</th>\n      <th>reddit_long_term_investing</th>\n      <th>reddit_strategy</th>\n      <th>reddit_competition</th>\n      <th>reddit_whales</th>\n      <th>reddit_correction</th>\n      <th>reddit_stablecoin</th>\n      <th>reddit_buying</th>\n      <th>reddit_warning</th>\n      <th>reddit_annoyed_frustrated</th>\n      <th>reddit_price</th>\n      <th>reddit_use_case_applications</th>\n      <th>reddit_rumor</th>\n      <th>reddit_scam_fraud</th>\n      <th>reddit_airdrop</th>\n      <th>reddit_optimistic</th>\n      <th>reddit_negative</th>\n    </tr>\n  </thead>\n  <tbody>\n    <tr>\n      <th>71864</th>\n      <td>2025-01-13 07:00:00</td>\n      <td>4.970714</td>\n      <td>0.0</td>\n      <td>0.0</td>\n      <td>0.0</td>\n      <td>1.0</td>\n      <td>0.0</td>\n      <td>0.0</td>\n      <td>0.0</td>\n      <td>2.0</td>\n      <td>0.0</td>\n      <td>0.0</td>\n      <td>0.0</td>\n      <td>0.0</td>\n      <td>5.0</td>\n      <td>1.0</td>\n      <td>0.0</td>\n      <td>0.0</td>\n      <td>0.0</td>\n      <td>0.0</td>\n      <td>0.0</td>\n      <td>0.0</td>\n      <td>0.0</td>\n      <td>0.0</td>\n      <td>3.0</td>\n      <td>1.0</td>\n      <td>0.0</td>\n      <td>0.0</td>\n      <td>2.0</td>\n      <td>0.0</td>\n      <td>1.0</td>\n      <td>0.0</td>\n      <td>0.0</td>\n      <td>0.0</td>\n      <td>0.0</td>\n      <td>0.0</td>\n      <td>0.0</td>\n      <td>0.0</td>\n      <td>0.0</td>\n      <td>0.0</td>\n      <td>...</td>\n      <td>0.0</td>\n      <td>0.0</td>\n      <td>0.0</td>\n      <td>1.0</td>\n      <td>1.0</td>\n      <td>0.0</td>\n      <td>0.0</td>\n      <td>15.0</td>\n      <td>0.0</td>\n      <td>5.0</td>\n      <td>8.0</td>\n      <td>4.0</td>\n      <td>1.0</td>\n      <td>1.0</td>\n      <td>4.0</td>\n      <td>0.0</td>\n      <td>3.0</td>\n      <td>0.0</td>\n      <td>0.0</td>\n      <td>11.0</td>\n      <td>0.0</td>\n      <td>1.0</td>\n      <td>7.0</td>\n      <td>0.0</td>\n      <td>1.0</td>\n      <td>0.0</td>\n      <td>8.0</td>\n      <td>0.0</td>\n      <td>0.0</td>\n      <td>0.0</td>\n      <td>3.0</td>\n      <td>0.0</td>\n      <td>0.0</td>\n      <td>11.0</td>\n      <td>3.0</td>\n      <td>0.0</td>\n      <td>1.0</td>\n      <td>0.0</td>\n      <td>2.0</td>\n      <td>13.0</td>\n    </tr>\n    <tr>\n      <th>71865</th>\n      <td>2025-01-13 08:00:00</td>\n      <td>4.968394</td>\n      <td>1.0</td>\n      <td>0.0</td>\n      <td>0.0</td>\n      <td>0.0</td>\n      <td>0.0</td>\n      <td>0.0</td>\n      <td>0.0</td>\n      <td>0.0</td>\n      <td>0.0</td>\n      <td>0.0</td>\n      <td>0.0</td>\n      <td>0.0</td>\n      <td>8.0</td>\n      <td>0.0</td>\n      <td>0.0</td>\n      <td>0.0</td>\n      <td>0.0</td>\n      <td>1.0</td>\n      <td>0.0</td>\n      <td>4.0</td>\n      <td>0.0</td>\n      <td>0.0</td>\n      <td>5.0</td>\n      <td>0.0</td>\n      <td>0.0</td>\n      <td>0.0</td>\n      <td>2.0</td>\n      <td>0.0</td>\n      <td>2.0</td>\n      <td>0.0</td>\n      <td>1.0</td>\n      <td>0.0</td>\n      <td>0.0</td>\n      <td>0.0</td>\n      <td>0.0</td>\n      <td>0.0</td>\n      <td>1.0</td>\n      <td>0.0</td>\n      <td>...</td>\n      <td>0.0</td>\n      <td>0.0</td>\n      <td>0.0</td>\n      <td>3.0</td>\n      <td>1.0</td>\n      <td>0.0</td>\n      <td>0.0</td>\n      <td>14.0</td>\n      <td>0.0</td>\n      <td>3.0</td>\n      <td>5.0</td>\n      <td>5.0</td>\n      <td>0.0</td>\n      <td>2.0</td>\n      <td>3.0</td>\n      <td>0.0</td>\n      <td>1.0</td>\n      <td>0.0</td>\n      <td>0.0</td>\n      <td>4.0</td>\n      <td>0.0</td>\n      <td>0.0</td>\n      <td>11.0</td>\n      <td>0.0</td>\n      <td>3.0</td>\n      <td>0.0</td>\n      <td>6.0</td>\n      <td>0.0</td>\n      <td>1.0</td>\n      <td>0.0</td>\n      <td>1.0</td>\n      <td>0.0</td>\n      <td>0.0</td>\n      <td>14.0</td>\n      <td>3.0</td>\n      <td>1.0</td>\n      <td>1.0</td>\n      <td>0.0</td>\n      <td>5.0</td>\n      <td>11.0</td>\n    </tr>\n    <tr>\n      <th>71866</th>\n      <td>2025-01-13 09:00:00</td>\n      <td>4.967553</td>\n      <td>0.0</td>\n      <td>0.0</td>\n      <td>0.0</td>\n      <td>0.0</td>\n      <td>0.0</td>\n      <td>0.0</td>\n      <td>0.0</td>\n      <td>0.0</td>\n      <td>0.0</td>\n      <td>0.0</td>\n      <td>0.0</td>\n      <td>0.0</td>\n      <td>3.0</td>\n      <td>2.0</td>\n      <td>0.0</td>\n      <td>0.0</td>\n      <td>0.0</td>\n      <td>0.0</td>\n      <td>0.0</td>\n      <td>3.0</td>\n      <td>0.0</td>\n      <td>0.0</td>\n      <td>4.0</td>\n      <td>1.0</td>\n      <td>0.0</td>\n      <td>0.0</td>\n      <td>1.0</td>\n      <td>0.0</td>\n      <td>2.0</td>\n      <td>0.0</td>\n      <td>1.0</td>\n      <td>0.0</td>\n      <td>0.0</td>\n      <td>0.0</td>\n      <td>0.0</td>\n      <td>0.0</td>\n      <td>0.0</td>\n      <td>0.0</td>\n      <td>...</td>\n      <td>0.0</td>\n      <td>0.0</td>\n      <td>1.0</td>\n      <td>4.0</td>\n      <td>1.0</td>\n      <td>0.0</td>\n      <td>0.0</td>\n      <td>18.0</td>\n      <td>0.0</td>\n      <td>5.0</td>\n      <td>8.0</td>\n      <td>2.0</td>\n      <td>2.0</td>\n      <td>2.0</td>\n      <td>1.0</td>\n      <td>0.0</td>\n      <td>0.0</td>\n      <td>0.0</td>\n      <td>0.0</td>\n      <td>8.0</td>\n      <td>1.0</td>\n      <td>0.0</td>\n      <td>12.0</td>\n      <td>0.0</td>\n      <td>4.0</td>\n      <td>1.0</td>\n      <td>7.0</td>\n      <td>0.0</td>\n      <td>1.0</td>\n      <td>0.0</td>\n      <td>6.0</td>\n      <td>0.0</td>\n      <td>0.0</td>\n      <td>20.0</td>\n      <td>3.0</td>\n      <td>0.0</td>\n      <td>0.0</td>\n      <td>0.0</td>\n      <td>2.0</td>\n      <td>27.0</td>\n    </tr>\n    <tr>\n      <th>71867</th>\n      <td>2025-01-13 10:00:00</td>\n      <td>4.961625</td>\n      <td>0.0</td>\n      <td>0.0</td>\n      <td>1.0</td>\n      <td>1.0</td>\n      <td>0.0</td>\n      <td>0.0</td>\n      <td>0.0</td>\n      <td>0.0</td>\n      <td>0.0</td>\n      <td>1.0</td>\n      <td>0.0</td>\n      <td>4.0</td>\n      <td>5.0</td>\n      <td>4.0</td>\n      <td>0.0</td>\n      <td>0.0</td>\n      <td>0.0</td>\n      <td>0.0</td>\n      <td>0.0</td>\n      <td>6.0</td>\n      <td>0.0</td>\n      <td>0.0</td>\n      <td>8.0</td>\n      <td>1.0</td>\n      <td>0.0</td>\n      <td>0.0</td>\n      <td>1.0</td>\n      <td>0.0</td>\n      <td>2.0</td>\n      <td>2.0</td>\n      <td>1.0</td>\n      <td>0.0</td>\n      <td>1.0</td>\n      <td>2.0</td>\n      <td>2.0</td>\n      <td>0.0</td>\n      <td>0.0</td>\n      <td>0.0</td>\n      <td>...</td>\n      <td>0.0</td>\n      <td>0.0</td>\n      <td>0.0</td>\n      <td>4.0</td>\n      <td>2.0</td>\n      <td>0.0</td>\n      <td>0.0</td>\n      <td>19.0</td>\n      <td>0.0</td>\n      <td>6.0</td>\n      <td>8.0</td>\n      <td>4.0</td>\n      <td>1.0</td>\n      <td>0.0</td>\n      <td>3.0</td>\n      <td>0.0</td>\n      <td>1.0</td>\n      <td>0.0</td>\n      <td>0.0</td>\n      <td>13.0</td>\n      <td>0.0</td>\n      <td>1.0</td>\n      <td>11.0</td>\n      <td>1.0</td>\n      <td>2.0</td>\n      <td>1.0</td>\n      <td>11.0</td>\n      <td>0.0</td>\n      <td>2.0</td>\n      <td>0.0</td>\n      <td>5.0</td>\n      <td>0.0</td>\n      <td>1.0</td>\n      <td>26.0</td>\n      <td>4.0</td>\n      <td>0.0</td>\n      <td>0.0</td>\n      <td>0.0</td>\n      <td>6.0</td>\n      <td>33.0</td>\n    </tr>\n    <tr>\n      <th>71868</th>\n      <td>2025-01-13 11:00:00</td>\n      <td>4.957966</td>\n      <td>0.0</td>\n      <td>0.0</td>\n      <td>0.0</td>\n      <td>1.0</td>\n      <td>0.0</td>\n      <td>0.0</td>\n      <td>0.0</td>\n      <td>0.0</td>\n      <td>0.0</td>\n      <td>1.0</td>\n      <td>0.0</td>\n      <td>0.0</td>\n      <td>6.0</td>\n      <td>1.0</td>\n      <td>0.0</td>\n      <td>0.0</td>\n      <td>0.0</td>\n      <td>0.0</td>\n      <td>0.0</td>\n      <td>3.0</td>\n      <td>0.0</td>\n      <td>0.0</td>\n      <td>8.0</td>\n      <td>0.0</td>\n      <td>1.0</td>\n      <td>0.0</td>\n      <td>0.0</td>\n      <td>2.0</td>\n      <td>2.0</td>\n      <td>1.0</td>\n      <td>0.0</td>\n      <td>0.0</td>\n      <td>0.0</td>\n      <td>0.0</td>\n      <td>0.0</td>\n      <td>0.0</td>\n      <td>0.0</td>\n      <td>0.0</td>\n      <td>...</td>\n      <td>1.0</td>\n      <td>0.0</td>\n      <td>0.0</td>\n      <td>1.0</td>\n      <td>3.0</td>\n      <td>0.0</td>\n      <td>0.0</td>\n      <td>22.0</td>\n      <td>0.0</td>\n      <td>9.0</td>\n      <td>6.0</td>\n      <td>5.0</td>\n      <td>0.0</td>\n      <td>2.0</td>\n      <td>6.0</td>\n      <td>0.0</td>\n      <td>1.0</td>\n      <td>0.0</td>\n      <td>0.0</td>\n      <td>3.0</td>\n      <td>0.0</td>\n      <td>1.0</td>\n      <td>10.0</td>\n      <td>0.0</td>\n      <td>1.0</td>\n      <td>2.0</td>\n      <td>7.0</td>\n      <td>1.0</td>\n      <td>1.0</td>\n      <td>0.0</td>\n      <td>4.0</td>\n      <td>0.0</td>\n      <td>0.0</td>\n      <td>20.0</td>\n      <td>2.0</td>\n      <td>0.0</td>\n      <td>1.0</td>\n      <td>0.0</td>\n      <td>2.0</td>\n      <td>22.0</td>\n    </tr>\n  </tbody>\n</table>\n<p>5 rows × 281 columns</p>\n</div>"
     },
     "metadata": {
      "application/com.datacamp.data-table.v2+json": {
       "status": "success"
      }
     },
     "execution_count": 5
    }
   ],
   "execution_count": 5
  },
  {
   "source": [
    "btc_df.max()"
   ],
   "metadata": {
    "executionCancelledAt": null,
    "executionTime": 49,
    "lastExecutedAt": 1740667684298,
    "lastExecutedByKernel": "2980c936-4158-42a3-a967-c5b3fc629330",
    "lastScheduledRunId": null,
    "lastSuccessfullyExecutedCode": "btc_df.max()",
    "outputsMetadata": {
     "0": {
      "height": 550,
      "type": "dataFrame",
      "tableState": {
       "customFilter": {
        "const": {
         "type": "boolean",
         "valid": true,
         "value": true
        },
        "id": "9124d19f-c4fa-49f7-9509-899ad8974bb3",
        "nodeType": "const"
       },
       "quickFilterText": ""
      }
     }
    }
   },
   "cell_type": "code",
   "id": "bf79362e-7a4c-4712-9410-9d43235651d4",
   "outputs": [
    {
     "output_type": "execute_result",
     "data": {
      "application/com.datacamp.data-table.v2+json": {
       "table": {
        "schema": {
         "fields": [
          {
           "name": "index",
           "type": "string"
          },
          {
           "name": "0",
           "type": "string"
          }
         ],
         "primaryKey": [
          "index"
         ],
         "pandas_version": "1.4.0"
        },
        "data": {
         "0": [
          "2025-01-13 11:00:00",
          5.0345322034,
          93,
          26,
          40,
          49,
          304,
          19,
          16,
          153,
          43,
          87,
          43,
          17,
          89,
          96,
          64,
          17,
          23,
          31,
          21,
          90,
          9,
          42,
          604,
          50,
          22,
          97,
          34,
          49,
          35,
          90,
          17,
          6,
          45,
          14,
          68,
          59,
          50,
          9,
          87,
          83,
          19,
          9,
          61,
          14,
          27,
          20,
          179,
          12,
          94,
          80,
          24,
          11,
          6,
          7,
          10,
          33,
          122,
          60,
          40,
          10,
          181,
          12,
          98,
          137,
          23,
          91,
          20,
          20,
          27,
          38,
          18,
          12,
          179,
          6,
          81,
          148,
          17,
          68,
          13,
          51,
          304,
          16,
          17,
          91,
          304,
          4,
          999,
          39,
          17,
          106,
          11,
          32,
          149,
          12,
          34,
          28,
          46,
          20,
          19,
          9,
          27,
          5,
          11,
          11,
          13,
          99,
          92,
          24,
          20,
          17,
          13,
          13,
          19,
          4,
          23,
          174,
          24,
          15,
          25,
          33,
          9,
          39,
          20,
          25,
          2,
          22,
          11,
          11,
          50,
          19,
          5,
          30,
          16,
          18,
          8,
          30,
          12,
          13,
          12,
          22,
          13,
          36,
          36,
          22,
          8,
          8,
          7,
          11,
          20,
          47,
          18,
          13,
          6,
          178,
          6,
          36,
          39,
          40,
          34,
          26,
          24,
          10,
          34,
          8,
          11,
          99,
          6,
          22,
          133,
          17,
          47,
          9,
          63,
          15,
          35,
          6,
          43,
          22,
          4,
          214,
          62,
          9,
          25,
          13,
          98,
          219,
          76,
          69,
          104,
          120,
          51,
          96,
          66,
          133,
          51,
          38,
          49,
          102,
          199,
          298,
          397,
          116,
          39,
          69,
          56,
          66,
          18,
          102,
          615,
          156,
          78,
          17,
          75,
          31,
          98,
          26,
          45,
          4,
          46,
          24,
          65,
          90,
          89,
          68,
          146,
          108,
          42,
          399,
          62,
          21,
          19,
          87,
          104,
          11,
          164,
          65,
          121,
          56,
          27,
          18,
          53,
          41,
          132,
          150,
          68,
          18,
          424,
          11,
          108,
          227,
          105,
          159,
          103,
          150,
          34,
          398,
          18,
          52,
          261,
          71,
          47,
          380,
          34,
          158,
          17,
          198,
          137,
          38,
          13,
          234,
          16,
          19,
          525,
          404,
          26,
          103,
          51,
          125,
          848
         ],
         "index": [
          "date",
          "listing_close",
          "twitter_hacks",
          "twitter_pessimistic_doubtful",
          "twitter_banks",
          "twitter_selling",
          "twitter_market_manipulation",
          "twitter_de_centralisation",
          "twitter_angry",
          "twitter_etf",
          "twitter_leverage",
          "twitter_bottom",
          "twitter_institutional_money",
          "twitter_fomo",
          "twitter_prediction",
          "twitter_adoption",
          "twitter_fearful_concerned",
          "twitter_portfolio",
          "twitter_fud_theme",
          "twitter_whitepaper",
          "twitter_announcements",
          "twitter_technical_analysis",
          "twitter_flippening",
          "twitter_community",
          "twitter_investing_trading",
          "twitter_euphoric_excited",
          "twitter_hodling",
          "twitter_ico",
          "twitter_bearish",
          "twitter_going_short",
          "twitter_uncertain",
          "twitter_volume",
          "twitter_risk",
          "twitter_governance",
          "twitter_ban",
          "twitter_cheap",
          "twitter_short_term_trading",
          "twitter_fork",
          "twitter_progress",
          "twitter_shilling",
          "twitter_bullish",
          "twitter_happy",
          "twitter_bubble",
          "twitter_bots",
          "twitter_hopeful",
          "twitter_bug",
          "twitter_open_source",
          "twitter_token_economics",
          "twitter_security",
          "twitter_marketing",
          "twitter_bad_news",
          "twitter_due_diligence",
          "twitter_team",
          "twitter_partnerships",
          "twitter_pump_and_dump",
          "twitter_sad",
          "twitter_panicking",
          "twitter_listing",
          "twitter_regulation_politics",
          "twitter_dip",
          "twitter_launch",
          "twitter_fomo_theme",
          "twitter_advice_support",
          "twitter_rebranding",
          "twitter_wallet",
          "twitter_good_news",
          "twitter_problems_and_issues",
          "twitter_mining",
          "twitter_waiting",
          "twitter_learning",
          "twitter_scaling",
          "twitter_fees",
          "twitter_roadmap",
          "twitter_recovery",
          "twitter_technology",
          "twitter_mistrustful",
          "twitter_marketcap",
          "twitter_positive",
          "twitter_tax",
          "twitter_long_term_investing",
          "twitter_strategy",
          "twitter_competition",
          "twitter_whales",
          "twitter_correction",
          "twitter_stablecoin",
          "twitter_buying",
          "twitter_warning",
          "twitter_annoyed_frustrated",
          "twitter_price",
          "twitter_use_case_applications",
          "twitter_rumor",
          "twitter_scam_fraud",
          "twitter_airdrop",
          "twitter_optimistic",
          "twitter_negative",
          "bitcointalk_hacks",
          "bitcointalk_pessimistic_doubtful",
          "bitcointalk_banks",
          "bitcointalk_selling",
          "bitcointalk_market_manipulation",
          "bitcointalk_de_centralisation",
          "bitcointalk_angry",
          "bitcointalk_etf",
          "bitcointalk_leverage",
          "bitcointalk_bottom",
          "bitcointalk_institutional_money",
          "bitcointalk_fomo",
          "bitcointalk_prediction",
          "bitcointalk_adoption",
          "bitcointalk_fearful_concerned",
          "bitcointalk_portfolio",
          "bitcointalk_fud_theme",
          "bitcointalk_whitepaper",
          "bitcointalk_announcements",
          "bitcointalk_technical_analysis",
          "bitcointalk_flippening",
          "bitcointalk_community",
          "bitcointalk_investing_trading",
          "bitcointalk_euphoric_excited",
          "bitcointalk_hodling",
          "bitcointalk_ico",
          "bitcointalk_bearish",
          "bitcointalk_going_short",
          "bitcointalk_uncertain",
          "bitcointalk_volume",
          "bitcointalk_risk",
          "bitcointalk_governance",
          "bitcointalk_ban",
          "bitcointalk_cheap",
          "bitcointalk_short_term_trading",
          "bitcointalk_fork",
          "bitcointalk_progress",
          "bitcointalk_shilling",
          "bitcointalk_bullish",
          "bitcointalk_happy",
          "bitcointalk_bubble",
          "bitcointalk_bots",
          "bitcointalk_hopeful",
          "bitcointalk_bug",
          "bitcointalk_open_source",
          "bitcointalk_token_economics",
          "bitcointalk_security",
          "bitcointalk_marketing",
          "bitcointalk_bad_news",
          "bitcointalk_due_diligence",
          "bitcointalk_team",
          "bitcointalk_partnerships",
          "bitcointalk_pump_and_dump",
          "bitcointalk_sad",
          "bitcointalk_panicking",
          "bitcointalk_listing",
          "bitcointalk_regulation_politics",
          "bitcointalk_dip",
          "bitcointalk_launch",
          "bitcointalk_fomo_theme",
          "bitcointalk_advice_support",
          "bitcointalk_rebranding",
          "bitcointalk_wallet",
          "bitcointalk_good_news",
          "bitcointalk_problems_and_issues",
          "bitcointalk_mining",
          "bitcointalk_waiting",
          "bitcointalk_learning",
          "bitcointalk_scaling",
          "bitcointalk_fees",
          "bitcointalk_roadmap",
          "bitcointalk_recovery",
          "bitcointalk_technology",
          "bitcointalk_mistrustful",
          "bitcointalk_marketcap",
          "bitcointalk_positive",
          "bitcointalk_tax",
          "bitcointalk_long_term_investing",
          "bitcointalk_strategy",
          "bitcointalk_competition",
          "bitcointalk_whales",
          "bitcointalk_correction",
          "bitcointalk_stablecoin",
          "bitcointalk_buying",
          "bitcointalk_warning",
          "bitcointalk_annoyed_frustrated",
          "bitcointalk_price",
          "bitcointalk_use_case_applications",
          "bitcointalk_rumor",
          "bitcointalk_scam_fraud",
          "bitcointalk_airdrop",
          "bitcointalk_optimistic",
          "bitcointalk_negative",
          "reddit_hacks",
          "reddit_pessimistic_doubtful",
          "reddit_banks",
          "reddit_selling",
          "reddit_market_manipulation",
          "reddit_de_centralisation",
          "reddit_angry",
          "reddit_etf",
          "reddit_leverage",
          "reddit_bottom",
          "reddit_institutional_money",
          "reddit_fomo",
          "reddit_prediction",
          "reddit_adoption",
          "reddit_fearful_concerned",
          "reddit_portfolio",
          "reddit_fud_theme",
          "reddit_whitepaper",
          "reddit_announcements",
          "reddit_technical_analysis",
          "reddit_flippening",
          "reddit_community",
          "reddit_investing_trading",
          "reddit_euphoric_excited",
          "reddit_hodling",
          "reddit_ico",
          "reddit_bearish",
          "reddit_going_short",
          "reddit_uncertain",
          "reddit_volume",
          "reddit_risk",
          "reddit_governance",
          "reddit_ban",
          "reddit_cheap",
          "reddit_short_term_trading",
          "reddit_fork",
          "reddit_progress",
          "reddit_shilling",
          "reddit_bullish",
          "reddit_happy",
          "reddit_bubble",
          "reddit_bots",
          "reddit_hopeful",
          "reddit_bug",
          "reddit_open_source",
          "reddit_token_economics",
          "reddit_security",
          "reddit_marketing",
          "reddit_bad_news",
          "reddit_due_diligence",
          "reddit_team",
          "reddit_partnerships",
          "reddit_pump_and_dump",
          "reddit_sad",
          "reddit_panicking",
          "reddit_listing",
          "reddit_regulation_politics",
          "reddit_dip",
          "reddit_launch",
          "reddit_fomo_theme",
          "reddit_advice_support",
          "reddit_rebranding",
          "reddit_wallet",
          "reddit_good_news",
          "reddit_problems_and_issues",
          "reddit_mining",
          "reddit_waiting",
          "reddit_learning",
          "reddit_scaling",
          "reddit_fees",
          "reddit_roadmap",
          "reddit_recovery",
          "reddit_technology",
          "reddit_mistrustful",
          "reddit_marketcap",
          "reddit_positive",
          "reddit_tax",
          "reddit_long_term_investing",
          "reddit_strategy",
          "reddit_competition",
          "reddit_whales",
          "reddit_correction",
          "reddit_stablecoin",
          "reddit_buying",
          "reddit_warning",
          "reddit_annoyed_frustrated",
          "reddit_price",
          "reddit_use_case_applications",
          "reddit_rumor",
          "reddit_scam_fraud",
          "reddit_airdrop",
          "reddit_optimistic",
          "reddit_negative"
         ]
        }
       },
       "total_rows": 281,
       "truncation_type": null
      },
      "text/plain": "date                            2025-01-13 11:00:00\nlisting_close                              5.034532\ntwitter_hacks                                  93.0\ntwitter_pessimistic_doubtful                   26.0\ntwitter_banks                                  40.0\n                                       ...         \nreddit_rumor                                   26.0\nreddit_scam_fraud                             103.0\nreddit_airdrop                                 51.0\nreddit_optimistic                             125.0\nreddit_negative                               848.0\nLength: 281, dtype: object"
     },
     "metadata": {
      "application/com.datacamp.data-table.v2+json": {
       "status": "success"
      }
     },
     "execution_count": 6
    }
   ],
   "execution_count": 6
  },
  {
   "source": [
    " The provided data reflects the count of individual social media posts. For example, \n",
    "there were \"x\" posts about crypto asset \"x\" labeled with the category \"fear.\" You can \n",
    "aggregate this data using a sum function. The total amount of processed posts per \n",
    "time period is not available. If a baseline is required, it is recommended to use a \n",
    "moving average."
   ],
   "metadata": {},
   "cell_type": "markdown",
   "id": "b35a328f-6bf4-44c0-ad84-f5dc60bf4386"
  },
  {
   "source": [
    "from sklearn.preprocessing import StandardScaler\n",
    "\n",
    "# Selecting columns to standardize (excluding 'listing_close')\n",
    "columns_to_standardize = btc_df.columns.difference(['listing_close', 'date'])\n",
    "\n",
    "# Applying StandardScaler to the selected columns\n",
    "scaler = StandardScaler()\n",
    "btc_df[columns_to_standardize] = scaler.fit_transform(btc_df[columns_to_standardize])\n",
    "\n",
    "btc_df.head()"
   ],
   "metadata": {
    "executionCancelledAt": null,
    "executionTime": null,
    "lastExecutedAt": null,
    "lastExecutedByKernel": null,
    "lastScheduledRunId": null,
    "lastSuccessfullyExecutedCode": null,
    "outputsMetadata": {
     "0": {
      "height": 260,
      "type": "dataFrame",
      "tableState": {
       "customFilter": {
        "const": {
         "type": "boolean",
         "valid": true,
         "value": true
        },
        "id": "7f39a181-a3a8-4be7-94d0-6eacbda2fcf8",
        "nodeType": "const"
       },
       "quickFilterText": ""
      }
     }
    }
   },
   "cell_type": "code",
   "id": "eee17715-d2b9-4265-afa4-bc68b01d6286",
   "outputs": [
    {
     "output_type": "execute_result",
     "data": {
      "application/com.datacamp.data-table.v2+json": {
       "table": {
        "schema": {
         "fields": [
          {
           "name": "index",
           "type": "integer"
          },
          {
           "name": "date",
           "type": "string"
          },
          {
           "name": "listing_close",
           "type": "number"
          },
          {
           "name": "twitter_hacks",
           "type": "number"
          },
          {
           "name": "twitter_pessimistic_doubtful",
           "type": "number"
          },
          {
           "name": "twitter_banks",
           "type": "number"
          },
          {
           "name": "twitter_selling",
           "type": "number"
          },
          {
           "name": "twitter_market_manipulation",
           "type": "number"
          },
          {
           "name": "twitter_de_centralisation",
           "type": "number"
          },
          {
           "name": "twitter_angry",
           "type": "number"
          },
          {
           "name": "twitter_etf",
           "type": "number"
          },
          {
           "name": "twitter_leverage",
           "type": "number"
          },
          {
           "name": "twitter_bottom",
           "type": "number"
          },
          {
           "name": "twitter_institutional_money",
           "type": "number"
          },
          {
           "name": "twitter_fomo",
           "type": "number"
          },
          {
           "name": "twitter_prediction",
           "type": "number"
          },
          {
           "name": "twitter_adoption",
           "type": "number"
          },
          {
           "name": "twitter_fearful_concerned",
           "type": "number"
          },
          {
           "name": "twitter_portfolio",
           "type": "number"
          },
          {
           "name": "twitter_fud_theme",
           "type": "number"
          },
          {
           "name": "twitter_whitepaper",
           "type": "number"
          },
          {
           "name": "twitter_announcements",
           "type": "number"
          },
          {
           "name": "twitter_technical_analysis",
           "type": "number"
          },
          {
           "name": "twitter_flippening",
           "type": "number"
          },
          {
           "name": "twitter_community",
           "type": "number"
          },
          {
           "name": "twitter_investing_trading",
           "type": "number"
          },
          {
           "name": "twitter_euphoric_excited",
           "type": "number"
          },
          {
           "name": "twitter_hodling",
           "type": "number"
          },
          {
           "name": "twitter_ico",
           "type": "number"
          },
          {
           "name": "twitter_bearish",
           "type": "number"
          },
          {
           "name": "twitter_going_short",
           "type": "number"
          },
          {
           "name": "twitter_uncertain",
           "type": "number"
          },
          {
           "name": "twitter_volume",
           "type": "number"
          },
          {
           "name": "twitter_risk",
           "type": "number"
          },
          {
           "name": "twitter_governance",
           "type": "number"
          },
          {
           "name": "twitter_ban",
           "type": "number"
          },
          {
           "name": "twitter_cheap",
           "type": "number"
          },
          {
           "name": "twitter_short_term_trading",
           "type": "number"
          },
          {
           "name": "twitter_fork",
           "type": "number"
          },
          {
           "name": "twitter_progress",
           "type": "number"
          },
          {
           "name": "twitter_shilling",
           "type": "number"
          },
          {
           "name": "twitter_bullish",
           "type": "number"
          },
          {
           "name": "twitter_happy",
           "type": "number"
          },
          {
           "name": "twitter_bubble",
           "type": "number"
          },
          {
           "name": "twitter_bots",
           "type": "number"
          },
          {
           "name": "twitter_hopeful",
           "type": "number"
          },
          {
           "name": "twitter_bug",
           "type": "number"
          },
          {
           "name": "twitter_open_source",
           "type": "number"
          },
          {
           "name": "twitter_token_economics",
           "type": "number"
          },
          {
           "name": "twitter_security",
           "type": "number"
          },
          {
           "name": "twitter_marketing",
           "type": "number"
          },
          {
           "name": "twitter_bad_news",
           "type": "number"
          },
          {
           "name": "twitter_due_diligence",
           "type": "number"
          },
          {
           "name": "twitter_team",
           "type": "number"
          },
          {
           "name": "twitter_partnerships",
           "type": "number"
          },
          {
           "name": "twitter_pump_and_dump",
           "type": "number"
          },
          {
           "name": "twitter_sad",
           "type": "number"
          },
          {
           "name": "twitter_panicking",
           "type": "number"
          },
          {
           "name": "twitter_listing",
           "type": "number"
          },
          {
           "name": "twitter_regulation_politics",
           "type": "number"
          },
          {
           "name": "twitter_dip",
           "type": "number"
          },
          {
           "name": "twitter_launch",
           "type": "number"
          },
          {
           "name": "twitter_fomo_theme",
           "type": "number"
          },
          {
           "name": "twitter_advice_support",
           "type": "number"
          },
          {
           "name": "twitter_rebranding",
           "type": "number"
          },
          {
           "name": "twitter_wallet",
           "type": "number"
          },
          {
           "name": "twitter_good_news",
           "type": "number"
          },
          {
           "name": "twitter_problems_and_issues",
           "type": "number"
          },
          {
           "name": "twitter_mining",
           "type": "number"
          },
          {
           "name": "twitter_waiting",
           "type": "number"
          },
          {
           "name": "twitter_learning",
           "type": "number"
          },
          {
           "name": "twitter_scaling",
           "type": "number"
          },
          {
           "name": "twitter_fees",
           "type": "number"
          },
          {
           "name": "twitter_roadmap",
           "type": "number"
          },
          {
           "name": "twitter_recovery",
           "type": "number"
          },
          {
           "name": "twitter_technology",
           "type": "number"
          },
          {
           "name": "twitter_mistrustful",
           "type": "number"
          },
          {
           "name": "twitter_marketcap",
           "type": "number"
          },
          {
           "name": "twitter_positive",
           "type": "number"
          },
          {
           "name": "twitter_tax",
           "type": "number"
          },
          {
           "name": "twitter_long_term_investing",
           "type": "number"
          },
          {
           "name": "twitter_strategy",
           "type": "number"
          },
          {
           "name": "twitter_competition",
           "type": "number"
          },
          {
           "name": "twitter_whales",
           "type": "number"
          },
          {
           "name": "twitter_correction",
           "type": "number"
          },
          {
           "name": "twitter_stablecoin",
           "type": "number"
          },
          {
           "name": "twitter_buying",
           "type": "number"
          },
          {
           "name": "twitter_warning",
           "type": "number"
          },
          {
           "name": "twitter_annoyed_frustrated",
           "type": "number"
          },
          {
           "name": "twitter_price",
           "type": "number"
          },
          {
           "name": "twitter_use_case_applications",
           "type": "number"
          },
          {
           "name": "twitter_rumor",
           "type": "number"
          },
          {
           "name": "twitter_scam_fraud",
           "type": "number"
          },
          {
           "name": "twitter_airdrop",
           "type": "number"
          },
          {
           "name": "twitter_optimistic",
           "type": "number"
          },
          {
           "name": "twitter_negative",
           "type": "number"
          },
          {
           "name": "bitcointalk_hacks",
           "type": "number"
          },
          {
           "name": "bitcointalk_pessimistic_doubtful",
           "type": "number"
          },
          {
           "name": "bitcointalk_banks",
           "type": "number"
          },
          {
           "name": "bitcointalk_selling",
           "type": "number"
          },
          {
           "name": "bitcointalk_market_manipulation",
           "type": "number"
          },
          {
           "name": "bitcointalk_de_centralisation",
           "type": "number"
          },
          {
           "name": "bitcointalk_angry",
           "type": "number"
          },
          {
           "name": "bitcointalk_etf",
           "type": "number"
          },
          {
           "name": "bitcointalk_leverage",
           "type": "number"
          },
          {
           "name": "bitcointalk_bottom",
           "type": "number"
          },
          {
           "name": "bitcointalk_institutional_money",
           "type": "number"
          },
          {
           "name": "bitcointalk_fomo",
           "type": "number"
          },
          {
           "name": "bitcointalk_prediction",
           "type": "number"
          },
          {
           "name": "bitcointalk_adoption",
           "type": "number"
          },
          {
           "name": "bitcointalk_fearful_concerned",
           "type": "number"
          },
          {
           "name": "bitcointalk_portfolio",
           "type": "number"
          },
          {
           "name": "bitcointalk_fud_theme",
           "type": "number"
          },
          {
           "name": "bitcointalk_whitepaper",
           "type": "number"
          },
          {
           "name": "bitcointalk_announcements",
           "type": "number"
          },
          {
           "name": "bitcointalk_technical_analysis",
           "type": "number"
          },
          {
           "name": "bitcointalk_flippening",
           "type": "number"
          },
          {
           "name": "bitcointalk_community",
           "type": "number"
          },
          {
           "name": "bitcointalk_investing_trading",
           "type": "number"
          },
          {
           "name": "bitcointalk_euphoric_excited",
           "type": "number"
          },
          {
           "name": "bitcointalk_hodling",
           "type": "number"
          },
          {
           "name": "bitcointalk_ico",
           "type": "number"
          },
          {
           "name": "bitcointalk_bearish",
           "type": "number"
          },
          {
           "name": "bitcointalk_going_short",
           "type": "number"
          },
          {
           "name": "bitcointalk_uncertain",
           "type": "number"
          },
          {
           "name": "bitcointalk_volume",
           "type": "number"
          },
          {
           "name": "bitcointalk_risk",
           "type": "number"
          },
          {
           "name": "bitcointalk_governance",
           "type": "number"
          },
          {
           "name": "bitcointalk_ban",
           "type": "number"
          },
          {
           "name": "bitcointalk_cheap",
           "type": "number"
          },
          {
           "name": "bitcointalk_short_term_trading",
           "type": "number"
          },
          {
           "name": "bitcointalk_fork",
           "type": "number"
          },
          {
           "name": "bitcointalk_progress",
           "type": "number"
          },
          {
           "name": "bitcointalk_shilling",
           "type": "number"
          },
          {
           "name": "bitcointalk_bullish",
           "type": "number"
          },
          {
           "name": "bitcointalk_happy",
           "type": "number"
          },
          {
           "name": "bitcointalk_bubble",
           "type": "number"
          },
          {
           "name": "bitcointalk_bots",
           "type": "number"
          },
          {
           "name": "bitcointalk_hopeful",
           "type": "number"
          },
          {
           "name": "bitcointalk_bug",
           "type": "number"
          },
          {
           "name": "bitcointalk_open_source",
           "type": "number"
          },
          {
           "name": "bitcointalk_token_economics",
           "type": "number"
          },
          {
           "name": "bitcointalk_security",
           "type": "number"
          },
          {
           "name": "bitcointalk_marketing",
           "type": "number"
          },
          {
           "name": "bitcointalk_bad_news",
           "type": "number"
          },
          {
           "name": "bitcointalk_due_diligence",
           "type": "number"
          },
          {
           "name": "bitcointalk_team",
           "type": "number"
          },
          {
           "name": "bitcointalk_partnerships",
           "type": "number"
          },
          {
           "name": "bitcointalk_pump_and_dump",
           "type": "number"
          },
          {
           "name": "bitcointalk_sad",
           "type": "number"
          },
          {
           "name": "bitcointalk_panicking",
           "type": "number"
          },
          {
           "name": "bitcointalk_listing",
           "type": "number"
          },
          {
           "name": "bitcointalk_regulation_politics",
           "type": "number"
          },
          {
           "name": "bitcointalk_dip",
           "type": "number"
          },
          {
           "name": "bitcointalk_launch",
           "type": "number"
          },
          {
           "name": "bitcointalk_fomo_theme",
           "type": "number"
          },
          {
           "name": "bitcointalk_advice_support",
           "type": "number"
          },
          {
           "name": "bitcointalk_rebranding",
           "type": "number"
          },
          {
           "name": "bitcointalk_wallet",
           "type": "number"
          },
          {
           "name": "bitcointalk_good_news",
           "type": "number"
          },
          {
           "name": "bitcointalk_problems_and_issues",
           "type": "number"
          },
          {
           "name": "bitcointalk_mining",
           "type": "number"
          },
          {
           "name": "bitcointalk_waiting",
           "type": "number"
          },
          {
           "name": "bitcointalk_learning",
           "type": "number"
          },
          {
           "name": "bitcointalk_scaling",
           "type": "number"
          },
          {
           "name": "bitcointalk_fees",
           "type": "number"
          },
          {
           "name": "bitcointalk_roadmap",
           "type": "number"
          },
          {
           "name": "bitcointalk_recovery",
           "type": "number"
          },
          {
           "name": "bitcointalk_technology",
           "type": "number"
          },
          {
           "name": "bitcointalk_mistrustful",
           "type": "number"
          },
          {
           "name": "bitcointalk_marketcap",
           "type": "number"
          },
          {
           "name": "bitcointalk_positive",
           "type": "number"
          },
          {
           "name": "bitcointalk_tax",
           "type": "number"
          },
          {
           "name": "bitcointalk_long_term_investing",
           "type": "number"
          },
          {
           "name": "bitcointalk_strategy",
           "type": "number"
          },
          {
           "name": "bitcointalk_competition",
           "type": "number"
          },
          {
           "name": "bitcointalk_whales",
           "type": "number"
          },
          {
           "name": "bitcointalk_correction",
           "type": "number"
          },
          {
           "name": "bitcointalk_stablecoin",
           "type": "number"
          },
          {
           "name": "bitcointalk_buying",
           "type": "number"
          },
          {
           "name": "bitcointalk_warning",
           "type": "number"
          },
          {
           "name": "bitcointalk_annoyed_frustrated",
           "type": "number"
          },
          {
           "name": "bitcointalk_price",
           "type": "number"
          },
          {
           "name": "bitcointalk_use_case_applications",
           "type": "number"
          },
          {
           "name": "bitcointalk_rumor",
           "type": "number"
          },
          {
           "name": "bitcointalk_scam_fraud",
           "type": "number"
          },
          {
           "name": "bitcointalk_airdrop",
           "type": "number"
          },
          {
           "name": "bitcointalk_optimistic",
           "type": "number"
          },
          {
           "name": "bitcointalk_negative",
           "type": "number"
          },
          {
           "name": "reddit_hacks",
           "type": "number"
          },
          {
           "name": "reddit_pessimistic_doubtful",
           "type": "number"
          },
          {
           "name": "reddit_banks",
           "type": "number"
          },
          {
           "name": "reddit_selling",
           "type": "number"
          },
          {
           "name": "reddit_market_manipulation",
           "type": "number"
          },
          {
           "name": "reddit_de_centralisation",
           "type": "number"
          },
          {
           "name": "reddit_angry",
           "type": "number"
          },
          {
           "name": "reddit_etf",
           "type": "number"
          },
          {
           "name": "reddit_leverage",
           "type": "number"
          },
          {
           "name": "reddit_bottom",
           "type": "number"
          },
          {
           "name": "reddit_institutional_money",
           "type": "number"
          },
          {
           "name": "reddit_fomo",
           "type": "number"
          },
          {
           "name": "reddit_prediction",
           "type": "number"
          },
          {
           "name": "reddit_adoption",
           "type": "number"
          },
          {
           "name": "reddit_fearful_concerned",
           "type": "number"
          },
          {
           "name": "reddit_portfolio",
           "type": "number"
          },
          {
           "name": "reddit_fud_theme",
           "type": "number"
          },
          {
           "name": "reddit_whitepaper",
           "type": "number"
          },
          {
           "name": "reddit_announcements",
           "type": "number"
          },
          {
           "name": "reddit_technical_analysis",
           "type": "number"
          },
          {
           "name": "reddit_flippening",
           "type": "number"
          },
          {
           "name": "reddit_community",
           "type": "number"
          },
          {
           "name": "reddit_investing_trading",
           "type": "number"
          },
          {
           "name": "reddit_euphoric_excited",
           "type": "number"
          },
          {
           "name": "reddit_hodling",
           "type": "number"
          },
          {
           "name": "reddit_ico",
           "type": "number"
          },
          {
           "name": "reddit_bearish",
           "type": "number"
          },
          {
           "name": "reddit_going_short",
           "type": "number"
          },
          {
           "name": "reddit_uncertain",
           "type": "number"
          },
          {
           "name": "reddit_volume",
           "type": "number"
          },
          {
           "name": "reddit_risk",
           "type": "number"
          },
          {
           "name": "reddit_governance",
           "type": "number"
          },
          {
           "name": "reddit_ban",
           "type": "number"
          },
          {
           "name": "reddit_cheap",
           "type": "number"
          },
          {
           "name": "reddit_short_term_trading",
           "type": "number"
          },
          {
           "name": "reddit_fork",
           "type": "number"
          },
          {
           "name": "reddit_progress",
           "type": "number"
          },
          {
           "name": "reddit_shilling",
           "type": "number"
          },
          {
           "name": "reddit_bullish",
           "type": "number"
          },
          {
           "name": "reddit_happy",
           "type": "number"
          },
          {
           "name": "reddit_bubble",
           "type": "number"
          },
          {
           "name": "reddit_bots",
           "type": "number"
          },
          {
           "name": "reddit_hopeful",
           "type": "number"
          },
          {
           "name": "reddit_bug",
           "type": "number"
          },
          {
           "name": "reddit_open_source",
           "type": "number"
          },
          {
           "name": "reddit_token_economics",
           "type": "number"
          },
          {
           "name": "reddit_security",
           "type": "number"
          },
          {
           "name": "reddit_marketing",
           "type": "number"
          },
          {
           "name": "reddit_bad_news",
           "type": "number"
          },
          {
           "name": "reddit_due_diligence",
           "type": "number"
          },
          {
           "name": "reddit_team",
           "type": "number"
          },
          {
           "name": "reddit_partnerships",
           "type": "number"
          },
          {
           "name": "reddit_pump_and_dump",
           "type": "number"
          },
          {
           "name": "reddit_sad",
           "type": "number"
          },
          {
           "name": "reddit_panicking",
           "type": "number"
          },
          {
           "name": "reddit_listing",
           "type": "number"
          },
          {
           "name": "reddit_regulation_politics",
           "type": "number"
          },
          {
           "name": "reddit_dip",
           "type": "number"
          },
          {
           "name": "reddit_launch",
           "type": "number"
          },
          {
           "name": "reddit_fomo_theme",
           "type": "number"
          },
          {
           "name": "reddit_advice_support",
           "type": "number"
          },
          {
           "name": "reddit_rebranding",
           "type": "number"
          },
          {
           "name": "reddit_wallet",
           "type": "number"
          },
          {
           "name": "reddit_good_news",
           "type": "number"
          },
          {
           "name": "reddit_problems_and_issues",
           "type": "number"
          },
          {
           "name": "reddit_mining",
           "type": "number"
          },
          {
           "name": "reddit_waiting",
           "type": "number"
          },
          {
           "name": "reddit_learning",
           "type": "number"
          },
          {
           "name": "reddit_scaling",
           "type": "number"
          },
          {
           "name": "reddit_fees",
           "type": "number"
          },
          {
           "name": "reddit_roadmap",
           "type": "number"
          },
          {
           "name": "reddit_recovery",
           "type": "number"
          },
          {
           "name": "reddit_technology",
           "type": "number"
          },
          {
           "name": "reddit_mistrustful",
           "type": "number"
          },
          {
           "name": "reddit_marketcap",
           "type": "number"
          },
          {
           "name": "reddit_positive",
           "type": "number"
          },
          {
           "name": "reddit_tax",
           "type": "number"
          },
          {
           "name": "reddit_long_term_investing",
           "type": "number"
          },
          {
           "name": "reddit_strategy",
           "type": "number"
          },
          {
           "name": "reddit_competition",
           "type": "number"
          },
          {
           "name": "reddit_whales",
           "type": "number"
          },
          {
           "name": "reddit_correction",
           "type": "number"
          },
          {
           "name": "reddit_stablecoin",
           "type": "number"
          },
          {
           "name": "reddit_buying",
           "type": "number"
          },
          {
           "name": "reddit_warning",
           "type": "number"
          },
          {
           "name": "reddit_annoyed_frustrated",
           "type": "number"
          },
          {
           "name": "reddit_price",
           "type": "number"
          },
          {
           "name": "reddit_use_case_applications",
           "type": "number"
          },
          {
           "name": "reddit_rumor",
           "type": "number"
          },
          {
           "name": "reddit_scam_fraud",
           "type": "number"
          },
          {
           "name": "reddit_airdrop",
           "type": "number"
          },
          {
           "name": "reddit_optimistic",
           "type": "number"
          },
          {
           "name": "reddit_negative",
           "type": "number"
          }
         ],
         "primaryKey": [
          "index"
         ],
         "pandas_version": "1.4.0"
        },
        "data": {
         "index": [
          0,
          1,
          2,
          3,
          4
         ],
         "date": [
          "2016-11-01 23:00:00",
          "2016-11-02 00:00:00",
          "2016-11-02 01:00:00",
          "2016-11-02 02:00:00",
          "2016-11-02 03:00:00"
         ],
         "listing_close": [
          2.8612953935,
          2.8585131363,
          2.8588318404,
          2.858332634,
          2.8602721086
         ],
         "twitter_hacks": [
          -0.2367980616,
          -0.2367980616,
          -0.2367980616,
          -0.2367980616,
          -0.2367980616
         ],
         "twitter_pessimistic_doubtful": [
          -0.5717416779,
          -0.5717416779,
          -0.5717416779,
          1.8662850606,
          -0.5717416779
         ],
         "twitter_banks": [
          -0.6820007661,
          -0.1572629165,
          -0.6820007661,
          -0.6820007661,
          -0.6820007661
         ],
         "twitter_selling": [
          -0.2651101583,
          -0.7658118629,
          -0.2651101583,
          -0.7658118629,
          -0.7658118629
         ],
         "twitter_market_manipulation": [
          -0.3000559945,
          -0.0017433291,
          -0.3000559945,
          -0.3000559945,
          -0.3000559945
         ],
         "twitter_de_centralisation": [
          -0.6339895136,
          -0.6339895136,
          -0.6339895136,
          -0.6339895136,
          -0.6339895136
         ],
         "twitter_angry": [
          -0.4890935554,
          -0.4890935554,
          -0.4890935554,
          -0.4890935554,
          -0.4890935554
         ],
         "twitter_etf": [
          -0.307368488,
          -0.307368488,
          -0.307368488,
          -0.307368488,
          0.4673887541
         ],
         "twitter_leverage": [
          -0.3732194858,
          -0.3732194858,
          -0.3732194858,
          -0.3732194858,
          -0.3732194858
         ],
         "twitter_bottom": [
          -0.5120922235,
          -0.5120922235,
          -0.5120922235,
          -0.5120922235,
          -0.5120922235
         ],
         "twitter_institutional_money": [
          -0.5075778978,
          -0.5075778978,
          -0.5075778978,
          -0.5075778978,
          -0.5075778978
         ],
         "twitter_fomo": [
          -0.5422137975,
          -0.5422137975,
          -0.5422137975,
          -0.5422137975,
          -0.5422137975
         ],
         "twitter_prediction": [
          -1.064525453,
          -1.2097702314,
          -0.9192806747,
          -0.7740358964,
          -1.064525453
         ],
         "twitter_adoption": [
          -0.4176029016,
          -0.5818032448,
          -0.5818032448,
          -0.5818032448,
          0.0749981281
         ],
         "twitter_fearful_concerned": [
          -0.5512281956,
          0.3610624017,
          0.3610624017,
          -0.5512281956,
          -0.5512281956
         ],
         "twitter_portfolio": [
          -0.5881567515,
          -0.5881567515,
          -0.5881567515,
          -0.5881567515,
          -0.5881567515
         ],
         "twitter_fud_theme": [
          -0.3225053885,
          -0.3225053885,
          -0.3225053885,
          -0.3225053885,
          -0.3225053885
         ],
         "twitter_whitepaper": [
          1.1810478549,
          -0.2504752045,
          -0.2504752045,
          -0.2504752045,
          -0.2504752045
         ],
         "twitter_announcements": [
          -0.4812900655,
          -0.4812900655,
          -0.4812900655,
          -0.4812900655,
          -0.4812900655
         ],
         "twitter_technical_analysis": [
          -0.9073412423,
          -1.0751074227,
          -0.9073412423,
          -0.7395750618,
          -0.9073412423
         ],
         "twitter_flippening": [
          -0.1771100207,
          -0.1771100207,
          -0.1771100207,
          -0.1771100207,
          -0.1771100207
         ],
         "twitter_community": [
          -0.5477418116,
          -0.5477418116,
          -0.5477418116,
          0.5093664957,
          -0.5477418116
         ],
         "twitter_investing_trading": [
          -0.723113635,
          -0.8286215509,
          -0.723113635,
          -0.6176057191,
          -0.5648517612
         ],
         "twitter_euphoric_excited": [
          -0.0559018145,
          -0.8531252511,
          -0.8531252511,
          -0.8531252511,
          -0.0559018145
         ],
         "twitter_hodling": [
          -0.5265910655,
          -0.5265910655,
          -0.5265910655,
          -0.5265910655,
          -0.5265910655
         ],
         "twitter_ico": [
          -0.3794699204,
          0.0328444801,
          -0.3794699204,
          -0.3794699204,
          0.4451588806
         ],
         "twitter_bearish": [
          -0.8694483225,
          -0.507256722,
          -0.8694483225,
          -0.507256722,
          -0.8694483225
         ],
         "twitter_going_short": [
          -0.4786821274,
          -0.4786821274,
          -0.4786821274,
          1.13255E-4,
          -0.4786821274
         ],
         "twitter_uncertain": [
          -0.3258172536,
          -1.0442696643,
          -1.0442696643,
          -1.0442696643,
          -0.6850434589
         ],
         "twitter_volume": [
          -0.6317393168,
          -0.6317393168,
          -0.4559004563,
          -0.6317393168,
          -0.6317393168
         ],
         "twitter_risk": [
          -0.6292963337,
          -0.6292963337,
          -0.6292963337,
          -0.6292963337,
          -0.6292963337
         ],
         "twitter_governance": [
          -0.1059669772,
          -0.1059669772,
          -0.1059669772,
          -0.1059669772,
          -0.1059669772
         ],
         "twitter_ban": [
          -0.4405029035,
          0.0759237505,
          -0.4405029035,
          -0.4405029035,
          -0.4405029035
         ],
         "twitter_cheap": [
          -0.4037554118,
          -0.4037554118,
          -0.4037554118,
          -0.4037554118,
          -0.4037554118
         ],
         "twitter_short_term_trading": [
          -0.7910882984,
          -0.7910882984,
          -0.7910882984,
          -0.7910882984,
          -0.7910882984
         ],
         "twitter_fork": [
          -0.400814411,
          -0.400814411,
          -0.400814411,
          -0.400814411,
          -0.400814411
         ],
         "twitter_progress": [
          -0.7063824708,
          -0.7063824708,
          -0.7063824708,
          -0.0762218269,
          0.553938817
         ],
         "twitter_shilling": [
          -0.301626184,
          -0.301626184,
          -0.301626184,
          -0.301626184,
          -0.301626184
         ],
         "twitter_bullish": [
          -0.9111002489,
          -1.1254404633,
          -0.9111002489,
          -0.9111002489,
          -0.9111002489
         ],
         "twitter_happy": [
          -0.5036850561,
          -0.5036850561,
          -0.5036850561,
          -0.5036850561,
          -0.5036850561
         ],
         "twitter_bubble": [
          -0.340477523,
          -0.340477523,
          -0.340477523,
          -0.340477523,
          -0.340477523
         ],
         "twitter_bots": [
          -0.341774658,
          -0.341774658,
          -0.341774658,
          -0.341774658,
          -0.341774658
         ],
         "twitter_hopeful": [
          -0.6883542259,
          -0.6883542259,
          -0.6883542259,
          -0.6883542259,
          -0.6883542259
         ],
         "twitter_bug": [
          -0.2635250625,
          -0.2635250625,
          -0.2635250625,
          -0.2635250625,
          -0.2635250625
         ],
         "twitter_open_source": [
          -0.2752322245,
          -0.2752322245,
          -0.2752322245,
          -0.2752322245,
          -0.2752322245
         ],
         "twitter_token_economics": [
          -0.3382025698,
          -0.3382025698,
          -0.3382025698,
          -0.3382025698,
          -0.3382025698
         ],
         "twitter_security": [
          -0.5282258803,
          -0.5282258803,
          -0.5282258803,
          0.2276340658,
          -0.5282258803
         ],
         "twitter_marketing": [
          -0.3295531637,
          -0.3295531637,
          -0.3295531637,
          -0.3295531637,
          -0.3295531637
         ],
         "twitter_bad_news": [
          -0.5689303443,
          -0.5689303443,
          -0.8583262273,
          -0.8583262273,
          -0.8583262273
         ],
         "twitter_due_diligence": [
          -0.4877988173,
          -0.7213091928,
          -0.7213091928,
          -0.2542884418,
          -0.2542884418
         ],
         "twitter_team": [
          -0.7349416192,
          -0.7349416192,
          -0.0518128138,
          -0.0518128138,
          -0.0518128138
         ],
         "twitter_partnerships": [
          -0.3467852942,
          -0.3467852942,
          -0.3467852942,
          -0.3467852942,
          -0.3467852942
         ],
         "twitter_pump_and_dump": [
          -0.1525599981,
          -0.1525599981,
          -0.1525599981,
          -0.1525599981,
          -0.1525599981
         ],
         "twitter_sad": [
          -0.3123208628,
          -0.3123208628,
          -0.3123208628,
          -0.3123208628,
          -0.3123208628
         ],
         "twitter_panicking": [
          -0.2244330327,
          -0.2244330327,
          -0.2244330327,
          -0.2244330327,
          -0.2244330327
         ],
         "twitter_listing": [
          -0.7088841318,
          -0.7088841318,
          -0.7088841318,
          -0.7088841318,
          -0.7088841318
         ],
         "twitter_regulation_politics": [
          -0.5268632687,
          -0.8154101094,
          -0.2383164281,
          0.0502304126,
          -0.2383164281
         ],
         "twitter_dip": [
          -0.4626936516,
          -0.4626936516,
          -0.4626936516,
          -0.4626936516,
          0.2289888937
         ],
         "twitter_launch": [
          -0.4458944947,
          -0.4458944947,
          0.4834866555,
          -0.4458944947,
          -0.4458944947
         ],
         "twitter_fomo_theme": [
          -0.3233933149,
          -0.3233933149,
          -0.3233933149,
          -0.3233933149,
          -0.3233933149
         ],
         "twitter_advice_support": [
          -0.6821592285,
          -0.8307519907,
          -0.6821592285,
          -0.979344753,
          -0.5335664663
         ],
         "twitter_rebranding": [
          -0.1074108516,
          -0.1074108516,
          -0.1074108516,
          -0.1074108516,
          -0.1074108516
         ],
         "twitter_wallet": [
          -0.5008530763,
          -0.5008530763,
          -0.5008530763,
          -0.5008530763,
          0.2362750605
         ],
         "twitter_good_news": [
          -0.7074757803,
          -0.7074757803,
          -0.6053005202,
          -0.6053005202,
          0.1099263004
         ],
         "twitter_problems_and_issues": [
          -0.7793703496,
          -0.7793703496,
          -0.0632985584,
          -0.7793703496,
          -0.7793703496
         ],
         "twitter_mining": [
          -0.8424146069,
          -0.6459373141,
          -0.8424146069,
          -0.8424146069,
          -0.4494600213
         ],
         "twitter_waiting": [
          -0.6238750243,
          -0.6238750243,
          -0.6238750243,
          -0.6238750243,
          -0.6238750243
         ],
         "twitter_learning": [
          -0.1513630855,
          -0.1513630855,
          0.558107572,
          -0.1513630855,
          0.558107572
         ],
         "twitter_scaling": [
          -0.4123003944,
          -0.4123003944,
          -0.4123003944,
          0.8063554578,
          -0.4123003944
         ],
         "twitter_fees": [
          -0.5504608959,
          -0.5504608959,
          -0.0799997932,
          -0.5504608959,
          -0.5504608959
         ],
         "twitter_roadmap": [
          -0.1895112717,
          -0.1895112717,
          -0.1895112717,
          -0.1895112717,
          -0.1895112717
         ],
         "twitter_recovery": [
          -0.2835308349,
          -0.2835308349,
          -0.2835308349,
          -0.2835308349,
          -0.2835308349
         ],
         "twitter_technology": [
          -0.862952038,
          -0.497910707,
          -0.6439272394,
          -0.7169355056,
          -0.497910707
         ],
         "twitter_mistrustful": [
          -0.2535218978,
          -0.2535218978,
          -0.2535218978,
          -0.2535218978,
          -0.2535218978
         ],
         "twitter_marketcap": [
          -0.4601268086,
          -0.4601268086,
          -0.4601268086,
          -0.4601268086,
          -0.4601268086
         ],
         "twitter_positive": [
          -0.8984527099,
          -0.6666419118,
          -1.014358109,
          -1.014358109,
          -1.014358109
         ],
         "twitter_tax": [
          -0.3569140441,
          -0.3569140441,
          -0.3569140441,
          -0.3569140441,
          -0.3569140441
         ],
         "twitter_long_term_investing": [
          -0.6105519704,
          -1.0045217183,
          -0.6105519704,
          -0.6105519704,
          -0.6105519704
         ],
         "twitter_strategy": [
          -0.380345773,
          -0.380345773,
          -0.380345773,
          -0.380345773,
          -0.380345773
         ],
         "twitter_competition": [
          -0.4203519135,
          -0.6282426888,
          -1.0440242392,
          -0.836133464,
          -1.0440242392
         ],
         "twitter_whales": [
          -0.3284515117,
          -0.0554200429,
          -0.3284515117,
          -0.3284515117,
          -0.3284515117
         ],
         "twitter_correction": [
          -0.4219895698,
          -0.4219895698,
          -0.4219895698,
          -0.4219895698,
          -0.4219895698
         ],
         "twitter_stablecoin": [
          -0.2593755228,
          -0.2593755228,
          -0.2593755228,
          -0.2593755228,
          -0.2593755228
         ],
         "twitter_buying": [
          0.0709137794,
          -0.9123975099,
          -0.9123975099,
          -0.9123975099,
          -0.9123975099
         ],
         "twitter_warning": [
          0.0902304261,
          -0.2642642163,
          -0.2642642163,
          -0.2642642163,
          -0.2642642163
         ],
         "twitter_annoyed_frustrated": [
          -0.2217863567,
          -0.2217863567,
          -0.2217863567,
          -0.2217863567,
          -0.2217863567
         ],
         "twitter_price": [
          -0.8059282038,
          -0.8059282038,
          -0.8059282038,
          -0.8418770759,
          -0.6980815876
         ],
         "twitter_use_case_applications": [
          -0.5973313961,
          -0.5973313961,
          -0.5973313961,
          -0.2694267047,
          1.6980014438
         ],
         "twitter_rumor": [
          -0.3089438405,
          -0.3089438405,
          -0.3089438405,
          -0.3089438405,
          -0.3089438405
         ],
         "twitter_scam_fraud": [
          -0.1426640536,
          -0.7146972421,
          -0.7146972421,
          -0.7146972421,
          -0.7146972421
         ],
         "twitter_airdrop": [
          -0.2816944944,
          -0.2816944944,
          -0.2816944944,
          -0.2816944944,
          -0.2816944944
         ],
         "twitter_optimistic": [
          -0.9823363866,
          -0.203337134,
          -0.203337134,
          -0.9823363866,
          -0.5928367603
         ],
         "twitter_negative": [
          -0.8229739949,
          -0.8229739949,
          -0.7207580821,
          -0.9251899078,
          -1.2318376464
         ],
         "bitcointalk_hacks": [
          -0.4388048042,
          0.9192376759,
          -0.4388048042,
          -0.4388048042,
          -0.4388048042
         ],
         "bitcointalk_pessimistic_doubtful": [
          -0.7867679561,
          -0.7867679561,
          -0.3771904237,
          -0.3771904237,
          0.4419646411
         ],
         "bitcointalk_banks": [
          0.087207645,
          -0.7346552243,
          0.087207645,
          1.7309333837,
          -0.3237237896
         ],
         "bitcointalk_selling": [
          -0.7717008793,
          -0.3491316173,
          -0.3491316173,
          -0.3491316173,
          -0.3491316173
         ],
         "bitcointalk_market_manipulation": [
          -0.608628719,
          -0.608628719,
          -0.608628719,
          -0.608628719,
          -0.608628719
         ],
         "bitcointalk_de_centralisation": [
          -0.9102098073,
          -0.9102098073,
          -0.9102098073,
          -0.3871506644,
          -0.3871506644
         ],
         "bitcointalk_angry": [
          -0.4350346733,
          -0.4350346733,
          -0.4350346733,
          -0.4350346733,
          -0.4350346733
         ],
         "bitcointalk_etf": [
          -0.3409981569,
          -0.3409981569,
          -0.3409981569,
          -0.3409981569,
          -0.3409981569
         ],
         "bitcointalk_leverage": [
          -0.3065136283,
          -0.3065136283,
          -0.3065136283,
          -0.3065136283,
          -0.3065136283
         ],
         "bitcointalk_bottom": [
          -0.5271694415,
          -0.5271694415,
          -0.5271694415,
          0.7140958532,
          0.7140958532
         ],
         "bitcointalk_institutional_money": [
          -0.5228591667,
          -0.5228591667,
          -0.5228591667,
          -0.5228591667,
          -0.5228591667
         ],
         "bitcointalk_fomo": [
          -0.5938271949,
          -0.5938271949,
          -0.5938271949,
          -0.5938271949,
          -0.5938271949
         ],
         "bitcointalk_prediction": [
          -0.1627509023,
          -0.5998489813,
          -0.4905744615,
          -0.272025422,
          -0.5998489813
         ],
         "bitcointalk_adoption": [
          -0.6271900562,
          -0.277231162,
          -0.1605781972,
          0.189380697,
          0.7726455208
         ],
         "bitcointalk_fearful_concerned": [
          0.0480882558,
          -0.6899119264,
          -0.6899119264,
          -0.6899119264,
          0.7860884379
         ],
         "bitcointalk_portfolio": [
          0.7880589021,
          0.0048711534,
          0.0048711534,
          -0.7783165953,
          0.0048711534
         ],
         "bitcointalk_fud_theme": [
          -0.4798539352,
          -0.4798539352,
          -0.4798539352,
          -0.4798539352,
          -0.4798539352
         ],
         "bitcointalk_whitepaper": [
          -0.3935978248,
          -0.3935978248,
          -0.3935978248,
          -0.3935978248,
          -0.3935978248
         ],
         "bitcointalk_announcements": [
          1.4462347251,
          -0.4024320979,
          -0.4024320979,
          -0.4024320979,
          -0.4024320979
         ],
         "bitcointalk_technical_analysis": [
          -0.9433727887,
          -0.9433727887,
          -0.3854184876,
          0.1725358136,
          -0.9433727887
         ],
         "bitcointalk_flippening": [
          -0.1176524346,
          -0.1176524346,
          -0.1176524346,
          -0.1176524346,
          -0.1176524346
         ],
         "bitcointalk_community": [
          -0.1926852884,
          -0.1926852884,
          -0.1926852884,
          -0.1926852884,
          -0.1926852884
         ],
         "bitcointalk_investing_trading": [
          -0.2575393444,
          -0.4657763608,
          -0.7781318854,
          -0.4137171067,
          0.0027569261
         ],
         "bitcointalk_euphoric_excited": [
          0.6588422095,
          -0.2773236055,
          -0.2773236055,
          0.190759302,
          -0.2773236055
         ],
         "bitcointalk_hodling": [
          0.3792337659,
          -0.6375218679,
          -0.6375218679,
          -0.6375218679,
          -0.6375218679
         ],
         "bitcointalk_ico": [
          0.5969395744,
          0.5969395744,
          0.0472028974,
          0.0472028974,
          0.0472028974
         ],
         "bitcointalk_bearish": [
          -0.7988102972,
          0.9919270797,
          -0.7988102972,
          -0.7988102972,
          -0.351125953
         ],
         "bitcointalk_going_short": [
          -0.3657330333,
          -0.3657330333,
          -0.3657330333,
          -0.3657330333,
          -0.3657330333
         ],
         "bitcointalk_uncertain": [
          -0.4351633013,
          -0.6912555305,
          -0.6912555305,
          -0.4351633013,
          -0.4351633013
         ],
         "bitcointalk_volume": [
          -0.6314067894,
          0.3098035594,
          -0.6314067894,
          -0.6314067894,
          -0.6314067894
         ],
         "bitcointalk_risk": [
          -0.8561442102,
          -0.8561442102,
          -0.0088013117,
          -0.8561442102,
          -0.4324727609
         ],
         "bitcointalk_governance": [
          -0.0810285773,
          -0.0810285773,
          -0.0810285773,
          -0.0810285773,
          -0.0810285773
         ],
         "bitcointalk_ban": [
          -0.4676492187,
          -0.4676492187,
          -0.4676492187,
          1.0602281174,
          1.0602281174
         ],
         "bitcointalk_cheap": [
          0.5123374238,
          -0.5486999018,
          -0.5486999018,
          0.5123374238,
          -0.5486999018
         ],
         "bitcointalk_short_term_trading": [
          -0.6306704428,
          -0.6306704428,
          -0.6306704428,
          0.4674943596,
          -0.6306704428
         ],
         "bitcointalk_fork": [
          -0.3412775335,
          -0.3412775335,
          -0.3412775335,
          -0.3412775335,
          -0.3412775335
         ],
         "bitcointalk_progress": [
          -0.6937923499,
          -0.6937923499,
          -0.6937923499,
          0.0160701596,
          1.4357951787
         ],
         "bitcointalk_shilling": [
          -0.2499180563,
          -0.2499180563,
          -0.2499180563,
          -0.2499180563,
          -0.2499180563
         ],
         "bitcointalk_bullish": [
          -0.5869861405,
          -0.2326477877,
          -0.9413244934,
          -0.5869861405,
          -0.9413244934
         ],
         "bitcointalk_happy": [
          0.9425826153,
          0.9425826153,
          -0.6685495831,
          -0.6685495831,
          0.1370165161
         ],
         "bitcointalk_bubble": [
          1.5178567542,
          -0.4164786845,
          -0.4164786845,
          -0.4164786845,
          -0.4164786845
         ],
         "bitcointalk_bots": [
          -0.3321054166,
          -0.3321054166,
          -0.3321054166,
          -0.3321054166,
          -0.3321054166
         ],
         "bitcointalk_hopeful": [
          0.4309638369,
          0.4309638369,
          -0.7769506249,
          -0.374312471,
          -0.374312471
         ],
         "bitcointalk_bug": [
          7.4601350505,
          -0.314922897,
          -0.314922897,
          -0.314922897,
          -0.314922897
         ],
         "bitcointalk_open_source": [
          -0.364132088,
          -0.364132088,
          -0.364132088,
          -0.364132088,
          -0.364132088
         ],
         "bitcointalk_token_economics": [
          -0.459105266,
          -0.459105266,
          -0.459105266,
          -0.459105266,
          -0.459105266
         ],
         "bitcointalk_security": [
          -0.10277891,
          -0.7333591973,
          -0.10277891,
          -0.7333591973,
          -0.7333591973
         ],
         "bitcointalk_marketing": [
          1.1359249126,
          -0.4526061339,
          1.1359249126,
          -0.4526061339,
          -0.4526061339
         ],
         "bitcointalk_bad_news": [
          -0.5360344161,
          -0.5360344161,
          -0.5360344161,
          -0.5360344161,
          -0.5360344161
         ],
         "bitcointalk_due_diligence": [
          -0.6493385297,
          -0.6493385297,
          -0.6493385297,
          -0.6493385297,
          0.3622215082
         ],
         "bitcointalk_team": [
          0.3203571082,
          -0.2166649105,
          -0.2166649105,
          -0.7536869292,
          0.3203571082
         ],
         "bitcointalk_partnerships": [
          -0.330647274,
          -0.330647274,
          -0.330647274,
          -0.330647274,
          -0.330647274
         ],
         "bitcointalk_pump_and_dump": [
          -0.3682296056,
          -0.3682296056,
          -0.3682296056,
          -0.3682296056,
          -0.3682296056
         ],
         "bitcointalk_sad": [
          -0.3884377599,
          -0.3884377599,
          -0.3884377599,
          -0.3884377599,
          -0.3884377599
         ],
         "bitcointalk_panicking": [
          -0.3246199028,
          1.591610717,
          -0.3246199028,
          -0.3246199028,
          -0.3246199028
         ],
         "bitcointalk_listing": [
          -0.6815869429,
          0.1531944477,
          -0.6815869429,
          -0.6815869429,
          -0.6815869429
         ],
         "bitcointalk_regulation_politics": [
          -0.4393765233,
          -0.6469255808,
          -0.6469255808,
          0.1832706492,
          0.8059178217
         ],
         "bitcointalk_dip": [
          -0.5863663186,
          -0.5863663186,
          -0.5863663186,
          0.2914548523,
          -0.5863663186
         ],
         "bitcointalk_launch": [
          1.0347953255,
          -0.4891115892,
          -0.4891115892,
          -0.4891115892,
          1.0347953255
         ],
         "bitcointalk_fomo_theme": [
          -0.3925823053,
          -0.3925823053,
          -0.3925823053,
          -0.3925823053,
          -0.3925823053
         ],
         "bitcointalk_advice_support": [
          -0.1385733023,
          -0.3753300362,
          -0.6120867701,
          0.0034807381,
          -0.0912219555
         ],
         "bitcointalk_rebranding": [
          -0.0989498854,
          -0.0989498854,
          -0.0989498854,
          -0.0989498854,
          -0.0989498854
         ],
         "bitcointalk_wallet": [
          0.3517254663,
          -0.2744132092,
          -0.2744132092,
          0.3517254663,
          0.3517254663
         ],
         "bitcointalk_good_news": [
          -0.2905115365,
          -0.5353692646,
          -0.7802269927,
          0.6889193759,
          0.6889193759
         ],
         "bitcointalk_problems_and_issues": [
          0.4432176626,
          -0.1208126197,
          -0.6848429021,
          -0.1208126197,
          0.4432176626
         ],
         "bitcointalk_mining": [
          -0.8334342432,
          -0.4602490738,
          -0.8334342432,
          -0.4602490738,
          0.6593064347
         ],
         "bitcointalk_waiting": [
          0.2008525667,
          -0.2669983802,
          -0.7348493271,
          0.2008525667,
          -0.7348493271
         ],
         "bitcointalk_learning": [
          -0.4843851884,
          -0.4843851884,
          -0.0671418691,
          -0.4843851884,
          0.7673447695
         ],
         "bitcointalk_scaling": [
          -0.4461656684,
          -0.4461656684,
          1.1222886666,
          -0.4461656684,
          -0.4461656684
         ],
         "bitcointalk_fees": [
          0.0717797571,
          -0.3144690719,
          -0.7007179009,
          0.0717797571,
          -0.7007179009
         ],
         "bitcointalk_roadmap": [
          -0.2539071002,
          -0.2539071002,
          -0.2539071002,
          -0.2539071002,
          -0.2539071002
         ],
         "bitcointalk_recovery": [
          1.1234870493,
          -0.4150486254,
          -0.4150486254,
          -0.4150486254,
          -0.4150486254
         ],
         "bitcointalk_technology": [
          0.0231483285,
          -0.4274908585,
          -0.8781300456,
          -0.3148310618,
          0.0231483285
         ],
         "bitcointalk_mistrustful": [
          1.5180243661,
          -0.4514119319,
          -0.4514119319,
          -0.4514119319,
          -0.4514119319
         ],
         "bitcointalk_marketcap": [
          -0.587691864,
          0.3266637001,
          -0.587691864,
          -0.587691864,
          -0.587691864
         ],
         "bitcointalk_positive": [
          0.0958227002,
          -0.3723604577,
          -0.4894062472,
          -0.079745984,
          -0.2553146682
         ],
         "bitcointalk_tax": [
          -0.4865260348,
          -0.4865260348,
          -0.4865260348,
          1.5333537869,
          1.5333537869
         ],
         "bitcointalk_long_term_investing": [
          -0.6483354977,
          -0.1673376461,
          -0.6483354977,
          -0.8888344235,
          -0.1673376461
         ],
         "bitcointalk_strategy": [
          0.5312277727,
          -0.6266180694,
          0.5312277727,
          -0.6266180694,
          0.5312277727
         ],
         "bitcointalk_competition": [
          -0.3926185181,
          -0.5352869255,
          -0.3926185181,
          -0.5352869255,
          -0.5352869255
         ],
         "bitcointalk_whales": [
          0.3733234546,
          0.3733234546,
          -0.5969988976,
          -0.5969988976,
          -0.5969988976
         ],
         "bitcointalk_correction": [
          -0.5635533502,
          -0.5635533502,
          -0.5635533502,
          -0.5635533502,
          -0.5635533502
         ],
         "bitcointalk_stablecoin": [
          -0.2307947529,
          -0.2307947529,
          -0.2307947529,
          -0.2307947529,
          -0.2307947529
         ],
         "bitcointalk_buying": [
          -0.2699748859,
          -0.2699748859,
          -0.2699748859,
          -0.5473245111,
          0.0073747392
         ],
         "bitcointalk_warning": [
          1.3247019388,
          1.3247019388,
          -0.4415591209,
          1.3247019388,
          -0.4415591209
         ],
         "bitcointalk_annoyed_frustrated": [
          -0.2271990771,
          -0.2271990771,
          -0.2271990771,
          -0.2271990771,
          -0.2271990771
         ],
         "bitcointalk_price": [
          -0.2698513748,
          -0.3787269313,
          -0.5420402662,
          -0.5964780445,
          -0.3242891531
         ],
         "bitcointalk_use_case_applications": [
          -0.2702266059,
          0.3002343659,
          -0.2702266059,
          0.7280800947,
          0.3002343659
         ],
         "bitcointalk_rumor": [
          -0.3877367757,
          -0.3877367757,
          -0.3877367757,
          -0.3877367757,
          -0.3877367757
         ],
         "bitcointalk_scam_fraud": [
          -0.8374262304,
          -0.3050607194,
          -0.3050607194,
          -0.3050607194,
          -0.8374262304
         ],
         "bitcointalk_airdrop": [
          -0.3672082178,
          -0.3672082178,
          -0.3672082178,
          -0.3672082178,
          -0.3672082178
         ],
         "bitcointalk_optimistic": [
          -0.3733969767,
          -0.3733969767,
          -0.4603279141,
          -0.1995351018,
          -0.1126041644
         ],
         "bitcointalk_negative": [
          -0.354258266,
          -0.354258266,
          -0.6915764645,
          -0.3964230408,
          -0.0591048423
         ],
         "reddit_hacks": [
          -0.4104179882,
          0.4631591003,
          -0.4104179882,
          -0.4104179882,
          -0.4104179882
         ],
         "reddit_pessimistic_doubtful": [
          -0.5387143915,
          -0.9686151754,
          -0.9686151754,
          -0.9686151754,
          -0.5387143915
         ],
         "reddit_banks": [
          -0.9964283848,
          -0.9964283848,
          -0.6567292629,
          -0.9964283848,
          -0.317030141
         ],
         "reddit_selling": [
          -0.8110960341,
          -0.8110960341,
          -0.5912606075,
          -0.8110960341,
          -0.8110960341
         ],
         "reddit_market_manipulation": [
          -0.5886024372,
          -0.5886024372,
          -0.5886024372,
          -0.5886024372,
          -0.5886024372
         ],
         "reddit_de_centralisation": [
          -0.5812875889,
          -0.9575648368,
          -0.9575648368,
          -0.9575648368,
          0.1712669069
         ],
         "reddit_angry": [
          -0.7603863414,
          -0.7603863414,
          -0.7603863414,
          -0.7603863414,
          -0.7603863414
         ],
         "reddit_etf": [
          -0.3941473045,
          -0.3941473045,
          -0.3941473045,
          -0.3941473045,
          0.3015565201
         ],
         "reddit_leverage": [
          0.4395099381,
          -0.3433964155,
          -0.3433964155,
          -0.3433964155,
          -0.3433964155
         ],
         "reddit_bottom": [
          -0.5999109344,
          -0.5999109344,
          0.2599641966,
          -0.5999109344,
          -0.5999109344
         ],
         "reddit_institutional_money": [
          -0.6532498506,
          -0.6532498506,
          -0.6532498506,
          -0.6532498506,
          -0.6532498506
         ],
         "reddit_fomo": [
          -0.6808442674,
          -0.6808442674,
          -0.1613012905,
          -0.6808442674,
          -0.6808442674
         ],
         "reddit_prediction": [
          -0.6947898729,
          -0.8047770609,
          -0.5848026849,
          -0.9147642488,
          -1.0247514368
         ],
         "reddit_adoption": [
          -1.0315937754,
          -1.1302553209,
          -1.0315937754,
          -1.1302553209,
          -0.3409629566
         ],
         "reddit_fearful_concerned": [
          -0.807972554,
          -0.9933251226,
          -0.6226199853,
          -0.9933251226,
          -0.2519148479
         ],
         "reddit_portfolio": [
          -0.783347352,
          -0.783347352,
          -0.783347352,
          -0.783347352,
          -0.783347352
         ],
         "reddit_fud_theme": [
          -0.512310206,
          -0.512310206,
          -0.512310206,
          -0.512310206,
          -0.512310206
         ],
         "reddit_whitepaper": [
          -0.5527173965,
          -0.5527173965,
          -0.5527173965,
          -0.5527173965,
          -0.5527173965
         ],
         "reddit_announcements": [
          -0.4249410869,
          -0.4249410869,
          -0.4249410869,
          -0.4249410869,
          -0.4249410869
         ],
         "reddit_technical_analysis": [
          -1.015140554,
          -1.015140554,
          -0.7185173913,
          -0.4218942286,
          -1.015140554
         ],
         "reddit_flippening": [
          -0.2795323365,
          -0.2795323365,
          -0.2795323365,
          -0.2795323365,
          -0.2795323365
         ],
         "reddit_community": [
          -0.8027994502,
          -0.8027994502,
          0.1541340858,
          -0.3243326822,
          0.6326008538
         ],
         "reddit_investing_trading": [
          -0.8861995431,
          -1.0380355613,
          -0.810281534,
          -0.9621175522,
          -0.9241585477
         ],
         "reddit_euphoric_excited": [
          -0.9484174014,
          -0.9484174014,
          -0.3290601835,
          -0.9484174014,
          -0.7935780969
         ],
         "reddit_hodling": [
          -0.1860973361,
          -0.6322901452,
          -0.6322901452,
          -0.6322901452,
          -0.1860973361
         ],
         "reddit_ico": [
          -0.4351177083,
          -0.4351177083,
          -0.4351177083,
          -0.4351177083,
          -0.4351177083
         ],
         "reddit_bearish": [
          -0.8057296979,
          -0.8057296979,
          -0.8057296979,
          -0.8057296979,
          -0.8057296979
         ],
         "reddit_going_short": [
          -0.5229480808,
          -0.5229480808,
          -0.5229480808,
          -0.5229480808,
          -0.5229480808
         ],
         "reddit_uncertain": [
          -0.9032453741,
          -1.0910649877,
          -0.7154257604,
          -0.9032453741,
          -0.7154257604
         ],
         "reddit_volume": [
          -0.7288363343,
          -0.7288363343,
          -0.0180203797,
          -0.7288363343,
          -0.0180203797
         ],
         "reddit_risk": [
          -0.9389252743,
          -0.4866550598,
          -0.9389252743,
          -0.9389252743,
          -0.0343848454
         ],
         "reddit_governance": [
          -0.1389144449,
          -0.1389144449,
          -0.1389144449,
          -0.1389144449,
          -0.1389144449
         ],
         "reddit_ban": [
          -0.5522888751,
          -0.5522888751,
          -0.1361992975,
          -0.5522888751,
          0.2798902801
         ],
         "reddit_cheap": [
          0.0435338519,
          -0.6978724041,
          0.0435338519,
          -0.6978724041,
          -0.6978724041
         ],
         "reddit_short_term_trading": [
          -0.6835692915,
          -0.6835692915,
          -0.6835692915,
          -0.6835692915,
          -0.6835692915
         ],
         "reddit_fork": [
          0.3671328804,
          0.0608414766,
          0.0608414766,
          -0.551741331,
          0.0608414766
         ],
         "reddit_progress": [
          -0.496831228,
          -0.1260945307,
          -0.1260945307,
          -0.496831228,
          -0.8675679252
         ],
         "reddit_shilling": [
          -0.485916943,
          -0.485916943,
          -0.485916943,
          -0.485916943,
          -0.485916943
         ],
         "reddit_bullish": [
          -0.6467940849,
          -0.8770678511,
          -0.4165203187,
          -0.6467940849,
          -0.8770678511
         ],
         "reddit_happy": [
          -0.7463088317,
          -0.7463088317,
          -0.2874146527,
          -0.7463088317,
          -0.2874146527
         ],
         "reddit_bubble": [
          -0.4558307147,
          -0.4558307147,
          -0.4558307147,
          -0.4558307147,
          -0.4558307147
         ],
         "reddit_bots": [
          -0.697201987,
          -0.697201987,
          -0.697201987,
          -0.4881205212,
          -0.697201987
         ],
         "reddit_hopeful": [
          -0.8847774662,
          -0.8847774662,
          -0.8847774662,
          -0.5077067657,
          -0.8847774662
         ],
         "reddit_bug": [
          -0.4783611614,
          -0.4783611614,
          -0.4783611614,
          -0.4783611614,
          -0.4783611614
         ],
         "reddit_open_source": [
          0.9155209951,
          -0.5298490024,
          -0.5298490024,
          -0.5298490024,
          -0.5298490024
         ],
         "reddit_token_economics": [
          -0.3918847873,
          -0.3918847873,
          -0.3918847873,
          -0.3918847873,
          -0.3918847873
         ],
         "reddit_security": [
          -0.9580742187,
          -0.5212354577,
          -0.5212354577,
          -0.9580742187,
          -0.9580742187
         ],
         "reddit_marketing": [
          -0.5232344068,
          -0.5232344068,
          -0.5232344068,
          -0.5232344068,
          -0.5232344068
         ],
         "reddit_bad_news": [
          -0.8854359499,
          -1.0590782718,
          -0.5381513061,
          -1.0590782718,
          -0.5381513061
         ],
         "reddit_due_diligence": [
          -0.7519291671,
          -0.7519291671,
          -0.7519291671,
          -0.7519291671,
          -0.3247796239
         ],
         "reddit_team": [
          -0.8700578549,
          -0.4520110431,
          -0.4520110431,
          -0.8700578549,
          -0.0339642312
         ],
         "reddit_partnerships": [
          -0.3648934405,
          -0.3648934405,
          -0.3648934405,
          -0.3648934405,
          -0.3648934405
         ],
         "reddit_pump_and_dump": [
          -0.3026739917,
          -0.3026739917,
          -0.3026739917,
          -0.3026739917,
          -0.3026739917
         ],
         "reddit_sad": [
          -0.5339277628,
          -0.5339277628,
          -0.5339277628,
          -0.5339277628,
          -0.5339277628
         ],
         "reddit_panicking": [
          -0.2685448477,
          -0.2685448477,
          -0.2685448477,
          -0.2685448477,
          -0.2685448477
         ],
         "reddit_listing": [
          -0.7026753103,
          -0.7026753103,
          -0.7026753103,
          -0.7026753103,
          -0.7026753103
         ],
         "reddit_regulation_politics": [
          -1.0042237581,
          -1.0042237581,
          -0.6615541575,
          -0.8328889578,
          -0.3188845569
         ],
         "reddit_dip": [
          -0.4274964837,
          -0.4274964837,
          -0.4274964837,
          -0.4274964837,
          -0.4274964837
         ],
         "reddit_launch": [
          -0.4666370724,
          -0.4666370724,
          -0.4666370724,
          -0.4666370724,
          -0.4666370724
         ],
         "reddit_fomo_theme": [
          -0.495954343,
          -0.495954343,
          -0.495954343,
          -0.495954343,
          -0.495954343
         ],
         "reddit_advice_support": [
          -0.9053998037,
          -1.0303599783,
          -0.7387862376,
          -1.0720133698,
          -0.7804396291
         ],
         "reddit_rebranding": [
          -0.1456768137,
          -0.1456768137,
          -0.1456768137,
          -0.1456768137,
          -0.1456768137
         ],
         "reddit_wallet": [
          -0.8303189824,
          -0.6337908507,
          -0.8303189824,
          -0.8303189824,
          -0.8303189824
         ],
         "reddit_good_news": [
          -0.9776028,
          -0.6864773794,
          -0.9776028,
          -1.0746446069,
          -0.8805609931
         ],
         "reddit_problems_and_issues": [
          -0.6596426851,
          -0.6596426851,
          -0.6596426851,
          -0.8632025026,
          -0.4560828676
         ],
         "reddit_mining": [
          -1.0522502475,
          -0.8498338768,
          -0.647417506,
          -1.0522502475,
          -0.2425847644
         ],
         "reddit_waiting": [
          -0.74215544,
          -0.74215544,
          -0.74215544,
          -0.74215544,
          -0.74215544
         ],
         "reddit_learning": [
          -0.9051972133,
          -0.9051972133,
          -0.9051972133,
          -0.9051972133,
          -0.6872985115
         ],
         "reddit_scaling": [
          -0.6905988868,
          0.770366641,
          -0.6905988868,
          -0.6905988868,
          -0.6905988868
         ],
         "reddit_fees": [
          -0.7760145642,
          -0.7760145642,
          -0.7760145642,
          -0.7760145642,
          -0.4199527212
         ],
         "reddit_roadmap": [
          -0.3345454285,
          -0.3345454285,
          -0.3345454285,
          -0.3345454285,
          -0.3345454285
         ],
         "reddit_recovery": [
          -0.3375837901,
          -0.3375837901,
          -0.3375837901,
          -0.3375837901,
          -0.3375837901
         ],
         "reddit_technology": [
          -1.0443165634,
          -0.9671339572,
          -0.6584035324,
          -1.275864382,
          -0.5812209263
         ],
         "reddit_mistrustful": [
          -0.4950179085,
          -0.4950179085,
          -0.4950179085,
          -0.4950179085,
          -0.4950179085
         ],
         "reddit_marketcap": [
          -0.2246978096,
          -0.6709083836,
          -0.6709083836,
          -0.6709083836,
          -0.6709083836
         ],
         "reddit_positive": [
          -1.0101198356,
          -0.8857811849,
          -0.7614425341,
          -0.9479505103,
          -0.8857811849
         ],
         "reddit_tax": [
          -0.6840812531,
          -0.6840812531,
          -0.6840812531,
          -0.6840812531,
          0.0038479391
         ],
         "reddit_long_term_investing": [
          -0.8550442979,
          -0.6702170497,
          -0.4853898016,
          -0.8550442979,
          -0.6702170497
         ],
         "reddit_strategy": [
          -0.5892196057,
          -0.5892196057,
          -0.5892196057,
          -0.5892196057,
          0.5659928733
         ],
         "reddit_competition": [
          -1.0349778882,
          -1.1334736612,
          -0.7394905691,
          -1.1334736612,
          -1.0349778882
         ],
         "reddit_whales": [
          -0.546435095,
          -0.546435095,
          -0.546435095,
          -0.546435095,
          -0.546435095
         ],
         "reddit_correction": [
          -0.381290978,
          -0.381290978,
          -0.381290978,
          -0.381290978,
          -0.381290978
         ],
         "reddit_stablecoin": [
          -0.3328328737,
          -0.3328328737,
          -0.3328328737,
          -0.3328328737,
          -0.3328328737
         ],
         "reddit_buying": [
          -0.7410438373,
          -0.8602846618,
          -0.7410438373,
          -0.7410438373,
          -0.7410438373
         ],
         "reddit_warning": [
          -0.5660364779,
          -0.5660364779,
          -0.5660364779,
          -0.5660364779,
          -0.5660364779
         ],
         "reddit_annoyed_frustrated": [
          -0.3795763554,
          -0.3795763554,
          -0.3795763554,
          -0.3795763554,
          -0.3795763554
         ],
         "reddit_price": [
          -0.9467928294,
          -0.8156961925,
          -0.8593950715,
          -0.9904917083,
          -0.9467928294
         ],
         "reddit_use_case_applications": [
          -0.9591567096,
          -0.9591567096,
          -1.1100519719,
          -0.9591567096,
          -0.3555756605
         ],
         "reddit_rumor": [
          -0.4961646935,
          -0.4961646935,
          -0.4961646935,
          -0.4961646935,
          -0.4961646935
         ],
         "reddit_scam_fraud": [
          -0.9164620662,
          -0.9164620662,
          -0.066347037,
          -0.9164620662,
          -0.4914045516
         ],
         "reddit_airdrop": [
          -0.2144900537,
          -0.2144900537,
          -0.2144900537,
          -0.2144900537,
          -0.2144900537
         ],
         "reddit_optimistic": [
          -0.7876887106,
          -0.6286086205,
          -0.6286086205,
          -1.1058488907,
          -0.7876887106
         ],
         "reddit_negative": [
          -1.0000480991,
          -1.101037855,
          -0.7980685872,
          -1.067374603,
          -0.8317318392
         ]
        }
       },
       "total_rows": 5,
       "truncation_type": null
      },
      "text/plain": "                  date  listing_close  ...  reddit_optimistic  reddit_negative\n0  2016-11-01 23:00:00       2.861295  ...          -0.787689        -1.000048\n1  2016-11-02 00:00:00       2.858513  ...          -0.628609        -1.101038\n2  2016-11-02 01:00:00       2.858832  ...          -0.628609        -0.798069\n3  2016-11-02 02:00:00       2.858333  ...          -1.105849        -1.067375\n4  2016-11-02 03:00:00       2.860272  ...          -0.787689        -0.831732\n\n[5 rows x 281 columns]",
      "text/html": "<div>\n<style scoped>\n    .dataframe tbody tr th:only-of-type {\n        vertical-align: middle;\n    }\n\n    .dataframe tbody tr th {\n        vertical-align: top;\n    }\n\n    .dataframe thead th {\n        text-align: right;\n    }\n</style>\n<table border=\"1\" class=\"dataframe\">\n  <thead>\n    <tr style=\"text-align: right;\">\n      <th></th>\n      <th>date</th>\n      <th>listing_close</th>\n      <th>twitter_hacks</th>\n      <th>twitter_pessimistic_doubtful</th>\n      <th>twitter_banks</th>\n      <th>twitter_selling</th>\n      <th>twitter_market_manipulation</th>\n      <th>twitter_de_centralisation</th>\n      <th>twitter_angry</th>\n      <th>twitter_etf</th>\n      <th>twitter_leverage</th>\n      <th>twitter_bottom</th>\n      <th>twitter_institutional_money</th>\n      <th>twitter_fomo</th>\n      <th>twitter_prediction</th>\n      <th>twitter_adoption</th>\n      <th>twitter_fearful_concerned</th>\n      <th>twitter_portfolio</th>\n      <th>twitter_fud_theme</th>\n      <th>twitter_whitepaper</th>\n      <th>twitter_announcements</th>\n      <th>twitter_technical_analysis</th>\n      <th>twitter_flippening</th>\n      <th>twitter_community</th>\n      <th>twitter_investing_trading</th>\n      <th>twitter_euphoric_excited</th>\n      <th>twitter_hodling</th>\n      <th>twitter_ico</th>\n      <th>twitter_bearish</th>\n      <th>twitter_going_short</th>\n      <th>twitter_uncertain</th>\n      <th>twitter_volume</th>\n      <th>twitter_risk</th>\n      <th>twitter_governance</th>\n      <th>twitter_ban</th>\n      <th>twitter_cheap</th>\n      <th>twitter_short_term_trading</th>\n      <th>twitter_fork</th>\n      <th>twitter_progress</th>\n      <th>twitter_shilling</th>\n      <th>...</th>\n      <th>reddit_sad</th>\n      <th>reddit_panicking</th>\n      <th>reddit_listing</th>\n      <th>reddit_regulation_politics</th>\n      <th>reddit_dip</th>\n      <th>reddit_launch</th>\n      <th>reddit_fomo_theme</th>\n      <th>reddit_advice_support</th>\n      <th>reddit_rebranding</th>\n      <th>reddit_wallet</th>\n      <th>reddit_good_news</th>\n      <th>reddit_problems_and_issues</th>\n      <th>reddit_mining</th>\n      <th>reddit_waiting</th>\n      <th>reddit_learning</th>\n      <th>reddit_scaling</th>\n      <th>reddit_fees</th>\n      <th>reddit_roadmap</th>\n      <th>reddit_recovery</th>\n      <th>reddit_technology</th>\n      <th>reddit_mistrustful</th>\n      <th>reddit_marketcap</th>\n      <th>reddit_positive</th>\n      <th>reddit_tax</th>\n      <th>reddit_long_term_investing</th>\n      <th>reddit_strategy</th>\n      <th>reddit_competition</th>\n      <th>reddit_whales</th>\n      <th>reddit_correction</th>\n      <th>reddit_stablecoin</th>\n      <th>reddit_buying</th>\n      <th>reddit_warning</th>\n      <th>reddit_annoyed_frustrated</th>\n      <th>reddit_price</th>\n      <th>reddit_use_case_applications</th>\n      <th>reddit_rumor</th>\n      <th>reddit_scam_fraud</th>\n      <th>reddit_airdrop</th>\n      <th>reddit_optimistic</th>\n      <th>reddit_negative</th>\n    </tr>\n  </thead>\n  <tbody>\n    <tr>\n      <th>0</th>\n      <td>2016-11-01 23:00:00</td>\n      <td>2.861295</td>\n      <td>-0.236798</td>\n      <td>-0.571742</td>\n      <td>-0.682001</td>\n      <td>-0.265110</td>\n      <td>-0.300056</td>\n      <td>-0.63399</td>\n      <td>-0.489094</td>\n      <td>-0.307368</td>\n      <td>-0.373219</td>\n      <td>-0.512092</td>\n      <td>-0.507578</td>\n      <td>-0.542214</td>\n      <td>-1.064525</td>\n      <td>-0.417603</td>\n      <td>-0.551228</td>\n      <td>-0.588157</td>\n      <td>-0.322505</td>\n      <td>1.181048</td>\n      <td>-0.48129</td>\n      <td>-0.907341</td>\n      <td>-0.17711</td>\n      <td>-0.547742</td>\n      <td>-0.723114</td>\n      <td>-0.055902</td>\n      <td>-0.526591</td>\n      <td>-0.379470</td>\n      <td>-0.869448</td>\n      <td>-0.478682</td>\n      <td>-0.325817</td>\n      <td>-0.631739</td>\n      <td>-0.629296</td>\n      <td>-0.105967</td>\n      <td>-0.440503</td>\n      <td>-0.403755</td>\n      <td>-0.791088</td>\n      <td>-0.400814</td>\n      <td>-0.706382</td>\n      <td>-0.301626</td>\n      <td>...</td>\n      <td>-0.533928</td>\n      <td>-0.268545</td>\n      <td>-0.702675</td>\n      <td>-1.004224</td>\n      <td>-0.427496</td>\n      <td>-0.466637</td>\n      <td>-0.495954</td>\n      <td>-0.905400</td>\n      <td>-0.145677</td>\n      <td>-0.830319</td>\n      <td>-0.977603</td>\n      <td>-0.659643</td>\n      <td>-1.052250</td>\n      <td>-0.742155</td>\n      <td>-0.905197</td>\n      <td>-0.690599</td>\n      <td>-0.776015</td>\n      <td>-0.334545</td>\n      <td>-0.337584</td>\n      <td>-1.044317</td>\n      <td>-0.495018</td>\n      <td>-0.224698</td>\n      <td>-1.010120</td>\n      <td>-0.684081</td>\n      <td>-0.855044</td>\n      <td>-0.589220</td>\n      <td>-1.034978</td>\n      <td>-0.546435</td>\n      <td>-0.381291</td>\n      <td>-0.332833</td>\n      <td>-0.741044</td>\n      <td>-0.566036</td>\n      <td>-0.379576</td>\n      <td>-0.946793</td>\n      <td>-0.959157</td>\n      <td>-0.496165</td>\n      <td>-0.916462</td>\n      <td>-0.21449</td>\n      <td>-0.787689</td>\n      <td>-1.000048</td>\n    </tr>\n    <tr>\n      <th>1</th>\n      <td>2016-11-02 00:00:00</td>\n      <td>2.858513</td>\n      <td>-0.236798</td>\n      <td>-0.571742</td>\n      <td>-0.157263</td>\n      <td>-0.765812</td>\n      <td>-0.001743</td>\n      <td>-0.63399</td>\n      <td>-0.489094</td>\n      <td>-0.307368</td>\n      <td>-0.373219</td>\n      <td>-0.512092</td>\n      <td>-0.507578</td>\n      <td>-0.542214</td>\n      <td>-1.209770</td>\n      <td>-0.581803</td>\n      <td>0.361062</td>\n      <td>-0.588157</td>\n      <td>-0.322505</td>\n      <td>-0.250475</td>\n      <td>-0.48129</td>\n      <td>-1.075107</td>\n      <td>-0.17711</td>\n      <td>-0.547742</td>\n      <td>-0.828622</td>\n      <td>-0.853125</td>\n      <td>-0.526591</td>\n      <td>0.032844</td>\n      <td>-0.507257</td>\n      <td>-0.478682</td>\n      <td>-1.044270</td>\n      <td>-0.631739</td>\n      <td>-0.629296</td>\n      <td>-0.105967</td>\n      <td>0.075924</td>\n      <td>-0.403755</td>\n      <td>-0.791088</td>\n      <td>-0.400814</td>\n      <td>-0.706382</td>\n      <td>-0.301626</td>\n      <td>...</td>\n      <td>-0.533928</td>\n      <td>-0.268545</td>\n      <td>-0.702675</td>\n      <td>-1.004224</td>\n      <td>-0.427496</td>\n      <td>-0.466637</td>\n      <td>-0.495954</td>\n      <td>-1.030360</td>\n      <td>-0.145677</td>\n      <td>-0.633791</td>\n      <td>-0.686477</td>\n      <td>-0.659643</td>\n      <td>-0.849834</td>\n      <td>-0.742155</td>\n      <td>-0.905197</td>\n      <td>0.770367</td>\n      <td>-0.776015</td>\n      <td>-0.334545</td>\n      <td>-0.337584</td>\n      <td>-0.967134</td>\n      <td>-0.495018</td>\n      <td>-0.670908</td>\n      <td>-0.885781</td>\n      <td>-0.684081</td>\n      <td>-0.670217</td>\n      <td>-0.589220</td>\n      <td>-1.133474</td>\n      <td>-0.546435</td>\n      <td>-0.381291</td>\n      <td>-0.332833</td>\n      <td>-0.860285</td>\n      <td>-0.566036</td>\n      <td>-0.379576</td>\n      <td>-0.815696</td>\n      <td>-0.959157</td>\n      <td>-0.496165</td>\n      <td>-0.916462</td>\n      <td>-0.21449</td>\n      <td>-0.628609</td>\n      <td>-1.101038</td>\n    </tr>\n    <tr>\n      <th>2</th>\n      <td>2016-11-02 01:00:00</td>\n      <td>2.858832</td>\n      <td>-0.236798</td>\n      <td>-0.571742</td>\n      <td>-0.682001</td>\n      <td>-0.265110</td>\n      <td>-0.300056</td>\n      <td>-0.63399</td>\n      <td>-0.489094</td>\n      <td>-0.307368</td>\n      <td>-0.373219</td>\n      <td>-0.512092</td>\n      <td>-0.507578</td>\n      <td>-0.542214</td>\n      <td>-0.919281</td>\n      <td>-0.581803</td>\n      <td>0.361062</td>\n      <td>-0.588157</td>\n      <td>-0.322505</td>\n      <td>-0.250475</td>\n      <td>-0.48129</td>\n      <td>-0.907341</td>\n      <td>-0.17711</td>\n      <td>-0.547742</td>\n      <td>-0.723114</td>\n      <td>-0.853125</td>\n      <td>-0.526591</td>\n      <td>-0.379470</td>\n      <td>-0.869448</td>\n      <td>-0.478682</td>\n      <td>-1.044270</td>\n      <td>-0.455900</td>\n      <td>-0.629296</td>\n      <td>-0.105967</td>\n      <td>-0.440503</td>\n      <td>-0.403755</td>\n      <td>-0.791088</td>\n      <td>-0.400814</td>\n      <td>-0.706382</td>\n      <td>-0.301626</td>\n      <td>...</td>\n      <td>-0.533928</td>\n      <td>-0.268545</td>\n      <td>-0.702675</td>\n      <td>-0.661554</td>\n      <td>-0.427496</td>\n      <td>-0.466637</td>\n      <td>-0.495954</td>\n      <td>-0.738786</td>\n      <td>-0.145677</td>\n      <td>-0.830319</td>\n      <td>-0.977603</td>\n      <td>-0.659643</td>\n      <td>-0.647418</td>\n      <td>-0.742155</td>\n      <td>-0.905197</td>\n      <td>-0.690599</td>\n      <td>-0.776015</td>\n      <td>-0.334545</td>\n      <td>-0.337584</td>\n      <td>-0.658404</td>\n      <td>-0.495018</td>\n      <td>-0.670908</td>\n      <td>-0.761443</td>\n      <td>-0.684081</td>\n      <td>-0.485390</td>\n      <td>-0.589220</td>\n      <td>-0.739491</td>\n      <td>-0.546435</td>\n      <td>-0.381291</td>\n      <td>-0.332833</td>\n      <td>-0.741044</td>\n      <td>-0.566036</td>\n      <td>-0.379576</td>\n      <td>-0.859395</td>\n      <td>-1.110052</td>\n      <td>-0.496165</td>\n      <td>-0.066347</td>\n      <td>-0.21449</td>\n      <td>-0.628609</td>\n      <td>-0.798069</td>\n    </tr>\n    <tr>\n      <th>3</th>\n      <td>2016-11-02 02:00:00</td>\n      <td>2.858333</td>\n      <td>-0.236798</td>\n      <td>1.866285</td>\n      <td>-0.682001</td>\n      <td>-0.765812</td>\n      <td>-0.300056</td>\n      <td>-0.63399</td>\n      <td>-0.489094</td>\n      <td>-0.307368</td>\n      <td>-0.373219</td>\n      <td>-0.512092</td>\n      <td>-0.507578</td>\n      <td>-0.542214</td>\n      <td>-0.774036</td>\n      <td>-0.581803</td>\n      <td>-0.551228</td>\n      <td>-0.588157</td>\n      <td>-0.322505</td>\n      <td>-0.250475</td>\n      <td>-0.48129</td>\n      <td>-0.739575</td>\n      <td>-0.17711</td>\n      <td>0.509366</td>\n      <td>-0.617606</td>\n      <td>-0.853125</td>\n      <td>-0.526591</td>\n      <td>-0.379470</td>\n      <td>-0.507257</td>\n      <td>0.000113</td>\n      <td>-1.044270</td>\n      <td>-0.631739</td>\n      <td>-0.629296</td>\n      <td>-0.105967</td>\n      <td>-0.440503</td>\n      <td>-0.403755</td>\n      <td>-0.791088</td>\n      <td>-0.400814</td>\n      <td>-0.076222</td>\n      <td>-0.301626</td>\n      <td>...</td>\n      <td>-0.533928</td>\n      <td>-0.268545</td>\n      <td>-0.702675</td>\n      <td>-0.832889</td>\n      <td>-0.427496</td>\n      <td>-0.466637</td>\n      <td>-0.495954</td>\n      <td>-1.072013</td>\n      <td>-0.145677</td>\n      <td>-0.830319</td>\n      <td>-1.074645</td>\n      <td>-0.863203</td>\n      <td>-1.052250</td>\n      <td>-0.742155</td>\n      <td>-0.905197</td>\n      <td>-0.690599</td>\n      <td>-0.776015</td>\n      <td>-0.334545</td>\n      <td>-0.337584</td>\n      <td>-1.275864</td>\n      <td>-0.495018</td>\n      <td>-0.670908</td>\n      <td>-0.947951</td>\n      <td>-0.684081</td>\n      <td>-0.855044</td>\n      <td>-0.589220</td>\n      <td>-1.133474</td>\n      <td>-0.546435</td>\n      <td>-0.381291</td>\n      <td>-0.332833</td>\n      <td>-0.741044</td>\n      <td>-0.566036</td>\n      <td>-0.379576</td>\n      <td>-0.990492</td>\n      <td>-0.959157</td>\n      <td>-0.496165</td>\n      <td>-0.916462</td>\n      <td>-0.21449</td>\n      <td>-1.105849</td>\n      <td>-1.067375</td>\n    </tr>\n    <tr>\n      <th>4</th>\n      <td>2016-11-02 03:00:00</td>\n      <td>2.860272</td>\n      <td>-0.236798</td>\n      <td>-0.571742</td>\n      <td>-0.682001</td>\n      <td>-0.765812</td>\n      <td>-0.300056</td>\n      <td>-0.63399</td>\n      <td>-0.489094</td>\n      <td>0.467389</td>\n      <td>-0.373219</td>\n      <td>-0.512092</td>\n      <td>-0.507578</td>\n      <td>-0.542214</td>\n      <td>-1.064525</td>\n      <td>0.074998</td>\n      <td>-0.551228</td>\n      <td>-0.588157</td>\n      <td>-0.322505</td>\n      <td>-0.250475</td>\n      <td>-0.48129</td>\n      <td>-0.907341</td>\n      <td>-0.17711</td>\n      <td>-0.547742</td>\n      <td>-0.564852</td>\n      <td>-0.055902</td>\n      <td>-0.526591</td>\n      <td>0.445159</td>\n      <td>-0.869448</td>\n      <td>-0.478682</td>\n      <td>-0.685043</td>\n      <td>-0.631739</td>\n      <td>-0.629296</td>\n      <td>-0.105967</td>\n      <td>-0.440503</td>\n      <td>-0.403755</td>\n      <td>-0.791088</td>\n      <td>-0.400814</td>\n      <td>0.553939</td>\n      <td>-0.301626</td>\n      <td>...</td>\n      <td>-0.533928</td>\n      <td>-0.268545</td>\n      <td>-0.702675</td>\n      <td>-0.318885</td>\n      <td>-0.427496</td>\n      <td>-0.466637</td>\n      <td>-0.495954</td>\n      <td>-0.780440</td>\n      <td>-0.145677</td>\n      <td>-0.830319</td>\n      <td>-0.880561</td>\n      <td>-0.456083</td>\n      <td>-0.242585</td>\n      <td>-0.742155</td>\n      <td>-0.687299</td>\n      <td>-0.690599</td>\n      <td>-0.419953</td>\n      <td>-0.334545</td>\n      <td>-0.337584</td>\n      <td>-0.581221</td>\n      <td>-0.495018</td>\n      <td>-0.670908</td>\n      <td>-0.885781</td>\n      <td>0.003848</td>\n      <td>-0.670217</td>\n      <td>0.565993</td>\n      <td>-1.034978</td>\n      <td>-0.546435</td>\n      <td>-0.381291</td>\n      <td>-0.332833</td>\n      <td>-0.741044</td>\n      <td>-0.566036</td>\n      <td>-0.379576</td>\n      <td>-0.946793</td>\n      <td>-0.355576</td>\n      <td>-0.496165</td>\n      <td>-0.491405</td>\n      <td>-0.21449</td>\n      <td>-0.787689</td>\n      <td>-0.831732</td>\n    </tr>\n  </tbody>\n</table>\n<p>5 rows × 281 columns</p>\n</div>"
     },
     "metadata": {
      "application/com.datacamp.data-table.v2+json": {
       "status": "success"
      }
     },
     "execution_count": 4
    }
   ],
   "execution_count": 4
  },
  {
   "source": [
    "btc_df.tail()"
   ],
   "metadata": {
    "executionCancelledAt": null,
    "executionTime": 198,
    "lastExecutedAt": 1740667685235,
    "lastExecutedByKernel": "2980c936-4158-42a3-a967-c5b3fc629330",
    "lastScheduledRunId": null,
    "lastSuccessfullyExecutedCode": "btc_df.tail()",
    "outputsMetadata": {
     "0": {
      "height": 550,
      "type": "dataFrame",
      "tableState": {
       "customFilter": {
        "const": {
         "type": "boolean",
         "valid": true,
         "value": true
        },
        "id": "9124d19f-c4fa-49f7-9509-899ad8974bb3",
        "nodeType": "const"
       },
       "quickFilterText": ""
      }
     }
    }
   },
   "cell_type": "code",
   "id": "5a51c781-864c-4dbd-8905-e1b89022d1b3",
   "outputs": [
    {
     "output_type": "execute_result",
     "data": {
      "application/com.datacamp.data-table.v2+json": {
       "table": {
        "schema": {
         "fields": [
          {
           "name": "index",
           "type": "integer"
          },
          {
           "name": "date",
           "type": "string"
          },
          {
           "name": "listing_close",
           "type": "number"
          },
          {
           "name": "twitter_hacks",
           "type": "number"
          },
          {
           "name": "twitter_pessimistic_doubtful",
           "type": "number"
          },
          {
           "name": "twitter_banks",
           "type": "number"
          },
          {
           "name": "twitter_selling",
           "type": "number"
          },
          {
           "name": "twitter_market_manipulation",
           "type": "number"
          },
          {
           "name": "twitter_de_centralisation",
           "type": "number"
          },
          {
           "name": "twitter_angry",
           "type": "number"
          },
          {
           "name": "twitter_etf",
           "type": "number"
          },
          {
           "name": "twitter_leverage",
           "type": "number"
          },
          {
           "name": "twitter_bottom",
           "type": "number"
          },
          {
           "name": "twitter_institutional_money",
           "type": "number"
          },
          {
           "name": "twitter_fomo",
           "type": "number"
          },
          {
           "name": "twitter_prediction",
           "type": "number"
          },
          {
           "name": "twitter_adoption",
           "type": "number"
          },
          {
           "name": "twitter_fearful_concerned",
           "type": "number"
          },
          {
           "name": "twitter_portfolio",
           "type": "number"
          },
          {
           "name": "twitter_fud_theme",
           "type": "number"
          },
          {
           "name": "twitter_whitepaper",
           "type": "number"
          },
          {
           "name": "twitter_announcements",
           "type": "number"
          },
          {
           "name": "twitter_technical_analysis",
           "type": "number"
          },
          {
           "name": "twitter_flippening",
           "type": "number"
          },
          {
           "name": "twitter_community",
           "type": "number"
          },
          {
           "name": "twitter_investing_trading",
           "type": "number"
          },
          {
           "name": "twitter_euphoric_excited",
           "type": "number"
          },
          {
           "name": "twitter_hodling",
           "type": "number"
          },
          {
           "name": "twitter_ico",
           "type": "number"
          },
          {
           "name": "twitter_bearish",
           "type": "number"
          },
          {
           "name": "twitter_going_short",
           "type": "number"
          },
          {
           "name": "twitter_uncertain",
           "type": "number"
          },
          {
           "name": "twitter_volume",
           "type": "number"
          },
          {
           "name": "twitter_risk",
           "type": "number"
          },
          {
           "name": "twitter_governance",
           "type": "number"
          },
          {
           "name": "twitter_ban",
           "type": "number"
          },
          {
           "name": "twitter_cheap",
           "type": "number"
          },
          {
           "name": "twitter_short_term_trading",
           "type": "number"
          },
          {
           "name": "twitter_fork",
           "type": "number"
          },
          {
           "name": "twitter_progress",
           "type": "number"
          },
          {
           "name": "twitter_shilling",
           "type": "number"
          },
          {
           "name": "twitter_bullish",
           "type": "number"
          },
          {
           "name": "twitter_happy",
           "type": "number"
          },
          {
           "name": "twitter_bubble",
           "type": "number"
          },
          {
           "name": "twitter_bots",
           "type": "number"
          },
          {
           "name": "twitter_hopeful",
           "type": "number"
          },
          {
           "name": "twitter_bug",
           "type": "number"
          },
          {
           "name": "twitter_open_source",
           "type": "number"
          },
          {
           "name": "twitter_token_economics",
           "type": "number"
          },
          {
           "name": "twitter_security",
           "type": "number"
          },
          {
           "name": "twitter_marketing",
           "type": "number"
          },
          {
           "name": "twitter_bad_news",
           "type": "number"
          },
          {
           "name": "twitter_due_diligence",
           "type": "number"
          },
          {
           "name": "twitter_team",
           "type": "number"
          },
          {
           "name": "twitter_partnerships",
           "type": "number"
          },
          {
           "name": "twitter_pump_and_dump",
           "type": "number"
          },
          {
           "name": "twitter_sad",
           "type": "number"
          },
          {
           "name": "twitter_panicking",
           "type": "number"
          },
          {
           "name": "twitter_listing",
           "type": "number"
          },
          {
           "name": "twitter_regulation_politics",
           "type": "number"
          },
          {
           "name": "twitter_dip",
           "type": "number"
          },
          {
           "name": "twitter_launch",
           "type": "number"
          },
          {
           "name": "twitter_fomo_theme",
           "type": "number"
          },
          {
           "name": "twitter_advice_support",
           "type": "number"
          },
          {
           "name": "twitter_rebranding",
           "type": "number"
          },
          {
           "name": "twitter_wallet",
           "type": "number"
          },
          {
           "name": "twitter_good_news",
           "type": "number"
          },
          {
           "name": "twitter_problems_and_issues",
           "type": "number"
          },
          {
           "name": "twitter_mining",
           "type": "number"
          },
          {
           "name": "twitter_waiting",
           "type": "number"
          },
          {
           "name": "twitter_learning",
           "type": "number"
          },
          {
           "name": "twitter_scaling",
           "type": "number"
          },
          {
           "name": "twitter_fees",
           "type": "number"
          },
          {
           "name": "twitter_roadmap",
           "type": "number"
          },
          {
           "name": "twitter_recovery",
           "type": "number"
          },
          {
           "name": "twitter_technology",
           "type": "number"
          },
          {
           "name": "twitter_mistrustful",
           "type": "number"
          },
          {
           "name": "twitter_marketcap",
           "type": "number"
          },
          {
           "name": "twitter_positive",
           "type": "number"
          },
          {
           "name": "twitter_tax",
           "type": "number"
          },
          {
           "name": "twitter_long_term_investing",
           "type": "number"
          },
          {
           "name": "twitter_strategy",
           "type": "number"
          },
          {
           "name": "twitter_competition",
           "type": "number"
          },
          {
           "name": "twitter_whales",
           "type": "number"
          },
          {
           "name": "twitter_correction",
           "type": "number"
          },
          {
           "name": "twitter_stablecoin",
           "type": "number"
          },
          {
           "name": "twitter_buying",
           "type": "number"
          },
          {
           "name": "twitter_warning",
           "type": "number"
          },
          {
           "name": "twitter_annoyed_frustrated",
           "type": "number"
          },
          {
           "name": "twitter_price",
           "type": "number"
          },
          {
           "name": "twitter_use_case_applications",
           "type": "number"
          },
          {
           "name": "twitter_rumor",
           "type": "number"
          },
          {
           "name": "twitter_scam_fraud",
           "type": "number"
          },
          {
           "name": "twitter_airdrop",
           "type": "number"
          },
          {
           "name": "twitter_optimistic",
           "type": "number"
          },
          {
           "name": "twitter_negative",
           "type": "number"
          },
          {
           "name": "bitcointalk_hacks",
           "type": "number"
          },
          {
           "name": "bitcointalk_pessimistic_doubtful",
           "type": "number"
          },
          {
           "name": "bitcointalk_banks",
           "type": "number"
          },
          {
           "name": "bitcointalk_selling",
           "type": "number"
          },
          {
           "name": "bitcointalk_market_manipulation",
           "type": "number"
          },
          {
           "name": "bitcointalk_de_centralisation",
           "type": "number"
          },
          {
           "name": "bitcointalk_angry",
           "type": "number"
          },
          {
           "name": "bitcointalk_etf",
           "type": "number"
          },
          {
           "name": "bitcointalk_leverage",
           "type": "number"
          },
          {
           "name": "bitcointalk_bottom",
           "type": "number"
          },
          {
           "name": "bitcointalk_institutional_money",
           "type": "number"
          },
          {
           "name": "bitcointalk_fomo",
           "type": "number"
          },
          {
           "name": "bitcointalk_prediction",
           "type": "number"
          },
          {
           "name": "bitcointalk_adoption",
           "type": "number"
          },
          {
           "name": "bitcointalk_fearful_concerned",
           "type": "number"
          },
          {
           "name": "bitcointalk_portfolio",
           "type": "number"
          },
          {
           "name": "bitcointalk_fud_theme",
           "type": "number"
          },
          {
           "name": "bitcointalk_whitepaper",
           "type": "number"
          },
          {
           "name": "bitcointalk_announcements",
           "type": "number"
          },
          {
           "name": "bitcointalk_technical_analysis",
           "type": "number"
          },
          {
           "name": "bitcointalk_flippening",
           "type": "number"
          },
          {
           "name": "bitcointalk_community",
           "type": "number"
          },
          {
           "name": "bitcointalk_investing_trading",
           "type": "number"
          },
          {
           "name": "bitcointalk_euphoric_excited",
           "type": "number"
          },
          {
           "name": "bitcointalk_hodling",
           "type": "number"
          },
          {
           "name": "bitcointalk_ico",
           "type": "number"
          },
          {
           "name": "bitcointalk_bearish",
           "type": "number"
          },
          {
           "name": "bitcointalk_going_short",
           "type": "number"
          },
          {
           "name": "bitcointalk_uncertain",
           "type": "number"
          },
          {
           "name": "bitcointalk_volume",
           "type": "number"
          },
          {
           "name": "bitcointalk_risk",
           "type": "number"
          },
          {
           "name": "bitcointalk_governance",
           "type": "number"
          },
          {
           "name": "bitcointalk_ban",
           "type": "number"
          },
          {
           "name": "bitcointalk_cheap",
           "type": "number"
          },
          {
           "name": "bitcointalk_short_term_trading",
           "type": "number"
          },
          {
           "name": "bitcointalk_fork",
           "type": "number"
          },
          {
           "name": "bitcointalk_progress",
           "type": "number"
          },
          {
           "name": "bitcointalk_shilling",
           "type": "number"
          },
          {
           "name": "bitcointalk_bullish",
           "type": "number"
          },
          {
           "name": "bitcointalk_happy",
           "type": "number"
          },
          {
           "name": "bitcointalk_bubble",
           "type": "number"
          },
          {
           "name": "bitcointalk_bots",
           "type": "number"
          },
          {
           "name": "bitcointalk_hopeful",
           "type": "number"
          },
          {
           "name": "bitcointalk_bug",
           "type": "number"
          },
          {
           "name": "bitcointalk_open_source",
           "type": "number"
          },
          {
           "name": "bitcointalk_token_economics",
           "type": "number"
          },
          {
           "name": "bitcointalk_security",
           "type": "number"
          },
          {
           "name": "bitcointalk_marketing",
           "type": "number"
          },
          {
           "name": "bitcointalk_bad_news",
           "type": "number"
          },
          {
           "name": "bitcointalk_due_diligence",
           "type": "number"
          },
          {
           "name": "bitcointalk_team",
           "type": "number"
          },
          {
           "name": "bitcointalk_partnerships",
           "type": "number"
          },
          {
           "name": "bitcointalk_pump_and_dump",
           "type": "number"
          },
          {
           "name": "bitcointalk_sad",
           "type": "number"
          },
          {
           "name": "bitcointalk_panicking",
           "type": "number"
          },
          {
           "name": "bitcointalk_listing",
           "type": "number"
          },
          {
           "name": "bitcointalk_regulation_politics",
           "type": "number"
          },
          {
           "name": "bitcointalk_dip",
           "type": "number"
          },
          {
           "name": "bitcointalk_launch",
           "type": "number"
          },
          {
           "name": "bitcointalk_fomo_theme",
           "type": "number"
          },
          {
           "name": "bitcointalk_advice_support",
           "type": "number"
          },
          {
           "name": "bitcointalk_rebranding",
           "type": "number"
          },
          {
           "name": "bitcointalk_wallet",
           "type": "number"
          },
          {
           "name": "bitcointalk_good_news",
           "type": "number"
          },
          {
           "name": "bitcointalk_problems_and_issues",
           "type": "number"
          },
          {
           "name": "bitcointalk_mining",
           "type": "number"
          },
          {
           "name": "bitcointalk_waiting",
           "type": "number"
          },
          {
           "name": "bitcointalk_learning",
           "type": "number"
          },
          {
           "name": "bitcointalk_scaling",
           "type": "number"
          },
          {
           "name": "bitcointalk_fees",
           "type": "number"
          },
          {
           "name": "bitcointalk_roadmap",
           "type": "number"
          },
          {
           "name": "bitcointalk_recovery",
           "type": "number"
          },
          {
           "name": "bitcointalk_technology",
           "type": "number"
          },
          {
           "name": "bitcointalk_mistrustful",
           "type": "number"
          },
          {
           "name": "bitcointalk_marketcap",
           "type": "number"
          },
          {
           "name": "bitcointalk_positive",
           "type": "number"
          },
          {
           "name": "bitcointalk_tax",
           "type": "number"
          },
          {
           "name": "bitcointalk_long_term_investing",
           "type": "number"
          },
          {
           "name": "bitcointalk_strategy",
           "type": "number"
          },
          {
           "name": "bitcointalk_competition",
           "type": "number"
          },
          {
           "name": "bitcointalk_whales",
           "type": "number"
          },
          {
           "name": "bitcointalk_correction",
           "type": "number"
          },
          {
           "name": "bitcointalk_stablecoin",
           "type": "number"
          },
          {
           "name": "bitcointalk_buying",
           "type": "number"
          },
          {
           "name": "bitcointalk_warning",
           "type": "number"
          },
          {
           "name": "bitcointalk_annoyed_frustrated",
           "type": "number"
          },
          {
           "name": "bitcointalk_price",
           "type": "number"
          },
          {
           "name": "bitcointalk_use_case_applications",
           "type": "number"
          },
          {
           "name": "bitcointalk_rumor",
           "type": "number"
          },
          {
           "name": "bitcointalk_scam_fraud",
           "type": "number"
          },
          {
           "name": "bitcointalk_airdrop",
           "type": "number"
          },
          {
           "name": "bitcointalk_optimistic",
           "type": "number"
          },
          {
           "name": "bitcointalk_negative",
           "type": "number"
          },
          {
           "name": "reddit_hacks",
           "type": "number"
          },
          {
           "name": "reddit_pessimistic_doubtful",
           "type": "number"
          },
          {
           "name": "reddit_banks",
           "type": "number"
          },
          {
           "name": "reddit_selling",
           "type": "number"
          },
          {
           "name": "reddit_market_manipulation",
           "type": "number"
          },
          {
           "name": "reddit_de_centralisation",
           "type": "number"
          },
          {
           "name": "reddit_angry",
           "type": "number"
          },
          {
           "name": "reddit_etf",
           "type": "number"
          },
          {
           "name": "reddit_leverage",
           "type": "number"
          },
          {
           "name": "reddit_bottom",
           "type": "number"
          },
          {
           "name": "reddit_institutional_money",
           "type": "number"
          },
          {
           "name": "reddit_fomo",
           "type": "number"
          },
          {
           "name": "reddit_prediction",
           "type": "number"
          },
          {
           "name": "reddit_adoption",
           "type": "number"
          },
          {
           "name": "reddit_fearful_concerned",
           "type": "number"
          },
          {
           "name": "reddit_portfolio",
           "type": "number"
          },
          {
           "name": "reddit_fud_theme",
           "type": "number"
          },
          {
           "name": "reddit_whitepaper",
           "type": "number"
          },
          {
           "name": "reddit_announcements",
           "type": "number"
          },
          {
           "name": "reddit_technical_analysis",
           "type": "number"
          },
          {
           "name": "reddit_flippening",
           "type": "number"
          },
          {
           "name": "reddit_community",
           "type": "number"
          },
          {
           "name": "reddit_investing_trading",
           "type": "number"
          },
          {
           "name": "reddit_euphoric_excited",
           "type": "number"
          },
          {
           "name": "reddit_hodling",
           "type": "number"
          },
          {
           "name": "reddit_ico",
           "type": "number"
          },
          {
           "name": "reddit_bearish",
           "type": "number"
          },
          {
           "name": "reddit_going_short",
           "type": "number"
          },
          {
           "name": "reddit_uncertain",
           "type": "number"
          },
          {
           "name": "reddit_volume",
           "type": "number"
          },
          {
           "name": "reddit_risk",
           "type": "number"
          },
          {
           "name": "reddit_governance",
           "type": "number"
          },
          {
           "name": "reddit_ban",
           "type": "number"
          },
          {
           "name": "reddit_cheap",
           "type": "number"
          },
          {
           "name": "reddit_short_term_trading",
           "type": "number"
          },
          {
           "name": "reddit_fork",
           "type": "number"
          },
          {
           "name": "reddit_progress",
           "type": "number"
          },
          {
           "name": "reddit_shilling",
           "type": "number"
          },
          {
           "name": "reddit_bullish",
           "type": "number"
          },
          {
           "name": "reddit_happy",
           "type": "number"
          },
          {
           "name": "reddit_bubble",
           "type": "number"
          },
          {
           "name": "reddit_bots",
           "type": "number"
          },
          {
           "name": "reddit_hopeful",
           "type": "number"
          },
          {
           "name": "reddit_bug",
           "type": "number"
          },
          {
           "name": "reddit_open_source",
           "type": "number"
          },
          {
           "name": "reddit_token_economics",
           "type": "number"
          },
          {
           "name": "reddit_security",
           "type": "number"
          },
          {
           "name": "reddit_marketing",
           "type": "number"
          },
          {
           "name": "reddit_bad_news",
           "type": "number"
          },
          {
           "name": "reddit_due_diligence",
           "type": "number"
          },
          {
           "name": "reddit_team",
           "type": "number"
          },
          {
           "name": "reddit_partnerships",
           "type": "number"
          },
          {
           "name": "reddit_pump_and_dump",
           "type": "number"
          },
          {
           "name": "reddit_sad",
           "type": "number"
          },
          {
           "name": "reddit_panicking",
           "type": "number"
          },
          {
           "name": "reddit_listing",
           "type": "number"
          },
          {
           "name": "reddit_regulation_politics",
           "type": "number"
          },
          {
           "name": "reddit_dip",
           "type": "number"
          },
          {
           "name": "reddit_launch",
           "type": "number"
          },
          {
           "name": "reddit_fomo_theme",
           "type": "number"
          },
          {
           "name": "reddit_advice_support",
           "type": "number"
          },
          {
           "name": "reddit_rebranding",
           "type": "number"
          },
          {
           "name": "reddit_wallet",
           "type": "number"
          },
          {
           "name": "reddit_good_news",
           "type": "number"
          },
          {
           "name": "reddit_problems_and_issues",
           "type": "number"
          },
          {
           "name": "reddit_mining",
           "type": "number"
          },
          {
           "name": "reddit_waiting",
           "type": "number"
          },
          {
           "name": "reddit_learning",
           "type": "number"
          },
          {
           "name": "reddit_scaling",
           "type": "number"
          },
          {
           "name": "reddit_fees",
           "type": "number"
          },
          {
           "name": "reddit_roadmap",
           "type": "number"
          },
          {
           "name": "reddit_recovery",
           "type": "number"
          },
          {
           "name": "reddit_technology",
           "type": "number"
          },
          {
           "name": "reddit_mistrustful",
           "type": "number"
          },
          {
           "name": "reddit_marketcap",
           "type": "number"
          },
          {
           "name": "reddit_positive",
           "type": "number"
          },
          {
           "name": "reddit_tax",
           "type": "number"
          },
          {
           "name": "reddit_long_term_investing",
           "type": "number"
          },
          {
           "name": "reddit_strategy",
           "type": "number"
          },
          {
           "name": "reddit_competition",
           "type": "number"
          },
          {
           "name": "reddit_whales",
           "type": "number"
          },
          {
           "name": "reddit_correction",
           "type": "number"
          },
          {
           "name": "reddit_stablecoin",
           "type": "number"
          },
          {
           "name": "reddit_buying",
           "type": "number"
          },
          {
           "name": "reddit_warning",
           "type": "number"
          },
          {
           "name": "reddit_annoyed_frustrated",
           "type": "number"
          },
          {
           "name": "reddit_price",
           "type": "number"
          },
          {
           "name": "reddit_use_case_applications",
           "type": "number"
          },
          {
           "name": "reddit_rumor",
           "type": "number"
          },
          {
           "name": "reddit_scam_fraud",
           "type": "number"
          },
          {
           "name": "reddit_airdrop",
           "type": "number"
          },
          {
           "name": "reddit_optimistic",
           "type": "number"
          },
          {
           "name": "reddit_negative",
           "type": "number"
          }
         ],
         "primaryKey": [
          "index"
         ],
         "pandas_version": "1.4.0"
        },
        "data": {
         "index": [
          71864,
          71865,
          71866,
          71867,
          71868
         ],
         "date": [
          "2025-01-13 07:00:00",
          "2025-01-13 08:00:00",
          "2025-01-13 09:00:00",
          "2025-01-13 10:00:00",
          "2025-01-13 11:00:00"
         ],
         "listing_close": [
          4.9707140578,
          4.9683942127,
          4.9675526561,
          4.9616251408,
          4.9579662576
         ],
         "twitter_hacks": [
          -0.2367980616,
          0.6733276078,
          -0.2367980616,
          -0.2367980616,
          -0.2367980616
         ],
         "twitter_pessimistic_doubtful": [
          -0.5717416779,
          -0.5717416779,
          -0.5717416779,
          -0.5717416779,
          -0.5717416779
         ],
         "twitter_banks": [
          -0.6820007661,
          -0.6820007661,
          -0.6820007661,
          -0.1572629165,
          -0.6820007661
         ],
         "twitter_selling": [
          -0.2651101583,
          -0.7658118629,
          -0.7658118629,
          -0.2651101583,
          -0.2651101583
         ],
         "twitter_market_manipulation": [
          -0.3000559945,
          -0.3000559945,
          -0.3000559945,
          -0.3000559945,
          -0.3000559945
         ],
         "twitter_de_centralisation": [
          -0.6339895136,
          -0.6339895136,
          -0.6339895136,
          -0.6339895136,
          -0.6339895136
         ],
         "twitter_angry": [
          -0.4890935554,
          -0.4890935554,
          -0.4890935554,
          -0.4890935554,
          -0.4890935554
         ],
         "twitter_etf": [
          0.4673887541,
          -0.307368488,
          -0.307368488,
          -0.307368488,
          -0.307368488
         ],
         "twitter_leverage": [
          -0.3732194858,
          -0.3732194858,
          -0.3732194858,
          -0.3732194858,
          -0.3732194858
         ],
         "twitter_bottom": [
          -0.5120922235,
          -0.5120922235,
          -0.5120922235,
          0.2444509551,
          0.2444509551
         ],
         "twitter_institutional_money": [
          -0.5075778978,
          -0.5075778978,
          -0.5075778978,
          -0.5075778978,
          -0.5075778978
         ],
         "twitter_fomo": [
          -0.5422137975,
          -0.5422137975,
          -0.5422137975,
          4.0303302387,
          -0.5422137975
         ],
         "twitter_prediction": [
          -0.4835463397,
          -0.0478120047,
          -0.7740358964,
          -0.4835463397,
          -0.3383015614
         ],
         "twitter_adoption": [
          -0.9102039313,
          -1.0744042745,
          -0.7460035881,
          -0.4176029016,
          -0.9102039313
         ],
         "twitter_fearful_concerned": [
          -0.5512281956,
          -0.5512281956,
          -0.5512281956,
          -0.5512281956,
          -0.5512281956
         ],
         "twitter_portfolio": [
          -0.5881567515,
          -0.5881567515,
          -0.5881567515,
          -0.5881567515,
          -0.5881567515
         ],
         "twitter_fud_theme": [
          -0.3225053885,
          -0.3225053885,
          -0.3225053885,
          -0.3225053885,
          -0.3225053885
         ],
         "twitter_whitepaper": [
          -0.2504752045,
          1.1810478549,
          -0.2504752045,
          -0.2504752045,
          -0.2504752045
         ],
         "twitter_announcements": [
          -0.4812900655,
          -0.4812900655,
          -0.4812900655,
          -0.4812900655,
          -0.4812900655
         ],
         "twitter_technical_analysis": [
          -1.0751074227,
          -0.404042701,
          -0.5718088814,
          -0.0685103401,
          -0.5718088814
         ],
         "twitter_flippening": [
          -0.1771100207,
          -0.1771100207,
          -0.1771100207,
          -0.1771100207,
          -0.1771100207
         ],
         "twitter_community": [
          -0.5477418116,
          -0.5477418116,
          -0.5477418116,
          -0.5477418116,
          -0.5477418116
         ],
         "twitter_investing_trading": [
          -0.723113635,
          -0.6176057191,
          -0.670359677,
          -0.4593438453,
          -0.4593438453
         ],
         "twitter_euphoric_excited": [
          -0.4545135328,
          -0.8531252511,
          -0.4545135328,
          -0.4545135328,
          -0.8531252511
         ],
         "twitter_hodling": [
          -0.5265910655,
          -0.5265910655,
          -0.5265910655,
          -0.5265910655,
          0.4977572615
         ],
         "twitter_ico": [
          -0.3794699204,
          -0.3794699204,
          -0.3794699204,
          -0.3794699204,
          -0.3794699204
         ],
         "twitter_bearish": [
          -0.1450651215,
          -0.1450651215,
          -0.507256722,
          -0.507256722,
          -0.8694483225
         ],
         "twitter_going_short": [
          -0.4786821274,
          -0.4786821274,
          -0.4786821274,
          -0.4786821274,
          0.4789086373
         ],
         "twitter_uncertain": [
          -0.6850434589,
          -0.3258172536,
          -0.3258172536,
          -0.3258172536,
          -0.3258172536
         ],
         "twitter_volume": [
          -0.6317393168,
          -0.6317393168,
          -0.6317393168,
          -0.2800615959,
          -0.4559004563
         ],
         "twitter_risk": [
          -0.6292963337,
          0.3859205781,
          0.3859205781,
          0.3859205781,
          -0.6292963337
         ],
         "twitter_governance": [
          -0.1059669772,
          -0.1059669772,
          -0.1059669772,
          -0.1059669772,
          -0.1059669772
         ],
         "twitter_ban": [
          -0.4405029035,
          -0.4405029035,
          -0.4405029035,
          0.0759237505,
          -0.4405029035
         ],
         "twitter_cheap": [
          -0.4037554118,
          -0.4037554118,
          -0.4037554118,
          3.1147965087,
          -0.4037554118
         ],
         "twitter_short_term_trading": [
          -0.7910882984,
          -0.7910882984,
          -0.7910882984,
          -0.0756150378,
          -0.7910882984
         ],
         "twitter_fork": [
          -0.400814411,
          -0.400814411,
          -0.400814411,
          -0.400814411,
          -0.400814411
         ],
         "twitter_progress": [
          -0.7063824708,
          -0.0762218269,
          -0.7063824708,
          -0.7063824708,
          -0.7063824708
         ],
         "twitter_shilling": [
          -0.301626184,
          -0.301626184,
          -0.301626184,
          -0.301626184,
          -0.301626184
         ],
         "twitter_bullish": [
          -0.4824198202,
          -0.0537393914,
          -0.6967600346,
          -0.4824198202,
          -0.4824198202
         ],
         "twitter_happy": [
          -0.5036850561,
          -0.5036850561,
          -0.5036850561,
          -0.5036850561,
          -0.5036850561
         ],
         "twitter_bubble": [
          -0.340477523,
          -0.340477523,
          -0.340477523,
          -0.340477523,
          -0.340477523
         ],
         "twitter_bots": [
          -0.341774658,
          2.0739415983,
          -0.341774658,
          -0.341774658,
          -0.341774658
         ],
         "twitter_hopeful": [
          -0.6883542259,
          -0.6883542259,
          0.1216685311,
          -0.6883542259,
          0.1216685311
         ],
         "twitter_bug": [
          -0.2635250625,
          -0.2635250625,
          -0.2635250625,
          -0.2635250625,
          -0.2635250625
         ],
         "twitter_open_source": [
          -0.2752322245,
          -0.2752322245,
          -0.2752322245,
          -0.2752322245,
          -0.2752322245
         ],
         "twitter_token_economics": [
          -0.3382025698,
          -0.3382025698,
          -0.3382025698,
          -0.3382025698,
          -0.3382025698
         ],
         "twitter_security": [
          -0.5282258803,
          -0.5282258803,
          -0.5282258803,
          0.2276340658,
          -0.5282258803
         ],
         "twitter_marketing": [
          -0.3295531637,
          -0.3295531637,
          -0.3295531637,
          -0.3295531637,
          -0.3295531637
         ],
         "twitter_bad_news": [
          -0.2795344613,
          -0.2795344613,
          -0.5689303443,
          -0.5689303443,
          -0.5689303443
         ],
         "twitter_due_diligence": [
          -0.9548195682,
          -0.4877988173,
          -0.9548195682,
          -0.7213091928,
          -0.7213091928
         ],
         "twitter_team": [
          -0.7349416192,
          0.6313159916,
          -0.7349416192,
          -0.7349416192,
          -0.7349416192
         ],
         "twitter_partnerships": [
          -0.3467852942,
          -0.3467852942,
          -0.3467852942,
          -0.3467852942,
          -0.3467852942
         ],
         "twitter_pump_and_dump": [
          -0.1525599981,
          -0.1525599981,
          -0.1525599981,
          -0.1525599981,
          -0.1525599981
         ],
         "twitter_sad": [
          -0.3123208628,
          -0.3123208628,
          -0.3123208628,
          -0.3123208628,
          -0.3123208628
         ],
         "twitter_panicking": [
          -0.2244330327,
          -0.2244330327,
          -0.2244330327,
          -0.2244330327,
          -0.2244330327
         ],
         "twitter_listing": [
          -0.7088841318,
          -0.7088841318,
          -0.7088841318,
          -0.1249332616,
          -0.1249332616
         ],
         "twitter_regulation_politics": [
          -0.5268632687,
          -0.5268632687,
          -0.8154101094,
          -0.5268632687,
          -0.5268632687
         ],
         "twitter_dip": [
          -0.4626936516,
          -0.4626936516,
          0.2289888937,
          -0.4626936516,
          -0.4626936516
         ],
         "twitter_launch": [
          -0.4458944947,
          -0.4458944947,
          -0.4458944947,
          -0.4458944947,
          -0.4458944947
         ],
         "twitter_fomo_theme": [
          -0.3233933149,
          -0.3233933149,
          -0.3233933149,
          -0.3233933149,
          -0.3233933149
         ],
         "twitter_advice_support": [
          -0.979344753,
          -0.3849737041,
          -1.1279375152,
          -0.8307519907,
          -0.8307519907
         ],
         "twitter_rebranding": [
          -0.1074108516,
          -0.1074108516,
          -0.1074108516,
          -0.1074108516,
          -0.1074108516
         ],
         "twitter_wallet": [
          -0.5008530763,
          -0.5008530763,
          -0.5008530763,
          -0.5008530763,
          -0.5008530763
         ],
         "twitter_good_news": [
          -0.9118263005,
          -1.0140015606,
          -1.0140015606,
          -0.5031252601,
          -1.0140015606
         ],
         "twitter_problems_and_issues": [
          -0.7793703496,
          -0.0632985584,
          -0.7793703496,
          -0.7793703496,
          -0.7793703496
         ],
         "twitter_mining": [
          -0.8424146069,
          -0.8424146069,
          -0.8424146069,
          -0.8424146069,
          -0.8424146069
         ],
         "twitter_waiting": [
          -0.6238750243,
          -0.6238750243,
          -0.6238750243,
          -0.6238750243,
          -0.6238750243
         ],
         "twitter_learning": [
          -0.1513630855,
          -0.8608337431,
          -0.1513630855,
          0.558107572,
          -0.1513630855
         ],
         "twitter_scaling": [
          -0.4123003944,
          -0.4123003944,
          -0.4123003944,
          -0.4123003944,
          -0.4123003944
         ],
         "twitter_fees": [
          -0.0799997932,
          -0.5504608959,
          -0.5504608959,
          -0.0799997932,
          -0.5504608959
         ],
         "twitter_roadmap": [
          -0.1895112717,
          -0.1895112717,
          -0.1895112717,
          -0.1895112717,
          -0.1895112717
         ],
         "twitter_recovery": [
          1.9268040793,
          -0.2835308349,
          -0.2835308349,
          -0.2835308349,
          -0.2835308349
         ],
         "twitter_technology": [
          -1.0089685704,
          -1.0819768366,
          -1.0819768366,
          -0.9359603042,
          -0.9359603042
         ],
         "twitter_mistrustful": [
          -0.2535218978,
          -0.2535218978,
          -0.2535218978,
          -0.2535218978,
          -0.2535218978
         ],
         "twitter_marketcap": [
          -0.4601268086,
          -0.4601268086,
          -0.4601268086,
          -0.4601268086,
          -0.4601268086
         ],
         "twitter_positive": [
          -0.5507365128,
          -0.5507365128,
          -1.014358109,
          -0.5507365128,
          -0.5507365128
         ],
         "twitter_tax": [
          -0.3569140441,
          -0.3569140441,
          -0.3569140441,
          -0.3569140441,
          -0.3569140441
         ],
         "twitter_long_term_investing": [
          -0.8075368443,
          -0.8075368443,
          -1.0045217183,
          -0.8075368443,
          -0.2165822226
         ],
         "twitter_strategy": [
          -0.380345773,
          -0.380345773,
          -0.380345773,
          -0.380345773,
          -0.380345773
         ],
         "twitter_competition": [
          -1.0440242392,
          -0.4203519135,
          -0.836133464,
          -0.0045703631,
          -1.0440242392
         ],
         "twitter_whales": [
          -0.3284515117,
          -0.0554200429,
          -0.3284515117,
          -0.3284515117,
          -0.3284515117
         ],
         "twitter_correction": [
          -0.4219895698,
          -0.4219895698,
          -0.4219895698,
          0.8699366663,
          -0.4219895698
         ],
         "twitter_stablecoin": [
          -0.2593755228,
          -0.2593755228,
          -0.2593755228,
          -0.2593755228,
          -0.2593755228
         ],
         "twitter_buying": [
          -0.9123975099,
          -0.9123975099,
          -0.5846270801,
          -0.2568566504,
          -0.5846270801
         ],
         "twitter_warning": [
          -0.2642642163,
          -0.2642642163,
          -0.2642642163,
          -0.2642642163,
          -0.2642642163
         ],
         "twitter_annoyed_frustrated": [
          -0.2217863567,
          -0.2217863567,
          -0.2217863567,
          -0.2217863567,
          -0.2217863567
         ],
         "twitter_price": [
          -0.7340304597,
          -0.5183372272,
          -0.6980815876,
          -0.5542860993,
          -0.5902349713
         ],
         "twitter_use_case_applications": [
          -0.9252360875,
          -0.9252360875,
          -0.9252360875,
          -0.9252360875,
          -0.9252360875
         ],
         "twitter_rumor": [
          -0.3089438405,
          -0.3089438405,
          -0.3089438405,
          -0.3089438405,
          -0.3089438405
         ],
         "twitter_scam_fraud": [
          -0.7146972421,
          -0.1426640536,
          -0.7146972421,
          -0.7146972421,
          -0.7146972421
         ],
         "twitter_airdrop": [
          -0.2816944944,
          -0.2816944944,
          -0.2816944944,
          -0.2816944944,
          -0.2816944944
         ],
         "twitter_optimistic": [
          -0.9823363866,
          -0.9823363866,
          -0.9823363866,
          -0.5928367603,
          0.1861624924
         ],
         "twitter_negative": [
          -0.9251899078,
          -1.0274058207,
          -0.9251899078,
          -0.9251899078,
          -0.8229739949
         ],
         "bitcointalk_hacks": [
          -0.4388048042,
          -0.4388048042,
          -0.4388048042,
          -0.4388048042,
          0.9192376759
         ],
         "bitcointalk_pessimistic_doubtful": [
          -0.7867679561,
          -0.7867679561,
          -0.7867679561,
          -0.3771904237,
          0.0323871087
         ],
         "bitcointalk_banks": [
          -0.7346552243,
          -0.3237237896,
          -0.3237237896,
          -0.3237237896,
          -0.3237237896
         ],
         "bitcointalk_selling": [
          -0.3491316173,
          0.0734376446,
          -0.3491316173,
          -0.3491316173,
          0.0734376446
         ],
         "bitcointalk_market_manipulation": [
          -0.608628719,
          0.288100148,
          -0.608628719,
          -0.608628719,
          -0.608628719
         ],
         "bitcointalk_de_centralisation": [
          -0.9102098073,
          0.6589676212,
          0.1359084784,
          -0.3871506644,
          -0.9102098073
         ],
         "bitcointalk_angry": [
          -0.4350346733,
          -0.4350346733,
          -0.4350346733,
          -0.4350346733,
          -0.4350346733
         ],
         "bitcointalk_etf": [
          -0.3409981569,
          -0.3409981569,
          -0.3409981569,
          -0.3409981569,
          -0.3409981569
         ],
         "bitcointalk_leverage": [
          -0.3065136283,
          -0.3065136283,
          -0.3065136283,
          -0.3065136283,
          -0.3065136283
         ],
         "bitcointalk_bottom": [
          -0.5271694415,
          -0.5271694415,
          -0.5271694415,
          -0.5271694415,
          -0.5271694415
         ],
         "bitcointalk_institutional_money": [
          -0.5228591667,
          -0.5228591667,
          -0.5228591667,
          -0.5228591667,
          -0.5228591667
         ],
         "bitcointalk_fomo": [
          -0.5938271949,
          0.4995493498,
          -0.5938271949,
          0.4995493498,
          -0.5938271949
         ],
         "bitcointalk_prediction": [
          -0.8183980208,
          -0.4905744615,
          -0.7091235011,
          -0.7091235011,
          -0.5998489813
         ],
         "bitcointalk_adoption": [
          -0.743843021,
          -0.5105370915,
          -0.5105370915,
          -0.6271900562,
          -0.3938841267
         ],
         "bitcointalk_fearful_concerned": [
          -0.6899119264,
          0.7860884379,
          -0.6899119264,
          -0.6899119264,
          -0.6899119264
         ],
         "bitcointalk_portfolio": [
          -0.7783165953,
          0.0048711534,
          0.0048711534,
          -0.7783165953,
          0.0048711534
         ],
         "bitcointalk_fud_theme": [
          -0.4798539352,
          -0.4798539352,
          -0.4798539352,
          -0.4798539352,
          -0.4798539352
         ],
         "bitcointalk_whitepaper": [
          -0.3935978248,
          1.5196576414,
          -0.3935978248,
          -0.3935978248,
          -0.3935978248
         ],
         "bitcointalk_announcements": [
          -0.4024320979,
          -0.4024320979,
          -0.4024320979,
          -0.4024320979,
          -0.4024320979
         ],
         "bitcointalk_technical_analysis": [
          -0.3854184876,
          -0.3854184876,
          -0.9433727887,
          -0.3854184876,
          -0.3854184876
         ],
         "bitcointalk_flippening": [
          -0.1176524346,
          -0.1176524346,
          -0.1176524346,
          -0.1176524346,
          -0.1176524346
         ],
         "bitcointalk_community": [
          -0.7570844975,
          -0.1926852884,
          -0.7570844975,
          -0.7570844975,
          -0.7570844975
         ],
         "bitcointalk_investing_trading": [
          -0.7781318854,
          -0.5178356149,
          -0.6740133772,
          -0.4657763608,
          -0.569894869
         ],
         "bitcointalk_euphoric_excited": [
          -0.745406513,
          0.190759302,
          -0.745406513,
          -0.745406513,
          0.190759302
         ],
         "bitcointalk_hodling": [
          0.3792337659,
          0.3792337659,
          -0.6375218679,
          0.3792337659,
          0.3792337659
         ],
         "bitcointalk_ico": [
          -0.5025337796,
          -0.5025337796,
          -0.5025337796,
          -0.5025337796,
          -0.5025337796
         ],
         "bitcointalk_bearish": [
          -0.7988102972,
          -0.7988102972,
          -0.7988102972,
          -0.7988102972,
          -0.351125953
         ],
         "bitcointalk_going_short": [
          -0.3657330333,
          -0.3657330333,
          -0.3657330333,
          -0.3657330333,
          -0.3657330333
         ],
         "bitcointalk_uncertain": [
          -0.1790710721,
          0.3331133862,
          -0.4351633013,
          0.077021157,
          -0.1790710721
         ],
         "bitcointalk_volume": [
          -0.6314067894,
          -0.6314067894,
          -0.6314067894,
          0.3098035594,
          -0.6314067894
         ],
         "bitcointalk_risk": [
          -0.0088013117,
          -0.4324727609,
          -0.0088013117,
          -0.0088013117,
          -0.0088013117
         ],
         "bitcointalk_governance": [
          -0.0810285773,
          -0.0810285773,
          -0.0810285773,
          -0.0810285773,
          -0.0810285773
         ],
         "bitcointalk_ban": [
          0.2962894493,
          0.2962894493,
          -0.4676492187,
          -0.4676492187,
          -0.4676492187
         ],
         "bitcointalk_cheap": [
          -0.5486999018,
          -0.5486999018,
          -0.5486999018,
          -0.5486999018,
          -0.5486999018
         ],
         "bitcointalk_short_term_trading": [
          -0.6306704428,
          -0.6306704428,
          0.4674943596,
          0.4674943596,
          0.4674943596
         ],
         "bitcointalk_fork": [
          -0.3412775335,
          0.0725661747,
          -0.3412775335,
          -0.3412775335,
          -0.3412775335
         ],
         "bitcointalk_progress": [
          -0.6937923499,
          0.0160701596,
          -0.6937923499,
          -0.6937923499,
          0.0160701596
         ],
         "bitcointalk_shilling": [
          -0.2499180563,
          -0.2499180563,
          -0.2499180563,
          -0.2499180563,
          -0.2499180563
         ],
         "bitcointalk_bullish": [
          -0.9413244934,
          -0.2326477877,
          -0.2326477877,
          -0.5869861405,
          -0.2326477877
         ],
         "bitcointalk_happy": [
          -0.6685495831,
          0.9425826153,
          -0.6685495831,
          -0.6685495831,
          0.1370165161
         ],
         "bitcointalk_bubble": [
          -0.4164786845,
          -0.4164786845,
          -0.4164786845,
          -0.4164786845,
          -0.4164786845
         ],
         "bitcointalk_bots": [
          -0.3321054166,
          -0.3321054166,
          -0.3321054166,
          -0.3321054166,
          -0.3321054166
         ],
         "bitcointalk_hopeful": [
          -0.374312471,
          -0.374312471,
          -0.374312471,
          -0.7769506249,
          -0.374312471
         ],
         "bitcointalk_bug": [
          -0.314922897,
          -0.314922897,
          -0.314922897,
          -0.314922897,
          -0.314922897
         ],
         "bitcointalk_open_source": [
          -0.364132088,
          1.9958470836,
          -0.364132088,
          -0.364132088,
          -0.364132088
         ],
         "bitcointalk_token_economics": [
          -0.459105266,
          -0.459105266,
          -0.459105266,
          -0.459105266,
          -0.459105266
         ],
         "bitcointalk_security": [
          -0.7333591973,
          0.5278013772,
          -0.7333591973,
          -0.7333591973,
          -0.10277891
         ],
         "bitcointalk_marketing": [
          -0.4526061339,
          -0.4526061339,
          -0.4526061339,
          -0.4526061339,
          -0.4526061339
         ],
         "bitcointalk_bad_news": [
          -0.5360344161,
          -0.5360344161,
          -0.5360344161,
          -0.5360344161,
          -0.5360344161
         ],
         "bitcointalk_due_diligence": [
          0.3622215082,
          -0.6493385297,
          -0.6493385297,
          -0.6493385297,
          0.3622215082
         ],
         "bitcointalk_team": [
          -0.7536869292,
          -0.2166649105,
          -0.7536869292,
          -0.7536869292,
          -0.7536869292
         ],
         "bitcointalk_partnerships": [
          -0.330647274,
          -0.330647274,
          -0.330647274,
          -0.330647274,
          -0.330647274
         ],
         "bitcointalk_pump_and_dump": [
          -0.3682296056,
          1.8523018194,
          -0.3682296056,
          -0.3682296056,
          -0.3682296056
         ],
         "bitcointalk_sad": [
          -0.3884377599,
          -0.3884377599,
          -0.3884377599,
          -0.3884377599,
          -0.3884377599
         ],
         "bitcointalk_panicking": [
          -0.3246199028,
          -0.3246199028,
          -0.3246199028,
          -0.3246199028,
          -0.3246199028
         ],
         "bitcointalk_listing": [
          -0.6815869429,
          -0.6815869429,
          -0.6815869429,
          -0.6815869429,
          -0.6815869429
         ],
         "bitcointalk_regulation_politics": [
          -0.4393765233,
          -0.2318274658,
          -0.6469255808,
          -0.4393765233,
          0.1832706492
         ],
         "bitcointalk_dip": [
          -0.5863663186,
          1.1692760231,
          0.2914548523,
          -0.5863663186,
          -0.5863663186
         ],
         "bitcointalk_launch": [
          -0.4891115892,
          1.0347953255,
          -0.4891115892,
          -0.4891115892,
          -0.4891115892
         ],
         "bitcointalk_fomo_theme": [
          -0.3925823053,
          -0.3925823053,
          -0.3925823053,
          -0.3925823053,
          -0.3925823053
         ],
         "bitcointalk_advice_support": [
          -0.7067894637,
          -0.422681383,
          -0.7067894637,
          -0.5173840766,
          -0.5647354233
         ],
         "bitcointalk_rebranding": [
          -0.0989498854,
          -0.0989498854,
          -0.0989498854,
          -0.0989498854,
          -0.0989498854
         ],
         "bitcointalk_wallet": [
          -0.5874825469,
          -0.9005518847,
          -0.9005518847,
          -0.5874825469,
          0.0386561286
         ],
         "bitcointalk_good_news": [
          -0.7802269927,
          -0.5353692646,
          -0.7802269927,
          -0.5353692646,
          -0.2905115365
         ],
         "bitcointalk_problems_and_issues": [
          -0.4028277609,
          -0.4028277609,
          -0.9668580433,
          -0.6848429021,
          -0.4028277609
         ],
         "bitcointalk_mining": [
          -0.8334342432,
          -0.4602490738,
          -0.8334342432,
          -0.0870639043,
          -0.4602490738
         ],
         "bitcointalk_waiting": [
          -0.7348493271,
          -0.7348493271,
          -0.7348493271,
          -0.7348493271,
          -0.7348493271
         ],
         "bitcointalk_learning": [
          -0.0671418691,
          0.3501014502,
          -0.4843851884,
          -0.9016285076,
          -0.0671418691
         ],
         "bitcointalk_scaling": [
          -0.4461656684,
          -0.4461656684,
          -0.4461656684,
          -0.4461656684,
          -0.4461656684
         ],
         "bitcointalk_fees": [
          -0.7007179009,
          -0.7007179009,
          -0.7007179009,
          -0.7007179009,
          -0.3144690719
         ],
         "bitcointalk_roadmap": [
          -0.2539071002,
          3.0358079498,
          -0.2539071002,
          -0.2539071002,
          -0.2539071002
         ],
         "bitcointalk_recovery": [
          -0.4150486254,
          -0.4150486254,
          -0.4150486254,
          1.1234870493,
          -0.4150486254
         ],
         "bitcointalk_technology": [
          -0.7654702488,
          -0.5401506553,
          -0.8781300456,
          -0.7654702488,
          -0.4274908585
         ],
         "bitcointalk_mistrustful": [
          -0.4514119319,
          1.5180243661,
          -0.4514119319,
          -0.4514119319,
          -0.4514119319
         ],
         "bitcointalk_marketcap": [
          -0.587691864,
          0.3266637001,
          -0.587691864,
          0.3266637001,
          0.3266637001
         ],
         "bitcointalk_positive": [
          -0.7234978261,
          -0.5479291419,
          -0.5479291419,
          -0.6064520366,
          -0.4308833524
         ],
         "bitcointalk_tax": [
          -0.4865260348,
          -0.4865260348,
          -0.4865260348,
          -0.4865260348,
          -0.4865260348
         ],
         "bitcointalk_long_term_investing": [
          -0.6483354977,
          0.0731612798,
          -0.1673376461,
          -0.1673376461,
          -0.6483354977
         ],
         "bitcointalk_strategy": [
          -0.6266180694,
          -0.6266180694,
          -0.6266180694,
          0.5312277727,
          -0.6266180694
         ],
         "bitcointalk_competition": [
          -0.6779553328,
          -0.1072817034,
          -0.5352869255,
          -0.2499501107,
          -0.5352869255
         ],
         "bitcointalk_whales": [
          -0.5969988976,
          -0.5969988976,
          -0.5969988976,
          -0.5969988976,
          -0.5969988976
         ],
         "bitcointalk_correction": [
          -0.5635533502,
          0.8813990481,
          0.158922849,
          -0.5635533502,
          -0.5635533502
         ],
         "bitcointalk_stablecoin": [
          -0.2307947529,
          -0.2307947529,
          -0.2307947529,
          -0.2307947529,
          -0.2307947529
         ],
         "bitcointalk_buying": [
          -0.8246741363,
          0.2847243644,
          -0.2699748859,
          -0.8246741363,
          -0.5473245111
         ],
         "bitcointalk_warning": [
          -0.4415591209,
          -0.4415591209,
          -0.4415591209,
          -0.4415591209,
          -0.4415591209
         ],
         "bitcointalk_annoyed_frustrated": [
          -0.2271990771,
          -0.2271990771,
          -0.2271990771,
          -0.2271990771,
          -0.2271990771
         ],
         "bitcointalk_price": [
          -0.7053536011,
          -0.3242891531,
          -0.7053536011,
          -0.8686669359,
          -0.5420402662
         ],
         "bitcointalk_use_case_applications": [
          -0.6980723347,
          -0.5554570917,
          -0.5554570917,
          -0.5554570917,
          -0.5554570917
         ],
         "bitcointalk_rumor": [
          -0.3877367757,
          -0.3877367757,
          -0.3877367757,
          -0.3877367757,
          -0.3877367757
         ],
         "bitcointalk_scam_fraud": [
          -0.3050607194,
          -0.8374262304,
          -0.8374262304,
          -0.8374262304,
          0.2273047917
         ],
         "bitcointalk_airdrop": [
          -0.3672082178,
          -0.3672082178,
          -0.3672082178,
          -0.3672082178,
          -0.3672082178
         ],
         "bitcointalk_optimistic": [
          -0.5472588515,
          -0.5472588515,
          -0.4603279141,
          -0.6341897889,
          -0.3733969767
         ],
         "bitcointalk_negative": [
          -0.6915764645,
          -0.3964230408,
          -0.7759060142,
          -0.5229173653,
          -0.4385878156
         ],
         "reddit_hacks": [
          -0.4104179882,
          0.4631591003,
          0.4631591003,
          0.4631591003,
          0.4631591003
         ],
         "reddit_pessimistic_doubtful": [
          -0.9686151754,
          -0.5387143915,
          0.3210871764,
          -0.9686151754,
          -0.1088136075
         ],
         "reddit_banks": [
          -0.6567292629,
          -0.9964283848,
          -0.317030141,
          -0.6567292629,
          -0.317030141
         ],
         "reddit_selling": [
          -0.5912606075,
          -0.8110960341,
          -0.5912606075,
          0.068245672,
          -0.1515897545
         ],
         "reddit_market_manipulation": [
          -0.5886024372,
          -0.5886024372,
          -0.5886024372,
          0.0752853915,
          -0.5886024372
         ],
         "reddit_de_centralisation": [
          -0.5812875889,
          -0.9575648368,
          -0.5812875889,
          -0.5812875889,
          -0.5812875889
         ],
         "reddit_angry": [
          -0.214466579,
          -0.7603863414,
          -0.7603863414,
          -0.7603863414,
          -0.214466579
         ],
         "reddit_etf": [
          -0.3941473045,
          0.3015565201,
          -0.0462953922,
          -0.0462953922,
          -0.0462953922
         ],
         "reddit_leverage": [
          -0.3433964155,
          -0.3433964155,
          -0.3433964155,
          0.4395099381,
          -0.3433964155
         ],
         "reddit_bottom": [
          -0.5999109344,
          -0.5999109344,
          -0.5999109344,
          0.2599641966,
          0.2599641966
         ],
         "reddit_institutional_money": [
          -0.6532498506,
          1.3291178188,
          -0.6532498506,
          -0.6532498506,
          -0.6532498506
         ],
         "reddit_fomo": [
          -0.6808442674,
          -0.6808442674,
          -0.6808442674,
          -0.1613012905,
          0.8777846634
         ],
         "reddit_prediction": [
          -0.5848026849,
          -0.254841121,
          -0.0348667451,
          0.7350435707,
          -0.1448539331
         ],
         "reddit_adoption": [
          -0.1436398655,
          -0.2423014111,
          -0.8342706843,
          -0.5382860477,
          -0.3409629566
         ],
         "reddit_fearful_concerned": [
          -0.6226199853,
          -0.807972554,
          -0.9933251226,
          -0.2519148479,
          -0.2519148479
         ],
         "reddit_portfolio": [
          -0.783347352,
          -0.0090552603,
          -0.3962013062,
          -0.3962013062,
          -0.3962013062
         ],
         "reddit_fud_theme": [
          -0.512310206,
          -0.512310206,
          0.2559413108,
          -0.512310206,
          -0.512310206
         ],
         "reddit_whitepaper": [
          -0.5527173965,
          -0.5527173965,
          -0.5527173965,
          -0.5527173965,
          0.3323816804
         ],
         "reddit_announcements": [
          -0.4249410869,
          -0.4249410869,
          -0.4249410869,
          -0.4249410869,
          -0.4249410869
         ],
         "reddit_technical_analysis": [
          -1.015140554,
          -0.4218942286,
          -0.1252710659,
          0.1713520968,
          -1.015140554
         ],
         "reddit_flippening": [
          -0.2795323365,
          -0.2795323365,
          -0.2795323365,
          -0.2795323365,
          -0.2795323365
         ],
         "reddit_community": [
          0.6326008538,
          -0.3243326822,
          -0.8027994502,
          -0.8027994502,
          -0.8027994502
         ],
         "reddit_investing_trading": [
          -0.4686504931,
          -0.5825275067,
          -0.4686504931,
          -0.2029374612,
          -0.2788554703
         ],
         "reddit_euphoric_excited": [
          -0.3290601835,
          -0.174220879,
          -0.6387387924,
          -0.483899488,
          -0.7935780969
         ],
         "reddit_hodling": [
          -0.6322901452,
          -0.1860973361,
          -0.6322901452,
          -0.1860973361,
          -0.6322901452
         ],
         "reddit_ico": [
          -0.4351177083,
          -0.4351177083,
          -0.4351177083,
          -0.4351177083,
          -0.4351177083
         ],
         "reddit_bearish": [
          -0.1648572907,
          -0.4852934943,
          0.4760151164,
          1.1168875235,
          0.79645132
         ],
         "reddit_going_short": [
          -0.5229480808,
          0.3905428075,
          -0.5229480808,
          -0.5229480808,
          0.3905428075
         ],
         "reddit_uncertain": [
          -0.7154257604,
          -0.7154257604,
          -0.7154257604,
          0.4114919215,
          -0.5276061468
         ],
         "reddit_volume": [
          -0.7288363343,
          -0.0180203797,
          -0.7288363343,
          -0.0180203797,
          -0.7288363343
         ],
         "reddit_risk": [
          -0.9389252743,
          -0.9389252743,
          -0.0343848454,
          1.322425798,
          1.322425798
         ],
         "reddit_governance": [
          -0.1389144449,
          -0.1389144449,
          -0.1389144449,
          -0.1389144449,
          -0.1389144449
         ],
         "reddit_ban": [
          -0.5522888751,
          -0.5522888751,
          -0.1361992975,
          -0.5522888751,
          -0.5522888751
         ],
         "reddit_cheap": [
          -0.6978724041,
          0.0435338519,
          -0.6978724041,
          0.0435338519,
          -0.6978724041
         ],
         "reddit_short_term_trading": [
          -0.6835692915,
          -0.6835692915,
          -0.6835692915,
          -0.0200167244,
          -0.0200167244
         ],
         "reddit_fork": [
          0.0608414766,
          -0.551741331,
          -0.551741331,
          -0.551741331,
          -0.551741331
         ],
         "reddit_progress": [
          -0.496831228,
          -0.1260945307,
          -0.8675679252,
          -0.496831228,
          -0.8675679252
         ],
         "reddit_shilling": [
          -0.485916943,
          0.7912788576,
          -0.485916943,
          -0.485916943,
          -0.485916943
         ],
         "reddit_bullish": [
          -0.4165203187,
          0.0440272137,
          -0.1862465525,
          -0.1862465525,
          -0.4165203187
         ],
         "reddit_happy": [
          -0.7463088317,
          -0.7463088317,
          -0.7463088317,
          -0.7463088317,
          -0.7463088317
         ],
         "reddit_bubble": [
          -0.4558307147,
          -0.4558307147,
          -0.4558307147,
          -0.4558307147,
          -0.4558307147
         ],
         "reddit_bots": [
          -0.0699575896,
          -0.2790390554,
          -0.4881205212,
          -0.2790390554,
          -0.4881205212
         ],
         "reddit_hopeful": [
          -0.8847774662,
          0.2464346353,
          -0.5077067657,
          -0.1306360652,
          -0.8847774662
         ],
         "reddit_bug": [
          2.1424147428,
          0.8320267907,
          -0.4783611614,
          -0.4783611614,
          -0.4783611614
         ],
         "reddit_open_source": [
          -0.5298490024,
          0.9155209951,
          0.9155209951,
          -0.5298490024,
          -0.5298490024
         ],
         "reddit_token_economics": [
          -0.3918847873,
          -0.3918847873,
          -0.3918847873,
          -0.3918847873,
          -0.3918847873
         ],
         "reddit_security": [
          -0.0843966967,
          -0.5212354577,
          -0.5212354577,
          0.3524420643,
          -0.5212354577
         ],
         "reddit_marketing": [
          -0.5232344068,
          -0.5232344068,
          -0.5232344068,
          -0.5232344068,
          -0.5232344068
         ],
         "reddit_bad_news": [
          -0.1908666622,
          -0.8854359499,
          -0.711793628,
          -1.0590782718,
          -0.8854359499
         ],
         "reddit_due_diligence": [
          -0.7519291671,
          -0.3247796239,
          0.1023699193,
          -0.7519291671,
          -0.3247796239
         ],
         "reddit_team": [
          -0.4520110431,
          -0.8700578549,
          -0.4520110431,
          -0.8700578549,
          -0.4520110431
         ],
         "reddit_partnerships": [
          -0.3648934405,
          -0.3648934405,
          -0.3648934405,
          -0.3648934405,
          -0.3648934405
         ],
         "reddit_pump_and_dump": [
          -0.3026739917,
          -0.3026739917,
          -0.3026739917,
          -0.3026739917,
          -0.3026739917
         ],
         "reddit_sad": [
          -0.5339277628,
          -0.5339277628,
          -0.5339277628,
          -0.5339277628,
          0.8171815075
         ],
         "reddit_panicking": [
          -0.2685448477,
          -0.2685448477,
          -0.2685448477,
          -0.2685448477,
          -0.2685448477
         ],
         "reddit_listing": [
          -0.7026753103,
          -0.7026753103,
          -0.0602070914,
          -0.7026753103,
          -0.7026753103
         ],
         "reddit_regulation_politics": [
          -1.0042237581,
          -0.6615541575,
          -0.4902193572,
          -0.4902193572,
          -1.0042237581
         ],
         "reddit_dip": [
          -0.1093267228,
          -0.1093267228,
          -0.1093267228,
          0.208843038,
          0.5270127989
         ],
         "reddit_launch": [
          -0.4666370724,
          -0.4666370724,
          -0.4666370724,
          -0.4666370724,
          -0.4666370724
         ],
         "reddit_fomo_theme": [
          -0.495954343,
          -0.495954343,
          -0.495954343,
          -0.495954343,
          -0.495954343
         ],
         "reddit_advice_support": [
          -0.5721726714,
          -0.613826063,
          -0.4472124968,
          -0.4055591053,
          -0.2805989307
         ],
         "reddit_rebranding": [
          -0.1456768137,
          -0.1456768137,
          -0.1456768137,
          -0.1456768137,
          -0.1456768137
         ],
         "reddit_wallet": [
          -0.0442064559,
          -0.4372627191,
          -0.0442064559,
          0.1523216758,
          0.7419060707
         ],
         "reddit_good_news": [
          -0.3953519588,
          -0.6864773794,
          -0.3953519588,
          -0.3953519588,
          -0.5894355725
         ],
         "reddit_problems_and_issues": [
          -0.2525230501,
          -0.0489632326,
          -0.6596426851,
          -0.2525230501,
          -0.0489632326
         ],
         "reddit_mining": [
          -0.8498338768,
          -1.0522502475,
          -0.647417506,
          -0.8498338768,
          -1.0522502475
         ],
         "reddit_waiting": [
          -0.2279504509,
          0.2862545383,
          0.2862545383,
          -0.74215544,
          0.2862545383
         ],
         "reddit_learning": [
          -0.0336024059,
          -0.2515011078,
          -0.6872985115,
          -0.2515011078,
          0.4021949978
         ],
         "reddit_scaling": [
          -0.6905988868,
          -0.6905988868,
          -0.6905988868,
          -0.6905988868,
          -0.6905988868
         ],
         "reddit_fees": [
          -0.2419217997,
          -0.5979836427,
          -0.7760145642,
          -0.5979836427,
          -0.5979836427
         ],
         "reddit_roadmap": [
          -0.3345454285,
          -0.3345454285,
          -0.3345454285,
          -0.3345454285,
          -0.3345454285
         ],
         "reddit_recovery": [
          -0.3375837901,
          -0.3375837901,
          -0.3375837901,
          -0.3375837901,
          -0.3375837901
         ],
         "reddit_technology": [
          -0.5040383201,
          -1.0443165634,
          -0.7355861386,
          -0.3496731077,
          -1.1214991696
         ],
         "reddit_mistrustful": [
          -0.4950179085,
          -0.4950179085,
          0.8931143661,
          -0.4950179085,
          -0.4950179085
         ],
         "reddit_marketcap": [
          -0.2246978096,
          -0.6709083836,
          -0.6709083836,
          -0.2246978096,
          -0.2246978096
         ],
         "reddit_positive": [
          -0.6992732087,
          -0.4505959072,
          -0.3884265818,
          -0.4505959072,
          -0.5127652326
         ],
         "reddit_tax": [
          -0.6840812531,
          -0.6840812531,
          -0.6840812531,
          0.0038479391,
          -0.6840812531
         ],
         "reddit_long_term_investing": [
          -0.6702170497,
          -0.3005625534,
          -0.1157353052,
          -0.4853898016,
          -0.6702170497
         ],
         "reddit_strategy": [
          -0.5892196057,
          -0.5892196057,
          0.5659928733,
          0.5659928733,
          1.7212053523
         ],
         "reddit_competition": [
          -0.3455074769,
          -0.542499023,
          -0.44400325,
          -0.0500201578,
          -0.44400325
         ],
         "reddit_whales": [
          -0.546435095,
          -0.546435095,
          -0.546435095,
          -0.546435095,
          0.1796496174
         ],
         "reddit_correction": [
          -0.381290978,
          0.4860023913,
          0.4860023913,
          1.3532957605,
          0.4860023913
         ],
         "reddit_stablecoin": [
          -0.3328328737,
          -0.3328328737,
          -0.3328328737,
          -0.3328328737,
          -0.3328328737
         ],
         "reddit_buying": [
          -0.5025621885,
          -0.7410438373,
          -0.1448397152,
          -0.2640805396,
          -0.383321364
         ],
         "reddit_warning": [
          -0.5660364779,
          -0.5660364779,
          -0.5660364779,
          -0.5660364779,
          -0.5660364779
         ],
         "reddit_annoyed_frustrated": [
          -0.3795763554,
          -0.3795763554,
          -0.3795763554,
          1.7156443119,
          -0.3795763554
         ],
         "reddit_price": [
          -0.5535029189,
          -0.4224062821,
          -0.1602130085,
          0.1019802651,
          -0.1602130085
         ],
         "reddit_use_case_applications": [
          -0.6573661851,
          -0.6573661851,
          -0.6573661851,
          -0.5064709228,
          -0.8082614474
         ],
         "reddit_rumor": [
          -0.4961646935,
          0.9647251568,
          -0.4961646935,
          -0.4961646935,
          -0.4961646935
         ],
         "reddit_scam_fraud": [
          -0.4914045516,
          -0.4914045516,
          -0.9164620662,
          -0.9164620662,
          -0.4914045516
         ],
         "reddit_airdrop": [
          -0.2144900537,
          -0.2144900537,
          -0.2144900537,
          -0.2144900537,
          -0.2144900537
         ],
         "reddit_optimistic": [
          -0.7876887106,
          -0.3104484403,
          -0.7876887106,
          -0.1513683502,
          -0.7876887106
         ],
         "reddit_negative": [
          -0.7644053352,
          -0.8317318392,
          -0.2931198075,
          -0.0911402956,
          -0.4614360674
         ]
        }
       },
       "total_rows": 5,
       "truncation_type": null
      },
      "text/plain": "                      date  listing_close  ...  reddit_optimistic  reddit_negative\n71864  2025-01-13 07:00:00       4.970714  ...          -0.787689        -0.764405\n71865  2025-01-13 08:00:00       4.968394  ...          -0.310448        -0.831732\n71866  2025-01-13 09:00:00       4.967553  ...          -0.787689        -0.293120\n71867  2025-01-13 10:00:00       4.961625  ...          -0.151368        -0.091140\n71868  2025-01-13 11:00:00       4.957966  ...          -0.787689        -0.461436\n\n[5 rows x 281 columns]",
      "text/html": "<div>\n<style scoped>\n    .dataframe tbody tr th:only-of-type {\n        vertical-align: middle;\n    }\n\n    .dataframe tbody tr th {\n        vertical-align: top;\n    }\n\n    .dataframe thead th {\n        text-align: right;\n    }\n</style>\n<table border=\"1\" class=\"dataframe\">\n  <thead>\n    <tr style=\"text-align: right;\">\n      <th></th>\n      <th>date</th>\n      <th>listing_close</th>\n      <th>twitter_hacks</th>\n      <th>twitter_pessimistic_doubtful</th>\n      <th>twitter_banks</th>\n      <th>twitter_selling</th>\n      <th>twitter_market_manipulation</th>\n      <th>twitter_de_centralisation</th>\n      <th>twitter_angry</th>\n      <th>twitter_etf</th>\n      <th>twitter_leverage</th>\n      <th>twitter_bottom</th>\n      <th>twitter_institutional_money</th>\n      <th>twitter_fomo</th>\n      <th>twitter_prediction</th>\n      <th>twitter_adoption</th>\n      <th>twitter_fearful_concerned</th>\n      <th>twitter_portfolio</th>\n      <th>twitter_fud_theme</th>\n      <th>twitter_whitepaper</th>\n      <th>twitter_announcements</th>\n      <th>twitter_technical_analysis</th>\n      <th>twitter_flippening</th>\n      <th>twitter_community</th>\n      <th>twitter_investing_trading</th>\n      <th>twitter_euphoric_excited</th>\n      <th>twitter_hodling</th>\n      <th>twitter_ico</th>\n      <th>twitter_bearish</th>\n      <th>twitter_going_short</th>\n      <th>twitter_uncertain</th>\n      <th>twitter_volume</th>\n      <th>twitter_risk</th>\n      <th>twitter_governance</th>\n      <th>twitter_ban</th>\n      <th>twitter_cheap</th>\n      <th>twitter_short_term_trading</th>\n      <th>twitter_fork</th>\n      <th>twitter_progress</th>\n      <th>twitter_shilling</th>\n      <th>...</th>\n      <th>reddit_sad</th>\n      <th>reddit_panicking</th>\n      <th>reddit_listing</th>\n      <th>reddit_regulation_politics</th>\n      <th>reddit_dip</th>\n      <th>reddit_launch</th>\n      <th>reddit_fomo_theme</th>\n      <th>reddit_advice_support</th>\n      <th>reddit_rebranding</th>\n      <th>reddit_wallet</th>\n      <th>reddit_good_news</th>\n      <th>reddit_problems_and_issues</th>\n      <th>reddit_mining</th>\n      <th>reddit_waiting</th>\n      <th>reddit_learning</th>\n      <th>reddit_scaling</th>\n      <th>reddit_fees</th>\n      <th>reddit_roadmap</th>\n      <th>reddit_recovery</th>\n      <th>reddit_technology</th>\n      <th>reddit_mistrustful</th>\n      <th>reddit_marketcap</th>\n      <th>reddit_positive</th>\n      <th>reddit_tax</th>\n      <th>reddit_long_term_investing</th>\n      <th>reddit_strategy</th>\n      <th>reddit_competition</th>\n      <th>reddit_whales</th>\n      <th>reddit_correction</th>\n      <th>reddit_stablecoin</th>\n      <th>reddit_buying</th>\n      <th>reddit_warning</th>\n      <th>reddit_annoyed_frustrated</th>\n      <th>reddit_price</th>\n      <th>reddit_use_case_applications</th>\n      <th>reddit_rumor</th>\n      <th>reddit_scam_fraud</th>\n      <th>reddit_airdrop</th>\n      <th>reddit_optimistic</th>\n      <th>reddit_negative</th>\n    </tr>\n  </thead>\n  <tbody>\n    <tr>\n      <th>71864</th>\n      <td>2025-01-13 07:00:00</td>\n      <td>4.970714</td>\n      <td>-0.236798</td>\n      <td>-0.571742</td>\n      <td>-0.682001</td>\n      <td>-0.265110</td>\n      <td>-0.300056</td>\n      <td>-0.63399</td>\n      <td>-0.489094</td>\n      <td>0.467389</td>\n      <td>-0.373219</td>\n      <td>-0.512092</td>\n      <td>-0.507578</td>\n      <td>-0.542214</td>\n      <td>-0.483546</td>\n      <td>-0.910204</td>\n      <td>-0.551228</td>\n      <td>-0.588157</td>\n      <td>-0.322505</td>\n      <td>-0.250475</td>\n      <td>-0.48129</td>\n      <td>-1.075107</td>\n      <td>-0.17711</td>\n      <td>-0.547742</td>\n      <td>-0.723114</td>\n      <td>-0.454514</td>\n      <td>-0.526591</td>\n      <td>-0.37947</td>\n      <td>-0.145065</td>\n      <td>-0.478682</td>\n      <td>-0.685043</td>\n      <td>-0.631739</td>\n      <td>-0.629296</td>\n      <td>-0.105967</td>\n      <td>-0.440503</td>\n      <td>-0.403755</td>\n      <td>-0.791088</td>\n      <td>-0.400814</td>\n      <td>-0.706382</td>\n      <td>-0.301626</td>\n      <td>...</td>\n      <td>-0.533928</td>\n      <td>-0.268545</td>\n      <td>-0.702675</td>\n      <td>-1.004224</td>\n      <td>-0.109327</td>\n      <td>-0.466637</td>\n      <td>-0.495954</td>\n      <td>-0.572173</td>\n      <td>-0.145677</td>\n      <td>-0.044206</td>\n      <td>-0.395352</td>\n      <td>-0.252523</td>\n      <td>-0.849834</td>\n      <td>-0.227950</td>\n      <td>-0.033602</td>\n      <td>-0.690599</td>\n      <td>-0.241922</td>\n      <td>-0.334545</td>\n      <td>-0.337584</td>\n      <td>-0.504038</td>\n      <td>-0.495018</td>\n      <td>-0.224698</td>\n      <td>-0.699273</td>\n      <td>-0.684081</td>\n      <td>-0.670217</td>\n      <td>-0.589220</td>\n      <td>-0.345507</td>\n      <td>-0.546435</td>\n      <td>-0.381291</td>\n      <td>-0.332833</td>\n      <td>-0.502562</td>\n      <td>-0.566036</td>\n      <td>-0.379576</td>\n      <td>-0.553503</td>\n      <td>-0.657366</td>\n      <td>-0.496165</td>\n      <td>-0.491405</td>\n      <td>-0.21449</td>\n      <td>-0.787689</td>\n      <td>-0.764405</td>\n    </tr>\n    <tr>\n      <th>71865</th>\n      <td>2025-01-13 08:00:00</td>\n      <td>4.968394</td>\n      <td>0.673328</td>\n      <td>-0.571742</td>\n      <td>-0.682001</td>\n      <td>-0.765812</td>\n      <td>-0.300056</td>\n      <td>-0.63399</td>\n      <td>-0.489094</td>\n      <td>-0.307368</td>\n      <td>-0.373219</td>\n      <td>-0.512092</td>\n      <td>-0.507578</td>\n      <td>-0.542214</td>\n      <td>-0.047812</td>\n      <td>-1.074404</td>\n      <td>-0.551228</td>\n      <td>-0.588157</td>\n      <td>-0.322505</td>\n      <td>1.181048</td>\n      <td>-0.48129</td>\n      <td>-0.404043</td>\n      <td>-0.17711</td>\n      <td>-0.547742</td>\n      <td>-0.617606</td>\n      <td>-0.853125</td>\n      <td>-0.526591</td>\n      <td>-0.37947</td>\n      <td>-0.145065</td>\n      <td>-0.478682</td>\n      <td>-0.325817</td>\n      <td>-0.631739</td>\n      <td>0.385921</td>\n      <td>-0.105967</td>\n      <td>-0.440503</td>\n      <td>-0.403755</td>\n      <td>-0.791088</td>\n      <td>-0.400814</td>\n      <td>-0.076222</td>\n      <td>-0.301626</td>\n      <td>...</td>\n      <td>-0.533928</td>\n      <td>-0.268545</td>\n      <td>-0.702675</td>\n      <td>-0.661554</td>\n      <td>-0.109327</td>\n      <td>-0.466637</td>\n      <td>-0.495954</td>\n      <td>-0.613826</td>\n      <td>-0.145677</td>\n      <td>-0.437263</td>\n      <td>-0.686477</td>\n      <td>-0.048963</td>\n      <td>-1.052250</td>\n      <td>0.286255</td>\n      <td>-0.251501</td>\n      <td>-0.690599</td>\n      <td>-0.597984</td>\n      <td>-0.334545</td>\n      <td>-0.337584</td>\n      <td>-1.044317</td>\n      <td>-0.495018</td>\n      <td>-0.670908</td>\n      <td>-0.450596</td>\n      <td>-0.684081</td>\n      <td>-0.300563</td>\n      <td>-0.589220</td>\n      <td>-0.542499</td>\n      <td>-0.546435</td>\n      <td>0.486002</td>\n      <td>-0.332833</td>\n      <td>-0.741044</td>\n      <td>-0.566036</td>\n      <td>-0.379576</td>\n      <td>-0.422406</td>\n      <td>-0.657366</td>\n      <td>0.964725</td>\n      <td>-0.491405</td>\n      <td>-0.21449</td>\n      <td>-0.310448</td>\n      <td>-0.831732</td>\n    </tr>\n    <tr>\n      <th>71866</th>\n      <td>2025-01-13 09:00:00</td>\n      <td>4.967553</td>\n      <td>-0.236798</td>\n      <td>-0.571742</td>\n      <td>-0.682001</td>\n      <td>-0.765812</td>\n      <td>-0.300056</td>\n      <td>-0.63399</td>\n      <td>-0.489094</td>\n      <td>-0.307368</td>\n      <td>-0.373219</td>\n      <td>-0.512092</td>\n      <td>-0.507578</td>\n      <td>-0.542214</td>\n      <td>-0.774036</td>\n      <td>-0.746004</td>\n      <td>-0.551228</td>\n      <td>-0.588157</td>\n      <td>-0.322505</td>\n      <td>-0.250475</td>\n      <td>-0.48129</td>\n      <td>-0.571809</td>\n      <td>-0.17711</td>\n      <td>-0.547742</td>\n      <td>-0.670360</td>\n      <td>-0.454514</td>\n      <td>-0.526591</td>\n      <td>-0.37947</td>\n      <td>-0.507257</td>\n      <td>-0.478682</td>\n      <td>-0.325817</td>\n      <td>-0.631739</td>\n      <td>0.385921</td>\n      <td>-0.105967</td>\n      <td>-0.440503</td>\n      <td>-0.403755</td>\n      <td>-0.791088</td>\n      <td>-0.400814</td>\n      <td>-0.706382</td>\n      <td>-0.301626</td>\n      <td>...</td>\n      <td>-0.533928</td>\n      <td>-0.268545</td>\n      <td>-0.060207</td>\n      <td>-0.490219</td>\n      <td>-0.109327</td>\n      <td>-0.466637</td>\n      <td>-0.495954</td>\n      <td>-0.447212</td>\n      <td>-0.145677</td>\n      <td>-0.044206</td>\n      <td>-0.395352</td>\n      <td>-0.659643</td>\n      <td>-0.647418</td>\n      <td>0.286255</td>\n      <td>-0.687299</td>\n      <td>-0.690599</td>\n      <td>-0.776015</td>\n      <td>-0.334545</td>\n      <td>-0.337584</td>\n      <td>-0.735586</td>\n      <td>0.893114</td>\n      <td>-0.670908</td>\n      <td>-0.388427</td>\n      <td>-0.684081</td>\n      <td>-0.115735</td>\n      <td>0.565993</td>\n      <td>-0.444003</td>\n      <td>-0.546435</td>\n      <td>0.486002</td>\n      <td>-0.332833</td>\n      <td>-0.144840</td>\n      <td>-0.566036</td>\n      <td>-0.379576</td>\n      <td>-0.160213</td>\n      <td>-0.657366</td>\n      <td>-0.496165</td>\n      <td>-0.916462</td>\n      <td>-0.21449</td>\n      <td>-0.787689</td>\n      <td>-0.293120</td>\n    </tr>\n    <tr>\n      <th>71867</th>\n      <td>2025-01-13 10:00:00</td>\n      <td>4.961625</td>\n      <td>-0.236798</td>\n      <td>-0.571742</td>\n      <td>-0.157263</td>\n      <td>-0.265110</td>\n      <td>-0.300056</td>\n      <td>-0.63399</td>\n      <td>-0.489094</td>\n      <td>-0.307368</td>\n      <td>-0.373219</td>\n      <td>0.244451</td>\n      <td>-0.507578</td>\n      <td>4.030330</td>\n      <td>-0.483546</td>\n      <td>-0.417603</td>\n      <td>-0.551228</td>\n      <td>-0.588157</td>\n      <td>-0.322505</td>\n      <td>-0.250475</td>\n      <td>-0.48129</td>\n      <td>-0.068510</td>\n      <td>-0.17711</td>\n      <td>-0.547742</td>\n      <td>-0.459344</td>\n      <td>-0.454514</td>\n      <td>-0.526591</td>\n      <td>-0.37947</td>\n      <td>-0.507257</td>\n      <td>-0.478682</td>\n      <td>-0.325817</td>\n      <td>-0.280062</td>\n      <td>0.385921</td>\n      <td>-0.105967</td>\n      <td>0.075924</td>\n      <td>3.114797</td>\n      <td>-0.075615</td>\n      <td>-0.400814</td>\n      <td>-0.706382</td>\n      <td>-0.301626</td>\n      <td>...</td>\n      <td>-0.533928</td>\n      <td>-0.268545</td>\n      <td>-0.702675</td>\n      <td>-0.490219</td>\n      <td>0.208843</td>\n      <td>-0.466637</td>\n      <td>-0.495954</td>\n      <td>-0.405559</td>\n      <td>-0.145677</td>\n      <td>0.152322</td>\n      <td>-0.395352</td>\n      <td>-0.252523</td>\n      <td>-0.849834</td>\n      <td>-0.742155</td>\n      <td>-0.251501</td>\n      <td>-0.690599</td>\n      <td>-0.597984</td>\n      <td>-0.334545</td>\n      <td>-0.337584</td>\n      <td>-0.349673</td>\n      <td>-0.495018</td>\n      <td>-0.224698</td>\n      <td>-0.450596</td>\n      <td>0.003848</td>\n      <td>-0.485390</td>\n      <td>0.565993</td>\n      <td>-0.050020</td>\n      <td>-0.546435</td>\n      <td>1.353296</td>\n      <td>-0.332833</td>\n      <td>-0.264081</td>\n      <td>-0.566036</td>\n      <td>1.715644</td>\n      <td>0.101980</td>\n      <td>-0.506471</td>\n      <td>-0.496165</td>\n      <td>-0.916462</td>\n      <td>-0.21449</td>\n      <td>-0.151368</td>\n      <td>-0.091140</td>\n    </tr>\n    <tr>\n      <th>71868</th>\n      <td>2025-01-13 11:00:00</td>\n      <td>4.957966</td>\n      <td>-0.236798</td>\n      <td>-0.571742</td>\n      <td>-0.682001</td>\n      <td>-0.265110</td>\n      <td>-0.300056</td>\n      <td>-0.63399</td>\n      <td>-0.489094</td>\n      <td>-0.307368</td>\n      <td>-0.373219</td>\n      <td>0.244451</td>\n      <td>-0.507578</td>\n      <td>-0.542214</td>\n      <td>-0.338302</td>\n      <td>-0.910204</td>\n      <td>-0.551228</td>\n      <td>-0.588157</td>\n      <td>-0.322505</td>\n      <td>-0.250475</td>\n      <td>-0.48129</td>\n      <td>-0.571809</td>\n      <td>-0.17711</td>\n      <td>-0.547742</td>\n      <td>-0.459344</td>\n      <td>-0.853125</td>\n      <td>0.497757</td>\n      <td>-0.37947</td>\n      <td>-0.869448</td>\n      <td>0.478909</td>\n      <td>-0.325817</td>\n      <td>-0.455900</td>\n      <td>-0.629296</td>\n      <td>-0.105967</td>\n      <td>-0.440503</td>\n      <td>-0.403755</td>\n      <td>-0.791088</td>\n      <td>-0.400814</td>\n      <td>-0.706382</td>\n      <td>-0.301626</td>\n      <td>...</td>\n      <td>0.817182</td>\n      <td>-0.268545</td>\n      <td>-0.702675</td>\n      <td>-1.004224</td>\n      <td>0.527013</td>\n      <td>-0.466637</td>\n      <td>-0.495954</td>\n      <td>-0.280599</td>\n      <td>-0.145677</td>\n      <td>0.741906</td>\n      <td>-0.589436</td>\n      <td>-0.048963</td>\n      <td>-1.052250</td>\n      <td>0.286255</td>\n      <td>0.402195</td>\n      <td>-0.690599</td>\n      <td>-0.597984</td>\n      <td>-0.334545</td>\n      <td>-0.337584</td>\n      <td>-1.121499</td>\n      <td>-0.495018</td>\n      <td>-0.224698</td>\n      <td>-0.512765</td>\n      <td>-0.684081</td>\n      <td>-0.670217</td>\n      <td>1.721205</td>\n      <td>-0.444003</td>\n      <td>0.179650</td>\n      <td>0.486002</td>\n      <td>-0.332833</td>\n      <td>-0.383321</td>\n      <td>-0.566036</td>\n      <td>-0.379576</td>\n      <td>-0.160213</td>\n      <td>-0.808261</td>\n      <td>-0.496165</td>\n      <td>-0.491405</td>\n      <td>-0.21449</td>\n      <td>-0.787689</td>\n      <td>-0.461436</td>\n    </tr>\n  </tbody>\n</table>\n<p>5 rows × 281 columns</p>\n</div>"
     },
     "metadata": {
      "application/com.datacamp.data-table.v2+json": {
       "status": "success"
      }
     },
     "execution_count": 8
    }
   ],
   "execution_count": 8
  },
  {
   "source": [
    "btc_df['listing_close'] = btc_df['listing_close'].div(10)"
   ],
   "metadata": {
    "executionCancelledAt": null,
    "executionTime": 11,
    "lastExecutedAt": 1740674487680,
    "lastExecutedByKernel": "6c875df8-92fa-4ec4-b333-30b3e09ce2de",
    "lastScheduledRunId": null,
    "lastSuccessfullyExecutedCode": "btc_df['listing_close'] = btc_df['listing_close'].div(10)"
   },
   "cell_type": "code",
   "id": "7d69f302-4ab8-4411-925d-6ff2dcb68644",
   "outputs": [],
   "execution_count": 5
  },
  {
   "source": [
    "btc_df.tail()"
   ],
   "metadata": {
    "executionCancelledAt": null,
    "executionTime": 126,
    "lastExecutedAt": 1740667685408,
    "lastExecutedByKernel": "2980c936-4158-42a3-a967-c5b3fc629330",
    "lastScheduledRunId": null,
    "lastSuccessfullyExecutedCode": "btc_df.tail()",
    "outputsMetadata": {
     "0": {
      "height": 550,
      "type": "dataFrame",
      "tableState": {
       "customFilter": {
        "const": {
         "type": "boolean",
         "valid": true,
         "value": true
        },
        "id": "96305bf8-f850-4738-991d-498c1672a23f",
        "nodeType": "const"
       },
       "quickFilterText": ""
      }
     }
    }
   },
   "cell_type": "code",
   "id": "390bd06e-97e9-4749-97d5-2e421b9b0f21",
   "outputs": [
    {
     "output_type": "execute_result",
     "data": {
      "application/com.datacamp.data-table.v2+json": {
       "table": {
        "schema": {
         "fields": [
          {
           "name": "index",
           "type": "integer"
          },
          {
           "name": "date",
           "type": "string"
          },
          {
           "name": "listing_close",
           "type": "number"
          },
          {
           "name": "twitter_hacks",
           "type": "number"
          },
          {
           "name": "twitter_pessimistic_doubtful",
           "type": "number"
          },
          {
           "name": "twitter_banks",
           "type": "number"
          },
          {
           "name": "twitter_selling",
           "type": "number"
          },
          {
           "name": "twitter_market_manipulation",
           "type": "number"
          },
          {
           "name": "twitter_de_centralisation",
           "type": "number"
          },
          {
           "name": "twitter_angry",
           "type": "number"
          },
          {
           "name": "twitter_etf",
           "type": "number"
          },
          {
           "name": "twitter_leverage",
           "type": "number"
          },
          {
           "name": "twitter_bottom",
           "type": "number"
          },
          {
           "name": "twitter_institutional_money",
           "type": "number"
          },
          {
           "name": "twitter_fomo",
           "type": "number"
          },
          {
           "name": "twitter_prediction",
           "type": "number"
          },
          {
           "name": "twitter_adoption",
           "type": "number"
          },
          {
           "name": "twitter_fearful_concerned",
           "type": "number"
          },
          {
           "name": "twitter_portfolio",
           "type": "number"
          },
          {
           "name": "twitter_fud_theme",
           "type": "number"
          },
          {
           "name": "twitter_whitepaper",
           "type": "number"
          },
          {
           "name": "twitter_announcements",
           "type": "number"
          },
          {
           "name": "twitter_technical_analysis",
           "type": "number"
          },
          {
           "name": "twitter_flippening",
           "type": "number"
          },
          {
           "name": "twitter_community",
           "type": "number"
          },
          {
           "name": "twitter_investing_trading",
           "type": "number"
          },
          {
           "name": "twitter_euphoric_excited",
           "type": "number"
          },
          {
           "name": "twitter_hodling",
           "type": "number"
          },
          {
           "name": "twitter_ico",
           "type": "number"
          },
          {
           "name": "twitter_bearish",
           "type": "number"
          },
          {
           "name": "twitter_going_short",
           "type": "number"
          },
          {
           "name": "twitter_uncertain",
           "type": "number"
          },
          {
           "name": "twitter_volume",
           "type": "number"
          },
          {
           "name": "twitter_risk",
           "type": "number"
          },
          {
           "name": "twitter_governance",
           "type": "number"
          },
          {
           "name": "twitter_ban",
           "type": "number"
          },
          {
           "name": "twitter_cheap",
           "type": "number"
          },
          {
           "name": "twitter_short_term_trading",
           "type": "number"
          },
          {
           "name": "twitter_fork",
           "type": "number"
          },
          {
           "name": "twitter_progress",
           "type": "number"
          },
          {
           "name": "twitter_shilling",
           "type": "number"
          },
          {
           "name": "twitter_bullish",
           "type": "number"
          },
          {
           "name": "twitter_happy",
           "type": "number"
          },
          {
           "name": "twitter_bubble",
           "type": "number"
          },
          {
           "name": "twitter_bots",
           "type": "number"
          },
          {
           "name": "twitter_hopeful",
           "type": "number"
          },
          {
           "name": "twitter_bug",
           "type": "number"
          },
          {
           "name": "twitter_open_source",
           "type": "number"
          },
          {
           "name": "twitter_token_economics",
           "type": "number"
          },
          {
           "name": "twitter_security",
           "type": "number"
          },
          {
           "name": "twitter_marketing",
           "type": "number"
          },
          {
           "name": "twitter_bad_news",
           "type": "number"
          },
          {
           "name": "twitter_due_diligence",
           "type": "number"
          },
          {
           "name": "twitter_team",
           "type": "number"
          },
          {
           "name": "twitter_partnerships",
           "type": "number"
          },
          {
           "name": "twitter_pump_and_dump",
           "type": "number"
          },
          {
           "name": "twitter_sad",
           "type": "number"
          },
          {
           "name": "twitter_panicking",
           "type": "number"
          },
          {
           "name": "twitter_listing",
           "type": "number"
          },
          {
           "name": "twitter_regulation_politics",
           "type": "number"
          },
          {
           "name": "twitter_dip",
           "type": "number"
          },
          {
           "name": "twitter_launch",
           "type": "number"
          },
          {
           "name": "twitter_fomo_theme",
           "type": "number"
          },
          {
           "name": "twitter_advice_support",
           "type": "number"
          },
          {
           "name": "twitter_rebranding",
           "type": "number"
          },
          {
           "name": "twitter_wallet",
           "type": "number"
          },
          {
           "name": "twitter_good_news",
           "type": "number"
          },
          {
           "name": "twitter_problems_and_issues",
           "type": "number"
          },
          {
           "name": "twitter_mining",
           "type": "number"
          },
          {
           "name": "twitter_waiting",
           "type": "number"
          },
          {
           "name": "twitter_learning",
           "type": "number"
          },
          {
           "name": "twitter_scaling",
           "type": "number"
          },
          {
           "name": "twitter_fees",
           "type": "number"
          },
          {
           "name": "twitter_roadmap",
           "type": "number"
          },
          {
           "name": "twitter_recovery",
           "type": "number"
          },
          {
           "name": "twitter_technology",
           "type": "number"
          },
          {
           "name": "twitter_mistrustful",
           "type": "number"
          },
          {
           "name": "twitter_marketcap",
           "type": "number"
          },
          {
           "name": "twitter_positive",
           "type": "number"
          },
          {
           "name": "twitter_tax",
           "type": "number"
          },
          {
           "name": "twitter_long_term_investing",
           "type": "number"
          },
          {
           "name": "twitter_strategy",
           "type": "number"
          },
          {
           "name": "twitter_competition",
           "type": "number"
          },
          {
           "name": "twitter_whales",
           "type": "number"
          },
          {
           "name": "twitter_correction",
           "type": "number"
          },
          {
           "name": "twitter_stablecoin",
           "type": "number"
          },
          {
           "name": "twitter_buying",
           "type": "number"
          },
          {
           "name": "twitter_warning",
           "type": "number"
          },
          {
           "name": "twitter_annoyed_frustrated",
           "type": "number"
          },
          {
           "name": "twitter_price",
           "type": "number"
          },
          {
           "name": "twitter_use_case_applications",
           "type": "number"
          },
          {
           "name": "twitter_rumor",
           "type": "number"
          },
          {
           "name": "twitter_scam_fraud",
           "type": "number"
          },
          {
           "name": "twitter_airdrop",
           "type": "number"
          },
          {
           "name": "twitter_optimistic",
           "type": "number"
          },
          {
           "name": "twitter_negative",
           "type": "number"
          },
          {
           "name": "bitcointalk_hacks",
           "type": "number"
          },
          {
           "name": "bitcointalk_pessimistic_doubtful",
           "type": "number"
          },
          {
           "name": "bitcointalk_banks",
           "type": "number"
          },
          {
           "name": "bitcointalk_selling",
           "type": "number"
          },
          {
           "name": "bitcointalk_market_manipulation",
           "type": "number"
          },
          {
           "name": "bitcointalk_de_centralisation",
           "type": "number"
          },
          {
           "name": "bitcointalk_angry",
           "type": "number"
          },
          {
           "name": "bitcointalk_etf",
           "type": "number"
          },
          {
           "name": "bitcointalk_leverage",
           "type": "number"
          },
          {
           "name": "bitcointalk_bottom",
           "type": "number"
          },
          {
           "name": "bitcointalk_institutional_money",
           "type": "number"
          },
          {
           "name": "bitcointalk_fomo",
           "type": "number"
          },
          {
           "name": "bitcointalk_prediction",
           "type": "number"
          },
          {
           "name": "bitcointalk_adoption",
           "type": "number"
          },
          {
           "name": "bitcointalk_fearful_concerned",
           "type": "number"
          },
          {
           "name": "bitcointalk_portfolio",
           "type": "number"
          },
          {
           "name": "bitcointalk_fud_theme",
           "type": "number"
          },
          {
           "name": "bitcointalk_whitepaper",
           "type": "number"
          },
          {
           "name": "bitcointalk_announcements",
           "type": "number"
          },
          {
           "name": "bitcointalk_technical_analysis",
           "type": "number"
          },
          {
           "name": "bitcointalk_flippening",
           "type": "number"
          },
          {
           "name": "bitcointalk_community",
           "type": "number"
          },
          {
           "name": "bitcointalk_investing_trading",
           "type": "number"
          },
          {
           "name": "bitcointalk_euphoric_excited",
           "type": "number"
          },
          {
           "name": "bitcointalk_hodling",
           "type": "number"
          },
          {
           "name": "bitcointalk_ico",
           "type": "number"
          },
          {
           "name": "bitcointalk_bearish",
           "type": "number"
          },
          {
           "name": "bitcointalk_going_short",
           "type": "number"
          },
          {
           "name": "bitcointalk_uncertain",
           "type": "number"
          },
          {
           "name": "bitcointalk_volume",
           "type": "number"
          },
          {
           "name": "bitcointalk_risk",
           "type": "number"
          },
          {
           "name": "bitcointalk_governance",
           "type": "number"
          },
          {
           "name": "bitcointalk_ban",
           "type": "number"
          },
          {
           "name": "bitcointalk_cheap",
           "type": "number"
          },
          {
           "name": "bitcointalk_short_term_trading",
           "type": "number"
          },
          {
           "name": "bitcointalk_fork",
           "type": "number"
          },
          {
           "name": "bitcointalk_progress",
           "type": "number"
          },
          {
           "name": "bitcointalk_shilling",
           "type": "number"
          },
          {
           "name": "bitcointalk_bullish",
           "type": "number"
          },
          {
           "name": "bitcointalk_happy",
           "type": "number"
          },
          {
           "name": "bitcointalk_bubble",
           "type": "number"
          },
          {
           "name": "bitcointalk_bots",
           "type": "number"
          },
          {
           "name": "bitcointalk_hopeful",
           "type": "number"
          },
          {
           "name": "bitcointalk_bug",
           "type": "number"
          },
          {
           "name": "bitcointalk_open_source",
           "type": "number"
          },
          {
           "name": "bitcointalk_token_economics",
           "type": "number"
          },
          {
           "name": "bitcointalk_security",
           "type": "number"
          },
          {
           "name": "bitcointalk_marketing",
           "type": "number"
          },
          {
           "name": "bitcointalk_bad_news",
           "type": "number"
          },
          {
           "name": "bitcointalk_due_diligence",
           "type": "number"
          },
          {
           "name": "bitcointalk_team",
           "type": "number"
          },
          {
           "name": "bitcointalk_partnerships",
           "type": "number"
          },
          {
           "name": "bitcointalk_pump_and_dump",
           "type": "number"
          },
          {
           "name": "bitcointalk_sad",
           "type": "number"
          },
          {
           "name": "bitcointalk_panicking",
           "type": "number"
          },
          {
           "name": "bitcointalk_listing",
           "type": "number"
          },
          {
           "name": "bitcointalk_regulation_politics",
           "type": "number"
          },
          {
           "name": "bitcointalk_dip",
           "type": "number"
          },
          {
           "name": "bitcointalk_launch",
           "type": "number"
          },
          {
           "name": "bitcointalk_fomo_theme",
           "type": "number"
          },
          {
           "name": "bitcointalk_advice_support",
           "type": "number"
          },
          {
           "name": "bitcointalk_rebranding",
           "type": "number"
          },
          {
           "name": "bitcointalk_wallet",
           "type": "number"
          },
          {
           "name": "bitcointalk_good_news",
           "type": "number"
          },
          {
           "name": "bitcointalk_problems_and_issues",
           "type": "number"
          },
          {
           "name": "bitcointalk_mining",
           "type": "number"
          },
          {
           "name": "bitcointalk_waiting",
           "type": "number"
          },
          {
           "name": "bitcointalk_learning",
           "type": "number"
          },
          {
           "name": "bitcointalk_scaling",
           "type": "number"
          },
          {
           "name": "bitcointalk_fees",
           "type": "number"
          },
          {
           "name": "bitcointalk_roadmap",
           "type": "number"
          },
          {
           "name": "bitcointalk_recovery",
           "type": "number"
          },
          {
           "name": "bitcointalk_technology",
           "type": "number"
          },
          {
           "name": "bitcointalk_mistrustful",
           "type": "number"
          },
          {
           "name": "bitcointalk_marketcap",
           "type": "number"
          },
          {
           "name": "bitcointalk_positive",
           "type": "number"
          },
          {
           "name": "bitcointalk_tax",
           "type": "number"
          },
          {
           "name": "bitcointalk_long_term_investing",
           "type": "number"
          },
          {
           "name": "bitcointalk_strategy",
           "type": "number"
          },
          {
           "name": "bitcointalk_competition",
           "type": "number"
          },
          {
           "name": "bitcointalk_whales",
           "type": "number"
          },
          {
           "name": "bitcointalk_correction",
           "type": "number"
          },
          {
           "name": "bitcointalk_stablecoin",
           "type": "number"
          },
          {
           "name": "bitcointalk_buying",
           "type": "number"
          },
          {
           "name": "bitcointalk_warning",
           "type": "number"
          },
          {
           "name": "bitcointalk_annoyed_frustrated",
           "type": "number"
          },
          {
           "name": "bitcointalk_price",
           "type": "number"
          },
          {
           "name": "bitcointalk_use_case_applications",
           "type": "number"
          },
          {
           "name": "bitcointalk_rumor",
           "type": "number"
          },
          {
           "name": "bitcointalk_scam_fraud",
           "type": "number"
          },
          {
           "name": "bitcointalk_airdrop",
           "type": "number"
          },
          {
           "name": "bitcointalk_optimistic",
           "type": "number"
          },
          {
           "name": "bitcointalk_negative",
           "type": "number"
          },
          {
           "name": "reddit_hacks",
           "type": "number"
          },
          {
           "name": "reddit_pessimistic_doubtful",
           "type": "number"
          },
          {
           "name": "reddit_banks",
           "type": "number"
          },
          {
           "name": "reddit_selling",
           "type": "number"
          },
          {
           "name": "reddit_market_manipulation",
           "type": "number"
          },
          {
           "name": "reddit_de_centralisation",
           "type": "number"
          },
          {
           "name": "reddit_angry",
           "type": "number"
          },
          {
           "name": "reddit_etf",
           "type": "number"
          },
          {
           "name": "reddit_leverage",
           "type": "number"
          },
          {
           "name": "reddit_bottom",
           "type": "number"
          },
          {
           "name": "reddit_institutional_money",
           "type": "number"
          },
          {
           "name": "reddit_fomo",
           "type": "number"
          },
          {
           "name": "reddit_prediction",
           "type": "number"
          },
          {
           "name": "reddit_adoption",
           "type": "number"
          },
          {
           "name": "reddit_fearful_concerned",
           "type": "number"
          },
          {
           "name": "reddit_portfolio",
           "type": "number"
          },
          {
           "name": "reddit_fud_theme",
           "type": "number"
          },
          {
           "name": "reddit_whitepaper",
           "type": "number"
          },
          {
           "name": "reddit_announcements",
           "type": "number"
          },
          {
           "name": "reddit_technical_analysis",
           "type": "number"
          },
          {
           "name": "reddit_flippening",
           "type": "number"
          },
          {
           "name": "reddit_community",
           "type": "number"
          },
          {
           "name": "reddit_investing_trading",
           "type": "number"
          },
          {
           "name": "reddit_euphoric_excited",
           "type": "number"
          },
          {
           "name": "reddit_hodling",
           "type": "number"
          },
          {
           "name": "reddit_ico",
           "type": "number"
          },
          {
           "name": "reddit_bearish",
           "type": "number"
          },
          {
           "name": "reddit_going_short",
           "type": "number"
          },
          {
           "name": "reddit_uncertain",
           "type": "number"
          },
          {
           "name": "reddit_volume",
           "type": "number"
          },
          {
           "name": "reddit_risk",
           "type": "number"
          },
          {
           "name": "reddit_governance",
           "type": "number"
          },
          {
           "name": "reddit_ban",
           "type": "number"
          },
          {
           "name": "reddit_cheap",
           "type": "number"
          },
          {
           "name": "reddit_short_term_trading",
           "type": "number"
          },
          {
           "name": "reddit_fork",
           "type": "number"
          },
          {
           "name": "reddit_progress",
           "type": "number"
          },
          {
           "name": "reddit_shilling",
           "type": "number"
          },
          {
           "name": "reddit_bullish",
           "type": "number"
          },
          {
           "name": "reddit_happy",
           "type": "number"
          },
          {
           "name": "reddit_bubble",
           "type": "number"
          },
          {
           "name": "reddit_bots",
           "type": "number"
          },
          {
           "name": "reddit_hopeful",
           "type": "number"
          },
          {
           "name": "reddit_bug",
           "type": "number"
          },
          {
           "name": "reddit_open_source",
           "type": "number"
          },
          {
           "name": "reddit_token_economics",
           "type": "number"
          },
          {
           "name": "reddit_security",
           "type": "number"
          },
          {
           "name": "reddit_marketing",
           "type": "number"
          },
          {
           "name": "reddit_bad_news",
           "type": "number"
          },
          {
           "name": "reddit_due_diligence",
           "type": "number"
          },
          {
           "name": "reddit_team",
           "type": "number"
          },
          {
           "name": "reddit_partnerships",
           "type": "number"
          },
          {
           "name": "reddit_pump_and_dump",
           "type": "number"
          },
          {
           "name": "reddit_sad",
           "type": "number"
          },
          {
           "name": "reddit_panicking",
           "type": "number"
          },
          {
           "name": "reddit_listing",
           "type": "number"
          },
          {
           "name": "reddit_regulation_politics",
           "type": "number"
          },
          {
           "name": "reddit_dip",
           "type": "number"
          },
          {
           "name": "reddit_launch",
           "type": "number"
          },
          {
           "name": "reddit_fomo_theme",
           "type": "number"
          },
          {
           "name": "reddit_advice_support",
           "type": "number"
          },
          {
           "name": "reddit_rebranding",
           "type": "number"
          },
          {
           "name": "reddit_wallet",
           "type": "number"
          },
          {
           "name": "reddit_good_news",
           "type": "number"
          },
          {
           "name": "reddit_problems_and_issues",
           "type": "number"
          },
          {
           "name": "reddit_mining",
           "type": "number"
          },
          {
           "name": "reddit_waiting",
           "type": "number"
          },
          {
           "name": "reddit_learning",
           "type": "number"
          },
          {
           "name": "reddit_scaling",
           "type": "number"
          },
          {
           "name": "reddit_fees",
           "type": "number"
          },
          {
           "name": "reddit_roadmap",
           "type": "number"
          },
          {
           "name": "reddit_recovery",
           "type": "number"
          },
          {
           "name": "reddit_technology",
           "type": "number"
          },
          {
           "name": "reddit_mistrustful",
           "type": "number"
          },
          {
           "name": "reddit_marketcap",
           "type": "number"
          },
          {
           "name": "reddit_positive",
           "type": "number"
          },
          {
           "name": "reddit_tax",
           "type": "number"
          },
          {
           "name": "reddit_long_term_investing",
           "type": "number"
          },
          {
           "name": "reddit_strategy",
           "type": "number"
          },
          {
           "name": "reddit_competition",
           "type": "number"
          },
          {
           "name": "reddit_whales",
           "type": "number"
          },
          {
           "name": "reddit_correction",
           "type": "number"
          },
          {
           "name": "reddit_stablecoin",
           "type": "number"
          },
          {
           "name": "reddit_buying",
           "type": "number"
          },
          {
           "name": "reddit_warning",
           "type": "number"
          },
          {
           "name": "reddit_annoyed_frustrated",
           "type": "number"
          },
          {
           "name": "reddit_price",
           "type": "number"
          },
          {
           "name": "reddit_use_case_applications",
           "type": "number"
          },
          {
           "name": "reddit_rumor",
           "type": "number"
          },
          {
           "name": "reddit_scam_fraud",
           "type": "number"
          },
          {
           "name": "reddit_airdrop",
           "type": "number"
          },
          {
           "name": "reddit_optimistic",
           "type": "number"
          },
          {
           "name": "reddit_negative",
           "type": "number"
          }
         ],
         "primaryKey": [
          "index"
         ],
         "pandas_version": "1.4.0"
        },
        "data": {
         "index": [
          71864,
          71865,
          71866,
          71867,
          71868
         ],
         "date": [
          "2025-01-13 07:00:00",
          "2025-01-13 08:00:00",
          "2025-01-13 09:00:00",
          "2025-01-13 10:00:00",
          "2025-01-13 11:00:00"
         ],
         "listing_close": [
          0.4970714058,
          0.4968394213,
          0.4967552656,
          0.4961625141,
          0.4957966258
         ],
         "twitter_hacks": [
          -0.2367980616,
          0.6733276078,
          -0.2367980616,
          -0.2367980616,
          -0.2367980616
         ],
         "twitter_pessimistic_doubtful": [
          -0.5717416779,
          -0.5717416779,
          -0.5717416779,
          -0.5717416779,
          -0.5717416779
         ],
         "twitter_banks": [
          -0.6820007661,
          -0.6820007661,
          -0.6820007661,
          -0.1572629165,
          -0.6820007661
         ],
         "twitter_selling": [
          -0.2651101583,
          -0.7658118629,
          -0.7658118629,
          -0.2651101583,
          -0.2651101583
         ],
         "twitter_market_manipulation": [
          -0.3000559945,
          -0.3000559945,
          -0.3000559945,
          -0.3000559945,
          -0.3000559945
         ],
         "twitter_de_centralisation": [
          -0.6339895136,
          -0.6339895136,
          -0.6339895136,
          -0.6339895136,
          -0.6339895136
         ],
         "twitter_angry": [
          -0.4890935554,
          -0.4890935554,
          -0.4890935554,
          -0.4890935554,
          -0.4890935554
         ],
         "twitter_etf": [
          0.4673887541,
          -0.307368488,
          -0.307368488,
          -0.307368488,
          -0.307368488
         ],
         "twitter_leverage": [
          -0.3732194858,
          -0.3732194858,
          -0.3732194858,
          -0.3732194858,
          -0.3732194858
         ],
         "twitter_bottom": [
          -0.5120922235,
          -0.5120922235,
          -0.5120922235,
          0.2444509551,
          0.2444509551
         ],
         "twitter_institutional_money": [
          -0.5075778978,
          -0.5075778978,
          -0.5075778978,
          -0.5075778978,
          -0.5075778978
         ],
         "twitter_fomo": [
          -0.5422137975,
          -0.5422137975,
          -0.5422137975,
          4.0303302387,
          -0.5422137975
         ],
         "twitter_prediction": [
          -0.4835463397,
          -0.0478120047,
          -0.7740358964,
          -0.4835463397,
          -0.3383015614
         ],
         "twitter_adoption": [
          -0.9102039313,
          -1.0744042745,
          -0.7460035881,
          -0.4176029016,
          -0.9102039313
         ],
         "twitter_fearful_concerned": [
          -0.5512281956,
          -0.5512281956,
          -0.5512281956,
          -0.5512281956,
          -0.5512281956
         ],
         "twitter_portfolio": [
          -0.5881567515,
          -0.5881567515,
          -0.5881567515,
          -0.5881567515,
          -0.5881567515
         ],
         "twitter_fud_theme": [
          -0.3225053885,
          -0.3225053885,
          -0.3225053885,
          -0.3225053885,
          -0.3225053885
         ],
         "twitter_whitepaper": [
          -0.2504752045,
          1.1810478549,
          -0.2504752045,
          -0.2504752045,
          -0.2504752045
         ],
         "twitter_announcements": [
          -0.4812900655,
          -0.4812900655,
          -0.4812900655,
          -0.4812900655,
          -0.4812900655
         ],
         "twitter_technical_analysis": [
          -1.0751074227,
          -0.404042701,
          -0.5718088814,
          -0.0685103401,
          -0.5718088814
         ],
         "twitter_flippening": [
          -0.1771100207,
          -0.1771100207,
          -0.1771100207,
          -0.1771100207,
          -0.1771100207
         ],
         "twitter_community": [
          -0.5477418116,
          -0.5477418116,
          -0.5477418116,
          -0.5477418116,
          -0.5477418116
         ],
         "twitter_investing_trading": [
          -0.723113635,
          -0.6176057191,
          -0.670359677,
          -0.4593438453,
          -0.4593438453
         ],
         "twitter_euphoric_excited": [
          -0.4545135328,
          -0.8531252511,
          -0.4545135328,
          -0.4545135328,
          -0.8531252511
         ],
         "twitter_hodling": [
          -0.5265910655,
          -0.5265910655,
          -0.5265910655,
          -0.5265910655,
          0.4977572615
         ],
         "twitter_ico": [
          -0.3794699204,
          -0.3794699204,
          -0.3794699204,
          -0.3794699204,
          -0.3794699204
         ],
         "twitter_bearish": [
          -0.1450651215,
          -0.1450651215,
          -0.507256722,
          -0.507256722,
          -0.8694483225
         ],
         "twitter_going_short": [
          -0.4786821274,
          -0.4786821274,
          -0.4786821274,
          -0.4786821274,
          0.4789086373
         ],
         "twitter_uncertain": [
          -0.6850434589,
          -0.3258172536,
          -0.3258172536,
          -0.3258172536,
          -0.3258172536
         ],
         "twitter_volume": [
          -0.6317393168,
          -0.6317393168,
          -0.6317393168,
          -0.2800615959,
          -0.4559004563
         ],
         "twitter_risk": [
          -0.6292963337,
          0.3859205781,
          0.3859205781,
          0.3859205781,
          -0.6292963337
         ],
         "twitter_governance": [
          -0.1059669772,
          -0.1059669772,
          -0.1059669772,
          -0.1059669772,
          -0.1059669772
         ],
         "twitter_ban": [
          -0.4405029035,
          -0.4405029035,
          -0.4405029035,
          0.0759237505,
          -0.4405029035
         ],
         "twitter_cheap": [
          -0.4037554118,
          -0.4037554118,
          -0.4037554118,
          3.1147965087,
          -0.4037554118
         ],
         "twitter_short_term_trading": [
          -0.7910882984,
          -0.7910882984,
          -0.7910882984,
          -0.0756150378,
          -0.7910882984
         ],
         "twitter_fork": [
          -0.400814411,
          -0.400814411,
          -0.400814411,
          -0.400814411,
          -0.400814411
         ],
         "twitter_progress": [
          -0.7063824708,
          -0.0762218269,
          -0.7063824708,
          -0.7063824708,
          -0.7063824708
         ],
         "twitter_shilling": [
          -0.301626184,
          -0.301626184,
          -0.301626184,
          -0.301626184,
          -0.301626184
         ],
         "twitter_bullish": [
          -0.4824198202,
          -0.0537393914,
          -0.6967600346,
          -0.4824198202,
          -0.4824198202
         ],
         "twitter_happy": [
          -0.5036850561,
          -0.5036850561,
          -0.5036850561,
          -0.5036850561,
          -0.5036850561
         ],
         "twitter_bubble": [
          -0.340477523,
          -0.340477523,
          -0.340477523,
          -0.340477523,
          -0.340477523
         ],
         "twitter_bots": [
          -0.341774658,
          2.0739415983,
          -0.341774658,
          -0.341774658,
          -0.341774658
         ],
         "twitter_hopeful": [
          -0.6883542259,
          -0.6883542259,
          0.1216685311,
          -0.6883542259,
          0.1216685311
         ],
         "twitter_bug": [
          -0.2635250625,
          -0.2635250625,
          -0.2635250625,
          -0.2635250625,
          -0.2635250625
         ],
         "twitter_open_source": [
          -0.2752322245,
          -0.2752322245,
          -0.2752322245,
          -0.2752322245,
          -0.2752322245
         ],
         "twitter_token_economics": [
          -0.3382025698,
          -0.3382025698,
          -0.3382025698,
          -0.3382025698,
          -0.3382025698
         ],
         "twitter_security": [
          -0.5282258803,
          -0.5282258803,
          -0.5282258803,
          0.2276340658,
          -0.5282258803
         ],
         "twitter_marketing": [
          -0.3295531637,
          -0.3295531637,
          -0.3295531637,
          -0.3295531637,
          -0.3295531637
         ],
         "twitter_bad_news": [
          -0.2795344613,
          -0.2795344613,
          -0.5689303443,
          -0.5689303443,
          -0.5689303443
         ],
         "twitter_due_diligence": [
          -0.9548195682,
          -0.4877988173,
          -0.9548195682,
          -0.7213091928,
          -0.7213091928
         ],
         "twitter_team": [
          -0.7349416192,
          0.6313159916,
          -0.7349416192,
          -0.7349416192,
          -0.7349416192
         ],
         "twitter_partnerships": [
          -0.3467852942,
          -0.3467852942,
          -0.3467852942,
          -0.3467852942,
          -0.3467852942
         ],
         "twitter_pump_and_dump": [
          -0.1525599981,
          -0.1525599981,
          -0.1525599981,
          -0.1525599981,
          -0.1525599981
         ],
         "twitter_sad": [
          -0.3123208628,
          -0.3123208628,
          -0.3123208628,
          -0.3123208628,
          -0.3123208628
         ],
         "twitter_panicking": [
          -0.2244330327,
          -0.2244330327,
          -0.2244330327,
          -0.2244330327,
          -0.2244330327
         ],
         "twitter_listing": [
          -0.7088841318,
          -0.7088841318,
          -0.7088841318,
          -0.1249332616,
          -0.1249332616
         ],
         "twitter_regulation_politics": [
          -0.5268632687,
          -0.5268632687,
          -0.8154101094,
          -0.5268632687,
          -0.5268632687
         ],
         "twitter_dip": [
          -0.4626936516,
          -0.4626936516,
          0.2289888937,
          -0.4626936516,
          -0.4626936516
         ],
         "twitter_launch": [
          -0.4458944947,
          -0.4458944947,
          -0.4458944947,
          -0.4458944947,
          -0.4458944947
         ],
         "twitter_fomo_theme": [
          -0.3233933149,
          -0.3233933149,
          -0.3233933149,
          -0.3233933149,
          -0.3233933149
         ],
         "twitter_advice_support": [
          -0.979344753,
          -0.3849737041,
          -1.1279375152,
          -0.8307519907,
          -0.8307519907
         ],
         "twitter_rebranding": [
          -0.1074108516,
          -0.1074108516,
          -0.1074108516,
          -0.1074108516,
          -0.1074108516
         ],
         "twitter_wallet": [
          -0.5008530763,
          -0.5008530763,
          -0.5008530763,
          -0.5008530763,
          -0.5008530763
         ],
         "twitter_good_news": [
          -0.9118263005,
          -1.0140015606,
          -1.0140015606,
          -0.5031252601,
          -1.0140015606
         ],
         "twitter_problems_and_issues": [
          -0.7793703496,
          -0.0632985584,
          -0.7793703496,
          -0.7793703496,
          -0.7793703496
         ],
         "twitter_mining": [
          -0.8424146069,
          -0.8424146069,
          -0.8424146069,
          -0.8424146069,
          -0.8424146069
         ],
         "twitter_waiting": [
          -0.6238750243,
          -0.6238750243,
          -0.6238750243,
          -0.6238750243,
          -0.6238750243
         ],
         "twitter_learning": [
          -0.1513630855,
          -0.8608337431,
          -0.1513630855,
          0.558107572,
          -0.1513630855
         ],
         "twitter_scaling": [
          -0.4123003944,
          -0.4123003944,
          -0.4123003944,
          -0.4123003944,
          -0.4123003944
         ],
         "twitter_fees": [
          -0.0799997932,
          -0.5504608959,
          -0.5504608959,
          -0.0799997932,
          -0.5504608959
         ],
         "twitter_roadmap": [
          -0.1895112717,
          -0.1895112717,
          -0.1895112717,
          -0.1895112717,
          -0.1895112717
         ],
         "twitter_recovery": [
          1.9268040793,
          -0.2835308349,
          -0.2835308349,
          -0.2835308349,
          -0.2835308349
         ],
         "twitter_technology": [
          -1.0089685704,
          -1.0819768366,
          -1.0819768366,
          -0.9359603042,
          -0.9359603042
         ],
         "twitter_mistrustful": [
          -0.2535218978,
          -0.2535218978,
          -0.2535218978,
          -0.2535218978,
          -0.2535218978
         ],
         "twitter_marketcap": [
          -0.4601268086,
          -0.4601268086,
          -0.4601268086,
          -0.4601268086,
          -0.4601268086
         ],
         "twitter_positive": [
          -0.5507365128,
          -0.5507365128,
          -1.014358109,
          -0.5507365128,
          -0.5507365128
         ],
         "twitter_tax": [
          -0.3569140441,
          -0.3569140441,
          -0.3569140441,
          -0.3569140441,
          -0.3569140441
         ],
         "twitter_long_term_investing": [
          -0.8075368443,
          -0.8075368443,
          -1.0045217183,
          -0.8075368443,
          -0.2165822226
         ],
         "twitter_strategy": [
          -0.380345773,
          -0.380345773,
          -0.380345773,
          -0.380345773,
          -0.380345773
         ],
         "twitter_competition": [
          -1.0440242392,
          -0.4203519135,
          -0.836133464,
          -0.0045703631,
          -1.0440242392
         ],
         "twitter_whales": [
          -0.3284515117,
          -0.0554200429,
          -0.3284515117,
          -0.3284515117,
          -0.3284515117
         ],
         "twitter_correction": [
          -0.4219895698,
          -0.4219895698,
          -0.4219895698,
          0.8699366663,
          -0.4219895698
         ],
         "twitter_stablecoin": [
          -0.2593755228,
          -0.2593755228,
          -0.2593755228,
          -0.2593755228,
          -0.2593755228
         ],
         "twitter_buying": [
          -0.9123975099,
          -0.9123975099,
          -0.5846270801,
          -0.2568566504,
          -0.5846270801
         ],
         "twitter_warning": [
          -0.2642642163,
          -0.2642642163,
          -0.2642642163,
          -0.2642642163,
          -0.2642642163
         ],
         "twitter_annoyed_frustrated": [
          -0.2217863567,
          -0.2217863567,
          -0.2217863567,
          -0.2217863567,
          -0.2217863567
         ],
         "twitter_price": [
          -0.7340304597,
          -0.5183372272,
          -0.6980815876,
          -0.5542860993,
          -0.5902349713
         ],
         "twitter_use_case_applications": [
          -0.9252360875,
          -0.9252360875,
          -0.9252360875,
          -0.9252360875,
          -0.9252360875
         ],
         "twitter_rumor": [
          -0.3089438405,
          -0.3089438405,
          -0.3089438405,
          -0.3089438405,
          -0.3089438405
         ],
         "twitter_scam_fraud": [
          -0.7146972421,
          -0.1426640536,
          -0.7146972421,
          -0.7146972421,
          -0.7146972421
         ],
         "twitter_airdrop": [
          -0.2816944944,
          -0.2816944944,
          -0.2816944944,
          -0.2816944944,
          -0.2816944944
         ],
         "twitter_optimistic": [
          -0.9823363866,
          -0.9823363866,
          -0.9823363866,
          -0.5928367603,
          0.1861624924
         ],
         "twitter_negative": [
          -0.9251899078,
          -1.0274058207,
          -0.9251899078,
          -0.9251899078,
          -0.8229739949
         ],
         "bitcointalk_hacks": [
          -0.4388048042,
          -0.4388048042,
          -0.4388048042,
          -0.4388048042,
          0.9192376759
         ],
         "bitcointalk_pessimistic_doubtful": [
          -0.7867679561,
          -0.7867679561,
          -0.7867679561,
          -0.3771904237,
          0.0323871087
         ],
         "bitcointalk_banks": [
          -0.7346552243,
          -0.3237237896,
          -0.3237237896,
          -0.3237237896,
          -0.3237237896
         ],
         "bitcointalk_selling": [
          -0.3491316173,
          0.0734376446,
          -0.3491316173,
          -0.3491316173,
          0.0734376446
         ],
         "bitcointalk_market_manipulation": [
          -0.608628719,
          0.288100148,
          -0.608628719,
          -0.608628719,
          -0.608628719
         ],
         "bitcointalk_de_centralisation": [
          -0.9102098073,
          0.6589676212,
          0.1359084784,
          -0.3871506644,
          -0.9102098073
         ],
         "bitcointalk_angry": [
          -0.4350346733,
          -0.4350346733,
          -0.4350346733,
          -0.4350346733,
          -0.4350346733
         ],
         "bitcointalk_etf": [
          -0.3409981569,
          -0.3409981569,
          -0.3409981569,
          -0.3409981569,
          -0.3409981569
         ],
         "bitcointalk_leverage": [
          -0.3065136283,
          -0.3065136283,
          -0.3065136283,
          -0.3065136283,
          -0.3065136283
         ],
         "bitcointalk_bottom": [
          -0.5271694415,
          -0.5271694415,
          -0.5271694415,
          -0.5271694415,
          -0.5271694415
         ],
         "bitcointalk_institutional_money": [
          -0.5228591667,
          -0.5228591667,
          -0.5228591667,
          -0.5228591667,
          -0.5228591667
         ],
         "bitcointalk_fomo": [
          -0.5938271949,
          0.4995493498,
          -0.5938271949,
          0.4995493498,
          -0.5938271949
         ],
         "bitcointalk_prediction": [
          -0.8183980208,
          -0.4905744615,
          -0.7091235011,
          -0.7091235011,
          -0.5998489813
         ],
         "bitcointalk_adoption": [
          -0.743843021,
          -0.5105370915,
          -0.5105370915,
          -0.6271900562,
          -0.3938841267
         ],
         "bitcointalk_fearful_concerned": [
          -0.6899119264,
          0.7860884379,
          -0.6899119264,
          -0.6899119264,
          -0.6899119264
         ],
         "bitcointalk_portfolio": [
          -0.7783165953,
          0.0048711534,
          0.0048711534,
          -0.7783165953,
          0.0048711534
         ],
         "bitcointalk_fud_theme": [
          -0.4798539352,
          -0.4798539352,
          -0.4798539352,
          -0.4798539352,
          -0.4798539352
         ],
         "bitcointalk_whitepaper": [
          -0.3935978248,
          1.5196576414,
          -0.3935978248,
          -0.3935978248,
          -0.3935978248
         ],
         "bitcointalk_announcements": [
          -0.4024320979,
          -0.4024320979,
          -0.4024320979,
          -0.4024320979,
          -0.4024320979
         ],
         "bitcointalk_technical_analysis": [
          -0.3854184876,
          -0.3854184876,
          -0.9433727887,
          -0.3854184876,
          -0.3854184876
         ],
         "bitcointalk_flippening": [
          -0.1176524346,
          -0.1176524346,
          -0.1176524346,
          -0.1176524346,
          -0.1176524346
         ],
         "bitcointalk_community": [
          -0.7570844975,
          -0.1926852884,
          -0.7570844975,
          -0.7570844975,
          -0.7570844975
         ],
         "bitcointalk_investing_trading": [
          -0.7781318854,
          -0.5178356149,
          -0.6740133772,
          -0.4657763608,
          -0.569894869
         ],
         "bitcointalk_euphoric_excited": [
          -0.745406513,
          0.190759302,
          -0.745406513,
          -0.745406513,
          0.190759302
         ],
         "bitcointalk_hodling": [
          0.3792337659,
          0.3792337659,
          -0.6375218679,
          0.3792337659,
          0.3792337659
         ],
         "bitcointalk_ico": [
          -0.5025337796,
          -0.5025337796,
          -0.5025337796,
          -0.5025337796,
          -0.5025337796
         ],
         "bitcointalk_bearish": [
          -0.7988102972,
          -0.7988102972,
          -0.7988102972,
          -0.7988102972,
          -0.351125953
         ],
         "bitcointalk_going_short": [
          -0.3657330333,
          -0.3657330333,
          -0.3657330333,
          -0.3657330333,
          -0.3657330333
         ],
         "bitcointalk_uncertain": [
          -0.1790710721,
          0.3331133862,
          -0.4351633013,
          0.077021157,
          -0.1790710721
         ],
         "bitcointalk_volume": [
          -0.6314067894,
          -0.6314067894,
          -0.6314067894,
          0.3098035594,
          -0.6314067894
         ],
         "bitcointalk_risk": [
          -0.0088013117,
          -0.4324727609,
          -0.0088013117,
          -0.0088013117,
          -0.0088013117
         ],
         "bitcointalk_governance": [
          -0.0810285773,
          -0.0810285773,
          -0.0810285773,
          -0.0810285773,
          -0.0810285773
         ],
         "bitcointalk_ban": [
          0.2962894493,
          0.2962894493,
          -0.4676492187,
          -0.4676492187,
          -0.4676492187
         ],
         "bitcointalk_cheap": [
          -0.5486999018,
          -0.5486999018,
          -0.5486999018,
          -0.5486999018,
          -0.5486999018
         ],
         "bitcointalk_short_term_trading": [
          -0.6306704428,
          -0.6306704428,
          0.4674943596,
          0.4674943596,
          0.4674943596
         ],
         "bitcointalk_fork": [
          -0.3412775335,
          0.0725661747,
          -0.3412775335,
          -0.3412775335,
          -0.3412775335
         ],
         "bitcointalk_progress": [
          -0.6937923499,
          0.0160701596,
          -0.6937923499,
          -0.6937923499,
          0.0160701596
         ],
         "bitcointalk_shilling": [
          -0.2499180563,
          -0.2499180563,
          -0.2499180563,
          -0.2499180563,
          -0.2499180563
         ],
         "bitcointalk_bullish": [
          -0.9413244934,
          -0.2326477877,
          -0.2326477877,
          -0.5869861405,
          -0.2326477877
         ],
         "bitcointalk_happy": [
          -0.6685495831,
          0.9425826153,
          -0.6685495831,
          -0.6685495831,
          0.1370165161
         ],
         "bitcointalk_bubble": [
          -0.4164786845,
          -0.4164786845,
          -0.4164786845,
          -0.4164786845,
          -0.4164786845
         ],
         "bitcointalk_bots": [
          -0.3321054166,
          -0.3321054166,
          -0.3321054166,
          -0.3321054166,
          -0.3321054166
         ],
         "bitcointalk_hopeful": [
          -0.374312471,
          -0.374312471,
          -0.374312471,
          -0.7769506249,
          -0.374312471
         ],
         "bitcointalk_bug": [
          -0.314922897,
          -0.314922897,
          -0.314922897,
          -0.314922897,
          -0.314922897
         ],
         "bitcointalk_open_source": [
          -0.364132088,
          1.9958470836,
          -0.364132088,
          -0.364132088,
          -0.364132088
         ],
         "bitcointalk_token_economics": [
          -0.459105266,
          -0.459105266,
          -0.459105266,
          -0.459105266,
          -0.459105266
         ],
         "bitcointalk_security": [
          -0.7333591973,
          0.5278013772,
          -0.7333591973,
          -0.7333591973,
          -0.10277891
         ],
         "bitcointalk_marketing": [
          -0.4526061339,
          -0.4526061339,
          -0.4526061339,
          -0.4526061339,
          -0.4526061339
         ],
         "bitcointalk_bad_news": [
          -0.5360344161,
          -0.5360344161,
          -0.5360344161,
          -0.5360344161,
          -0.5360344161
         ],
         "bitcointalk_due_diligence": [
          0.3622215082,
          -0.6493385297,
          -0.6493385297,
          -0.6493385297,
          0.3622215082
         ],
         "bitcointalk_team": [
          -0.7536869292,
          -0.2166649105,
          -0.7536869292,
          -0.7536869292,
          -0.7536869292
         ],
         "bitcointalk_partnerships": [
          -0.330647274,
          -0.330647274,
          -0.330647274,
          -0.330647274,
          -0.330647274
         ],
         "bitcointalk_pump_and_dump": [
          -0.3682296056,
          1.8523018194,
          -0.3682296056,
          -0.3682296056,
          -0.3682296056
         ],
         "bitcointalk_sad": [
          -0.3884377599,
          -0.3884377599,
          -0.3884377599,
          -0.3884377599,
          -0.3884377599
         ],
         "bitcointalk_panicking": [
          -0.3246199028,
          -0.3246199028,
          -0.3246199028,
          -0.3246199028,
          -0.3246199028
         ],
         "bitcointalk_listing": [
          -0.6815869429,
          -0.6815869429,
          -0.6815869429,
          -0.6815869429,
          -0.6815869429
         ],
         "bitcointalk_regulation_politics": [
          -0.4393765233,
          -0.2318274658,
          -0.6469255808,
          -0.4393765233,
          0.1832706492
         ],
         "bitcointalk_dip": [
          -0.5863663186,
          1.1692760231,
          0.2914548523,
          -0.5863663186,
          -0.5863663186
         ],
         "bitcointalk_launch": [
          -0.4891115892,
          1.0347953255,
          -0.4891115892,
          -0.4891115892,
          -0.4891115892
         ],
         "bitcointalk_fomo_theme": [
          -0.3925823053,
          -0.3925823053,
          -0.3925823053,
          -0.3925823053,
          -0.3925823053
         ],
         "bitcointalk_advice_support": [
          -0.7067894637,
          -0.422681383,
          -0.7067894637,
          -0.5173840766,
          -0.5647354233
         ],
         "bitcointalk_rebranding": [
          -0.0989498854,
          -0.0989498854,
          -0.0989498854,
          -0.0989498854,
          -0.0989498854
         ],
         "bitcointalk_wallet": [
          -0.5874825469,
          -0.9005518847,
          -0.9005518847,
          -0.5874825469,
          0.0386561286
         ],
         "bitcointalk_good_news": [
          -0.7802269927,
          -0.5353692646,
          -0.7802269927,
          -0.5353692646,
          -0.2905115365
         ],
         "bitcointalk_problems_and_issues": [
          -0.4028277609,
          -0.4028277609,
          -0.9668580433,
          -0.6848429021,
          -0.4028277609
         ],
         "bitcointalk_mining": [
          -0.8334342432,
          -0.4602490738,
          -0.8334342432,
          -0.0870639043,
          -0.4602490738
         ],
         "bitcointalk_waiting": [
          -0.7348493271,
          -0.7348493271,
          -0.7348493271,
          -0.7348493271,
          -0.7348493271
         ],
         "bitcointalk_learning": [
          -0.0671418691,
          0.3501014502,
          -0.4843851884,
          -0.9016285076,
          -0.0671418691
         ],
         "bitcointalk_scaling": [
          -0.4461656684,
          -0.4461656684,
          -0.4461656684,
          -0.4461656684,
          -0.4461656684
         ],
         "bitcointalk_fees": [
          -0.7007179009,
          -0.7007179009,
          -0.7007179009,
          -0.7007179009,
          -0.3144690719
         ],
         "bitcointalk_roadmap": [
          -0.2539071002,
          3.0358079498,
          -0.2539071002,
          -0.2539071002,
          -0.2539071002
         ],
         "bitcointalk_recovery": [
          -0.4150486254,
          -0.4150486254,
          -0.4150486254,
          1.1234870493,
          -0.4150486254
         ],
         "bitcointalk_technology": [
          -0.7654702488,
          -0.5401506553,
          -0.8781300456,
          -0.7654702488,
          -0.4274908585
         ],
         "bitcointalk_mistrustful": [
          -0.4514119319,
          1.5180243661,
          -0.4514119319,
          -0.4514119319,
          -0.4514119319
         ],
         "bitcointalk_marketcap": [
          -0.587691864,
          0.3266637001,
          -0.587691864,
          0.3266637001,
          0.3266637001
         ],
         "bitcointalk_positive": [
          -0.7234978261,
          -0.5479291419,
          -0.5479291419,
          -0.6064520366,
          -0.4308833524
         ],
         "bitcointalk_tax": [
          -0.4865260348,
          -0.4865260348,
          -0.4865260348,
          -0.4865260348,
          -0.4865260348
         ],
         "bitcointalk_long_term_investing": [
          -0.6483354977,
          0.0731612798,
          -0.1673376461,
          -0.1673376461,
          -0.6483354977
         ],
         "bitcointalk_strategy": [
          -0.6266180694,
          -0.6266180694,
          -0.6266180694,
          0.5312277727,
          -0.6266180694
         ],
         "bitcointalk_competition": [
          -0.6779553328,
          -0.1072817034,
          -0.5352869255,
          -0.2499501107,
          -0.5352869255
         ],
         "bitcointalk_whales": [
          -0.5969988976,
          -0.5969988976,
          -0.5969988976,
          -0.5969988976,
          -0.5969988976
         ],
         "bitcointalk_correction": [
          -0.5635533502,
          0.8813990481,
          0.158922849,
          -0.5635533502,
          -0.5635533502
         ],
         "bitcointalk_stablecoin": [
          -0.2307947529,
          -0.2307947529,
          -0.2307947529,
          -0.2307947529,
          -0.2307947529
         ],
         "bitcointalk_buying": [
          -0.8246741363,
          0.2847243644,
          -0.2699748859,
          -0.8246741363,
          -0.5473245111
         ],
         "bitcointalk_warning": [
          -0.4415591209,
          -0.4415591209,
          -0.4415591209,
          -0.4415591209,
          -0.4415591209
         ],
         "bitcointalk_annoyed_frustrated": [
          -0.2271990771,
          -0.2271990771,
          -0.2271990771,
          -0.2271990771,
          -0.2271990771
         ],
         "bitcointalk_price": [
          -0.7053536011,
          -0.3242891531,
          -0.7053536011,
          -0.8686669359,
          -0.5420402662
         ],
         "bitcointalk_use_case_applications": [
          -0.6980723347,
          -0.5554570917,
          -0.5554570917,
          -0.5554570917,
          -0.5554570917
         ],
         "bitcointalk_rumor": [
          -0.3877367757,
          -0.3877367757,
          -0.3877367757,
          -0.3877367757,
          -0.3877367757
         ],
         "bitcointalk_scam_fraud": [
          -0.3050607194,
          -0.8374262304,
          -0.8374262304,
          -0.8374262304,
          0.2273047917
         ],
         "bitcointalk_airdrop": [
          -0.3672082178,
          -0.3672082178,
          -0.3672082178,
          -0.3672082178,
          -0.3672082178
         ],
         "bitcointalk_optimistic": [
          -0.5472588515,
          -0.5472588515,
          -0.4603279141,
          -0.6341897889,
          -0.3733969767
         ],
         "bitcointalk_negative": [
          -0.6915764645,
          -0.3964230408,
          -0.7759060142,
          -0.5229173653,
          -0.4385878156
         ],
         "reddit_hacks": [
          -0.4104179882,
          0.4631591003,
          0.4631591003,
          0.4631591003,
          0.4631591003
         ],
         "reddit_pessimistic_doubtful": [
          -0.9686151754,
          -0.5387143915,
          0.3210871764,
          -0.9686151754,
          -0.1088136075
         ],
         "reddit_banks": [
          -0.6567292629,
          -0.9964283848,
          -0.317030141,
          -0.6567292629,
          -0.317030141
         ],
         "reddit_selling": [
          -0.5912606075,
          -0.8110960341,
          -0.5912606075,
          0.068245672,
          -0.1515897545
         ],
         "reddit_market_manipulation": [
          -0.5886024372,
          -0.5886024372,
          -0.5886024372,
          0.0752853915,
          -0.5886024372
         ],
         "reddit_de_centralisation": [
          -0.5812875889,
          -0.9575648368,
          -0.5812875889,
          -0.5812875889,
          -0.5812875889
         ],
         "reddit_angry": [
          -0.214466579,
          -0.7603863414,
          -0.7603863414,
          -0.7603863414,
          -0.214466579
         ],
         "reddit_etf": [
          -0.3941473045,
          0.3015565201,
          -0.0462953922,
          -0.0462953922,
          -0.0462953922
         ],
         "reddit_leverage": [
          -0.3433964155,
          -0.3433964155,
          -0.3433964155,
          0.4395099381,
          -0.3433964155
         ],
         "reddit_bottom": [
          -0.5999109344,
          -0.5999109344,
          -0.5999109344,
          0.2599641966,
          0.2599641966
         ],
         "reddit_institutional_money": [
          -0.6532498506,
          1.3291178188,
          -0.6532498506,
          -0.6532498506,
          -0.6532498506
         ],
         "reddit_fomo": [
          -0.6808442674,
          -0.6808442674,
          -0.6808442674,
          -0.1613012905,
          0.8777846634
         ],
         "reddit_prediction": [
          -0.5848026849,
          -0.254841121,
          -0.0348667451,
          0.7350435707,
          -0.1448539331
         ],
         "reddit_adoption": [
          -0.1436398655,
          -0.2423014111,
          -0.8342706843,
          -0.5382860477,
          -0.3409629566
         ],
         "reddit_fearful_concerned": [
          -0.6226199853,
          -0.807972554,
          -0.9933251226,
          -0.2519148479,
          -0.2519148479
         ],
         "reddit_portfolio": [
          -0.783347352,
          -0.0090552603,
          -0.3962013062,
          -0.3962013062,
          -0.3962013062
         ],
         "reddit_fud_theme": [
          -0.512310206,
          -0.512310206,
          0.2559413108,
          -0.512310206,
          -0.512310206
         ],
         "reddit_whitepaper": [
          -0.5527173965,
          -0.5527173965,
          -0.5527173965,
          -0.5527173965,
          0.3323816804
         ],
         "reddit_announcements": [
          -0.4249410869,
          -0.4249410869,
          -0.4249410869,
          -0.4249410869,
          -0.4249410869
         ],
         "reddit_technical_analysis": [
          -1.015140554,
          -0.4218942286,
          -0.1252710659,
          0.1713520968,
          -1.015140554
         ],
         "reddit_flippening": [
          -0.2795323365,
          -0.2795323365,
          -0.2795323365,
          -0.2795323365,
          -0.2795323365
         ],
         "reddit_community": [
          0.6326008538,
          -0.3243326822,
          -0.8027994502,
          -0.8027994502,
          -0.8027994502
         ],
         "reddit_investing_trading": [
          -0.4686504931,
          -0.5825275067,
          -0.4686504931,
          -0.2029374612,
          -0.2788554703
         ],
         "reddit_euphoric_excited": [
          -0.3290601835,
          -0.174220879,
          -0.6387387924,
          -0.483899488,
          -0.7935780969
         ],
         "reddit_hodling": [
          -0.6322901452,
          -0.1860973361,
          -0.6322901452,
          -0.1860973361,
          -0.6322901452
         ],
         "reddit_ico": [
          -0.4351177083,
          -0.4351177083,
          -0.4351177083,
          -0.4351177083,
          -0.4351177083
         ],
         "reddit_bearish": [
          -0.1648572907,
          -0.4852934943,
          0.4760151164,
          1.1168875235,
          0.79645132
         ],
         "reddit_going_short": [
          -0.5229480808,
          0.3905428075,
          -0.5229480808,
          -0.5229480808,
          0.3905428075
         ],
         "reddit_uncertain": [
          -0.7154257604,
          -0.7154257604,
          -0.7154257604,
          0.4114919215,
          -0.5276061468
         ],
         "reddit_volume": [
          -0.7288363343,
          -0.0180203797,
          -0.7288363343,
          -0.0180203797,
          -0.7288363343
         ],
         "reddit_risk": [
          -0.9389252743,
          -0.9389252743,
          -0.0343848454,
          1.322425798,
          1.322425798
         ],
         "reddit_governance": [
          -0.1389144449,
          -0.1389144449,
          -0.1389144449,
          -0.1389144449,
          -0.1389144449
         ],
         "reddit_ban": [
          -0.5522888751,
          -0.5522888751,
          -0.1361992975,
          -0.5522888751,
          -0.5522888751
         ],
         "reddit_cheap": [
          -0.6978724041,
          0.0435338519,
          -0.6978724041,
          0.0435338519,
          -0.6978724041
         ],
         "reddit_short_term_trading": [
          -0.6835692915,
          -0.6835692915,
          -0.6835692915,
          -0.0200167244,
          -0.0200167244
         ],
         "reddit_fork": [
          0.0608414766,
          -0.551741331,
          -0.551741331,
          -0.551741331,
          -0.551741331
         ],
         "reddit_progress": [
          -0.496831228,
          -0.1260945307,
          -0.8675679252,
          -0.496831228,
          -0.8675679252
         ],
         "reddit_shilling": [
          -0.485916943,
          0.7912788576,
          -0.485916943,
          -0.485916943,
          -0.485916943
         ],
         "reddit_bullish": [
          -0.4165203187,
          0.0440272137,
          -0.1862465525,
          -0.1862465525,
          -0.4165203187
         ],
         "reddit_happy": [
          -0.7463088317,
          -0.7463088317,
          -0.7463088317,
          -0.7463088317,
          -0.7463088317
         ],
         "reddit_bubble": [
          -0.4558307147,
          -0.4558307147,
          -0.4558307147,
          -0.4558307147,
          -0.4558307147
         ],
         "reddit_bots": [
          -0.0699575896,
          -0.2790390554,
          -0.4881205212,
          -0.2790390554,
          -0.4881205212
         ],
         "reddit_hopeful": [
          -0.8847774662,
          0.2464346353,
          -0.5077067657,
          -0.1306360652,
          -0.8847774662
         ],
         "reddit_bug": [
          2.1424147428,
          0.8320267907,
          -0.4783611614,
          -0.4783611614,
          -0.4783611614
         ],
         "reddit_open_source": [
          -0.5298490024,
          0.9155209951,
          0.9155209951,
          -0.5298490024,
          -0.5298490024
         ],
         "reddit_token_economics": [
          -0.3918847873,
          -0.3918847873,
          -0.3918847873,
          -0.3918847873,
          -0.3918847873
         ],
         "reddit_security": [
          -0.0843966967,
          -0.5212354577,
          -0.5212354577,
          0.3524420643,
          -0.5212354577
         ],
         "reddit_marketing": [
          -0.5232344068,
          -0.5232344068,
          -0.5232344068,
          -0.5232344068,
          -0.5232344068
         ],
         "reddit_bad_news": [
          -0.1908666622,
          -0.8854359499,
          -0.711793628,
          -1.0590782718,
          -0.8854359499
         ],
         "reddit_due_diligence": [
          -0.7519291671,
          -0.3247796239,
          0.1023699193,
          -0.7519291671,
          -0.3247796239
         ],
         "reddit_team": [
          -0.4520110431,
          -0.8700578549,
          -0.4520110431,
          -0.8700578549,
          -0.4520110431
         ],
         "reddit_partnerships": [
          -0.3648934405,
          -0.3648934405,
          -0.3648934405,
          -0.3648934405,
          -0.3648934405
         ],
         "reddit_pump_and_dump": [
          -0.3026739917,
          -0.3026739917,
          -0.3026739917,
          -0.3026739917,
          -0.3026739917
         ],
         "reddit_sad": [
          -0.5339277628,
          -0.5339277628,
          -0.5339277628,
          -0.5339277628,
          0.8171815075
         ],
         "reddit_panicking": [
          -0.2685448477,
          -0.2685448477,
          -0.2685448477,
          -0.2685448477,
          -0.2685448477
         ],
         "reddit_listing": [
          -0.7026753103,
          -0.7026753103,
          -0.0602070914,
          -0.7026753103,
          -0.7026753103
         ],
         "reddit_regulation_politics": [
          -1.0042237581,
          -0.6615541575,
          -0.4902193572,
          -0.4902193572,
          -1.0042237581
         ],
         "reddit_dip": [
          -0.1093267228,
          -0.1093267228,
          -0.1093267228,
          0.208843038,
          0.5270127989
         ],
         "reddit_launch": [
          -0.4666370724,
          -0.4666370724,
          -0.4666370724,
          -0.4666370724,
          -0.4666370724
         ],
         "reddit_fomo_theme": [
          -0.495954343,
          -0.495954343,
          -0.495954343,
          -0.495954343,
          -0.495954343
         ],
         "reddit_advice_support": [
          -0.5721726714,
          -0.613826063,
          -0.4472124968,
          -0.4055591053,
          -0.2805989307
         ],
         "reddit_rebranding": [
          -0.1456768137,
          -0.1456768137,
          -0.1456768137,
          -0.1456768137,
          -0.1456768137
         ],
         "reddit_wallet": [
          -0.0442064559,
          -0.4372627191,
          -0.0442064559,
          0.1523216758,
          0.7419060707
         ],
         "reddit_good_news": [
          -0.3953519588,
          -0.6864773794,
          -0.3953519588,
          -0.3953519588,
          -0.5894355725
         ],
         "reddit_problems_and_issues": [
          -0.2525230501,
          -0.0489632326,
          -0.6596426851,
          -0.2525230501,
          -0.0489632326
         ],
         "reddit_mining": [
          -0.8498338768,
          -1.0522502475,
          -0.647417506,
          -0.8498338768,
          -1.0522502475
         ],
         "reddit_waiting": [
          -0.2279504509,
          0.2862545383,
          0.2862545383,
          -0.74215544,
          0.2862545383
         ],
         "reddit_learning": [
          -0.0336024059,
          -0.2515011078,
          -0.6872985115,
          -0.2515011078,
          0.4021949978
         ],
         "reddit_scaling": [
          -0.6905988868,
          -0.6905988868,
          -0.6905988868,
          -0.6905988868,
          -0.6905988868
         ],
         "reddit_fees": [
          -0.2419217997,
          -0.5979836427,
          -0.7760145642,
          -0.5979836427,
          -0.5979836427
         ],
         "reddit_roadmap": [
          -0.3345454285,
          -0.3345454285,
          -0.3345454285,
          -0.3345454285,
          -0.3345454285
         ],
         "reddit_recovery": [
          -0.3375837901,
          -0.3375837901,
          -0.3375837901,
          -0.3375837901,
          -0.3375837901
         ],
         "reddit_technology": [
          -0.5040383201,
          -1.0443165634,
          -0.7355861386,
          -0.3496731077,
          -1.1214991696
         ],
         "reddit_mistrustful": [
          -0.4950179085,
          -0.4950179085,
          0.8931143661,
          -0.4950179085,
          -0.4950179085
         ],
         "reddit_marketcap": [
          -0.2246978096,
          -0.6709083836,
          -0.6709083836,
          -0.2246978096,
          -0.2246978096
         ],
         "reddit_positive": [
          -0.6992732087,
          -0.4505959072,
          -0.3884265818,
          -0.4505959072,
          -0.5127652326
         ],
         "reddit_tax": [
          -0.6840812531,
          -0.6840812531,
          -0.6840812531,
          0.0038479391,
          -0.6840812531
         ],
         "reddit_long_term_investing": [
          -0.6702170497,
          -0.3005625534,
          -0.1157353052,
          -0.4853898016,
          -0.6702170497
         ],
         "reddit_strategy": [
          -0.5892196057,
          -0.5892196057,
          0.5659928733,
          0.5659928733,
          1.7212053523
         ],
         "reddit_competition": [
          -0.3455074769,
          -0.542499023,
          -0.44400325,
          -0.0500201578,
          -0.44400325
         ],
         "reddit_whales": [
          -0.546435095,
          -0.546435095,
          -0.546435095,
          -0.546435095,
          0.1796496174
         ],
         "reddit_correction": [
          -0.381290978,
          0.4860023913,
          0.4860023913,
          1.3532957605,
          0.4860023913
         ],
         "reddit_stablecoin": [
          -0.3328328737,
          -0.3328328737,
          -0.3328328737,
          -0.3328328737,
          -0.3328328737
         ],
         "reddit_buying": [
          -0.5025621885,
          -0.7410438373,
          -0.1448397152,
          -0.2640805396,
          -0.383321364
         ],
         "reddit_warning": [
          -0.5660364779,
          -0.5660364779,
          -0.5660364779,
          -0.5660364779,
          -0.5660364779
         ],
         "reddit_annoyed_frustrated": [
          -0.3795763554,
          -0.3795763554,
          -0.3795763554,
          1.7156443119,
          -0.3795763554
         ],
         "reddit_price": [
          -0.5535029189,
          -0.4224062821,
          -0.1602130085,
          0.1019802651,
          -0.1602130085
         ],
         "reddit_use_case_applications": [
          -0.6573661851,
          -0.6573661851,
          -0.6573661851,
          -0.5064709228,
          -0.8082614474
         ],
         "reddit_rumor": [
          -0.4961646935,
          0.9647251568,
          -0.4961646935,
          -0.4961646935,
          -0.4961646935
         ],
         "reddit_scam_fraud": [
          -0.4914045516,
          -0.4914045516,
          -0.9164620662,
          -0.9164620662,
          -0.4914045516
         ],
         "reddit_airdrop": [
          -0.2144900537,
          -0.2144900537,
          -0.2144900537,
          -0.2144900537,
          -0.2144900537
         ],
         "reddit_optimistic": [
          -0.7876887106,
          -0.3104484403,
          -0.7876887106,
          -0.1513683502,
          -0.7876887106
         ],
         "reddit_negative": [
          -0.7644053352,
          -0.8317318392,
          -0.2931198075,
          -0.0911402956,
          -0.4614360674
         ]
        }
       },
       "total_rows": 5,
       "truncation_type": null
      },
      "text/plain": "                      date  listing_close  ...  reddit_optimistic  reddit_negative\n71864  2025-01-13 07:00:00       0.497071  ...          -0.787689        -0.764405\n71865  2025-01-13 08:00:00       0.496839  ...          -0.310448        -0.831732\n71866  2025-01-13 09:00:00       0.496755  ...          -0.787689        -0.293120\n71867  2025-01-13 10:00:00       0.496163  ...          -0.151368        -0.091140\n71868  2025-01-13 11:00:00       0.495797  ...          -0.787689        -0.461436\n\n[5 rows x 281 columns]",
      "text/html": "<div>\n<style scoped>\n    .dataframe tbody tr th:only-of-type {\n        vertical-align: middle;\n    }\n\n    .dataframe tbody tr th {\n        vertical-align: top;\n    }\n\n    .dataframe thead th {\n        text-align: right;\n    }\n</style>\n<table border=\"1\" class=\"dataframe\">\n  <thead>\n    <tr style=\"text-align: right;\">\n      <th></th>\n      <th>date</th>\n      <th>listing_close</th>\n      <th>twitter_hacks</th>\n      <th>twitter_pessimistic_doubtful</th>\n      <th>twitter_banks</th>\n      <th>twitter_selling</th>\n      <th>twitter_market_manipulation</th>\n      <th>twitter_de_centralisation</th>\n      <th>twitter_angry</th>\n      <th>twitter_etf</th>\n      <th>twitter_leverage</th>\n      <th>twitter_bottom</th>\n      <th>twitter_institutional_money</th>\n      <th>twitter_fomo</th>\n      <th>twitter_prediction</th>\n      <th>twitter_adoption</th>\n      <th>twitter_fearful_concerned</th>\n      <th>twitter_portfolio</th>\n      <th>twitter_fud_theme</th>\n      <th>twitter_whitepaper</th>\n      <th>twitter_announcements</th>\n      <th>twitter_technical_analysis</th>\n      <th>twitter_flippening</th>\n      <th>twitter_community</th>\n      <th>twitter_investing_trading</th>\n      <th>twitter_euphoric_excited</th>\n      <th>twitter_hodling</th>\n      <th>twitter_ico</th>\n      <th>twitter_bearish</th>\n      <th>twitter_going_short</th>\n      <th>twitter_uncertain</th>\n      <th>twitter_volume</th>\n      <th>twitter_risk</th>\n      <th>twitter_governance</th>\n      <th>twitter_ban</th>\n      <th>twitter_cheap</th>\n      <th>twitter_short_term_trading</th>\n      <th>twitter_fork</th>\n      <th>twitter_progress</th>\n      <th>twitter_shilling</th>\n      <th>...</th>\n      <th>reddit_sad</th>\n      <th>reddit_panicking</th>\n      <th>reddit_listing</th>\n      <th>reddit_regulation_politics</th>\n      <th>reddit_dip</th>\n      <th>reddit_launch</th>\n      <th>reddit_fomo_theme</th>\n      <th>reddit_advice_support</th>\n      <th>reddit_rebranding</th>\n      <th>reddit_wallet</th>\n      <th>reddit_good_news</th>\n      <th>reddit_problems_and_issues</th>\n      <th>reddit_mining</th>\n      <th>reddit_waiting</th>\n      <th>reddit_learning</th>\n      <th>reddit_scaling</th>\n      <th>reddit_fees</th>\n      <th>reddit_roadmap</th>\n      <th>reddit_recovery</th>\n      <th>reddit_technology</th>\n      <th>reddit_mistrustful</th>\n      <th>reddit_marketcap</th>\n      <th>reddit_positive</th>\n      <th>reddit_tax</th>\n      <th>reddit_long_term_investing</th>\n      <th>reddit_strategy</th>\n      <th>reddit_competition</th>\n      <th>reddit_whales</th>\n      <th>reddit_correction</th>\n      <th>reddit_stablecoin</th>\n      <th>reddit_buying</th>\n      <th>reddit_warning</th>\n      <th>reddit_annoyed_frustrated</th>\n      <th>reddit_price</th>\n      <th>reddit_use_case_applications</th>\n      <th>reddit_rumor</th>\n      <th>reddit_scam_fraud</th>\n      <th>reddit_airdrop</th>\n      <th>reddit_optimistic</th>\n      <th>reddit_negative</th>\n    </tr>\n  </thead>\n  <tbody>\n    <tr>\n      <th>71864</th>\n      <td>2025-01-13 07:00:00</td>\n      <td>0.497071</td>\n      <td>-0.236798</td>\n      <td>-0.571742</td>\n      <td>-0.682001</td>\n      <td>-0.265110</td>\n      <td>-0.300056</td>\n      <td>-0.63399</td>\n      <td>-0.489094</td>\n      <td>0.467389</td>\n      <td>-0.373219</td>\n      <td>-0.512092</td>\n      <td>-0.507578</td>\n      <td>-0.542214</td>\n      <td>-0.483546</td>\n      <td>-0.910204</td>\n      <td>-0.551228</td>\n      <td>-0.588157</td>\n      <td>-0.322505</td>\n      <td>-0.250475</td>\n      <td>-0.48129</td>\n      <td>-1.075107</td>\n      <td>-0.17711</td>\n      <td>-0.547742</td>\n      <td>-0.723114</td>\n      <td>-0.454514</td>\n      <td>-0.526591</td>\n      <td>-0.37947</td>\n      <td>-0.145065</td>\n      <td>-0.478682</td>\n      <td>-0.685043</td>\n      <td>-0.631739</td>\n      <td>-0.629296</td>\n      <td>-0.105967</td>\n      <td>-0.440503</td>\n      <td>-0.403755</td>\n      <td>-0.791088</td>\n      <td>-0.400814</td>\n      <td>-0.706382</td>\n      <td>-0.301626</td>\n      <td>...</td>\n      <td>-0.533928</td>\n      <td>-0.268545</td>\n      <td>-0.702675</td>\n      <td>-1.004224</td>\n      <td>-0.109327</td>\n      <td>-0.466637</td>\n      <td>-0.495954</td>\n      <td>-0.572173</td>\n      <td>-0.145677</td>\n      <td>-0.044206</td>\n      <td>-0.395352</td>\n      <td>-0.252523</td>\n      <td>-0.849834</td>\n      <td>-0.227950</td>\n      <td>-0.033602</td>\n      <td>-0.690599</td>\n      <td>-0.241922</td>\n      <td>-0.334545</td>\n      <td>-0.337584</td>\n      <td>-0.504038</td>\n      <td>-0.495018</td>\n      <td>-0.224698</td>\n      <td>-0.699273</td>\n      <td>-0.684081</td>\n      <td>-0.670217</td>\n      <td>-0.589220</td>\n      <td>-0.345507</td>\n      <td>-0.546435</td>\n      <td>-0.381291</td>\n      <td>-0.332833</td>\n      <td>-0.502562</td>\n      <td>-0.566036</td>\n      <td>-0.379576</td>\n      <td>-0.553503</td>\n      <td>-0.657366</td>\n      <td>-0.496165</td>\n      <td>-0.491405</td>\n      <td>-0.21449</td>\n      <td>-0.787689</td>\n      <td>-0.764405</td>\n    </tr>\n    <tr>\n      <th>71865</th>\n      <td>2025-01-13 08:00:00</td>\n      <td>0.496839</td>\n      <td>0.673328</td>\n      <td>-0.571742</td>\n      <td>-0.682001</td>\n      <td>-0.765812</td>\n      <td>-0.300056</td>\n      <td>-0.63399</td>\n      <td>-0.489094</td>\n      <td>-0.307368</td>\n      <td>-0.373219</td>\n      <td>-0.512092</td>\n      <td>-0.507578</td>\n      <td>-0.542214</td>\n      <td>-0.047812</td>\n      <td>-1.074404</td>\n      <td>-0.551228</td>\n      <td>-0.588157</td>\n      <td>-0.322505</td>\n      <td>1.181048</td>\n      <td>-0.48129</td>\n      <td>-0.404043</td>\n      <td>-0.17711</td>\n      <td>-0.547742</td>\n      <td>-0.617606</td>\n      <td>-0.853125</td>\n      <td>-0.526591</td>\n      <td>-0.37947</td>\n      <td>-0.145065</td>\n      <td>-0.478682</td>\n      <td>-0.325817</td>\n      <td>-0.631739</td>\n      <td>0.385921</td>\n      <td>-0.105967</td>\n      <td>-0.440503</td>\n      <td>-0.403755</td>\n      <td>-0.791088</td>\n      <td>-0.400814</td>\n      <td>-0.076222</td>\n      <td>-0.301626</td>\n      <td>...</td>\n      <td>-0.533928</td>\n      <td>-0.268545</td>\n      <td>-0.702675</td>\n      <td>-0.661554</td>\n      <td>-0.109327</td>\n      <td>-0.466637</td>\n      <td>-0.495954</td>\n      <td>-0.613826</td>\n      <td>-0.145677</td>\n      <td>-0.437263</td>\n      <td>-0.686477</td>\n      <td>-0.048963</td>\n      <td>-1.052250</td>\n      <td>0.286255</td>\n      <td>-0.251501</td>\n      <td>-0.690599</td>\n      <td>-0.597984</td>\n      <td>-0.334545</td>\n      <td>-0.337584</td>\n      <td>-1.044317</td>\n      <td>-0.495018</td>\n      <td>-0.670908</td>\n      <td>-0.450596</td>\n      <td>-0.684081</td>\n      <td>-0.300563</td>\n      <td>-0.589220</td>\n      <td>-0.542499</td>\n      <td>-0.546435</td>\n      <td>0.486002</td>\n      <td>-0.332833</td>\n      <td>-0.741044</td>\n      <td>-0.566036</td>\n      <td>-0.379576</td>\n      <td>-0.422406</td>\n      <td>-0.657366</td>\n      <td>0.964725</td>\n      <td>-0.491405</td>\n      <td>-0.21449</td>\n      <td>-0.310448</td>\n      <td>-0.831732</td>\n    </tr>\n    <tr>\n      <th>71866</th>\n      <td>2025-01-13 09:00:00</td>\n      <td>0.496755</td>\n      <td>-0.236798</td>\n      <td>-0.571742</td>\n      <td>-0.682001</td>\n      <td>-0.765812</td>\n      <td>-0.300056</td>\n      <td>-0.63399</td>\n      <td>-0.489094</td>\n      <td>-0.307368</td>\n      <td>-0.373219</td>\n      <td>-0.512092</td>\n      <td>-0.507578</td>\n      <td>-0.542214</td>\n      <td>-0.774036</td>\n      <td>-0.746004</td>\n      <td>-0.551228</td>\n      <td>-0.588157</td>\n      <td>-0.322505</td>\n      <td>-0.250475</td>\n      <td>-0.48129</td>\n      <td>-0.571809</td>\n      <td>-0.17711</td>\n      <td>-0.547742</td>\n      <td>-0.670360</td>\n      <td>-0.454514</td>\n      <td>-0.526591</td>\n      <td>-0.37947</td>\n      <td>-0.507257</td>\n      <td>-0.478682</td>\n      <td>-0.325817</td>\n      <td>-0.631739</td>\n      <td>0.385921</td>\n      <td>-0.105967</td>\n      <td>-0.440503</td>\n      <td>-0.403755</td>\n      <td>-0.791088</td>\n      <td>-0.400814</td>\n      <td>-0.706382</td>\n      <td>-0.301626</td>\n      <td>...</td>\n      <td>-0.533928</td>\n      <td>-0.268545</td>\n      <td>-0.060207</td>\n      <td>-0.490219</td>\n      <td>-0.109327</td>\n      <td>-0.466637</td>\n      <td>-0.495954</td>\n      <td>-0.447212</td>\n      <td>-0.145677</td>\n      <td>-0.044206</td>\n      <td>-0.395352</td>\n      <td>-0.659643</td>\n      <td>-0.647418</td>\n      <td>0.286255</td>\n      <td>-0.687299</td>\n      <td>-0.690599</td>\n      <td>-0.776015</td>\n      <td>-0.334545</td>\n      <td>-0.337584</td>\n      <td>-0.735586</td>\n      <td>0.893114</td>\n      <td>-0.670908</td>\n      <td>-0.388427</td>\n      <td>-0.684081</td>\n      <td>-0.115735</td>\n      <td>0.565993</td>\n      <td>-0.444003</td>\n      <td>-0.546435</td>\n      <td>0.486002</td>\n      <td>-0.332833</td>\n      <td>-0.144840</td>\n      <td>-0.566036</td>\n      <td>-0.379576</td>\n      <td>-0.160213</td>\n      <td>-0.657366</td>\n      <td>-0.496165</td>\n      <td>-0.916462</td>\n      <td>-0.21449</td>\n      <td>-0.787689</td>\n      <td>-0.293120</td>\n    </tr>\n    <tr>\n      <th>71867</th>\n      <td>2025-01-13 10:00:00</td>\n      <td>0.496163</td>\n      <td>-0.236798</td>\n      <td>-0.571742</td>\n      <td>-0.157263</td>\n      <td>-0.265110</td>\n      <td>-0.300056</td>\n      <td>-0.63399</td>\n      <td>-0.489094</td>\n      <td>-0.307368</td>\n      <td>-0.373219</td>\n      <td>0.244451</td>\n      <td>-0.507578</td>\n      <td>4.030330</td>\n      <td>-0.483546</td>\n      <td>-0.417603</td>\n      <td>-0.551228</td>\n      <td>-0.588157</td>\n      <td>-0.322505</td>\n      <td>-0.250475</td>\n      <td>-0.48129</td>\n      <td>-0.068510</td>\n      <td>-0.17711</td>\n      <td>-0.547742</td>\n      <td>-0.459344</td>\n      <td>-0.454514</td>\n      <td>-0.526591</td>\n      <td>-0.37947</td>\n      <td>-0.507257</td>\n      <td>-0.478682</td>\n      <td>-0.325817</td>\n      <td>-0.280062</td>\n      <td>0.385921</td>\n      <td>-0.105967</td>\n      <td>0.075924</td>\n      <td>3.114797</td>\n      <td>-0.075615</td>\n      <td>-0.400814</td>\n      <td>-0.706382</td>\n      <td>-0.301626</td>\n      <td>...</td>\n      <td>-0.533928</td>\n      <td>-0.268545</td>\n      <td>-0.702675</td>\n      <td>-0.490219</td>\n      <td>0.208843</td>\n      <td>-0.466637</td>\n      <td>-0.495954</td>\n      <td>-0.405559</td>\n      <td>-0.145677</td>\n      <td>0.152322</td>\n      <td>-0.395352</td>\n      <td>-0.252523</td>\n      <td>-0.849834</td>\n      <td>-0.742155</td>\n      <td>-0.251501</td>\n      <td>-0.690599</td>\n      <td>-0.597984</td>\n      <td>-0.334545</td>\n      <td>-0.337584</td>\n      <td>-0.349673</td>\n      <td>-0.495018</td>\n      <td>-0.224698</td>\n      <td>-0.450596</td>\n      <td>0.003848</td>\n      <td>-0.485390</td>\n      <td>0.565993</td>\n      <td>-0.050020</td>\n      <td>-0.546435</td>\n      <td>1.353296</td>\n      <td>-0.332833</td>\n      <td>-0.264081</td>\n      <td>-0.566036</td>\n      <td>1.715644</td>\n      <td>0.101980</td>\n      <td>-0.506471</td>\n      <td>-0.496165</td>\n      <td>-0.916462</td>\n      <td>-0.21449</td>\n      <td>-0.151368</td>\n      <td>-0.091140</td>\n    </tr>\n    <tr>\n      <th>71868</th>\n      <td>2025-01-13 11:00:00</td>\n      <td>0.495797</td>\n      <td>-0.236798</td>\n      <td>-0.571742</td>\n      <td>-0.682001</td>\n      <td>-0.265110</td>\n      <td>-0.300056</td>\n      <td>-0.63399</td>\n      <td>-0.489094</td>\n      <td>-0.307368</td>\n      <td>-0.373219</td>\n      <td>0.244451</td>\n      <td>-0.507578</td>\n      <td>-0.542214</td>\n      <td>-0.338302</td>\n      <td>-0.910204</td>\n      <td>-0.551228</td>\n      <td>-0.588157</td>\n      <td>-0.322505</td>\n      <td>-0.250475</td>\n      <td>-0.48129</td>\n      <td>-0.571809</td>\n      <td>-0.17711</td>\n      <td>-0.547742</td>\n      <td>-0.459344</td>\n      <td>-0.853125</td>\n      <td>0.497757</td>\n      <td>-0.37947</td>\n      <td>-0.869448</td>\n      <td>0.478909</td>\n      <td>-0.325817</td>\n      <td>-0.455900</td>\n      <td>-0.629296</td>\n      <td>-0.105967</td>\n      <td>-0.440503</td>\n      <td>-0.403755</td>\n      <td>-0.791088</td>\n      <td>-0.400814</td>\n      <td>-0.706382</td>\n      <td>-0.301626</td>\n      <td>...</td>\n      <td>0.817182</td>\n      <td>-0.268545</td>\n      <td>-0.702675</td>\n      <td>-1.004224</td>\n      <td>0.527013</td>\n      <td>-0.466637</td>\n      <td>-0.495954</td>\n      <td>-0.280599</td>\n      <td>-0.145677</td>\n      <td>0.741906</td>\n      <td>-0.589436</td>\n      <td>-0.048963</td>\n      <td>-1.052250</td>\n      <td>0.286255</td>\n      <td>0.402195</td>\n      <td>-0.690599</td>\n      <td>-0.597984</td>\n      <td>-0.334545</td>\n      <td>-0.337584</td>\n      <td>-1.121499</td>\n      <td>-0.495018</td>\n      <td>-0.224698</td>\n      <td>-0.512765</td>\n      <td>-0.684081</td>\n      <td>-0.670217</td>\n      <td>1.721205</td>\n      <td>-0.444003</td>\n      <td>0.179650</td>\n      <td>0.486002</td>\n      <td>-0.332833</td>\n      <td>-0.383321</td>\n      <td>-0.566036</td>\n      <td>-0.379576</td>\n      <td>-0.160213</td>\n      <td>-0.808261</td>\n      <td>-0.496165</td>\n      <td>-0.491405</td>\n      <td>-0.21449</td>\n      <td>-0.787689</td>\n      <td>-0.461436</td>\n    </tr>\n  </tbody>\n</table>\n<p>5 rows × 281 columns</p>\n</div>"
     },
     "metadata": {
      "application/com.datacamp.data-table.v2+json": {
       "status": "success"
      }
     },
     "execution_count": 10
    }
   ],
   "execution_count": 10
  },
  {
   "source": [
    "btc = btc_df.copy()"
   ],
   "metadata": {
    "executionCancelledAt": null,
    "executionTime": 150,
    "lastExecutedAt": 1740674491362,
    "lastExecutedByKernel": "6c875df8-92fa-4ec4-b333-30b3e09ce2de",
    "lastScheduledRunId": null,
    "lastSuccessfullyExecutedCode": "btc = btc_df.copy()"
   },
   "cell_type": "code",
   "id": "bad248bc-0b07-4a1a-8144-4e1d8087a6aa",
   "outputs": [],
   "execution_count": 6
  },
  {
   "source": [
    "btc = btc.drop(columns=['date'])"
   ],
   "metadata": {
    "executionCancelledAt": null,
    "executionTime": 32,
    "lastExecutedAt": 1740674495626,
    "lastExecutedByKernel": "6c875df8-92fa-4ec4-b333-30b3e09ce2de",
    "lastScheduledRunId": null,
    "lastSuccessfullyExecutedCode": "btc = btc.drop(columns=['date'])"
   },
   "cell_type": "code",
   "id": "1de8cdbd-d1cf-43fc-b845-9b6efcc78157",
   "outputs": [],
   "execution_count": 7
  },
  {
   "source": [
    "btc.isnull().sum()"
   ],
   "metadata": {
    "executionCancelledAt": null,
    "executionTime": 52,
    "lastExecutedAt": 1740667685666,
    "lastExecutedByKernel": "2980c936-4158-42a3-a967-c5b3fc629330",
    "lastScheduledRunId": null,
    "lastSuccessfullyExecutedCode": "btc.isnull().sum()",
    "outputsMetadata": {
     "0": {
      "height": 550,
      "type": "dataFrame",
      "tableState": {
       "customFilter": {
        "const": {
         "type": "boolean",
         "valid": true,
         "value": true
        },
        "id": "9124d19f-c4fa-49f7-9509-899ad8974bb3",
        "nodeType": "const"
       },
       "quickFilterText": ""
      }
     }
    }
   },
   "cell_type": "code",
   "id": "c92e7028-2d53-4157-aaae-6ad0ea56cbd7",
   "outputs": [
    {
     "output_type": "execute_result",
     "data": {
      "application/com.datacamp.data-table.v2+json": {
       "table": {
        "schema": {
         "fields": [
          {
           "name": "index",
           "type": "string"
          },
          {
           "name": "0",
           "type": "integer"
          }
         ],
         "primaryKey": [
          "index"
         ],
         "pandas_version": "1.4.0"
        },
        "data": {
         "0": [
          234,
          0,
          0,
          0,
          0,
          0,
          0,
          0,
          0,
          0,
          0,
          0,
          0,
          0,
          0,
          0,
          0,
          0,
          0,
          0,
          0,
          0,
          0,
          0,
          0,
          0,
          0,
          0,
          0,
          0,
          0,
          0,
          0,
          0,
          0,
          0,
          0,
          0,
          0,
          0,
          0,
          0,
          0,
          0,
          0,
          0,
          0,
          0,
          0,
          0,
          0,
          0,
          0,
          0,
          0,
          0,
          0,
          0,
          0,
          0,
          0,
          0,
          0,
          0,
          0,
          0,
          0,
          0,
          0,
          0,
          0,
          0,
          0,
          0,
          0,
          0,
          0,
          0,
          0,
          0,
          0,
          0,
          0,
          0,
          0,
          0,
          0,
          0,
          0,
          0,
          0,
          0,
          0,
          0,
          0,
          0,
          0,
          0,
          0,
          0,
          0,
          0,
          0,
          0,
          0,
          0,
          0,
          0,
          0,
          0,
          0,
          0,
          0,
          0,
          0,
          0,
          0,
          0,
          0,
          0,
          0,
          0,
          0,
          0,
          0,
          0,
          0,
          0,
          0,
          0,
          0,
          0,
          0,
          0,
          0,
          0,
          0,
          0,
          0,
          0,
          0,
          0,
          0,
          0,
          0,
          0,
          0,
          0,
          0,
          0,
          0,
          0,
          0,
          0,
          0,
          0,
          0,
          0,
          0,
          0,
          0,
          0,
          0,
          0,
          0,
          0,
          0,
          0,
          0,
          0,
          0,
          0,
          0,
          0,
          0,
          0,
          0,
          0,
          0,
          0,
          0,
          0,
          0,
          0,
          0,
          0,
          0,
          0,
          0,
          0,
          0,
          0,
          0,
          0,
          0,
          0,
          0,
          0,
          0,
          0,
          0,
          0,
          0,
          0,
          0,
          0,
          0,
          0,
          0,
          0,
          0,
          0,
          0,
          0,
          0,
          0,
          0,
          0,
          0,
          0,
          0,
          0,
          0,
          0,
          0,
          0,
          0,
          0,
          0,
          0,
          0,
          0,
          0,
          0,
          0,
          0,
          0,
          0,
          0,
          0,
          0,
          0,
          0,
          0,
          0,
          0,
          0,
          0,
          0,
          0,
          0,
          0,
          0,
          0,
          0,
          0,
          0,
          0,
          0,
          0,
          0,
          0,
          0,
          0,
          0,
          0,
          0,
          0,
          0,
          0,
          0,
          0,
          0,
          0,
          0,
          0,
          0,
          0,
          0,
          0
         ],
         "index": [
          "listing_close",
          "twitter_hacks",
          "twitter_pessimistic_doubtful",
          "twitter_banks",
          "twitter_selling",
          "twitter_market_manipulation",
          "twitter_de_centralisation",
          "twitter_angry",
          "twitter_etf",
          "twitter_leverage",
          "twitter_bottom",
          "twitter_institutional_money",
          "twitter_fomo",
          "twitter_prediction",
          "twitter_adoption",
          "twitter_fearful_concerned",
          "twitter_portfolio",
          "twitter_fud_theme",
          "twitter_whitepaper",
          "twitter_announcements",
          "twitter_technical_analysis",
          "twitter_flippening",
          "twitter_community",
          "twitter_investing_trading",
          "twitter_euphoric_excited",
          "twitter_hodling",
          "twitter_ico",
          "twitter_bearish",
          "twitter_going_short",
          "twitter_uncertain",
          "twitter_volume",
          "twitter_risk",
          "twitter_governance",
          "twitter_ban",
          "twitter_cheap",
          "twitter_short_term_trading",
          "twitter_fork",
          "twitter_progress",
          "twitter_shilling",
          "twitter_bullish",
          "twitter_happy",
          "twitter_bubble",
          "twitter_bots",
          "twitter_hopeful",
          "twitter_bug",
          "twitter_open_source",
          "twitter_token_economics",
          "twitter_security",
          "twitter_marketing",
          "twitter_bad_news",
          "twitter_due_diligence",
          "twitter_team",
          "twitter_partnerships",
          "twitter_pump_and_dump",
          "twitter_sad",
          "twitter_panicking",
          "twitter_listing",
          "twitter_regulation_politics",
          "twitter_dip",
          "twitter_launch",
          "twitter_fomo_theme",
          "twitter_advice_support",
          "twitter_rebranding",
          "twitter_wallet",
          "twitter_good_news",
          "twitter_problems_and_issues",
          "twitter_mining",
          "twitter_waiting",
          "twitter_learning",
          "twitter_scaling",
          "twitter_fees",
          "twitter_roadmap",
          "twitter_recovery",
          "twitter_technology",
          "twitter_mistrustful",
          "twitter_marketcap",
          "twitter_positive",
          "twitter_tax",
          "twitter_long_term_investing",
          "twitter_strategy",
          "twitter_competition",
          "twitter_whales",
          "twitter_correction",
          "twitter_stablecoin",
          "twitter_buying",
          "twitter_warning",
          "twitter_annoyed_frustrated",
          "twitter_price",
          "twitter_use_case_applications",
          "twitter_rumor",
          "twitter_scam_fraud",
          "twitter_airdrop",
          "twitter_optimistic",
          "twitter_negative",
          "bitcointalk_hacks",
          "bitcointalk_pessimistic_doubtful",
          "bitcointalk_banks",
          "bitcointalk_selling",
          "bitcointalk_market_manipulation",
          "bitcointalk_de_centralisation",
          "bitcointalk_angry",
          "bitcointalk_etf",
          "bitcointalk_leverage",
          "bitcointalk_bottom",
          "bitcointalk_institutional_money",
          "bitcointalk_fomo",
          "bitcointalk_prediction",
          "bitcointalk_adoption",
          "bitcointalk_fearful_concerned",
          "bitcointalk_portfolio",
          "bitcointalk_fud_theme",
          "bitcointalk_whitepaper",
          "bitcointalk_announcements",
          "bitcointalk_technical_analysis",
          "bitcointalk_flippening",
          "bitcointalk_community",
          "bitcointalk_investing_trading",
          "bitcointalk_euphoric_excited",
          "bitcointalk_hodling",
          "bitcointalk_ico",
          "bitcointalk_bearish",
          "bitcointalk_going_short",
          "bitcointalk_uncertain",
          "bitcointalk_volume",
          "bitcointalk_risk",
          "bitcointalk_governance",
          "bitcointalk_ban",
          "bitcointalk_cheap",
          "bitcointalk_short_term_trading",
          "bitcointalk_fork",
          "bitcointalk_progress",
          "bitcointalk_shilling",
          "bitcointalk_bullish",
          "bitcointalk_happy",
          "bitcointalk_bubble",
          "bitcointalk_bots",
          "bitcointalk_hopeful",
          "bitcointalk_bug",
          "bitcointalk_open_source",
          "bitcointalk_token_economics",
          "bitcointalk_security",
          "bitcointalk_marketing",
          "bitcointalk_bad_news",
          "bitcointalk_due_diligence",
          "bitcointalk_team",
          "bitcointalk_partnerships",
          "bitcointalk_pump_and_dump",
          "bitcointalk_sad",
          "bitcointalk_panicking",
          "bitcointalk_listing",
          "bitcointalk_regulation_politics",
          "bitcointalk_dip",
          "bitcointalk_launch",
          "bitcointalk_fomo_theme",
          "bitcointalk_advice_support",
          "bitcointalk_rebranding",
          "bitcointalk_wallet",
          "bitcointalk_good_news",
          "bitcointalk_problems_and_issues",
          "bitcointalk_mining",
          "bitcointalk_waiting",
          "bitcointalk_learning",
          "bitcointalk_scaling",
          "bitcointalk_fees",
          "bitcointalk_roadmap",
          "bitcointalk_recovery",
          "bitcointalk_technology",
          "bitcointalk_mistrustful",
          "bitcointalk_marketcap",
          "bitcointalk_positive",
          "bitcointalk_tax",
          "bitcointalk_long_term_investing",
          "bitcointalk_strategy",
          "bitcointalk_competition",
          "bitcointalk_whales",
          "bitcointalk_correction",
          "bitcointalk_stablecoin",
          "bitcointalk_buying",
          "bitcointalk_warning",
          "bitcointalk_annoyed_frustrated",
          "bitcointalk_price",
          "bitcointalk_use_case_applications",
          "bitcointalk_rumor",
          "bitcointalk_scam_fraud",
          "bitcointalk_airdrop",
          "bitcointalk_optimistic",
          "bitcointalk_negative",
          "reddit_hacks",
          "reddit_pessimistic_doubtful",
          "reddit_banks",
          "reddit_selling",
          "reddit_market_manipulation",
          "reddit_de_centralisation",
          "reddit_angry",
          "reddit_etf",
          "reddit_leverage",
          "reddit_bottom",
          "reddit_institutional_money",
          "reddit_fomo",
          "reddit_prediction",
          "reddit_adoption",
          "reddit_fearful_concerned",
          "reddit_portfolio",
          "reddit_fud_theme",
          "reddit_whitepaper",
          "reddit_announcements",
          "reddit_technical_analysis",
          "reddit_flippening",
          "reddit_community",
          "reddit_investing_trading",
          "reddit_euphoric_excited",
          "reddit_hodling",
          "reddit_ico",
          "reddit_bearish",
          "reddit_going_short",
          "reddit_uncertain",
          "reddit_volume",
          "reddit_risk",
          "reddit_governance",
          "reddit_ban",
          "reddit_cheap",
          "reddit_short_term_trading",
          "reddit_fork",
          "reddit_progress",
          "reddit_shilling",
          "reddit_bullish",
          "reddit_happy",
          "reddit_bubble",
          "reddit_bots",
          "reddit_hopeful",
          "reddit_bug",
          "reddit_open_source",
          "reddit_token_economics",
          "reddit_security",
          "reddit_marketing",
          "reddit_bad_news",
          "reddit_due_diligence",
          "reddit_team",
          "reddit_partnerships",
          "reddit_pump_and_dump",
          "reddit_sad",
          "reddit_panicking",
          "reddit_listing",
          "reddit_regulation_politics",
          "reddit_dip",
          "reddit_launch",
          "reddit_fomo_theme",
          "reddit_advice_support",
          "reddit_rebranding",
          "reddit_wallet",
          "reddit_good_news",
          "reddit_problems_and_issues",
          "reddit_mining",
          "reddit_waiting",
          "reddit_learning",
          "reddit_scaling",
          "reddit_fees",
          "reddit_roadmap",
          "reddit_recovery",
          "reddit_technology",
          "reddit_mistrustful",
          "reddit_marketcap",
          "reddit_positive",
          "reddit_tax",
          "reddit_long_term_investing",
          "reddit_strategy",
          "reddit_competition",
          "reddit_whales",
          "reddit_correction",
          "reddit_stablecoin",
          "reddit_buying",
          "reddit_warning",
          "reddit_annoyed_frustrated",
          "reddit_price",
          "reddit_use_case_applications",
          "reddit_rumor",
          "reddit_scam_fraud",
          "reddit_airdrop",
          "reddit_optimistic",
          "reddit_negative"
         ]
        }
       },
       "total_rows": 280,
       "truncation_type": null
      },
      "text/plain": "listing_close                   234\ntwitter_hacks                     0\ntwitter_pessimistic_doubtful      0\ntwitter_banks                     0\ntwitter_selling                   0\n                               ... \nreddit_rumor                      0\nreddit_scam_fraud                 0\nreddit_airdrop                    0\nreddit_optimistic                 0\nreddit_negative                   0\nLength: 280, dtype: int64"
     },
     "metadata": {
      "application/com.datacamp.data-table.v2+json": {
       "status": "success"
      }
     },
     "execution_count": 13
    }
   ],
   "execution_count": 13
  },
  {
   "source": [
    "import numpy as np\n",
    "\n",
    "# Function to fill NaN values with the average of previous and next values\n",
    "def fill_na_with_avg(series):\n",
    "    for i in range(1, len(series) - 1):\n",
    "        if np.isnan(series[i]):\n",
    "            series[i] = (series[i - 1] + series[i + 1]) / 2\n",
    "    return series\n",
    "\n",
    "# Apply the function to the 'listing_close' column\n",
    "btc['listing_close'] = fill_na_with_avg(btc['listing_close'].values)"
   ],
   "metadata": {
    "executionCancelledAt": null,
    "executionTime": 79,
    "lastExecutedAt": 1740674509862,
    "lastExecutedByKernel": "6c875df8-92fa-4ec4-b333-30b3e09ce2de",
    "lastScheduledRunId": null,
    "lastSuccessfullyExecutedCode": "import numpy as np\n\n# Function to fill NaN values with the average of previous and next values\ndef fill_na_with_avg(series):\n    for i in range(1, len(series) - 1):\n        if np.isnan(series[i]):\n            series[i] = (series[i - 1] + series[i + 1]) / 2\n    return series\n\n# Apply the function to the 'listing_close' column\nbtc['listing_close'] = fill_na_with_avg(btc['listing_close'].values)"
   },
   "cell_type": "code",
   "id": "f5c49e9b-0bd1-4531-ab63-6e8e21352698",
   "outputs": [],
   "execution_count": 8
  },
  {
   "source": [
    "btc.isnull().sum()"
   ],
   "metadata": {
    "executionCancelledAt": null,
    "executionTime": 47,
    "lastExecutedAt": 1740667685778,
    "lastExecutedByKernel": "2980c936-4158-42a3-a967-c5b3fc629330",
    "lastScheduledRunId": null,
    "lastSuccessfullyExecutedCode": "btc.isnull().sum()",
    "outputsMetadata": {
     "0": {
      "height": 550,
      "type": "dataFrame",
      "tableState": {
       "customFilter": {
        "const": {
         "type": "boolean",
         "valid": true,
         "value": true
        },
        "id": "9124d19f-c4fa-49f7-9509-899ad8974bb3",
        "nodeType": "const"
       },
       "quickFilterText": ""
      }
     }
    }
   },
   "cell_type": "code",
   "id": "3adf12eb-be5a-47fa-85d1-a6a9bbc11668",
   "outputs": [
    {
     "output_type": "execute_result",
     "data": {
      "application/com.datacamp.data-table.v2+json": {
       "table": {
        "schema": {
         "fields": [
          {
           "name": "index",
           "type": "string"
          },
          {
           "name": "0",
           "type": "integer"
          }
         ],
         "primaryKey": [
          "index"
         ],
         "pandas_version": "1.4.0"
        },
        "data": {
         "0": [
          232,
          0,
          0,
          0,
          0,
          0,
          0,
          0,
          0,
          0,
          0,
          0,
          0,
          0,
          0,
          0,
          0,
          0,
          0,
          0,
          0,
          0,
          0,
          0,
          0,
          0,
          0,
          0,
          0,
          0,
          0,
          0,
          0,
          0,
          0,
          0,
          0,
          0,
          0,
          0,
          0,
          0,
          0,
          0,
          0,
          0,
          0,
          0,
          0,
          0,
          0,
          0,
          0,
          0,
          0,
          0,
          0,
          0,
          0,
          0,
          0,
          0,
          0,
          0,
          0,
          0,
          0,
          0,
          0,
          0,
          0,
          0,
          0,
          0,
          0,
          0,
          0,
          0,
          0,
          0,
          0,
          0,
          0,
          0,
          0,
          0,
          0,
          0,
          0,
          0,
          0,
          0,
          0,
          0,
          0,
          0,
          0,
          0,
          0,
          0,
          0,
          0,
          0,
          0,
          0,
          0,
          0,
          0,
          0,
          0,
          0,
          0,
          0,
          0,
          0,
          0,
          0,
          0,
          0,
          0,
          0,
          0,
          0,
          0,
          0,
          0,
          0,
          0,
          0,
          0,
          0,
          0,
          0,
          0,
          0,
          0,
          0,
          0,
          0,
          0,
          0,
          0,
          0,
          0,
          0,
          0,
          0,
          0,
          0,
          0,
          0,
          0,
          0,
          0,
          0,
          0,
          0,
          0,
          0,
          0,
          0,
          0,
          0,
          0,
          0,
          0,
          0,
          0,
          0,
          0,
          0,
          0,
          0,
          0,
          0,
          0,
          0,
          0,
          0,
          0,
          0,
          0,
          0,
          0,
          0,
          0,
          0,
          0,
          0,
          0,
          0,
          0,
          0,
          0,
          0,
          0,
          0,
          0,
          0,
          0,
          0,
          0,
          0,
          0,
          0,
          0,
          0,
          0,
          0,
          0,
          0,
          0,
          0,
          0,
          0,
          0,
          0,
          0,
          0,
          0,
          0,
          0,
          0,
          0,
          0,
          0,
          0,
          0,
          0,
          0,
          0,
          0,
          0,
          0,
          0,
          0,
          0,
          0,
          0,
          0,
          0,
          0,
          0,
          0,
          0,
          0,
          0,
          0,
          0,
          0,
          0,
          0,
          0,
          0,
          0,
          0,
          0,
          0,
          0,
          0,
          0,
          0,
          0,
          0,
          0,
          0,
          0,
          0,
          0,
          0,
          0,
          0,
          0,
          0,
          0,
          0,
          0,
          0,
          0,
          0
         ],
         "index": [
          "listing_close",
          "twitter_hacks",
          "twitter_pessimistic_doubtful",
          "twitter_banks",
          "twitter_selling",
          "twitter_market_manipulation",
          "twitter_de_centralisation",
          "twitter_angry",
          "twitter_etf",
          "twitter_leverage",
          "twitter_bottom",
          "twitter_institutional_money",
          "twitter_fomo",
          "twitter_prediction",
          "twitter_adoption",
          "twitter_fearful_concerned",
          "twitter_portfolio",
          "twitter_fud_theme",
          "twitter_whitepaper",
          "twitter_announcements",
          "twitter_technical_analysis",
          "twitter_flippening",
          "twitter_community",
          "twitter_investing_trading",
          "twitter_euphoric_excited",
          "twitter_hodling",
          "twitter_ico",
          "twitter_bearish",
          "twitter_going_short",
          "twitter_uncertain",
          "twitter_volume",
          "twitter_risk",
          "twitter_governance",
          "twitter_ban",
          "twitter_cheap",
          "twitter_short_term_trading",
          "twitter_fork",
          "twitter_progress",
          "twitter_shilling",
          "twitter_bullish",
          "twitter_happy",
          "twitter_bubble",
          "twitter_bots",
          "twitter_hopeful",
          "twitter_bug",
          "twitter_open_source",
          "twitter_token_economics",
          "twitter_security",
          "twitter_marketing",
          "twitter_bad_news",
          "twitter_due_diligence",
          "twitter_team",
          "twitter_partnerships",
          "twitter_pump_and_dump",
          "twitter_sad",
          "twitter_panicking",
          "twitter_listing",
          "twitter_regulation_politics",
          "twitter_dip",
          "twitter_launch",
          "twitter_fomo_theme",
          "twitter_advice_support",
          "twitter_rebranding",
          "twitter_wallet",
          "twitter_good_news",
          "twitter_problems_and_issues",
          "twitter_mining",
          "twitter_waiting",
          "twitter_learning",
          "twitter_scaling",
          "twitter_fees",
          "twitter_roadmap",
          "twitter_recovery",
          "twitter_technology",
          "twitter_mistrustful",
          "twitter_marketcap",
          "twitter_positive",
          "twitter_tax",
          "twitter_long_term_investing",
          "twitter_strategy",
          "twitter_competition",
          "twitter_whales",
          "twitter_correction",
          "twitter_stablecoin",
          "twitter_buying",
          "twitter_warning",
          "twitter_annoyed_frustrated",
          "twitter_price",
          "twitter_use_case_applications",
          "twitter_rumor",
          "twitter_scam_fraud",
          "twitter_airdrop",
          "twitter_optimistic",
          "twitter_negative",
          "bitcointalk_hacks",
          "bitcointalk_pessimistic_doubtful",
          "bitcointalk_banks",
          "bitcointalk_selling",
          "bitcointalk_market_manipulation",
          "bitcointalk_de_centralisation",
          "bitcointalk_angry",
          "bitcointalk_etf",
          "bitcointalk_leverage",
          "bitcointalk_bottom",
          "bitcointalk_institutional_money",
          "bitcointalk_fomo",
          "bitcointalk_prediction",
          "bitcointalk_adoption",
          "bitcointalk_fearful_concerned",
          "bitcointalk_portfolio",
          "bitcointalk_fud_theme",
          "bitcointalk_whitepaper",
          "bitcointalk_announcements",
          "bitcointalk_technical_analysis",
          "bitcointalk_flippening",
          "bitcointalk_community",
          "bitcointalk_investing_trading",
          "bitcointalk_euphoric_excited",
          "bitcointalk_hodling",
          "bitcointalk_ico",
          "bitcointalk_bearish",
          "bitcointalk_going_short",
          "bitcointalk_uncertain",
          "bitcointalk_volume",
          "bitcointalk_risk",
          "bitcointalk_governance",
          "bitcointalk_ban",
          "bitcointalk_cheap",
          "bitcointalk_short_term_trading",
          "bitcointalk_fork",
          "bitcointalk_progress",
          "bitcointalk_shilling",
          "bitcointalk_bullish",
          "bitcointalk_happy",
          "bitcointalk_bubble",
          "bitcointalk_bots",
          "bitcointalk_hopeful",
          "bitcointalk_bug",
          "bitcointalk_open_source",
          "bitcointalk_token_economics",
          "bitcointalk_security",
          "bitcointalk_marketing",
          "bitcointalk_bad_news",
          "bitcointalk_due_diligence",
          "bitcointalk_team",
          "bitcointalk_partnerships",
          "bitcointalk_pump_and_dump",
          "bitcointalk_sad",
          "bitcointalk_panicking",
          "bitcointalk_listing",
          "bitcointalk_regulation_politics",
          "bitcointalk_dip",
          "bitcointalk_launch",
          "bitcointalk_fomo_theme",
          "bitcointalk_advice_support",
          "bitcointalk_rebranding",
          "bitcointalk_wallet",
          "bitcointalk_good_news",
          "bitcointalk_problems_and_issues",
          "bitcointalk_mining",
          "bitcointalk_waiting",
          "bitcointalk_learning",
          "bitcointalk_scaling",
          "bitcointalk_fees",
          "bitcointalk_roadmap",
          "bitcointalk_recovery",
          "bitcointalk_technology",
          "bitcointalk_mistrustful",
          "bitcointalk_marketcap",
          "bitcointalk_positive",
          "bitcointalk_tax",
          "bitcointalk_long_term_investing",
          "bitcointalk_strategy",
          "bitcointalk_competition",
          "bitcointalk_whales",
          "bitcointalk_correction",
          "bitcointalk_stablecoin",
          "bitcointalk_buying",
          "bitcointalk_warning",
          "bitcointalk_annoyed_frustrated",
          "bitcointalk_price",
          "bitcointalk_use_case_applications",
          "bitcointalk_rumor",
          "bitcointalk_scam_fraud",
          "bitcointalk_airdrop",
          "bitcointalk_optimistic",
          "bitcointalk_negative",
          "reddit_hacks",
          "reddit_pessimistic_doubtful",
          "reddit_banks",
          "reddit_selling",
          "reddit_market_manipulation",
          "reddit_de_centralisation",
          "reddit_angry",
          "reddit_etf",
          "reddit_leverage",
          "reddit_bottom",
          "reddit_institutional_money",
          "reddit_fomo",
          "reddit_prediction",
          "reddit_adoption",
          "reddit_fearful_concerned",
          "reddit_portfolio",
          "reddit_fud_theme",
          "reddit_whitepaper",
          "reddit_announcements",
          "reddit_technical_analysis",
          "reddit_flippening",
          "reddit_community",
          "reddit_investing_trading",
          "reddit_euphoric_excited",
          "reddit_hodling",
          "reddit_ico",
          "reddit_bearish",
          "reddit_going_short",
          "reddit_uncertain",
          "reddit_volume",
          "reddit_risk",
          "reddit_governance",
          "reddit_ban",
          "reddit_cheap",
          "reddit_short_term_trading",
          "reddit_fork",
          "reddit_progress",
          "reddit_shilling",
          "reddit_bullish",
          "reddit_happy",
          "reddit_bubble",
          "reddit_bots",
          "reddit_hopeful",
          "reddit_bug",
          "reddit_open_source",
          "reddit_token_economics",
          "reddit_security",
          "reddit_marketing",
          "reddit_bad_news",
          "reddit_due_diligence",
          "reddit_team",
          "reddit_partnerships",
          "reddit_pump_and_dump",
          "reddit_sad",
          "reddit_panicking",
          "reddit_listing",
          "reddit_regulation_politics",
          "reddit_dip",
          "reddit_launch",
          "reddit_fomo_theme",
          "reddit_advice_support",
          "reddit_rebranding",
          "reddit_wallet",
          "reddit_good_news",
          "reddit_problems_and_issues",
          "reddit_mining",
          "reddit_waiting",
          "reddit_learning",
          "reddit_scaling",
          "reddit_fees",
          "reddit_roadmap",
          "reddit_recovery",
          "reddit_technology",
          "reddit_mistrustful",
          "reddit_marketcap",
          "reddit_positive",
          "reddit_tax",
          "reddit_long_term_investing",
          "reddit_strategy",
          "reddit_competition",
          "reddit_whales",
          "reddit_correction",
          "reddit_stablecoin",
          "reddit_buying",
          "reddit_warning",
          "reddit_annoyed_frustrated",
          "reddit_price",
          "reddit_use_case_applications",
          "reddit_rumor",
          "reddit_scam_fraud",
          "reddit_airdrop",
          "reddit_optimistic",
          "reddit_negative"
         ]
        }
       },
       "total_rows": 280,
       "truncation_type": null
      },
      "text/plain": "listing_close                   232\ntwitter_hacks                     0\ntwitter_pessimistic_doubtful      0\ntwitter_banks                     0\ntwitter_selling                   0\n                               ... \nreddit_rumor                      0\nreddit_scam_fraud                 0\nreddit_airdrop                    0\nreddit_optimistic                 0\nreddit_negative                   0\nLength: 280, dtype: int64"
     },
     "metadata": {
      "application/com.datacamp.data-table.v2+json": {
       "status": "success"
      }
     },
     "execution_count": 15
    }
   ],
   "execution_count": 15
  },
  {
   "source": [
    "null_indexes = btc[btc['listing_close'].isnull()].index\n",
    "null_indexes"
   ],
   "metadata": {
    "executionCancelledAt": null,
    "executionTime": 48,
    "lastExecutedAt": 1740667685826,
    "lastExecutedByKernel": "2980c936-4158-42a3-a967-c5b3fc629330",
    "lastScheduledRunId": null,
    "lastSuccessfullyExecutedCode": "null_indexes = btc[btc['listing_close'].isnull()].index\nnull_indexes"
   },
   "cell_type": "code",
   "id": "f99ff684-6e3e-45ac-8e99-8da0eb29d50c",
   "outputs": [
    {
     "output_type": "execute_result",
     "data": {
      "text/plain": "Index([34760, 34761, 39825, 39826, 39827, 39828, 39829, 39830, 39831, 39832,\n       ...\n       70593, 70594, 70595, 70596, 70597, 70598, 70599, 70600, 70601, 70602],\n      dtype='int64', length=232)"
     },
     "metadata": {},
     "execution_count": 16
    }
   ],
   "execution_count": 16
  },
  {
   "source": [
    "btc = btc.dropna()"
   ],
   "metadata": {
    "executionCancelledAt": null,
    "executionTime": 53,
    "lastExecutedAt": 1740674516285,
    "lastExecutedByKernel": "6c875df8-92fa-4ec4-b333-30b3e09ce2de",
    "lastScheduledRunId": null,
    "lastSuccessfullyExecutedCode": "btc = btc.dropna()"
   },
   "cell_type": "code",
   "id": "15822e5e-917d-4ef4-81a4-eb2108928710",
   "outputs": [],
   "execution_count": 9
  },
  {
   "source": [
    "btc.shape"
   ],
   "metadata": {
    "executionCancelledAt": null,
    "executionTime": 47,
    "lastExecutedAt": 1740667685926,
    "lastExecutedByKernel": "2980c936-4158-42a3-a967-c5b3fc629330",
    "lastScheduledRunId": null,
    "lastSuccessfullyExecutedCode": "btc.shape"
   },
   "cell_type": "code",
   "id": "025ec34d-3e39-4cbb-8c08-9e7d21babf0b",
   "outputs": [
    {
     "output_type": "execute_result",
     "data": {
      "text/plain": "(71637, 280)"
     },
     "metadata": {},
     "execution_count": 18
    }
   ],
   "execution_count": 18
  },
  {
   "source": [
    "import numpy as np\n",
    "\n",
    "def create_sequences(data, seq_length):\n",
    "    \"\"\"\n",
    "    Create sequences of data for the given DataFrame.\n",
    "    \n",
    "    Parameters:\n",
    "    data (DataFrame): The input DataFrame.\n",
    "    seq_length (int): The length of the sequences.\n",
    "    \n",
    "    Returns:\n",
    "    X (ndarray): The input sequences.\n",
    "    y (ndarray): The target values (log of 'Close' column).\n",
    "    \"\"\"\n",
    "    num_sequences = len(data) - seq_length\n",
    "    X = np.zeros((num_sequences, seq_length, data.shape[1]))\n",
    "    y = np.zeros(num_sequences,)\n",
    "    \n",
    "    for i in range(num_sequences):\n",
    "        X[i] = data.iloc[i:i + seq_length, :].values\n",
    "        y[i] = data.iloc[i + seq_length]['listing_close']\n",
    "    \n",
    "    return X, y\n",
    "\n"
   ],
   "metadata": {
    "executionCancelledAt": null,
    "executionTime": 12,
    "lastExecutedAt": 1740674520485,
    "lastExecutedByKernel": "6c875df8-92fa-4ec4-b333-30b3e09ce2de",
    "lastScheduledRunId": null,
    "lastSuccessfullyExecutedCode": "import numpy as np\n\ndef create_sequences(data, seq_length):\n    \"\"\"\n    Create sequences of data for the given DataFrame.\n    \n    Parameters:\n    data (DataFrame): The input DataFrame.\n    seq_length (int): The length of the sequences.\n    \n    Returns:\n    X (ndarray): The input sequences.\n    y (ndarray): The target values (log of 'Close' column).\n    \"\"\"\n    num_sequences = len(data) - seq_length\n    X = np.zeros((num_sequences, seq_length, data.shape[1]))\n    y = np.zeros(num_sequences,)\n    \n    for i in range(num_sequences):\n        X[i] = data.iloc[i:i + seq_length, :].values\n        y[i] = data.iloc[i + seq_length]['listing_close']\n    \n    return X, y\n\n"
   },
   "cell_type": "code",
   "id": "400de916-0219-4978-85d4-33664fd0ab61",
   "outputs": [],
   "execution_count": 10
  },
  {
   "source": [
    "# Example usage:\n",
    "seq_length = 30  # Define your sequence length\n",
    "X, y = create_sequences(btc, seq_length)"
   ],
   "metadata": {
    "executionCancelledAt": null,
    "executionTime": 19412,
    "lastExecutedAt": 1740674544538,
    "lastExecutedByKernel": "6c875df8-92fa-4ec4-b333-30b3e09ce2de",
    "lastScheduledRunId": null,
    "lastSuccessfullyExecutedCode": "# Example usage:\nseq_length = 30  # Define your sequence length\nX, y = create_sequences(btc, seq_length)"
   },
   "cell_type": "code",
   "id": "f9cbae34-117f-4e95-b178-92ebbc420a1a",
   "outputs": [],
   "execution_count": 11
  },
  {
   "source": [
    "import torch\n",
    "import torch.nn as nn\n",
    "import numpy as np\n",
    "import pandas as pd\n",
    "from sklearn.preprocessing import MinMaxScaler\n",
    "from sklearn.model_selection import train_test_split\n",
    "from torch.utils.data import DataLoader, TensorDataset\n",
    "\n",
    "# seq_length = 30\n",
    "# X, y = create_sequences(closing_prices, seq_length)\n",
    "\n",
    "# Manually split into train and test sets without shuffling\n",
    "split_index = int(len(X) * 0.8)\n",
    "X_train, X_test = X[:split_index], X[split_index:]\n",
    "y_train, y_test = y[:split_index], y[split_index:]\n",
    "\n",
    "# Convert to PyTorch tensors\n",
    "X_train = torch.tensor(X_train, dtype=torch.float32)\n",
    "y_train = torch.tensor(y_train, dtype=torch.float32)\n",
    "X_test = torch.tensor(X_test, dtype=torch.float32)\n",
    "y_test = torch.tensor(y_test, dtype=torch.float32)\n",
    "\n",
    "# Create DataLoader\n",
    "train_dataset = TensorDataset(X_train, y_train)\n",
    "test_dataset = TensorDataset(X_test, y_test)\n",
    "\n",
    "train_loader = DataLoader(train_dataset, batch_size=64, shuffle=False)\n",
    "test_loader = DataLoader(test_dataset, batch_size=64, shuffle=False)"
   ],
   "metadata": {
    "executionCancelledAt": null,
    "executionTime": 1634,
    "lastExecutedAt": 1740674546173,
    "lastExecutedByKernel": "6c875df8-92fa-4ec4-b333-30b3e09ce2de",
    "lastScheduledRunId": null,
    "lastSuccessfullyExecutedCode": "import torch\nimport torch.nn as nn\nimport numpy as np\nimport pandas as pd\nfrom sklearn.preprocessing import MinMaxScaler\nfrom sklearn.model_selection import train_test_split\nfrom torch.utils.data import DataLoader, TensorDataset\n\n# seq_length = 30\n# X, y = create_sequences(closing_prices, seq_length)\n\n# Manually split into train and test sets without shuffling\nsplit_index = int(len(X) * 0.8)\nX_train, X_test = X[:split_index], X[split_index:]\ny_train, y_test = y[:split_index], y[split_index:]\n\n# Convert to PyTorch tensors\nX_train = torch.tensor(X_train, dtype=torch.float32)\ny_train = torch.tensor(y_train, dtype=torch.float32)\nX_test = torch.tensor(X_test, dtype=torch.float32)\ny_test = torch.tensor(y_test, dtype=torch.float32)\n\n# Create DataLoader\ntrain_dataset = TensorDataset(X_train, y_train)\ntest_dataset = TensorDataset(X_test, y_test)\n\ntrain_loader = DataLoader(train_dataset, batch_size=64, shuffle=False)\ntest_loader = DataLoader(test_dataset, batch_size=64, shuffle=False)"
   },
   "cell_type": "code",
   "id": "9b80d38f-0022-42c6-9469-0e1a54eea894",
   "outputs": [],
   "execution_count": 12
  },
  {
   "source": [
    "import torch.nn as nn\n",
    "import torch.optim as optim\n",
    "\n",
    "class BTCPriceLSTM1(nn.Module):\n",
    "    def __init__(self, input_size=280, hidden_size=128, num_layers=100, output_size=1, dropout=0.2):\n",
    "        super(BTCPriceLSTM1, self).__init__()\n",
    "        self.hidden_size = hidden_size\n",
    "        self.num_layers = num_layers\n",
    "        self.lstm = nn.LSTM(input_size, hidden_size, num_layers, batch_first=True, dropout=dropout)\n",
    "        \n",
    "        # Define the fully connected layers\n",
    "        self.fc1 = nn.Linear(hidden_size, 128)\n",
    "        self.fc2 = nn.Linear(128, 64)\n",
    "        self.fc3 = nn.Linear(64, 32)\n",
    "        self.fc4 = nn.Linear(32, 16)\n",
    "        self.fc5 = nn.Linear(16, 8)\n",
    "        self.fc6 = nn.Linear(8, 4)\n",
    "        self.fc7 = nn.Linear(4, 2)\n",
    "        self.fc8 = nn.Linear(2, output_size)\n",
    "    \n",
    "    def forward(self, x):\n",
    "        h0 = torch.zeros(self.num_layers, x.size(0), self.hidden_size).to(x.device)\n",
    "        c0 = torch.zeros(self.num_layers, x.size(0), self.hidden_size).to(x.device)\n",
    "        \n",
    "        out, _ = self.lstm(x, (h0, c0))\n",
    "        out = out[:, -1, :]\n",
    "        \n",
    "        # Pass through fully connected layers\n",
    "        out = self.fc1(out)\n",
    "        out = self.fc2(out)\n",
    "        out = self.fc3(out)\n",
    "        out = self.fc4(out)\n",
    "        out = self.fc5(out)\n",
    "        out = self.fc6(out)\n",
    "        out = self.fc7(out)\n",
    "        out = self.fc8(out)\n",
    "        \n",
    "        return out\n",
    "\n",
    "# Define the model\n",
    "model1 = BTCPriceLSTM1()\n",
    "\n",
    "# Instantiate models\n",
    "print(\"LSTM Model:\", model1)"
   ],
   "metadata": {
    "executionCancelledAt": null,
    "executionTime": 146,
    "lastExecutedAt": 1740674702273,
    "lastExecutedByKernel": "6c875df8-92fa-4ec4-b333-30b3e09ce2de",
    "lastScheduledRunId": null,
    "lastSuccessfullyExecutedCode": "import torch.nn as nn\nimport torch.optim as optim\n\nclass BTCPriceLSTM1(nn.Module):\n    def __init__(self, input_size=280, hidden_size=128, num_layers=100, output_size=1, dropout=0.2):\n        super(BTCPriceLSTM1, self).__init__()\n        self.hidden_size = hidden_size\n        self.num_layers = num_layers\n        self.lstm = nn.LSTM(input_size, hidden_size, num_layers, batch_first=True, dropout=dropout)\n        \n        # Define the fully connected layers\n        self.fc1 = nn.Linear(hidden_size, 128)\n        self.fc2 = nn.Linear(128, 64)\n        self.fc3 = nn.Linear(64, 32)\n        self.fc4 = nn.Linear(32, 16)\n        self.fc5 = nn.Linear(16, 8)\n        self.fc6 = nn.Linear(8, 4)\n        self.fc7 = nn.Linear(4, 2)\n        self.fc8 = nn.Linear(2, output_size)\n    \n    def forward(self, x):\n        h0 = torch.zeros(self.num_layers, x.size(0), self.hidden_size).to(x.device)\n        c0 = torch.zeros(self.num_layers, x.size(0), self.hidden_size).to(x.device)\n        \n        out, _ = self.lstm(x, (h0, c0))\n        out = out[:, -1, :]\n        \n        # Pass through fully connected layers\n        out = self.fc1(out)\n        out = self.fc2(out)\n        out = self.fc3(out)\n        out = self.fc4(out)\n        out = self.fc5(out)\n        out = self.fc6(out)\n        out = self.fc7(out)\n        out = self.fc8(out)\n        \n        return out\n\n# Define the model\nmodel1 = BTCPriceLSTM1()\n\n# Instantiate models\nprint(\"LSTM Model:\", model1)",
    "outputsMetadata": {
     "0": {
      "height": 248,
      "type": "stream"
     }
    }
   },
   "cell_type": "code",
   "id": "eb17a56d-f013-4366-9694-ca8ef9024683",
   "outputs": [
    {
     "output_type": "stream",
     "name": "stdout",
     "text": "LSTM Model: BTCPriceLSTM1(\n  (lstm): LSTM(280, 128, num_layers=100, batch_first=True, dropout=0.2)\n  (fc1): Linear(in_features=128, out_features=128, bias=True)\n  (fc2): Linear(in_features=128, out_features=64, bias=True)\n  (fc3): Linear(in_features=64, out_features=32, bias=True)\n  (fc4): Linear(in_features=32, out_features=16, bias=True)\n  (fc5): Linear(in_features=16, out_features=8, bias=True)\n  (fc6): Linear(in_features=8, out_features=4, bias=True)\n  (fc7): Linear(in_features=4, out_features=2, bias=True)\n  (fc8): Linear(in_features=2, out_features=1, bias=True)\n)\n"
    }
   ],
   "execution_count": 15
  },
  {
   "source": [
    "# Define loss and optimizer\n",
    "criterion = nn.MSELoss()\n",
    "optimizer = optim.Adam(model1.parameters(), lr=0.001)"
   ],
   "metadata": {
    "executionCancelledAt": null,
    "executionTime": 1286,
    "lastExecutedAt": 1740667707512,
    "lastExecutedByKernel": "2980c936-4158-42a3-a967-c5b3fc629330",
    "lastScheduledRunId": null,
    "lastSuccessfullyExecutedCode": "# Define loss and optimizer\ncriterion = nn.MSELoss()\noptimizer = optim.Adam(model1.parameters(), lr=0.001)"
   },
   "cell_type": "code",
   "id": "7b9d5146-274f-46bc-8481-26f6198a84f0",
   "outputs": [],
   "execution_count": 23
  },
  {
   "source": [
    "# Training loop\n",
    "num_epochs = 10\n",
    "\n",
    "# Assuming btc_dataloader is already defined and provides batches of (x_batch, y_batch)\n",
    "for epoch in range(num_epochs):\n",
    "    for x_batch, y_batch in train_loader:\n",
    "        \n",
    "        # Forward pass\n",
    "        outputs = model1(x_batch)\n",
    "        loss = criterion(outputs, y_batch)\n",
    "        \n",
    "        # Backward pass and optimization\n",
    "        optimizer.zero_grad()\n",
    "        loss.backward()\n",
    "        optimizer.step()\n",
    "    \n",
    "    # Print loss for every epoch\n",
    "    print(f'Epoch [{epoch+1}/{num_epochs}], Loss: {loss.item():.8f}')"
   ],
   "metadata": {
    "executionCancelledAt": null,
    "executionTime": 5071521,
    "lastExecutedAt": 1740672779035,
    "lastExecutedByKernel": "2980c936-4158-42a3-a967-c5b3fc629330",
    "lastScheduledRunId": null,
    "lastSuccessfullyExecutedCode": "# Training loop\nnum_epochs = 10\n\n# Assuming btc_dataloader is already defined and provides batches of (x_batch, y_batch)\nfor epoch in range(num_epochs):\n    for x_batch, y_batch in train_loader:\n        \n        # Forward pass\n        outputs = model1(x_batch)\n        loss = criterion(outputs, y_batch)\n        \n        # Backward pass and optimization\n        optimizer.zero_grad()\n        loss.backward()\n        optimizer.step()\n    \n    # Print loss for every epoch\n    print(f'Epoch [{epoch+1}/{num_epochs}], Loss: {loss.item():.8f}')",
    "outputsMetadata": {
     "0": {
      "height": 227,
      "type": "stream"
     }
    }
   },
   "cell_type": "code",
   "id": "2b57fdef-9683-4090-89c7-fb8a0bf3f3b4",
   "outputs": [
    {
     "output_type": "stream",
     "name": "stdout",
     "text": "Epoch [1/10], Loss: 0.00001021\nEpoch [2/10], Loss: 0.00005373\nEpoch [3/10], Loss: 0.00001826\nEpoch [4/10], Loss: 0.00001430\nEpoch [5/10], Loss: 0.00001288\nEpoch [6/10], Loss: 0.00000473\nEpoch [7/10], Loss: 0.00000095\nEpoch [8/10], Loss: 0.00000004\nEpoch [9/10], Loss: 0.00001401\nEpoch [10/10], Loss: 0.00002501\n"
    }
   ],
   "execution_count": 24
  },
  {
   "source": [
    "# Save the model\n",
    "model_save_path = 'model_lstm_sentiment4.pth'\n",
    "torch.save(model1.state_dict(), model_save_path)"
   ],
   "metadata": {
    "executionCancelledAt": null,
    "executionTime": 398,
    "lastExecutedAt": 1740672779433,
    "lastExecutedByKernel": "2980c936-4158-42a3-a967-c5b3fc629330",
    "lastScheduledRunId": null,
    "lastSuccessfullyExecutedCode": "# Save the model\nmodel_save_path = 'model_lstm_sentiment4.pth'\ntorch.save(model1.state_dict(), model_save_path)"
   },
   "cell_type": "code",
   "id": "b9c9af9b-358b-49a5-acff-7f4de40ba5a5",
   "outputs": [],
   "execution_count": 25
  },
  {
   "source": [
    "import matplotlib.pyplot as plt\n",
    "\n",
    "# Validation loop\n",
    "model1.eval()  # Set the model to evaluation mode\n",
    "test_loss = 0.0\n",
    "num_batches = 0\n",
    "batch_losses = []\n",
    "\n",
    "with torch.no_grad():  # Disable gradient calculation\n",
    "    for x_batch, y_batch in test_loader:\n",
    "        \n",
    "        # Forward pass\n",
    "        outputs = model1(x_batch)\n",
    "        loss = criterion(outputs, y_batch)\n",
    "        \n",
    "        # Print each loss\n",
    "        print(f'Batch Loss: {loss.item():.8f}')\n",
    "        \n",
    "        # Accumulate the loss\n",
    "        test_loss += loss.item()\n",
    "        num_batches += 1\n",
    "        batch_losses.append(loss.item())\n",
    "\n",
    "# Calculate average test loss\n",
    "average_test_loss = test_loss / num_batches\n",
    "\n",
    "# Plot the loss graph\n",
    "plt.figure(figsize=(10, 5))\n",
    "plt.plot(batch_losses, label='Batch Loss')\n",
    "plt.xlabel('Batch')\n",
    "plt.ylabel('Loss')\n",
    "plt.title('Validation Loss per Batch')\n",
    "plt.legend()\n",
    "plt.show()\n",
    "\n",
    "average_test_loss"
   ],
   "metadata": {
    "executionCancelledAt": null,
    "executionTime": 33092,
    "lastExecutedAt": 1740672812528,
    "lastExecutedByKernel": "2980c936-4158-42a3-a967-c5b3fc629330",
    "lastScheduledRunId": null,
    "lastSuccessfullyExecutedCode": "import matplotlib.pyplot as plt\n\n# Validation loop\nmodel1.eval()  # Set the model to evaluation mode\ntest_loss = 0.0\nnum_batches = 0\nbatch_losses = []\n\nwith torch.no_grad():  # Disable gradient calculation\n    for x_batch, y_batch in test_loader:\n        \n        # Forward pass\n        outputs = model1(x_batch)\n        loss = criterion(outputs, y_batch)\n        \n        # Print each loss\n        print(f'Batch Loss: {loss.item():.8f}')\n        \n        # Accumulate the loss\n        test_loss += loss.item()\n        num_batches += 1\n        batch_losses.append(loss.item())\n\n# Calculate average test loss\naverage_test_loss = test_loss / num_batches\n\n# Plot the loss graph\nplt.figure(figsize=(10, 5))\nplt.plot(batch_losses, label='Batch Loss')\nplt.xlabel('Batch')\nplt.ylabel('Loss')\nplt.title('Validation Loss per Batch')\nplt.legend()\nplt.show()\n\naverage_test_loss",
    "outputsMetadata": {
     "0": {
      "height": 616,
      "type": "stream"
     }
    }
   },
   "cell_type": "code",
   "id": "ebcb0d25-a69b-46e1-9372-d859757e52d9",
   "outputs": [
    {
     "output_type": "stream",
     "name": "stdout",
     "text": "Batch Loss: 0.00001746\nBatch Loss: 0.00002022\nBatch Loss: 0.00002107\nBatch Loss: 0.00000862\nBatch Loss: 0.00001576\nBatch Loss: 0.00001467\nBatch Loss: 0.00002678\nBatch Loss: 0.00002634\nBatch Loss: 0.00003491\nBatch Loss: 0.00004118\nBatch Loss: 0.00002895\nBatch Loss: 0.00001761\nBatch Loss: 0.00000094\nBatch Loss: 0.00000187\nBatch Loss: 0.00000120\nBatch Loss: 0.00000170\nBatch Loss: 0.00000281\nBatch Loss: 0.00000190\nBatch Loss: 0.00000082\nBatch Loss: 0.00000150\nBatch Loss: 0.00000299\nBatch Loss: 0.00000086\nBatch Loss: 0.00000033\nBatch Loss: 0.00000011\nBatch Loss: 0.00000038\nBatch Loss: 0.00000028\nBatch Loss: 0.00000021\nBatch Loss: 0.00000049\nBatch Loss: 0.00000057\nBatch Loss: 0.00000074\nBatch Loss: 0.00000009\nBatch Loss: 0.00000013\nBatch Loss: 0.00000022\nBatch Loss: 0.00001236\nBatch Loss: 0.00003105\nBatch Loss: 0.00003033\nBatch Loss: 0.00003083\nBatch Loss: 0.00003126\nBatch Loss: 0.00001644\nBatch Loss: 0.00003512\nBatch Loss: 0.00003639\nBatch Loss: 0.00003467\nBatch Loss: 0.00003814\nBatch Loss: 0.00003145\nBatch Loss: 0.00002293\nBatch Loss: 0.00001862\nBatch Loss: 0.00001816\nBatch Loss: 0.00002321\nBatch Loss: 0.00002765\nBatch Loss: 0.00001863\nBatch Loss: 0.00001084\nBatch Loss: 0.00001012\nBatch Loss: 0.00000736\nBatch Loss: 0.00000972\nBatch Loss: 0.00001874\nBatch Loss: 0.00001555\nBatch Loss: 0.00000354\nBatch Loss: 0.00000084\nBatch Loss: 0.00001111\nBatch Loss: 0.00003963\nBatch Loss: 0.00003767\nBatch Loss: 0.00004263\nBatch Loss: 0.00004968\nBatch Loss: 0.00005198\nBatch Loss: 0.00006312\nBatch Loss: 0.00009224\nBatch Loss: 0.00008668\nBatch Loss: 0.00008331\nBatch Loss: 0.00008485\nBatch Loss: 0.00009371\nBatch Loss: 0.00010580\nBatch Loss: 0.00010249\nBatch Loss: 0.00011201\nBatch Loss: 0.00013865\nBatch Loss: 0.00022595\nBatch Loss: 0.00028410\nBatch Loss: 0.00028001\nBatch Loss: 0.00021918\nBatch Loss: 0.00024571\nBatch Loss: 0.00022849\nBatch Loss: 0.00027336\nBatch Loss: 0.00028437\nBatch Loss: 0.00025929\nBatch Loss: 0.00025104\nBatch Loss: 0.00024434\nBatch Loss: 0.00030402\nBatch Loss: 0.00029075\nBatch Loss: 0.00034167\nBatch Loss: 0.00037108\nBatch Loss: 0.00025659\nBatch Loss: 0.00025395\nBatch Loss: 0.00022054\nBatch Loss: 0.00020220\nBatch Loss: 0.00016214\nBatch Loss: 0.00021742\nBatch Loss: 0.00025551\nBatch Loss: 0.00025417\nBatch Loss: 0.00025996\nBatch Loss: 0.00026770\nBatch Loss: 0.00038481\nBatch Loss: 0.00046987\nBatch Loss: 0.00056630\nBatch Loss: 0.00058745\nBatch Loss: 0.00059279\nBatch Loss: 0.00056637\nBatch Loss: 0.00058736\nBatch Loss: 0.00089520\nBatch Loss: 0.00102333\nBatch Loss: 0.00116198\nBatch Loss: 0.00123638\nBatch Loss: 0.00133828\nBatch Loss: 0.00149386\nBatch Loss: 0.00139525\nBatch Loss: 0.00126176\nBatch Loss: 0.00115695\nBatch Loss: 0.00114737\nBatch Loss: 0.00134894\nBatch Loss: 0.00139419\nBatch Loss: 0.00140085\nBatch Loss: 0.00123559\nBatch Loss: 0.00128712\nBatch Loss: 0.00141032\nBatch Loss: 0.00138533\nBatch Loss: 0.00122393\nBatch Loss: 0.00111215\nBatch Loss: 0.00107042\nBatch Loss: 0.00117224\nBatch Loss: 0.00119074\nBatch Loss: 0.00110684\nBatch Loss: 0.00105593\nBatch Loss: 0.00087993\nBatch Loss: 0.00109534\nBatch Loss: 0.00107930\nBatch Loss: 0.00101235\nBatch Loss: 0.00101612\nBatch Loss: 0.00111391\nBatch Loss: 0.00124319\nBatch Loss: 0.00134079\nBatch Loss: 0.00133339\nBatch Loss: 0.00134246\nBatch Loss: 0.00131308\nBatch Loss: 0.00129850\nBatch Loss: 0.00132564\nBatch Loss: 0.00143851\nBatch Loss: 0.00137952\nBatch Loss: 0.00131808\nBatch Loss: 0.00125867\nBatch Loss: 0.00122048\nBatch Loss: 0.00117498\nBatch Loss: 0.00113330\nBatch Loss: 0.00103065\nBatch Loss: 0.00100022\nBatch Loss: 0.00099636\nBatch Loss: 0.00102330\nBatch Loss: 0.00080451\nBatch Loss: 0.00080572\nBatch Loss: 0.00084634\nBatch Loss: 0.00086898\nBatch Loss: 0.00108974\nBatch Loss: 0.00115012\nBatch Loss: 0.00126118\nBatch Loss: 0.00122224\nBatch Loss: 0.00125438\nBatch Loss: 0.00129201\nBatch Loss: 0.00117019\nBatch Loss: 0.00099941\nBatch Loss: 0.00073242\nBatch Loss: 0.00089824\nBatch Loss: 0.00093884\nBatch Loss: 0.00092223\nBatch Loss: 0.00088838\nBatch Loss: 0.00091525\nBatch Loss: 0.00095785\nBatch Loss: 0.00111752\nBatch Loss: 0.00100546\nBatch Loss: 0.00090924\nBatch Loss: 0.00086993\nBatch Loss: 0.00082178\nBatch Loss: 0.00070735\nBatch Loss: 0.00077133\nBatch Loss: 0.00084925\nBatch Loss: 0.00092465\nBatch Loss: 0.00092887\nBatch Loss: 0.00107736\nBatch Loss: 0.00108506\nBatch Loss: 0.00112424\nBatch Loss: 0.00119868\nBatch Loss: 0.00107219\nBatch Loss: 0.00099540\nBatch Loss: 0.00105577\nBatch Loss: 0.00102015\nBatch Loss: 0.00102759\nBatch Loss: 0.00114994\nBatch Loss: 0.00127737\nBatch Loss: 0.00132248\nBatch Loss: 0.00126208\nBatch Loss: 0.00127156\nBatch Loss: 0.00130852\nBatch Loss: 0.00148208\nBatch Loss: 0.00136195\nBatch Loss: 0.00135564\nBatch Loss: 0.00165044\nBatch Loss: 0.00179924\nBatch Loss: 0.00225536\nBatch Loss: 0.00272269\nBatch Loss: 0.00257273\nBatch Loss: 0.00258301\nBatch Loss: 0.00264490\nBatch Loss: 0.00260772\nBatch Loss: 0.00279221\nBatch Loss: 0.00274270\nBatch Loss: 0.00275151\nBatch Loss: 0.00285521\nBatch Loss: 0.00304411\nBatch Loss: 0.00275882\nBatch Loss: 0.00262162\nBatch Loss: 0.00264841\nBatch Loss: 0.00256662\nBatch Loss: 0.00250090\nBatch Loss: 0.00256716\nBatch Loss: 0.00269643\nBatch Loss: 0.00273735\nBatch Loss: 0.00251290\nBatch Loss: 0.00252411\n"
    },
    {
     "output_type": "display_data",
     "data": {
      "text/plain": "<Figure size 1000x500 with 1 Axes>",
      "image/png": "[encoded data removed]"
     },
     "metadata": {
      "image/png": {
       "width": 870,
       "height": 469
      }
     }
    },
    {
     "output_type": "execute_result",
     "data": {
      "text/plain": "0.0007974662016491266"
     },
     "metadata": {},
     "execution_count": 26
    }
   ],
   "execution_count": 26
  },
  {
   "source": [
    "import torch\n",
    "import numpy as np\n",
    "import matplotlib.pyplot as plt\n",
    "\n",
    "# Load the model\n",
    "model_load_path = 'model_lstm_sentiment4.pth'\n",
    "model1.load_state_dict(torch.load(model_load_path))\n",
    "model1.eval()  # Set the model to evaluation mode\n",
    "\n",
    "# Initialize lists to store predictions and actual values\n",
    "predictions = []\n",
    "actuals = []\n",
    "\n",
    "with torch.no_grad():  # Disable gradient calculation\n",
    "    for x_batch, y_batch in test_loader:\n",
    "        \n",
    "        # Forward pass\n",
    "        outputs = model1(x_batch)\n",
    "        \n",
    "        # Store predictions and actual values\n",
    "        predictions.extend(outputs.numpy())\n",
    "        actuals.extend(y_batch.numpy())\n",
    "\n",
    "# Convert lists to numpy arrays for easier plotting\n",
    "predictions = np.array(predictions)\n",
    "actuals = np.array(actuals)\n",
    "\n",
    "# Plot the predictions vs actual values\n",
    "plt.figure(figsize=(10, 5))\n",
    "plt.plot(predictions, label='Predicted Close')\n",
    "plt.plot(actuals, label='Actual Close')\n",
    "plt.xlabel('Sample')\n",
    "plt.ylabel('Close Value')\n",
    "plt.title('Predicted vs Actual Close Values')\n",
    "plt.legend()\n",
    "plt.show()"
   ],
   "metadata": {
    "executionCancelledAt": null,
    "executionTime": 48583,
    "lastExecutedAt": 1740674814710,
    "lastExecutedByKernel": "6c875df8-92fa-4ec4-b333-30b3e09ce2de",
    "lastScheduledRunId": null,
    "lastSuccessfullyExecutedCode": "import torch\nimport numpy as np\nimport matplotlib.pyplot as plt\n\n# Load the model\nmodel_load_path = 'model_lstm_sentiment4.pth'\nmodel1.load_state_dict(torch.load(model_load_path))\nmodel1.eval()  # Set the model to evaluation mode\n\n# Initialize lists to store predictions and actual values\npredictions = []\nactuals = []\n\nwith torch.no_grad():  # Disable gradient calculation\n    for x_batch, y_batch in test_loader:\n        \n        # Forward pass\n        outputs = model1(x_batch)\n        \n        # Store predictions and actual values\n        predictions.extend(outputs.numpy())\n        actuals.extend(y_batch.numpy())\n\n# Convert lists to numpy arrays for easier plotting\npredictions = np.array(predictions)\nactuals = np.array(actuals)\n\n# Plot the predictions vs actual values\nplt.figure(figsize=(10, 5))\nplt.plot(predictions, label='Predicted Close')\nplt.plot(actuals, label='Actual Close')\nplt.xlabel('Sample')\nplt.ylabel('Close Value')\nplt.title('Predicted vs Actual Close Values')\nplt.legend()\nplt.show()"
   },
   "cell_type": "code",
   "id": "f4fd01ef-3f23-45e1-9f13-45338eea506f",
   "outputs": [
    {
     "output_type": "display_data",
     "data": {
      "text/plain": "<Figure size 1000x500 with 1 Axes>",
      "image/png": "[encoded data removed]"
     },
     "metadata": {
      "image/png": {
       "width": 853,
       "height": 469
      }
     }
    }
   ],
   "execution_count": 17
  },
  {
   "source": [
    "import torch\n",
    "import numpy as np\n",
    "import matplotlib.pyplot as plt\n",
    "\n",
    "# Load the model\n",
    "model_load_path = 'model_lstm_sentiment4.pth'\n",
    "model1.load_state_dict(torch.load(model_load_path))\n",
    "model1.eval()  # Set the model to evaluation mode\n",
    "\n",
    "# Initialize lists to store predictions and actual values\n",
    "predictions = []\n",
    "actuals = []\n",
    "\n",
    "with torch.no_grad():  # Disable gradient calculation\n",
    "    for x_batch, y_batch in test_loader:\n",
    "        \n",
    "        # Forward pass\n",
    "        outputs = model1(x_batch)\n",
    "        \n",
    "        # Store predictions and actual values\n",
    "        predictions.extend(outputs.numpy())\n",
    "        actuals.extend(y_batch.numpy())\n",
    "\n",
    "# Convert lists to numpy arrays for easier plotting\n",
    "predictions = np.array(predictions)\n",
    "actuals = np.array(actuals)\n",
    "\n",
    "# Retransform the y values\n",
    "predictions = 10 ** (predictions * 10)\n",
    "actuals = 10 ** (actuals * 10)\n",
    "\n",
    "# Plot the predictions vs actual values\n",
    "plt.figure(figsize=(10, 5))\n",
    "plt.plot(predictions, label='Predicted Close')\n",
    "plt.plot(actuals, label='Actual Close')\n",
    "plt.xlabel('Sample')\n",
    "plt.ylabel('Close Value')\n",
    "plt.title('Predicted vs Actual Close Values')\n",
    "plt.legend()\n",
    "plt.show()"
   ],
   "metadata": {
    "executionCancelledAt": null,
    "executionTime": 48540,
    "lastExecutedAt": 1740674955754,
    "lastExecutedByKernel": "6c875df8-92fa-4ec4-b333-30b3e09ce2de",
    "lastScheduledRunId": null,
    "lastSuccessfullyExecutedCode": "import torch\nimport numpy as np\nimport matplotlib.pyplot as plt\n\n# Load the model\nmodel_load_path = 'model_lstm_sentiment4.pth'\nmodel1.load_state_dict(torch.load(model_load_path))\nmodel1.eval()  # Set the model to evaluation mode\n\n# Initialize lists to store predictions and actual values\npredictions = []\nactuals = []\n\nwith torch.no_grad():  # Disable gradient calculation\n    for x_batch, y_batch in test_loader:\n        \n        # Forward pass\n        outputs = model1(x_batch)\n        \n        # Store predictions and actual values\n        predictions.extend(outputs.numpy())\n        actuals.extend(y_batch.numpy())\n\n# Convert lists to numpy arrays for easier plotting\npredictions = np.array(predictions)\nactuals = np.array(actuals)\n\n# Retransform the y values\npredictions = 10 ** (predictions * 10)\nactuals = 10 ** (actuals * 10)\n\n# Plot the predictions vs actual values\nplt.figure(figsize=(10, 5))\nplt.plot(predictions, label='Predicted Close')\nplt.plot(actuals, label='Actual Close')\nplt.xlabel('Sample')\nplt.ylabel('Close Value')\nplt.title('Predicted vs Actual Close Values')\nplt.legend()\nplt.show()"
   },
   "cell_type": "code",
   "id": "0cb583f0-07c0-4dcd-b68d-208439e9ccbd",
   "outputs": [
    {
     "output_type": "display_data",
     "data": {
      "text/plain": "<Figure size 1000x500 with 1 Axes>",
      "image/png": "[encoded data removed]"
     },
     "metadata": {
      "image/png": {
       "width": 872,
       "height": 469
      }
     }
    }
   ],
   "execution_count": 18
  }
 ],
 "metadata": {
  "colab": {
   "name": "Welcome to DataCamp Workspaces.ipynb",
   "provenance": []
  },
  "kernelspec": {
   "display_name": "Python 3 (ipykernel)",
   "language": "python",
   "name": "python3"
  },
  "language_info": {
   "name": "python",
   "version": "3.10.12",
   "mimetype": "text/x-python",
   "codemirror_mode": {
    "name": "ipython",
    "version": 3
   },
   "pygments_lexer": "ipython3",
   "nbconvert_exporter": "python",
   "file_extension": ".py"
  },
  "editor": "DataLab"
 },
 "nbformat": 4,
 "nbformat_minor": 5
}
