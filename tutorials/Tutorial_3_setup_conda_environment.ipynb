{
 "cells": [
  {
   "cell_type": "markdown",
   "id": "42944a0d",
   "metadata": {},
   "source": [
    "# Tutorial for Python package manager \"Anaconda\"\n",
    "\n",
    "> Run these commands in the terminal or anaconda powershell (not in Jupyter Notebook):\n",
    "\n",
    "<img src=\"https://www.anaconda.com/wp-content/uploads/2022/12/anaconda_secondary_logo.svg\" alt=\"Anaconda\" width=\"600\"/>"
   ]
  },
  {
   "cell_type": "markdown",
   "id": "80da2c75",
   "metadata": {},
   "source": [
    "## Step 0: Install and Basic Conda commands for the terminal\n",
    "\n",
    "### Installation\n",
    "1. [Dowload Anaconda here...](https://www.anaconda.com/download)\n",
    "2. Follow the instructions\n",
    "3. Return to this notebook after installation.\n",
    "\n",
    "### Basic Commands\n",
    "\n",
    "```bash\n",
    "# check existing envs in conda\n",
    "conda info --envs\n",
    "\n",
    "# rename environment\n",
    "conda rename -n old_env_name new_env_name\n",
    "\n",
    "# check python version in conda environment\n",
    "python --version\n",
    "\n",
    "# update python version\n",
    "conda install python=3.12\n",
    "```"
   ]
  },
  {
   "cell_type": "markdown",
   "id": "9a164633",
   "metadata": {},
   "source": [
    "## Step 1: Create a Conda Environment\n",
    "Run this command in the terminal (not in Jupyter Notebook):\n",
    "\n",
    "```bash\n",
    "conda create -n techclub_env python=3.12 -y\n",
    "```"
   ]
  },
  {
   "cell_type": "markdown",
   "id": "8d7ef1ad",
   "metadata": {},
   "source": [
    "## Step 2: Activate the Environment\n",
    "Run the following in the terminal:\n",
    "```bash\n",
    "conda activate techclub_env\n",
    "```"
   ]
  },
  {
   "cell_type": "markdown",
   "id": "9ccb3745",
   "metadata": {},
   "source": [
    "## Step 3: Install Required Packages\n",
    "Run this in the terminal after activating the environment:\n",
    "```bash\n",
    "conda install pandas numpy matplotlib seaborn plotly scikit-learn -y\n",
    "pip install optuna streamlit pytorch-lightning\n",
    "```"
   ]
  },
  {
   "cell_type": "code",
   "execution_count": null,
   "id": "4ac67c59",
   "metadata": {},
   "outputs": [],
   "source": [
    "import pandas as pd\n",
    "import numpy as np\n",
    "import matplotlib.pyplot as plt\n",
    "import seaborn as sns\n",
    "import plotly.express as px\n",
    "import optuna\n",
    "import streamlit as st\n",
    "import sklearn\n",
    "import pytorch_lightning as pl\n",
    "print(\"All packages installed successfully!\")"
   ]
  },
  {
   "cell_type": "markdown",
   "id": "0f30ce46",
   "metadata": {},
   "source": [
    "## Step 5: Save Dependencies to a `requirements.txt` File\n",
    "Run the following in a Python script or Jupyter Notebook:"
   ]
  },
  {
   "cell_type": "code",
   "execution_count": null,
   "id": "a75fdce6",
   "metadata": {},
   "outputs": [],
   "source": [
    "requirements = \"\"\"pandas\n",
    "numpy\n",
    "matplotlib\n",
    "seaborn\n",
    "plotly\n",
    "optuna\n",
    "streamlit\n",
    "scikit-learn\n",
    "pytorch-lightning\n",
    "\"\"\"\n",
    "\n",
    "with open(\"requirements.txt\", \"w\") as f:\n",
    "    f.write(requirements)\n",
    "print(\"requirements.txt file created.\")"
   ]
  },
  {
   "cell_type": "markdown",
   "id": "c67f053c",
   "metadata": {},
   "source": [
    "## Step 6: Setup Environment Using `requirements.txt`\n",
    "To create a new environment using the requirements file, run:\n",
    "```bash\n",
    "conda create -n techclub_env --file requirements.txt -y\n",
    "conda activate techclub_env\n",
    "```"
   ]
  },
  {
   "cell_type": "markdown",
   "id": "dc1129bf",
   "metadata": {},
   "source": [
    "## Step 7: Extract a New `requirements.txt` File\n",
    "To generate a new requirements file from an existing environment, run:\n",
    "```bash\n",
    "pip freeze > requirements.txt\n",
    "```"
   ]
  },
  {
   "cell_type": "markdown",
   "id": "4834ad6c",
   "metadata": {},
   "source": [
    "## Step 8: Create and Use a `requirements.yaml` File\n",
    "An alternative way to manage environments is by using a YAML file.\n",
    "This provides better compatibility with Conda and ensures dependencies are managed properly.\n",
    "\n",
    "To create a `requirements.yaml` file, run:\n",
    "```bash\n",
    "conda env export --name techclub_env --no-builds > requirements.yaml\n",
    "```\n",
    "\n",
    "To create a new environment using the YAML file, run:\n",
    "```bash\n",
    "conda env create -f requirements.yaml\n",
    "```\n",
    "\n",
    "**Advantages of `requirements.yaml` over `requirements.txt`:**\n",
    "- Captures exact Conda environment dependencies, including channels.\n",
    "- Avoids conflicts that can arise when using pip-based requirements.\n",
    "- Easier to share and reproduce environments in a structured way."
   ]
  },
  {
   "cell_type": "markdown",
   "id": "2b6869da",
   "metadata": {},
   "source": [
    "<img src=\"https://play-lh.googleusercontent.com/t1lEtIZyIvRioM6EFim6YuHwbpRRQgYPHkV4q3FqvVfSTr_iohPHIQmVV4LJDgkqF4OI\" alt=\"Anaconda\" width=\"600\"/>"
   ]
  }
 ],
 "metadata": {
  "kernelspec": {
   "display_name": "work_project",
   "language": "python",
   "name": "python3"
  },
  "language_info": {
   "codemirror_mode": {
    "name": "ipython",
    "version": 3
   },
   "file_extension": ".py",
   "mimetype": "text/x-python",
   "name": "python",
   "nbconvert_exporter": "python",
   "pygments_lexer": "ipython3",
   "version": "3.12.4"
  }
 },
 "nbformat": 4,
 "nbformat_minor": 5
}
