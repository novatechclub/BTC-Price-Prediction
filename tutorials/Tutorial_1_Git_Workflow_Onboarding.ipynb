{
 "cells": [
  {
   "cell_type": "markdown",
   "id": "19cc9955",
   "metadata": {},
   "source": [
    "# Git Workflow in Visual Studio Code\n",
    "\n",
    "This notebook will guide you through the basics of using Git within Visual Studio Code. You'll learn how to navigate using the terminal, initialize a Git repository, commit changes to a local branch, and push them to a remote repository.\n",
    "\n",
    "## Prerequisites\n",
    "- Install Git ([Download here](https://git-scm.com/downloads))\n",
    "- Install Visual Studio Code ([Download here](https://code.visualstudio.com/))\n",
    "- Set up Git in VS Code (Follow [this guide](https://code.visualstudio.com/docs/editor/versioncontrol#_git-support))\n",
    "\n",
    "Let's get started!"
   ]
  },
  {
   "cell_type": "markdown",
   "id": "b6a68be4",
   "metadata": {},
   "source": [
    "## File Structure\n",
    "\n",
    "0. Introduction to Git Workflow\n",
    "1. Navigating using the Terminal\n",
    "2. Cloning a remote repository\n",
    "3. Initializing a Git Repository\n",
    "4. Staging and Committing Changes\n",
    "5. Connecting to a Remote Repository\n",
    "6. Pushing Changes to the Remote Repository\n",
    "7. Pulling Changes from the Remote Repository\n",
    "8. Summary of Git Commands"
   ]
  },
  {
   "cell_type": "markdown",
   "id": "abddf67a",
   "metadata": {},
   "source": [
    "<br>\n",
    "<br>\n",
    "<br>\n",
    "<br>\n",
    "<br>\n",
    "<br>\n",
    "<br>\n",
    "<br>\n",
    "<br>\n",
    "<br>\n",
    "\n",
    "### Why this is important?\n",
    "\n",
    "\n",
    "\n",
    "\n",
    "\n",
    "\n",
    "\n",
    "\n",
    "<img src=\"images\\side_eye.png\" alt=\"Alt text\" width=\"600\" />\n",
    "\n",
    "<br>\n",
    "<br>\n",
    "<br>\n",
    "<br>\n",
    "<br><br>\n",
    "<br>\n",
    "<br>\n",
    "\n",
    "- Git is a standard solutioin for version control and workflow management in small to large scale software projects.\n",
    "- It is useful to organize remote work with on site teams.\n",
    "- Supports the effective operationalization of Dev and Prod Teams to work together hand in hand.\n",
    "- you will get a bombastic side eye from your collegaues if you decided to work within software engineering without knowing how to navigate and use Git or the terminal."
   ]
  },
  {
   "cell_type": "markdown",
   "id": "f45e0c22",
   "metadata": {},
   "source": [
    "## 0. Introduction to the Git Workflow"
   ]
  },
  {
   "cell_type": "markdown",
   "id": "de225dee",
   "metadata": {},
   "source": [
    "<img src=\"images\\git_workflow.png\" alt=\"Alt text\" width=\"900\" />\n"
   ]
  },
  {
   "cell_type": "markdown",
   "id": "7d46909a",
   "metadata": {},
   "source": [
    "## 1. Navigating using the Terminal\n",
    "\n",
    "To begin, open the terminal in VS Code by pressing **Ctrl+`** (or **Cmd+`** on macOS). This terminal is where you'll execute all your Git commands."
   ]
  },
  {
   "cell_type": "code",
   "execution_count": null,
   "id": "b85e84d0",
   "metadata": {},
   "outputs": [],
   "source": [
    "!pwd  # Print the current working directory (or use 'cd' to navigate)"
   ]
  },
  {
   "cell_type": "code",
   "execution_count": null,
   "id": "71215c70",
   "metadata": {},
   "outputs": [],
   "source": [
    "!cd <path>  # Change the current working directory to specified path"
   ]
  },
  {
   "cell_type": "code",
   "execution_count": null,
   "id": "86aad651",
   "metadata": {},
   "outputs": [],
   "source": [
    "!cd ~n # Change the current working directory to the home directory of user 'n'"
   ]
  },
  {
   "cell_type": "code",
   "execution_count": null,
   "id": "70a0fb7c",
   "metadata": {},
   "outputs": [],
   "source": [
    "!cd ..  # Change the current working directory to the parent directory (one level up)"
   ]
  },
  {
   "cell_type": "code",
   "execution_count": null,
   "id": "686a9c6a",
   "metadata": {},
   "outputs": [],
   "source": [
    "!ls  # List the contents of the current directory for apple it might be ls -la"
   ]
  },
  {
   "cell_type": "code",
   "execution_count": null,
   "id": "c22c40ea",
   "metadata": {},
   "outputs": [],
   "source": [
    "!mv original/file/path/filename destination/file/path  # moving files between folders"
   ]
  },
  {
   "cell_type": "markdown",
   "id": "ff4b63d9",
   "metadata": {},
   "source": [
    "## 2. Cloning a remote repository and Branching\n",
    "\n",
    "In order to collaborate as a team, each of us has to clone the current remote repositories version.  "
   ]
  },
  {
   "cell_type": "markdown",
   "id": "2da42ca8",
   "metadata": {},
   "source": [
    "You have to options to clone a repository:\n",
    "\n",
    "##### 1. via https (not recommended unless ssh makes problems as https requires you to insert your credentials and a user token to clone the repository sometimes.\n",
    "\n",
    "![Alt text](images\\https.png)\n",
    "\n",
    "##### 2. via ssh\n",
    "\n",
    "![Alt text](images\\https.png)"
   ]
  },
  {
   "cell_type": "code",
   "execution_count": null,
   "id": "5d2dc084",
   "metadata": {},
   "outputs": [],
   "source": [
    "!git clone <repo>  # Clone a repository into a new directory"
   ]
  },
  {
   "cell_type": "code",
   "execution_count": null,
   "id": "f538c571",
   "metadata": {},
   "outputs": [],
   "source": [
    "!git branch  # List all local branches in the current repository"
   ]
  },
  {
   "cell_type": "code",
   "execution_count": null,
   "id": "0ea73f4d",
   "metadata": {},
   "outputs": [],
   "source": [
    "!git branch branch_name  # Create a new branch"
   ]
  },
  {
   "cell_type": "code",
   "execution_count": null,
   "id": "07a9a819",
   "metadata": {},
   "outputs": [],
   "source": [
    "!git checkout branch_name  # Switch to the specified branch"
   ]
  },
  {
   "cell_type": "code",
   "execution_count": null,
   "id": "45780e5e",
   "metadata": {},
   "outputs": [],
   "source": [
    "!git fetch  # Download objects and refs from another repository"
   ]
  },
  {
   "cell_type": "code",
   "execution_count": null,
   "id": "c3d009d3",
   "metadata": {},
   "outputs": [],
   "source": [
    "!git fetch --all  # Fetch all remotes"
   ]
  },
  {
   "cell_type": "markdown",
   "id": "92bc62a4",
   "metadata": {},
   "source": [
    "## 3. Initializing a Git Repository\n",
    "\n",
    "To track changes in your project, you need to initialize a Git repository. Navigate to your project folder and run the following command:"
   ]
  },
  {
   "cell_type": "code",
   "execution_count": null,
   "id": "c1004802",
   "metadata": {},
   "outputs": [],
   "source": [
    "!git init  # Initialize a new Git repository in the current directory"
   ]
  },
  {
   "cell_type": "markdown",
   "id": "8ec9dcbf",
   "metadata": {},
   "source": [
    "After running this command, you'll see a `.git` folder in your directory. This folder contains all the information Git needs to track changes."
   ]
  },
  {
   "cell_type": "markdown",
   "id": "42b01512",
   "metadata": {},
   "source": [
    "## 4. Staging and Committing Changes\n",
    "\n",
    "When you make changes to your files, Git doesn't automatically track them. You need to stage these changes and then commit them."
   ]
  },
  {
   "cell_type": "code",
   "execution_count": null,
   "id": "34203676",
   "metadata": {},
   "outputs": [],
   "source": [
    "!git status  # Check the status of your repository"
   ]
  },
  {
   "cell_type": "code",
   "execution_count": null,
   "id": "e751569b",
   "metadata": {},
   "outputs": [],
   "source": [
    "!git add .  # Stage all changes (you can also stage specific files by replacing '.' with the file name)"
   ]
  },
  {
   "cell_type": "code",
   "execution_count": null,
   "id": "58b8e80b",
   "metadata": {},
   "outputs": [],
   "source": [
    "!git add name_of_file  # Stage a specific file"
   ]
  },
  {
   "cell_type": "code",
   "execution_count": null,
   "id": "1a9acf87",
   "metadata": {},
   "outputs": [],
   "source": [
    "!git add -u  # Stage all changes except untracked files"
   ]
  },
  {
   "cell_type": "code",
   "execution_count": null,
   "id": "cffd961e",
   "metadata": {},
   "outputs": [],
   "source": [
    "!git add name_of_file_1 name_of_file_2 name_of_file_3 # stage multiple files at once"
   ]
  },
  {
   "cell_type": "code",
   "execution_count": null,
   "id": "aff6bc3f",
   "metadata": {},
   "outputs": [],
   "source": [
    "!git restore --staged name_of_file  # Unstage a file"
   ]
  },
  {
   "cell_type": "code",
   "execution_count": null,
   "id": "bbfa0347",
   "metadata": {},
   "outputs": [],
   "source": [
    "!git commit -m 'Initial commit'  # Commit the staged changes with a message (message can be whatever message you prefer)"
   ]
  },
  {
   "cell_type": "code",
   "execution_count": null,
   "id": "f9ac4d81",
   "metadata": {},
   "outputs": [],
   "source": [
    "!git log  # Display the commit history"
   ]
  },
  {
   "cell_type": "markdown",
   "id": "ac79cecf",
   "metadata": {},
   "source": [
    "## 5. Connecting to a Remote Repository\n",
    "\n",
    "To share your work, you'll need to connect your local repository to a remote repository on a platform like GitHub, GitLab, or Bitbucket."
   ]
  },
  {
   "cell_type": "code",
   "execution_count": null,
   "id": "481e18d5",
   "metadata": {},
   "outputs": [],
   "source": [
    "!git remote add origin <remote_url>  # Replace <remote_url> with the URL of your remote repository"
   ]
  },
  {
   "cell_type": "code",
   "execution_count": null,
   "id": "ee7bbea4",
   "metadata": {},
   "outputs": [],
   "source": [
    "!git remote -v  # Verify that the remote has been added correctly"
   ]
  },
  {
   "cell_type": "markdown",
   "id": "329fcd9f",
   "metadata": {},
   "source": [
    "## 6. Pushing Changes to the Remote Repository\n",
    "\n",
    "After connecting your repository, you can push your local commits to the remote repository."
   ]
  },
  {
   "cell_type": "code",
   "execution_count": null,
   "id": "c9b7e7bb",
   "metadata": {},
   "outputs": [],
   "source": [
    "!git branch -M main  # Rename the default branch to 'main' (if needed)"
   ]
  },
  {
   "cell_type": "code",
   "execution_count": null,
   "id": "77148ded",
   "metadata": {},
   "outputs": [],
   "source": [
    "!git push -u origin main  # Push your changes to the remote repository"
   ]
  },
  {
   "cell_type": "markdown",
   "id": "8c83f3c2",
   "metadata": {},
   "source": [
    "## 7. Pulling Changes from the Remote Repository\n",
    "\n",
    "If you're collaborating with others, you may need to pull their changes before making your own. Run:"
   ]
  },
  {
   "cell_type": "code",
   "execution_count": null,
   "id": "69a3c65c",
   "metadata": {},
   "outputs": [],
   "source": [
    "!git pull origin main  # Pull the latest changes from the remote repository"
   ]
  },
  {
   "cell_type": "markdown",
   "id": "0c5bc927",
   "metadata": {},
   "source": [
    "## 8. Summary of Git Commands\n",
    "\n",
    "- `git init`: Initialize a new Git repository\n",
    "- `git status`: Check the status of your repository\n",
    "- `git add .`: Stage changes\n",
    "- `git commit -m 'message'`: Commit staged changes\n",
    "- `git remote add origin <url>`: Add a remote repository\n",
    "- `git push`: Push changes to the remote repository\n",
    "- `git pull`: Pull changes from the remote repository\n",
    "\n",
    "Happy coding!"
   ]
  }
 ],
 "metadata": {
  "language_info": {
   "name": "python"
  }
 },
 "nbformat": 4,
 "nbformat_minor": 5
}
