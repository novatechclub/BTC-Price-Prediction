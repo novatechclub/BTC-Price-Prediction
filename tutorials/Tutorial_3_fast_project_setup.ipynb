{
 "cells": [
  {
   "cell_type": "markdown",
   "id": "1fbda74d",
   "metadata": {},
   "source": [
    "# Fast Project Setup Using a Bash Script\n",
    "Welcome to the Nova SBE Tech Club! This notebook explains how to quickly set up a structured data science project using a simple Bash script.\n",
    "\n",
    "---\n",
    "\n",
    "## Why Use a Bash Script?\n",
    "\n",
    "- **Consistency:** Ensures a uniform project structure across all team members.\n",
    "- **Efficiency:** Saves time by automating repetitive setup tasks.\n",
    "- **Reproducibility:** Makes it easy to recreate project environments.\n",
    "\n",
    "Let's walk through the process!"
   ]
  },
  {
   "cell_type": "markdown",
   "id": "7998015f",
   "metadata": {},
   "source": [
    "## Step 1: Create Your Bash Script (`setup_project.sh`)\n",
    "\n",
    "Below is a Bash script that will generate our comprehensive project structure:\n",
    "\n",
    "    ```bash\n",
    "    #!/bin/bash\n",
    "    \n",
    "    PROJECT_NAME=\"Nova_SBE_Tech_Club_TS_Analysis\"\n",
    "    \n",
    "    mkdir -p $PROJECT_NAME\n",
    "    cd $PROJECT_NAME\n",
    "    \n",
    "    mkdir -p data/{raw,processed}\n",
    "    mkdir -p notebooks/{exploratory,modeling}\n",
    "    mkdir -p outputs/figures\n",
    "    mkdir -p models\n",
    "    touch README.md requirements.txt\n",
    "    \n",
    "    mkdir -p src/{eda,analysis,features,preprocessing,labels,dataset,modeling}\n",
    "    mkdir -p tests/unit\n",
    "    \n",
    "    touch src/eda/trend_visualizer.py\n",
    "    touch src/analysis/time_series_inspector.py src/analysis/causal_explorer.py\n",
    "    touch src/features/feature_engineer.py\n",
    "    touch src/preprocessing/feature_preprocessor.py\n",
    "    touch src/labels/label_analyzer.py\n",
    "    touch src/dataset/dataset_builder.py\n",
    "    touch src/modeling/model_evaluator.py src/modeling/anomaly_detector.py\n",
    "    \n",
    "    cat <<EOT >> requirements.txt\n",
    "    pandas\n",
    "    numpy\n",
    "    matplotlib\n",
    "    seaborn\n",
    "    scipy\n",
    "    statsmodels\n",
    "    featuretools\n",
    "    scikit-learn\n",
    "    pca\n",
    "    jupyter\n",
    "    pytorch-lightning\n",
    "    streamlit\n",
    "    plotly\n",
    "    pydantic\n",
    "    EOT\n",
    "    \n",
    "    echo \"Project structure for $PROJECT_NAME created successfully!\"\n",
    "    ```"
   ]
  },
  {
   "cell_type": "markdown",
   "id": "a8193c50",
   "metadata": {},
   "source": [
    "## Step 2: Run Your Bash Script\n",
    "\n",
    "First, ensure the script is executable:\n",
    "\n",
    "```bash\n",
    "chmod +x setup_project.sh\n",
    "```\n",
    "\n",
    "Run the script:\n",
    "\n",
    "```bash\n",
    "./setup_project.sh\n",
    "```\n",
    "\n",
    "Your project folder (`Nova_SBE_Tech_Club_TS_Analysis`) will be set up instantly."
   ]
  },
  {
   "cell_type": "markdown",
   "id": "e050aeb9",
   "metadata": {},
   "source": [
    "## Step 3: Inspect Your New Project Structure\n",
    "\n",
    "Let's verify the structure created:\n",
    "\n",
    "```bash\n",
    "tree Nova_SBE_Tech_Club_TS_Analysis\n",
    "```\n",
    "\n",
    "You should see the neatly organized folders and files ready for your data analysis journey."
   ]
  },
  {
   "cell_type": "markdown",
   "id": "fa7d685d",
   "metadata": {},
   "source": [
    "## Step 4: Next Steps\n",
    "\n",
    "You can now:\n",
    "- Set up a Python environment.\n",
    "- Install dependencies:\n",
    "\n",
    "```bash\n",
    "pip install -r requirements.txt\n",
    "```\n",
    "\n",
    "Enjoy structured, efficient project development with Nova SBE Tech Club!\n",
    "\n",
    "---\n",
    "\n",
    "**Happy coding! 🚀**"
   ]
  }
 ],
 "metadata": {
  "language_info": {
   "name": "python"
  }
 },
 "nbformat": 4,
 "nbformat_minor": 5
}
